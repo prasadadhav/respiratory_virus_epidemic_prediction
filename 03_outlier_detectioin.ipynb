{
 "cells": [
  {
   "cell_type": "markdown",
   "id": "c87a3988",
   "metadata": {},
   "source": [
    "# Outlier detection"
   ]
  },
  {
   "cell_type": "markdown",
   "id": "241d107a",
   "metadata": {},
   "source": [
    "In this notebook we do an outlier detection as described in https://www.frontiersin.org/journals/public-health/articles/10.3389/fpubh.2024.1497100/full"
   ]
  },
  {
   "cell_type": "markdown",
   "id": "1ba88c08",
   "metadata": {},
   "source": [
    "## Load Libs"
   ]
  },
  {
   "cell_type": "code",
   "execution_count": 1,
   "id": "f07d4746",
   "metadata": {},
   "outputs": [],
   "source": [
    "import pandas as pd\n",
    "import numpy as np\n",
    "import matplotlib.pyplot as plt\n",
    "import seaborn as sns\n",
    "from scipy.stats import median_abs_deviation\n",
    "import os\n",
    "from glob import glob\n",
    "\n",
    "import plotly.graph_objects as go\n",
    "import plotly.express as px"
   ]
  },
  {
   "cell_type": "markdown",
   "id": "934bb035",
   "metadata": {},
   "source": [
    "## Load data"
   ]
  },
  {
   "cell_type": "code",
   "execution_count": null,
   "id": "99ba9218",
   "metadata": {},
   "outputs": [
    {
     "data": {
      "application/vnd.microsoft.datawrangler.viewer.v0+json": {
       "columns": [
        {
         "name": "index",
         "rawType": "int64",
         "type": "integer"
        },
        {
         "name": "time",
         "rawType": "object",
         "type": "string"
        },
        {
         "name": "rna_copies",
         "rawType": "float64",
         "type": "float"
        },
        {
         "name": "label",
         "rawType": "object",
         "type": "string"
        },
        {
         "name": "filename",
         "rawType": "object",
         "type": "string"
        },
        {
         "name": "virus",
         "rawType": "object",
         "type": "string"
        }
       ],
       "ref": "865be65c-c80c-4aaa-bd08-0a56c56355d8",
       "rows": [
        [
         "0",
         "2020-04-20",
         "557924478334.4097",
         "none",
         "Mov-SARS-CoV-BEG.csv",
         "SARS"
        ],
        [
         "1",
         "2020-04-27",
         "295902043504.57294",
         "none",
         "Mov-SARS-CoV-BEG.csv",
         "SARS"
        ],
        [
         "2",
         "2020-05-04",
         "125960680894.59384",
         "none",
         "Mov-SARS-CoV-BEG.csv",
         "SARS"
        ],
        [
         "3",
         "2020-05-11",
         "97092347128.24516",
         "none",
         "Mov-SARS-CoV-BEG.csv",
         "SARS"
        ],
        [
         "4",
         "2020-05-18",
         "121006294343.19284",
         "none",
         "Mov-SARS-CoV-BEG.csv",
         "SARS"
        ]
       ],
       "shape": {
        "columns": 5,
        "rows": 5
       }
      },
      "text/html": [
       "<div>\n",
       "<style scoped>\n",
       "    .dataframe tbody tr th:only-of-type {\n",
       "        vertical-align: middle;\n",
       "    }\n",
       "\n",
       "    .dataframe tbody tr th {\n",
       "        vertical-align: top;\n",
       "    }\n",
       "\n",
       "    .dataframe thead th {\n",
       "        text-align: right;\n",
       "    }\n",
       "</style>\n",
       "<table border=\"1\" class=\"dataframe\">\n",
       "  <thead>\n",
       "    <tr style=\"text-align: right;\">\n",
       "      <th></th>\n",
       "      <th>time</th>\n",
       "      <th>rna_copies</th>\n",
       "      <th>label</th>\n",
       "      <th>filename</th>\n",
       "      <th>virus</th>\n",
       "    </tr>\n",
       "  </thead>\n",
       "  <tbody>\n",
       "    <tr>\n",
       "      <th>0</th>\n",
       "      <td>2020-04-20</td>\n",
       "      <td>5.579245e+11</td>\n",
       "      <td>none</td>\n",
       "      <td>Mov-SARS-CoV-BEG.csv</td>\n",
       "      <td>SARS</td>\n",
       "    </tr>\n",
       "    <tr>\n",
       "      <th>1</th>\n",
       "      <td>2020-04-27</td>\n",
       "      <td>2.959020e+11</td>\n",
       "      <td>none</td>\n",
       "      <td>Mov-SARS-CoV-BEG.csv</td>\n",
       "      <td>SARS</td>\n",
       "    </tr>\n",
       "    <tr>\n",
       "      <th>2</th>\n",
       "      <td>2020-05-04</td>\n",
       "      <td>1.259607e+11</td>\n",
       "      <td>none</td>\n",
       "      <td>Mov-SARS-CoV-BEG.csv</td>\n",
       "      <td>SARS</td>\n",
       "    </tr>\n",
       "    <tr>\n",
       "      <th>3</th>\n",
       "      <td>2020-05-11</td>\n",
       "      <td>9.709235e+10</td>\n",
       "      <td>none</td>\n",
       "      <td>Mov-SARS-CoV-BEG.csv</td>\n",
       "      <td>SARS</td>\n",
       "    </tr>\n",
       "    <tr>\n",
       "      <th>4</th>\n",
       "      <td>2020-05-18</td>\n",
       "      <td>1.210063e+11</td>\n",
       "      <td>none</td>\n",
       "      <td>Mov-SARS-CoV-BEG.csv</td>\n",
       "      <td>SARS</td>\n",
       "    </tr>\n",
       "  </tbody>\n",
       "</table>\n",
       "</div>"
      ],
      "text/plain": [
       "         time    rna_copies label              filename virus\n",
       "0  2020-04-20  5.579245e+11  none  Mov-SARS-CoV-BEG.csv  SARS\n",
       "1  2020-04-27  2.959020e+11  none  Mov-SARS-CoV-BEG.csv  SARS\n",
       "2  2020-05-04  1.259607e+11  none  Mov-SARS-CoV-BEG.csv  SARS\n",
       "3  2020-05-11  9.709235e+10  none  Mov-SARS-CoV-BEG.csv  SARS\n",
       "4  2020-05-18  1.210063e+11  none  Mov-SARS-CoV-BEG.csv  SARS"
      ]
     },
     "execution_count": 2,
     "metadata": {},
     "output_type": "execute_result"
    }
   ],
   "source": [
    "# Set the path where CSVs are located\n",
    "labeled_data_path = 'data_labelled' \n",
    "labled_csv_files = glob(os.path.join(labeled_data_path, 'Mov-FluA*.csv'))\n",
    "\n",
    "orig_data_path = 'data_preprocess'\n",
    "orig_csv_files = glob(os.path.join(orig_data_path, 'FluA*.csv'))\n",
    "\n",
    "# Load and concatenate all CSVs\n",
    "dfs = [pd.read_csv(f) for f in labled_csv_files]\n",
    "df = pd.concat(dfs, ignore_index=True)\n",
    "\n",
    "# dfs_orig = [pd.read_csv(f) for f in orig_csv_files]\n",
    "dfs_orig = []\n",
    "for file in orig_csv_files:\n",
    "    local_df = pd.read_csv(file)\n",
    "    filename = file.replace('data_preprocess\\\\', '')\n",
    "    local_df['filename'] = filename\n",
    "\n",
    "    dfs_orig.append(local_df)\n",
    "    \n",
    "df_orig = pd.concat(dfs_orig, ignore_index=True)\n",
    "\n",
    "# Preview\n",
    "df.head()\n"
   ]
  },
  {
   "cell_type": "code",
   "execution_count": 3,
   "id": "6a4ba633",
   "metadata": {},
   "outputs": [
    {
     "data": {
      "application/vnd.microsoft.datawrangler.viewer.v0+json": {
       "columns": [
        {
         "name": "index",
         "rawType": "int64",
         "type": "integer"
        },
        {
         "name": "time",
         "rawType": "object",
         "type": "string"
        },
        {
         "name": "rna_copies",
         "rawType": "float64",
         "type": "float"
        },
        {
         "name": "label",
         "rawType": "object",
         "type": "string"
        },
        {
         "name": "filename",
         "rawType": "object",
         "type": "string"
        }
       ],
       "ref": "72cfa0f5-67b7-48aa-902b-6fcce729156a",
       "rows": [
        [
         "0",
         "2020-04-06",
         "925483087487.84",
         "SARS-CoV-2",
         "SARS-CoV-BEG.csv"
        ],
        [
         "1",
         "2020-04-13",
         "584834195436.429",
         "SARS-CoV-2",
         "SARS-CoV-BEG.csv"
        ],
        [
         "2",
         "2020-04-20",
         "163456152078.96",
         "SARS-CoV-2",
         "SARS-CoV-BEG.csv"
        ],
        [
         "3",
         "2020-04-27",
         "139415782998.33",
         "SARS-CoV-2",
         "SARS-CoV-BEG.csv"
        ],
        [
         "4",
         "2020-05-04",
         "75010107606.4915",
         "SARS-CoV-2",
         "SARS-CoV-BEG.csv"
        ]
       ],
       "shape": {
        "columns": 4,
        "rows": 5
       }
      },
      "text/html": [
       "<div>\n",
       "<style scoped>\n",
       "    .dataframe tbody tr th:only-of-type {\n",
       "        vertical-align: middle;\n",
       "    }\n",
       "\n",
       "    .dataframe tbody tr th {\n",
       "        vertical-align: top;\n",
       "    }\n",
       "\n",
       "    .dataframe thead th {\n",
       "        text-align: right;\n",
       "    }\n",
       "</style>\n",
       "<table border=\"1\" class=\"dataframe\">\n",
       "  <thead>\n",
       "    <tr style=\"text-align: right;\">\n",
       "      <th></th>\n",
       "      <th>time</th>\n",
       "      <th>rna_copies</th>\n",
       "      <th>label</th>\n",
       "      <th>filename</th>\n",
       "    </tr>\n",
       "  </thead>\n",
       "  <tbody>\n",
       "    <tr>\n",
       "      <th>0</th>\n",
       "      <td>2020-04-06</td>\n",
       "      <td>9.254831e+11</td>\n",
       "      <td>SARS-CoV-2</td>\n",
       "      <td>SARS-CoV-BEG.csv</td>\n",
       "    </tr>\n",
       "    <tr>\n",
       "      <th>1</th>\n",
       "      <td>2020-04-13</td>\n",
       "      <td>5.848342e+11</td>\n",
       "      <td>SARS-CoV-2</td>\n",
       "      <td>SARS-CoV-BEG.csv</td>\n",
       "    </tr>\n",
       "    <tr>\n",
       "      <th>2</th>\n",
       "      <td>2020-04-20</td>\n",
       "      <td>1.634562e+11</td>\n",
       "      <td>SARS-CoV-2</td>\n",
       "      <td>SARS-CoV-BEG.csv</td>\n",
       "    </tr>\n",
       "    <tr>\n",
       "      <th>3</th>\n",
       "      <td>2020-04-27</td>\n",
       "      <td>1.394158e+11</td>\n",
       "      <td>SARS-CoV-2</td>\n",
       "      <td>SARS-CoV-BEG.csv</td>\n",
       "    </tr>\n",
       "    <tr>\n",
       "      <th>4</th>\n",
       "      <td>2020-05-04</td>\n",
       "      <td>7.501011e+10</td>\n",
       "      <td>SARS-CoV-2</td>\n",
       "      <td>SARS-CoV-BEG.csv</td>\n",
       "    </tr>\n",
       "  </tbody>\n",
       "</table>\n",
       "</div>"
      ],
      "text/plain": [
       "         time    rna_copies       label          filename\n",
       "0  2020-04-06  9.254831e+11  SARS-CoV-2  SARS-CoV-BEG.csv\n",
       "1  2020-04-13  5.848342e+11  SARS-CoV-2  SARS-CoV-BEG.csv\n",
       "2  2020-04-20  1.634562e+11  SARS-CoV-2  SARS-CoV-BEG.csv\n",
       "3  2020-04-27  1.394158e+11  SARS-CoV-2  SARS-CoV-BEG.csv\n",
       "4  2020-05-04  7.501011e+10  SARS-CoV-2  SARS-CoV-BEG.csv"
      ]
     },
     "execution_count": 3,
     "metadata": {},
     "output_type": "execute_result"
    }
   ],
   "source": [
    "df_orig.head()"
   ]
  },
  {
   "cell_type": "markdown",
   "id": "64591442",
   "metadata": {},
   "source": [
    "## Calculate Outliers Using the Interquartile Range (IQR) Method (from article)"
   ]
  },
  {
   "cell_type": "markdown",
   "id": "a27a0774",
   "metadata": {},
   "source": [
    "For each QCP:\n",
    "\n",
    "- Compute the first quartile (Q1), third quartile (Q3)\n",
    "- Calculate IQR = Q3 - Q1\n",
    "- Define outliers as points outside 1.5 * IQR"
   ]
  },
  {
   "cell_type": "code",
   "execution_count": 15,
   "id": "3256a320",
   "metadata": {},
   "outputs": [],
   "source": [
    "def detect_outliers_modified_z(df, value_col='value', window=5, threshold=3.5):\n",
    "    \"\"\"\n",
    "    Apply modified z-score method using rolling median and MAD.\n",
    "    Adds a column 'outlier' to the dataframe.\n",
    "    \"\"\"\n",
    "    df = df.copy()\n",
    "    df['median'] = df[value_col].rolling(window, center=True).median()\n",
    "    df['mad'] = df[value_col].rolling(window, center=True).apply(\n",
    "        lambda x: median_abs_deviation(x, scale='normal'), raw=False\n",
    "    )\n",
    "\n",
    "    df['mod_z'] = 0.6745 * (df[value_col] - df['median']) / df['mad']\n",
    "    df['outlier'] = df['mod_z'].abs() > threshold\n",
    "\n",
    "    return df\n",
    "\n",
    "def identify_outliers(column):\n",
    "    # Only use non-zero values for stats\n",
    "    non_zero = column[column != 0]\n",
    "    \n",
    "    if non_zero.empty:\n",
    "        # All values are 0; return all False\n",
    "        return pd.Series(False, index=column.index)\n",
    "\n",
    "    median = non_zero.median()\n",
    "    normalized = non_zero / median if median != 0 else non_zero.copy()\n",
    "    \n",
    "    q1 = normalized.quantile(0.2)\n",
    "    q3 = normalized.quantile(0.8)\n",
    "    iqr = q3 - q1\n",
    "    lower_bound = q1 - 1.5 * iqr\n",
    "    upper_bound = q3 + 1.5 * iqr\n",
    "\n",
    "    print(\"the upper bound is \", upper_bound)\n",
    "    print(\"the median is \", median)\n",
    "    print(\"the lower bound is \", lower_bound)\n",
    "    \n",
    "    outlier_mask_partial = (normalized < lower_bound) | (normalized > upper_bound)\n",
    "    \n",
    "    # Build full mask with same index as original column\n",
    "    outlier_mask = pd.Series(False, index=column.index)\n",
    "    outlier_mask.loc[outlier_mask_partial.index] = outlier_mask_partial\n",
    "    \n",
    "    return outlier_mask"
   ]
  },
  {
   "cell_type": "code",
   "execution_count": 16,
   "id": "1a548a4e",
   "metadata": {},
   "outputs": [
    {
     "name": "stdout",
     "output_type": "stream",
     "text": [
      "the upper bound is  7.181235167456984\n",
      "the median is  915428286113.218\n",
      "the lower bound is  -3.8140558129703757\n",
      "the upper bound is  6.258590419472165\n",
      "the median is  1146392219462.77\n",
      "the lower bound is  -3.2206132288953553\n",
      "the upper bound is  8.304140273514546\n",
      "the median is  905116538740.17\n",
      "the lower bound is  -4.440307359869505\n",
      "the upper bound is  7.636171192487193\n",
      "the median is  648846109000.099\n",
      "the lower bound is  -4.036358360992842\n",
      "the upper bound is  7.084864864907228\n",
      "the median is  1195304837337.81\n",
      "the lower bound is  -3.802608334024256\n",
      "the upper bound is  8.802143218913786\n",
      "the median is  648690086456.437\n",
      "the lower bound is  -4.9412627653008325\n",
      "the upper bound is  7.563363948230165\n",
      "the median is  977312192432.0125\n",
      "the lower bound is  -4.217305961545616\n",
      "the upper bound is  6.587959743867291\n",
      "the median is  1046588276429.81\n",
      "the lower bound is  -3.591256644583878\n",
      "the upper bound is  6.079225225177986\n",
      "the median is  1049856703752.48\n",
      "the lower bound is  -3.1880460590607793\n",
      "the upper bound is  6.178675210581367\n",
      "the median is  1217940827743.92\n",
      "the lower bound is  -3.302303673834071\n",
      "the upper bound is  8.409991908990065\n",
      "the median is  446573314189.099\n",
      "the lower bound is  -4.528344188060185\n",
      "the upper bound is  5.8023104942472585\n",
      "the median is  1419137935561.405\n",
      "the lower bound is  -3.1130545626803072\n",
      "the upper bound is  5.533691489247866\n",
      "the median is  899984657664.6355\n",
      "the lower bound is  -2.901183080351012\n",
      "the upper bound is  5.640993554610799\n",
      "the median is  1604116415285.35\n",
      "the lower bound is  -2.9039996251340225\n"
     ]
    }
   ],
   "source": [
    "df_outliers = df_orig.copy()\n",
    "df_outliers['outlier'] = False  \n",
    "\n",
    "# Group by 'filename' and apply the outlier function per group\n",
    "for f in df_outliers['filename'].unique():\n",
    "    mask = df_outliers['filename'] == f\n",
    "    outlier_mask = identify_outliers(df_outliers.loc[mask, 'rna_copies'])\n",
    "    df_outliers.loc[mask, 'outlier'] = outlier_mask"
   ]
  },
  {
   "cell_type": "code",
   "execution_count": 6,
   "id": "e8281320",
   "metadata": {},
   "outputs": [],
   "source": [
    "# # Apply the outlier detection\n",
    "# df_outliers = detect_outliers_modified_z(df_orig, value_col='rna_copies', window=5, threshold=3.5)\n",
    "\n",
    "# # Preview results\n",
    "# df_outliers[['time', 'rna_copies', 'median', 'mad', 'mod_z', 'outlier']].head(10)"
   ]
  },
  {
   "cell_type": "code",
   "execution_count": 7,
   "id": "5ce6cc83",
   "metadata": {},
   "outputs": [
    {
     "data": {
      "application/vnd.microsoft.datawrangler.viewer.v0+json": {
       "columns": [
        {
         "name": "index",
         "rawType": "int64",
         "type": "integer"
        },
        {
         "name": "time",
         "rawType": "object",
         "type": "string"
        },
        {
         "name": "rna_copies",
         "rawType": "float64",
         "type": "float"
        },
        {
         "name": "label",
         "rawType": "object",
         "type": "string"
        },
        {
         "name": "filename",
         "rawType": "object",
         "type": "string"
        },
        {
         "name": "outlier",
         "rawType": "bool",
         "type": "boolean"
        }
       ],
       "ref": "f76f6bbe-2bd0-4807-a6ba-123ce66e9113",
       "rows": [
        [
         "0",
         "2020-04-06",
         "925483087487.84",
         "SARS-CoV-2",
         "SARS-CoV-BEG.csv",
         "False"
        ],
        [
         "1",
         "2020-04-13",
         "584834195436.429",
         "SARS-CoV-2",
         "SARS-CoV-BEG.csv",
         "False"
        ],
        [
         "2",
         "2020-04-20",
         "163456152078.96",
         "SARS-CoV-2",
         "SARS-CoV-BEG.csv",
         "False"
        ],
        [
         "3",
         "2020-04-27",
         "139415782998.33",
         "SARS-CoV-2",
         "SARS-CoV-BEG.csv",
         "False"
        ],
        [
         "4",
         "2020-05-04",
         "75010107606.4915",
         "SARS-CoV-2",
         "SARS-CoV-BEG.csv",
         "False"
        ]
       ],
       "shape": {
        "columns": 5,
        "rows": 5
       }
      },
      "text/html": [
       "<div>\n",
       "<style scoped>\n",
       "    .dataframe tbody tr th:only-of-type {\n",
       "        vertical-align: middle;\n",
       "    }\n",
       "\n",
       "    .dataframe tbody tr th {\n",
       "        vertical-align: top;\n",
       "    }\n",
       "\n",
       "    .dataframe thead th {\n",
       "        text-align: right;\n",
       "    }\n",
       "</style>\n",
       "<table border=\"1\" class=\"dataframe\">\n",
       "  <thead>\n",
       "    <tr style=\"text-align: right;\">\n",
       "      <th></th>\n",
       "      <th>time</th>\n",
       "      <th>rna_copies</th>\n",
       "      <th>label</th>\n",
       "      <th>filename</th>\n",
       "      <th>outlier</th>\n",
       "    </tr>\n",
       "  </thead>\n",
       "  <tbody>\n",
       "    <tr>\n",
       "      <th>0</th>\n",
       "      <td>2020-04-06</td>\n",
       "      <td>9.254831e+11</td>\n",
       "      <td>SARS-CoV-2</td>\n",
       "      <td>SARS-CoV-BEG.csv</td>\n",
       "      <td>False</td>\n",
       "    </tr>\n",
       "    <tr>\n",
       "      <th>1</th>\n",
       "      <td>2020-04-13</td>\n",
       "      <td>5.848342e+11</td>\n",
       "      <td>SARS-CoV-2</td>\n",
       "      <td>SARS-CoV-BEG.csv</td>\n",
       "      <td>False</td>\n",
       "    </tr>\n",
       "    <tr>\n",
       "      <th>2</th>\n",
       "      <td>2020-04-20</td>\n",
       "      <td>1.634562e+11</td>\n",
       "      <td>SARS-CoV-2</td>\n",
       "      <td>SARS-CoV-BEG.csv</td>\n",
       "      <td>False</td>\n",
       "    </tr>\n",
       "    <tr>\n",
       "      <th>3</th>\n",
       "      <td>2020-04-27</td>\n",
       "      <td>1.394158e+11</td>\n",
       "      <td>SARS-CoV-2</td>\n",
       "      <td>SARS-CoV-BEG.csv</td>\n",
       "      <td>False</td>\n",
       "    </tr>\n",
       "    <tr>\n",
       "      <th>4</th>\n",
       "      <td>2020-05-04</td>\n",
       "      <td>7.501011e+10</td>\n",
       "      <td>SARS-CoV-2</td>\n",
       "      <td>SARS-CoV-BEG.csv</td>\n",
       "      <td>False</td>\n",
       "    </tr>\n",
       "  </tbody>\n",
       "</table>\n",
       "</div>"
      ],
      "text/plain": [
       "         time    rna_copies       label          filename  outlier\n",
       "0  2020-04-06  9.254831e+11  SARS-CoV-2  SARS-CoV-BEG.csv    False\n",
       "1  2020-04-13  5.848342e+11  SARS-CoV-2  SARS-CoV-BEG.csv    False\n",
       "2  2020-04-20  1.634562e+11  SARS-CoV-2  SARS-CoV-BEG.csv    False\n",
       "3  2020-04-27  1.394158e+11  SARS-CoV-2  SARS-CoV-BEG.csv    False\n",
       "4  2020-05-04  7.501011e+10  SARS-CoV-2  SARS-CoV-BEG.csv    False"
      ]
     },
     "execution_count": 7,
     "metadata": {},
     "output_type": "execute_result"
    }
   ],
   "source": [
    "df_outliers.head()"
   ]
  },
  {
   "cell_type": "markdown",
   "id": "7f08d8ed",
   "metadata": {},
   "source": [
    "## Plot"
   ]
  },
  {
   "cell_type": "code",
   "execution_count": 17,
   "id": "641a3bf0",
   "metadata": {},
   "outputs": [
    {
     "data": {
      "application/vnd.plotly.v1+json": {
       "config": {
        "plotlyServerURL": "https://plot.ly"
       },
       "data": [
        {
         "hoverinfo": "name+y",
         "line": {
          "color": "rgb(228,26,28)"
         },
         "mode": "lines",
         "name": "SARS-CoV-BEG.csv - RNA",
         "type": "scatter",
         "x": [],
         "y": []
        },
        {
         "hoverinfo": "name+y",
         "line": {
          "color": "rgb(55,126,184)"
         },
         "mode": "lines",
         "name": "SARS-CoV-BET.csv - RNA",
         "type": "scatter",
         "x": [],
         "y": []
        },
        {
         "hoverinfo": "name+y",
         "line": {
          "color": "rgb(77,175,74)"
         },
         "mode": "lines",
         "name": "SARS-CoV-BLE.csv - RNA",
         "type": "scatter",
         "x": [],
         "y": []
        },
        {
         "hoverinfo": "name+y",
         "line": {
          "color": "rgb(152,78,163)"
         },
         "mode": "lines",
         "name": "SARS-CoV-BOE.csv - RNA",
         "type": "scatter",
         "x": [],
         "y": []
        },
        {
         "hoverinfo": "name+y",
         "line": {
          "color": "rgb(255,127,0)"
         },
         "mode": "lines",
         "name": "SARS-CoV-ECH.csv - RNA",
         "type": "scatter",
         "x": [],
         "y": []
        },
        {
         "hoverinfo": "name+y",
         "line": {
          "color": "rgb(255,255,51)"
         },
         "mode": "lines",
         "name": "SARS-CoV-GRE.csv - RNA",
         "type": "scatter",
         "x": [],
         "y": []
        },
        {
         "hoverinfo": "name+y",
         "line": {
          "color": "rgb(166,86,40)"
         },
         "mode": "lines",
         "name": "SARS-CoV-HES.csv - RNA",
         "type": "scatter",
         "x": [],
         "y": []
        },
        {
         "hoverinfo": "name+y",
         "line": {
          "color": "rgb(247,129,191)"
         },
         "mode": "lines",
         "name": "SARS-CoV-MER.csv - RNA",
         "type": "scatter",
         "x": [],
         "y": []
        },
        {
         "hoverinfo": "name+y",
         "line": {
          "color": "rgb(153,153,153)"
         },
         "mode": "lines",
         "name": "SARS-CoV-Nat.csv - RNA",
         "type": "scatter",
         "x": [
          "2020-04-06",
          "2020-04-13",
          "2020-04-20",
          "2020-04-27",
          "2020-05-04",
          "2020-05-11",
          "2020-05-18",
          "2020-05-25",
          "2020-06-01",
          "2020-06-08",
          "2020-06-15",
          "2020-06-22",
          "2020-06-29",
          "2020-07-06",
          "2020-07-13",
          "2020-07-20",
          "2020-07-27",
          "2020-08-03",
          "2020-08-10",
          "2020-08-17",
          "2020-08-24",
          "2020-08-31",
          "2020-09-07",
          "2020-09-14",
          "2020-09-21",
          "2020-09-28",
          "2020-10-05",
          "2020-10-12",
          "2020-10-19",
          "2020-10-26",
          "2020-11-02",
          "2020-11-09",
          "2020-11-16",
          "2020-11-23",
          "2020-11-30",
          "2020-12-07",
          "2020-12-14",
          "2020-12-21",
          "2020-12-28",
          "2021-01-04",
          "2021-01-04",
          "2021-01-11",
          "2021-01-18",
          "2021-01-25",
          "2021-02-01",
          "2021-02-08",
          "2021-02-15",
          "2021-02-22",
          "2021-03-01",
          "2021-03-08",
          "2021-03-15",
          "2021-03-22",
          "2021-03-29",
          "2021-04-05",
          "2021-04-12",
          "2021-04-19",
          "2021-04-26",
          "2021-05-03",
          "2021-05-10",
          "2021-05-17",
          "2021-05-24",
          "2021-05-31",
          "2021-06-07",
          "2021-06-14",
          "2021-06-21",
          "2021-06-28",
          "2021-07-05",
          "2021-07-12",
          "2021-07-19",
          "2021-07-26",
          "2021-08-02",
          "2021-08-09",
          "2021-08-16",
          "2021-08-23",
          "2021-08-30",
          "2021-09-06",
          "2021-09-13",
          "2021-09-20",
          "2021-09-27",
          "2021-10-04",
          "2021-10-11",
          "2021-10-18",
          "2021-10-25",
          "2021-11-01",
          "2021-11-08",
          "2021-11-15",
          "2021-11-22",
          "2021-11-29",
          "2021-12-06",
          "2021-12-13",
          "2021-12-20",
          "2022-01-03",
          "2022-01-10",
          "2022-01-17",
          "2022-01-24",
          "2022-01-31",
          "2022-02-07",
          "2022-02-14",
          "2022-02-21",
          "2022-02-28",
          "2022-03-07",
          "2022-03-14",
          "2022-03-21",
          "2022-03-28",
          "2022-04-04",
          "2022-04-11",
          "2022-04-18",
          "2022-04-25",
          "2022-05-02",
          "2022-05-09",
          "2022-05-16",
          "2022-05-23",
          "2022-05-30",
          "2022-06-06",
          "2022-06-13",
          "2022-06-20",
          "2022-06-27",
          "2022-07-04",
          "2022-07-11",
          "2022-07-18",
          "2022-07-25",
          "2022-08-01",
          "2022-08-08",
          "2022-08-15",
          "2022-08-22",
          "2022-08-29",
          "2022-09-05",
          "2022-09-12",
          "2022-09-19",
          "2022-09-26",
          "2022-10-03",
          "2022-10-10",
          "2022-10-17",
          "2022-10-24",
          "2022-10-31",
          "2022-11-07",
          "2022-11-14",
          "2022-11-21",
          "2022-11-28",
          "2022-12-05",
          "2022-12-12",
          "2022-12-19",
          "2023-01-02",
          "2023-01-09",
          "2023-01-16",
          "2023-01-23",
          "2023-01-30",
          "2023-02-06",
          "2023-02-13",
          "2023-02-20",
          "2023-02-27",
          "2023-03-06",
          "2023-03-13",
          "2023-03-20",
          "2023-03-27",
          "2023-04-03",
          "2023-04-10",
          "2023-04-17",
          "2023-04-24",
          "2023-05-01",
          "2023-05-08",
          "2023-05-15",
          "2023-05-22",
          "2023-05-29",
          "2023-06-05",
          "2023-06-12",
          "2023-06-19",
          "2023-06-26",
          "2023-07-03",
          "2023-07-10",
          "2023-07-17",
          "2023-07-24",
          "2023-07-31",
          "2023-08-07",
          "2023-08-14",
          "2023-08-21",
          "2023-08-28",
          "2023-09-04",
          "2023-09-11",
          "2023-09-18",
          "2023-09-25",
          "2023-10-02",
          "2023-10-09",
          "2023-10-16",
          "2023-10-23",
          "2023-10-30",
          "2023-11-06",
          "2023-11-13",
          "2023-11-20",
          "2023-11-27",
          "2023-12-04",
          "2023-12-11",
          "2023-12-18",
          "2024-01-01",
          "2024-01-08",
          "2024-01-15",
          "2024-01-22",
          "2024-01-29",
          "2024-02-05",
          "2024-02-12",
          "2024-02-19",
          "2024-02-26",
          "2024-03-04",
          "2024-03-11",
          "2024-03-18",
          "2024-03-25",
          "2024-04-01",
          "2024-04-08",
          "2024-04-15",
          "2024-04-22",
          "2024-04-29",
          "2024-05-06",
          "2024-05-13",
          "2024-05-20",
          "2024-05-27",
          "2024-06-03",
          "2024-06-10",
          "2024-06-17",
          "2024-06-24",
          "2024-07-01",
          "2024-07-08",
          "2024-07-15",
          "2024-07-22",
          "2024-07-29",
          "2024-08-05",
          "2024-08-12",
          "2024-08-19",
          "2024-08-26",
          "2024-09-02",
          "2024-09-09",
          "2024-09-16",
          "2024-09-23",
          "2024-09-30",
          "2024-10-07",
          "2024-10-14",
          "2024-10-21",
          "2024-10-28",
          "2024-11-04",
          "2024-11-11",
          "2024-11-18",
          "2024-11-25",
          "2024-12-02",
          "2024-12-09",
          "2024-12-16",
          "2025-01-13",
          "2025-01-20",
          "2025-01-27",
          "2025-02-03",
          "2025-02-10",
          "2025-02-17",
          "2025-02-24",
          "2025-03-03",
          "2025-03-10",
          "2025-03-17",
          "2025-03-24",
          "2025-03-31",
          "2025-04-07",
          "2025-04-14",
          "2025-04-21",
          "2025-04-28",
          "2025-05-05",
          "2025-05-12",
          "2025-05-19",
          "2025-05-26",
          "2025-06-02",
          "2025-06-09",
          "2025-06-16",
          "2025-06-23"
         ],
         "y": {
          "bdata": "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",
          "dtype": "f8"
         }
        },
        {
         "hoverinfo": "name+y",
         "marker": {
          "color": "red",
          "size": 8,
          "symbol": "x"
         },
         "mode": "markers",
         "name": "SARS-CoV-Nat.csv - Outlier",
         "type": "scatter",
         "x": [
          "2022-01-17",
          "2022-01-24",
          "2022-03-28",
          "2023-11-27",
          "2023-12-04",
          "2023-12-11",
          "2023-12-18"
         ],
         "y": {
          "bdata": "Ut9CCg+sm0IAKDLKtauaQilG+75UhJdCFOcJWud2mkKuv9K488OYQjPGD6z0DqZC+1PoUMCloEI=",
          "dtype": "f8"
         }
        },
        {
         "hoverinfo": "name+y",
         "line": {
          "color": "rgb(228,26,28)"
         },
         "mode": "lines",
         "name": "SARS-CoV-PET.csv - RNA",
         "type": "scatter",
         "x": [],
         "y": []
        },
        {
         "hoverinfo": "name+y",
         "line": {
          "color": "rgb(55,126,184)"
         },
         "mode": "lines",
         "name": "SARS-CoV-SCH.csv - RNA",
         "type": "scatter",
         "x": [],
         "y": []
        },
        {
         "hoverinfo": "name+y",
         "line": {
          "color": "rgb(77,175,74)"
         },
         "mode": "lines",
         "name": "SARS-CoV-UEB.csv - RNA",
         "type": "scatter",
         "x": [],
         "y": []
        },
        {
         "hoverinfo": "name+y",
         "line": {
          "color": "rgb(152,78,163)"
         },
         "mode": "lines",
         "name": "SARS-CoV-VIE.csv - RNA",
         "type": "scatter",
         "x": [],
         "y": []
        },
        {
         "hoverinfo": "name+y",
         "line": {
          "color": "rgb(255,127,0)"
         },
         "mode": "lines",
         "name": "SARS-CoV-WIL.csv - RNA",
         "type": "scatter",
         "x": [],
         "y": []
        }
       ],
       "layout": {
        "height": 600,
        "legend": {
         "title": {
          "text": "Data Source"
         }
        },
        "template": {
         "data": {
          "bar": [
           {
            "error_x": {
             "color": "#2a3f5f"
            },
            "error_y": {
             "color": "#2a3f5f"
            },
            "marker": {
             "line": {
              "color": "white",
              "width": 0.5
             },
             "pattern": {
              "fillmode": "overlay",
              "size": 10,
              "solidity": 0.2
             }
            },
            "type": "bar"
           }
          ],
          "barpolar": [
           {
            "marker": {
             "line": {
              "color": "white",
              "width": 0.5
             },
             "pattern": {
              "fillmode": "overlay",
              "size": 10,
              "solidity": 0.2
             }
            },
            "type": "barpolar"
           }
          ],
          "carpet": [
           {
            "aaxis": {
             "endlinecolor": "#2a3f5f",
             "gridcolor": "#C8D4E3",
             "linecolor": "#C8D4E3",
             "minorgridcolor": "#C8D4E3",
             "startlinecolor": "#2a3f5f"
            },
            "baxis": {
             "endlinecolor": "#2a3f5f",
             "gridcolor": "#C8D4E3",
             "linecolor": "#C8D4E3",
             "minorgridcolor": "#C8D4E3",
             "startlinecolor": "#2a3f5f"
            },
            "type": "carpet"
           }
          ],
          "choropleth": [
           {
            "colorbar": {
             "outlinewidth": 0,
             "ticks": ""
            },
            "type": "choropleth"
           }
          ],
          "contour": [
           {
            "colorbar": {
             "outlinewidth": 0,
             "ticks": ""
            },
            "colorscale": [
             [
              0,
              "#0d0887"
             ],
             [
              0.1111111111111111,
              "#46039f"
             ],
             [
              0.2222222222222222,
              "#7201a8"
             ],
             [
              0.3333333333333333,
              "#9c179e"
             ],
             [
              0.4444444444444444,
              "#bd3786"
             ],
             [
              0.5555555555555556,
              "#d8576b"
             ],
             [
              0.6666666666666666,
              "#ed7953"
             ],
             [
              0.7777777777777778,
              "#fb9f3a"
             ],
             [
              0.8888888888888888,
              "#fdca26"
             ],
             [
              1,
              "#f0f921"
             ]
            ],
            "type": "contour"
           }
          ],
          "contourcarpet": [
           {
            "colorbar": {
             "outlinewidth": 0,
             "ticks": ""
            },
            "type": "contourcarpet"
           }
          ],
          "heatmap": [
           {
            "colorbar": {
             "outlinewidth": 0,
             "ticks": ""
            },
            "colorscale": [
             [
              0,
              "#0d0887"
             ],
             [
              0.1111111111111111,
              "#46039f"
             ],
             [
              0.2222222222222222,
              "#7201a8"
             ],
             [
              0.3333333333333333,
              "#9c179e"
             ],
             [
              0.4444444444444444,
              "#bd3786"
             ],
             [
              0.5555555555555556,
              "#d8576b"
             ],
             [
              0.6666666666666666,
              "#ed7953"
             ],
             [
              0.7777777777777778,
              "#fb9f3a"
             ],
             [
              0.8888888888888888,
              "#fdca26"
             ],
             [
              1,
              "#f0f921"
             ]
            ],
            "type": "heatmap"
           }
          ],
          "histogram": [
           {
            "marker": {
             "pattern": {
              "fillmode": "overlay",
              "size": 10,
              "solidity": 0.2
             }
            },
            "type": "histogram"
           }
          ],
          "histogram2d": [
           {
            "colorbar": {
             "outlinewidth": 0,
             "ticks": ""
            },
            "colorscale": [
             [
              0,
              "#0d0887"
             ],
             [
              0.1111111111111111,
              "#46039f"
             ],
             [
              0.2222222222222222,
              "#7201a8"
             ],
             [
              0.3333333333333333,
              "#9c179e"
             ],
             [
              0.4444444444444444,
              "#bd3786"
             ],
             [
              0.5555555555555556,
              "#d8576b"
             ],
             [
              0.6666666666666666,
              "#ed7953"
             ],
             [
              0.7777777777777778,
              "#fb9f3a"
             ],
             [
              0.8888888888888888,
              "#fdca26"
             ],
             [
              1,
              "#f0f921"
             ]
            ],
            "type": "histogram2d"
           }
          ],
          "histogram2dcontour": [
           {
            "colorbar": {
             "outlinewidth": 0,
             "ticks": ""
            },
            "colorscale": [
             [
              0,
              "#0d0887"
             ],
             [
              0.1111111111111111,
              "#46039f"
             ],
             [
              0.2222222222222222,
              "#7201a8"
             ],
             [
              0.3333333333333333,
              "#9c179e"
             ],
             [
              0.4444444444444444,
              "#bd3786"
             ],
             [
              0.5555555555555556,
              "#d8576b"
             ],
             [
              0.6666666666666666,
              "#ed7953"
             ],
             [
              0.7777777777777778,
              "#fb9f3a"
             ],
             [
              0.8888888888888888,
              "#fdca26"
             ],
             [
              1,
              "#f0f921"
             ]
            ],
            "type": "histogram2dcontour"
           }
          ],
          "mesh3d": [
           {
            "colorbar": {
             "outlinewidth": 0,
             "ticks": ""
            },
            "type": "mesh3d"
           }
          ],
          "parcoords": [
           {
            "line": {
             "colorbar": {
              "outlinewidth": 0,
              "ticks": ""
             }
            },
            "type": "parcoords"
           }
          ],
          "pie": [
           {
            "automargin": true,
            "type": "pie"
           }
          ],
          "scatter": [
           {
            "fillpattern": {
             "fillmode": "overlay",
             "size": 10,
             "solidity": 0.2
            },
            "type": "scatter"
           }
          ],
          "scatter3d": [
           {
            "line": {
             "colorbar": {
              "outlinewidth": 0,
              "ticks": ""
             }
            },
            "marker": {
             "colorbar": {
              "outlinewidth": 0,
              "ticks": ""
             }
            },
            "type": "scatter3d"
           }
          ],
          "scattercarpet": [
           {
            "marker": {
             "colorbar": {
              "outlinewidth": 0,
              "ticks": ""
             }
            },
            "type": "scattercarpet"
           }
          ],
          "scattergeo": [
           {
            "marker": {
             "colorbar": {
              "outlinewidth": 0,
              "ticks": ""
             }
            },
            "type": "scattergeo"
           }
          ],
          "scattergl": [
           {
            "marker": {
             "colorbar": {
              "outlinewidth": 0,
              "ticks": ""
             }
            },
            "type": "scattergl"
           }
          ],
          "scattermap": [
           {
            "marker": {
             "colorbar": {
              "outlinewidth": 0,
              "ticks": ""
             }
            },
            "type": "scattermap"
           }
          ],
          "scattermapbox": [
           {
            "marker": {
             "colorbar": {
              "outlinewidth": 0,
              "ticks": ""
             }
            },
            "type": "scattermapbox"
           }
          ],
          "scatterpolar": [
           {
            "marker": {
             "colorbar": {
              "outlinewidth": 0,
              "ticks": ""
             }
            },
            "type": "scatterpolar"
           }
          ],
          "scatterpolargl": [
           {
            "marker": {
             "colorbar": {
              "outlinewidth": 0,
              "ticks": ""
             }
            },
            "type": "scatterpolargl"
           }
          ],
          "scatterternary": [
           {
            "marker": {
             "colorbar": {
              "outlinewidth": 0,
              "ticks": ""
             }
            },
            "type": "scatterternary"
           }
          ],
          "surface": [
           {
            "colorbar": {
             "outlinewidth": 0,
             "ticks": ""
            },
            "colorscale": [
             [
              0,
              "#0d0887"
             ],
             [
              0.1111111111111111,
              "#46039f"
             ],
             [
              0.2222222222222222,
              "#7201a8"
             ],
             [
              0.3333333333333333,
              "#9c179e"
             ],
             [
              0.4444444444444444,
              "#bd3786"
             ],
             [
              0.5555555555555556,
              "#d8576b"
             ],
             [
              0.6666666666666666,
              "#ed7953"
             ],
             [
              0.7777777777777778,
              "#fb9f3a"
             ],
             [
              0.8888888888888888,
              "#fdca26"
             ],
             [
              1,
              "#f0f921"
             ]
            ],
            "type": "surface"
           }
          ],
          "table": [
           {
            "cells": {
             "fill": {
              "color": "#EBF0F8"
             },
             "line": {
              "color": "white"
             }
            },
            "header": {
             "fill": {
              "color": "#C8D4E3"
             },
             "line": {
              "color": "white"
             }
            },
            "type": "table"
           }
          ]
         },
         "layout": {
          "annotationdefaults": {
           "arrowcolor": "#2a3f5f",
           "arrowhead": 0,
           "arrowwidth": 1
          },
          "autotypenumbers": "strict",
          "coloraxis": {
           "colorbar": {
            "outlinewidth": 0,
            "ticks": ""
           }
          },
          "colorscale": {
           "diverging": [
            [
             0,
             "#8e0152"
            ],
            [
             0.1,
             "#c51b7d"
            ],
            [
             0.2,
             "#de77ae"
            ],
            [
             0.3,
             "#f1b6da"
            ],
            [
             0.4,
             "#fde0ef"
            ],
            [
             0.5,
             "#f7f7f7"
            ],
            [
             0.6,
             "#e6f5d0"
            ],
            [
             0.7,
             "#b8e186"
            ],
            [
             0.8,
             "#7fbc41"
            ],
            [
             0.9,
             "#4d9221"
            ],
            [
             1,
             "#276419"
            ]
           ],
           "sequential": [
            [
             0,
             "#0d0887"
            ],
            [
             0.1111111111111111,
             "#46039f"
            ],
            [
             0.2222222222222222,
             "#7201a8"
            ],
            [
             0.3333333333333333,
             "#9c179e"
            ],
            [
             0.4444444444444444,
             "#bd3786"
            ],
            [
             0.5555555555555556,
             "#d8576b"
            ],
            [
             0.6666666666666666,
             "#ed7953"
            ],
            [
             0.7777777777777778,
             "#fb9f3a"
            ],
            [
             0.8888888888888888,
             "#fdca26"
            ],
            [
             1,
             "#f0f921"
            ]
           ],
           "sequentialminus": [
            [
             0,
             "#0d0887"
            ],
            [
             0.1111111111111111,
             "#46039f"
            ],
            [
             0.2222222222222222,
             "#7201a8"
            ],
            [
             0.3333333333333333,
             "#9c179e"
            ],
            [
             0.4444444444444444,
             "#bd3786"
            ],
            [
             0.5555555555555556,
             "#d8576b"
            ],
            [
             0.6666666666666666,
             "#ed7953"
            ],
            [
             0.7777777777777778,
             "#fb9f3a"
            ],
            [
             0.8888888888888888,
             "#fdca26"
            ],
            [
             1,
             "#f0f921"
            ]
           ]
          },
          "colorway": [
           "#636efa",
           "#EF553B",
           "#00cc96",
           "#ab63fa",
           "#FFA15A",
           "#19d3f3",
           "#FF6692",
           "#B6E880",
           "#FF97FF",
           "#FECB52"
          ],
          "font": {
           "color": "#2a3f5f"
          },
          "geo": {
           "bgcolor": "white",
           "lakecolor": "white",
           "landcolor": "white",
           "showlakes": true,
           "showland": true,
           "subunitcolor": "#C8D4E3"
          },
          "hoverlabel": {
           "align": "left"
          },
          "hovermode": "closest",
          "mapbox": {
           "style": "light"
          },
          "paper_bgcolor": "white",
          "plot_bgcolor": "white",
          "polar": {
           "angularaxis": {
            "gridcolor": "#EBF0F8",
            "linecolor": "#EBF0F8",
            "ticks": ""
           },
           "bgcolor": "white",
           "radialaxis": {
            "gridcolor": "#EBF0F8",
            "linecolor": "#EBF0F8",
            "ticks": ""
           }
          },
          "scene": {
           "xaxis": {
            "backgroundcolor": "white",
            "gridcolor": "#DFE8F3",
            "gridwidth": 2,
            "linecolor": "#EBF0F8",
            "showbackground": true,
            "ticks": "",
            "zerolinecolor": "#EBF0F8"
           },
           "yaxis": {
            "backgroundcolor": "white",
            "gridcolor": "#DFE8F3",
            "gridwidth": 2,
            "linecolor": "#EBF0F8",
            "showbackground": true,
            "ticks": "",
            "zerolinecolor": "#EBF0F8"
           },
           "zaxis": {
            "backgroundcolor": "white",
            "gridcolor": "#DFE8F3",
            "gridwidth": 2,
            "linecolor": "#EBF0F8",
            "showbackground": true,
            "ticks": "",
            "zerolinecolor": "#EBF0F8"
           }
          },
          "shapedefaults": {
           "line": {
            "color": "#2a3f5f"
           }
          },
          "ternary": {
           "aaxis": {
            "gridcolor": "#DFE8F3",
            "linecolor": "#A2B1C6",
            "ticks": ""
           },
           "baxis": {
            "gridcolor": "#DFE8F3",
            "linecolor": "#A2B1C6",
            "ticks": ""
           },
           "bgcolor": "white",
           "caxis": {
            "gridcolor": "#DFE8F3",
            "linecolor": "#A2B1C6",
            "ticks": ""
           }
          },
          "title": {
           "x": 0.05
          },
          "xaxis": {
           "automargin": true,
           "gridcolor": "#EBF0F8",
           "linecolor": "#EBF0F8",
           "ticks": "",
           "title": {
            "standoff": 15
           },
           "zerolinecolor": "#EBF0F8",
           "zerolinewidth": 2
          },
          "yaxis": {
           "automargin": true,
           "gridcolor": "#EBF0F8",
           "linecolor": "#EBF0F8",
           "ticks": "",
           "title": {
            "standoff": 15
           },
           "zerolinecolor": "#EBF0F8",
           "zerolinewidth": 2
          }
         }
        },
        "title": {
         "text": "Outlier Detection"
        },
        "xaxis": {
         "title": {
          "text": "Time"
         }
        },
        "yaxis": {
         "title": {
          "text": "RNA copies / 100,000"
         }
        }
       }
      }
     },
     "metadata": {},
     "output_type": "display_data"
    }
   ],
   "source": [
    "fig = go.Figure()\n",
    "\n",
    "# Unique files\n",
    "files = df_outliers['filename'].unique()\n",
    "\n",
    "# Color palette\n",
    "colors = px.colors.qualitative.Set1\n",
    "\n",
    "# df_outliers_nat = df_outliers.copy() \n",
    "df_outliers_nat = df_outliers[df_outliers['filename'].str.contains('Nat')]\n",
    "\n",
    "# Plot each file separately\n",
    "for i, f in enumerate(files):\n",
    "    df_file = df_outliers_nat[df_outliers_nat['filename'] == f]\n",
    "\n",
    "    # Raw data line\n",
    "    fig.add_trace(go.Scatter(\n",
    "        x=df_file['time'], y=df_file['rna_copies'],\n",
    "        mode='lines',\n",
    "        name=f'{f} - RNA',\n",
    "        line=dict(color=colors[i % len(colors)]),\n",
    "        hoverinfo='name+y'\n",
    "    ))\n",
    "\n",
    "    # # Rolling median\n",
    "    # fig.add_trace(go.Scatter(\n",
    "    #     x=df_file['time'], y=df_file['median'],\n",
    "    #     mode='lines',\n",
    "    #     name=f'{f} - Median',\n",
    "    #     line=dict(color='gray', dash='dash'),\n",
    "    #     showlegend=False,\n",
    "    #     hoverinfo='name+y'\n",
    "    # ))\n",
    "\n",
    "    # # Outliers\n",
    "    # df_outliers_file = df_file[df_file['outlier']]\n",
    "    # fig.add_trace(go.Scatter(\n",
    "    #     x = df_outliers_file['time'], y = df_outliers_file['rna_copies'],\n",
    "    #     mode='markers',\n",
    "    #     name=f'{f} - Outlier',\n",
    "    #     marker=dict(color='red', size=8, symbol='x'),\n",
    "    #     hoverinfo='name+y'\n",
    "    # ))\n",
    "    df_outliers_file = df_file[df_file['outlier']]\n",
    "    if not df_outliers_file.empty:\n",
    "        fig.add_trace(go.Scatter(\n",
    "            x=df_outliers_file['time'],\n",
    "            y=df_outliers_file['rna_copies'],\n",
    "            mode='markers',\n",
    "            name=f'{f} - Outlier',\n",
    "            marker=dict(color='red', size=8, symbol='x'),\n",
    "            hoverinfo='name+y'\n",
    "        ))\n",
    "\n",
    "# Layout settings\n",
    "fig.update_layout(\n",
    "    title='Outlier Detection',\n",
    "    xaxis_title='Time',\n",
    "    yaxis_title='RNA copies / 100,000',\n",
    "    legend_title='Data Source',\n",
    "    height=600,\n",
    "    template='plotly_white'\n",
    ")\n",
    "\n",
    "fig.show()"
   ]
  }
 ],
 "metadata": {
  "kernelspec": {
   "display_name": "Python 3",
   "language": "python",
   "name": "python3"
  },
  "language_info": {
   "codemirror_mode": {
    "name": "ipython",
    "version": 3
   },
   "file_extension": ".py",
   "mimetype": "text/x-python",
   "name": "python",
   "nbconvert_exporter": "python",
   "pygments_lexer": "ipython3",
   "version": "3.13.2"
  }
 },
 "nbformat": 4,
 "nbformat_minor": 5
}
