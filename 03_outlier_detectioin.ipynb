{
 "cells": [
  {
   "cell_type": "markdown",
   "id": "c87a3988",
   "metadata": {},
   "source": [
    "# Outlier detection"
   ]
  },
  {
   "cell_type": "markdown",
   "id": "241d107a",
   "metadata": {},
   "source": [
    "In this notebook we do an outlier detection as described in https://www.frontiersin.org/journals/public-health/articles/10.3389/fpubh.2024.1497100/full"
   ]
  },
  {
   "cell_type": "markdown",
   "id": "1ba88c08",
   "metadata": {},
   "source": [
    "## Load Libs"
   ]
  },
  {
   "cell_type": "code",
   "execution_count": 1,
   "id": "f07d4746",
   "metadata": {},
   "outputs": [],
   "source": [
    "import pandas as pd\n",
    "import numpy as np\n",
    "import matplotlib.pyplot as plt\n",
    "import seaborn as sns\n",
    "from scipy.stats import median_abs_deviation\n",
    "import os\n",
    "from glob import glob\n",
    "\n",
    "import plotly.graph_objects as go\n",
    "import plotly.express as px"
   ]
  },
  {
   "cell_type": "markdown",
   "id": "934bb035",
   "metadata": {},
   "source": [
    "## Load data"
   ]
  },
  {
   "cell_type": "code",
   "execution_count": null,
   "id": "99ba9218",
   "metadata": {},
   "outputs": [
    {
     "data": {
      "application/vnd.microsoft.datawrangler.viewer.v0+json": {
       "columns": [
        {
         "name": "index",
         "rawType": "int64",
         "type": "integer"
        },
        {
         "name": "time",
         "rawType": "object",
         "type": "string"
        },
        {
         "name": "rna_copies",
         "rawType": "float64",
         "type": "float"
        },
        {
         "name": "label",
         "rawType": "object",
         "type": "string"
        },
        {
         "name": "filename",
         "rawType": "object",
         "type": "string"
        },
        {
         "name": "virus",
         "rawType": "object",
         "type": "string"
        }
       ],
       "ref": "737a5fc4-0e79-4c06-af29-93da3434ef62",
       "rows": [
        [
         "0",
         "2021-10-18",
         "0.0",
         "none",
         "Mov-FluA-BEG.csv",
         "FLUA"
        ],
        [
         "1",
         "2021-10-25",
         "0.0",
         "none",
         "Mov-FluA-BEG.csv",
         "FLUA"
        ],
        [
         "2",
         "2021-11-01",
         "0.0",
         "none",
         "Mov-FluA-BEG.csv",
         "FLUA"
        ],
        [
         "3",
         "2021-11-08",
         "0.0",
         "none",
         "Mov-FluA-BEG.csv",
         "FLUA"
        ],
        [
         "4",
         "2021-11-15",
         "0.0",
         "none",
         "Mov-FluA-BEG.csv",
         "FLUA"
        ]
       ],
       "shape": {
        "columns": 5,
        "rows": 5
       }
      },
      "text/html": [
       "<div>\n",
       "<style scoped>\n",
       "    .dataframe tbody tr th:only-of-type {\n",
       "        vertical-align: middle;\n",
       "    }\n",
       "\n",
       "    .dataframe tbody tr th {\n",
       "        vertical-align: top;\n",
       "    }\n",
       "\n",
       "    .dataframe thead th {\n",
       "        text-align: right;\n",
       "    }\n",
       "</style>\n",
       "<table border=\"1\" class=\"dataframe\">\n",
       "  <thead>\n",
       "    <tr style=\"text-align: right;\">\n",
       "      <th></th>\n",
       "      <th>time</th>\n",
       "      <th>rna_copies</th>\n",
       "      <th>label</th>\n",
       "      <th>filename</th>\n",
       "      <th>virus</th>\n",
       "    </tr>\n",
       "  </thead>\n",
       "  <tbody>\n",
       "    <tr>\n",
       "      <th>0</th>\n",
       "      <td>2021-10-18</td>\n",
       "      <td>0.0</td>\n",
       "      <td>none</td>\n",
       "      <td>Mov-FluA-BEG.csv</td>\n",
       "      <td>FLUA</td>\n",
       "    </tr>\n",
       "    <tr>\n",
       "      <th>1</th>\n",
       "      <td>2021-10-25</td>\n",
       "      <td>0.0</td>\n",
       "      <td>none</td>\n",
       "      <td>Mov-FluA-BEG.csv</td>\n",
       "      <td>FLUA</td>\n",
       "    </tr>\n",
       "    <tr>\n",
       "      <th>2</th>\n",
       "      <td>2021-11-01</td>\n",
       "      <td>0.0</td>\n",
       "      <td>none</td>\n",
       "      <td>Mov-FluA-BEG.csv</td>\n",
       "      <td>FLUA</td>\n",
       "    </tr>\n",
       "    <tr>\n",
       "      <th>3</th>\n",
       "      <td>2021-11-08</td>\n",
       "      <td>0.0</td>\n",
       "      <td>none</td>\n",
       "      <td>Mov-FluA-BEG.csv</td>\n",
       "      <td>FLUA</td>\n",
       "    </tr>\n",
       "    <tr>\n",
       "      <th>4</th>\n",
       "      <td>2021-11-15</td>\n",
       "      <td>0.0</td>\n",
       "      <td>none</td>\n",
       "      <td>Mov-FluA-BEG.csv</td>\n",
       "      <td>FLUA</td>\n",
       "    </tr>\n",
       "  </tbody>\n",
       "</table>\n",
       "</div>"
      ],
      "text/plain": [
       "         time  rna_copies label          filename virus\n",
       "0  2021-10-18         0.0  none  Mov-FluA-BEG.csv  FLUA\n",
       "1  2021-10-25         0.0  none  Mov-FluA-BEG.csv  FLUA\n",
       "2  2021-11-01         0.0  none  Mov-FluA-BEG.csv  FLUA\n",
       "3  2021-11-08         0.0  none  Mov-FluA-BEG.csv  FLUA\n",
       "4  2021-11-15         0.0  none  Mov-FluA-BEG.csv  FLUA"
      ]
     },
     "execution_count": 2,
     "metadata": {},
     "output_type": "execute_result"
    }
   ],
   "source": [
    "# Set the path where CSVs are located\n",
    "labeled_data_path = 'data_labelled' \n",
    "labled_csv_files = glob(os.path.join(labeled_data_path, 'Mov-SARS*.csv'))\n",
    "\n",
    "orig_data_path = 'data_preprocess'\n",
    "orig_csv_files = glob(os.path.join(orig_data_path, 'SARS*.csv'))\n",
    "\n",
    "# Load and concatenate all CSVs\n",
    "dfs = [pd.read_csv(f) for f in labled_csv_files]\n",
    "df = pd.concat(dfs, ignore_index=True)\n",
    "\n",
    "# dfs_orig = [pd.read_csv(f) for f in orig_csv_files]\n",
    "dfs_orig = []\n",
    "for file in orig_csv_files:\n",
    "    local_df = pd.read_csv(file)\n",
    "    filename = file.replace('data_preprocess\\\\', '')\n",
    "    local_df['filename'] = filename\n",
    "\n",
    "    dfs_orig.append(local_df)\n",
    "    \n",
    "df_orig = pd.concat(dfs_orig, ignore_index=True)\n",
    "\n",
    "# Preview\n",
    "df.head()\n"
   ]
  },
  {
   "cell_type": "code",
   "execution_count": 3,
   "id": "6a4ba633",
   "metadata": {},
   "outputs": [
    {
     "data": {
      "application/vnd.microsoft.datawrangler.viewer.v0+json": {
       "columns": [
        {
         "name": "index",
         "rawType": "int64",
         "type": "integer"
        },
        {
         "name": "time",
         "rawType": "object",
         "type": "string"
        },
        {
         "name": "rna_copies",
         "rawType": "float64",
         "type": "float"
        },
        {
         "name": "label",
         "rawType": "object",
         "type": "string"
        },
        {
         "name": "filename",
         "rawType": "object",
         "type": "string"
        }
       ],
       "ref": "f8a318f6-3dd0-494b-a97c-b18ff0fbb13a",
       "rows": [
        [
         "0",
         "2021-10-04",
         "0.0",
         "FluA",
         "FluA-BEG.csv"
        ],
        [
         "1",
         "2021-10-11",
         "0.0",
         "FluA",
         "FluA-BEG.csv"
        ],
        [
         "2",
         "2021-10-18",
         "0.0",
         "FluA",
         "FluA-BEG.csv"
        ],
        [
         "3",
         "2021-10-25",
         "0.0",
         "FluA",
         "FluA-BEG.csv"
        ],
        [
         "4",
         "2021-11-01",
         "0.0",
         "FluA",
         "FluA-BEG.csv"
        ]
       ],
       "shape": {
        "columns": 4,
        "rows": 5
       }
      },
      "text/html": [
       "<div>\n",
       "<style scoped>\n",
       "    .dataframe tbody tr th:only-of-type {\n",
       "        vertical-align: middle;\n",
       "    }\n",
       "\n",
       "    .dataframe tbody tr th {\n",
       "        vertical-align: top;\n",
       "    }\n",
       "\n",
       "    .dataframe thead th {\n",
       "        text-align: right;\n",
       "    }\n",
       "</style>\n",
       "<table border=\"1\" class=\"dataframe\">\n",
       "  <thead>\n",
       "    <tr style=\"text-align: right;\">\n",
       "      <th></th>\n",
       "      <th>time</th>\n",
       "      <th>rna_copies</th>\n",
       "      <th>label</th>\n",
       "      <th>filename</th>\n",
       "    </tr>\n",
       "  </thead>\n",
       "  <tbody>\n",
       "    <tr>\n",
       "      <th>0</th>\n",
       "      <td>2021-10-04</td>\n",
       "      <td>0.0</td>\n",
       "      <td>FluA</td>\n",
       "      <td>FluA-BEG.csv</td>\n",
       "    </tr>\n",
       "    <tr>\n",
       "      <th>1</th>\n",
       "      <td>2021-10-11</td>\n",
       "      <td>0.0</td>\n",
       "      <td>FluA</td>\n",
       "      <td>FluA-BEG.csv</td>\n",
       "    </tr>\n",
       "    <tr>\n",
       "      <th>2</th>\n",
       "      <td>2021-10-18</td>\n",
       "      <td>0.0</td>\n",
       "      <td>FluA</td>\n",
       "      <td>FluA-BEG.csv</td>\n",
       "    </tr>\n",
       "    <tr>\n",
       "      <th>3</th>\n",
       "      <td>2021-10-25</td>\n",
       "      <td>0.0</td>\n",
       "      <td>FluA</td>\n",
       "      <td>FluA-BEG.csv</td>\n",
       "    </tr>\n",
       "    <tr>\n",
       "      <th>4</th>\n",
       "      <td>2021-11-01</td>\n",
       "      <td>0.0</td>\n",
       "      <td>FluA</td>\n",
       "      <td>FluA-BEG.csv</td>\n",
       "    </tr>\n",
       "  </tbody>\n",
       "</table>\n",
       "</div>"
      ],
      "text/plain": [
       "         time  rna_copies label      filename\n",
       "0  2021-10-04         0.0  FluA  FluA-BEG.csv\n",
       "1  2021-10-11         0.0  FluA  FluA-BEG.csv\n",
       "2  2021-10-18         0.0  FluA  FluA-BEG.csv\n",
       "3  2021-10-25         0.0  FluA  FluA-BEG.csv\n",
       "4  2021-11-01         0.0  FluA  FluA-BEG.csv"
      ]
     },
     "execution_count": 3,
     "metadata": {},
     "output_type": "execute_result"
    }
   ],
   "source": [
    "df_orig.head()"
   ]
  },
  {
   "cell_type": "markdown",
   "id": "64591442",
   "metadata": {},
   "source": [
    "## Calculate Outliers Using the Interquartile Range (IQR) Method (from article)"
   ]
  },
  {
   "cell_type": "markdown",
   "id": "a27a0774",
   "metadata": {},
   "source": [
    "For each QCP:\n",
    "\n",
    "- Compute the first quartile (Q1), third quartile (Q3)\n",
    "- Calculate IQR = Q3 - Q1\n",
    "- Define outliers as points outside 1.5 * IQR"
   ]
  },
  {
   "cell_type": "code",
   "execution_count": 16,
   "id": "3256a320",
   "metadata": {},
   "outputs": [],
   "source": [
    "def detect_outliers_modified_z(df, value_col='value', window=5, threshold=3.5):\n",
    "    \"\"\"\n",
    "    Apply modified z-score method using rolling median and MAD.\n",
    "    Adds a column 'outlier' to the dataframe.\n",
    "    \"\"\"\n",
    "    df = df.copy()\n",
    "    df['median'] = df[value_col].rolling(window, center=True).median()\n",
    "    df['mad'] = df[value_col].rolling(window, center=True).apply(\n",
    "        lambda x: median_abs_deviation(x, scale='normal'), raw=False\n",
    "    )\n",
    "\n",
    "    df['mod_z'] = 0.6745 * (df[value_col] - df['median']) / df['mad']\n",
    "    df['outlier'] = df['mod_z'].abs() > threshold\n",
    "\n",
    "    return df\n",
    "\n",
    "def identify_outliers(column):\n",
    "    # Only use non-zero values for stats\n",
    "    non_zero = column[column != 0]\n",
    "    \n",
    "    if non_zero.empty:\n",
    "        # All values are 0; return all False\n",
    "        return pd.Series(False, index=column.index)\n",
    "\n",
    "    median = non_zero.median()\n",
    "    normalized = non_zero / median if median != 0 else non_zero.copy()\n",
    "    \n",
    "    q1 = normalized.quantile(0.2)\n",
    "    q3 = normalized.quantile(0.8)\n",
    "    iqr = q3 - q1\n",
    "    lower_bound = q1 - 1.5 * iqr\n",
    "    upper_bound = q3 + 1.5 * iqr\n",
    "    \n",
    "    outlier_mask_partial = (normalized < lower_bound) | (normalized > upper_bound)\n",
    "    \n",
    "    # Build full mask with same index as original column\n",
    "    outlier_mask = pd.Series(False, index=column.index)\n",
    "    outlier_mask.loc[outlier_mask_partial.index] = outlier_mask_partial\n",
    "    \n",
    "    return outlier_mask"
   ]
  },
  {
   "cell_type": "code",
   "execution_count": 17,
   "id": "1a548a4e",
   "metadata": {},
   "outputs": [],
   "source": [
    "df_outliers = df_orig.copy()\n",
    "df_outliers['outlier'] = False  \n",
    "\n",
    "# Group by 'filename' and apply the outlier function per group\n",
    "for f in df_outliers['filename'].unique():\n",
    "    mask = df_outliers['filename'] == f\n",
    "    outlier_mask = identify_outliers(df_outliers.loc[mask, 'rna_copies'])\n",
    "    df_outliers.loc[mask, 'outlier'] = outlier_mask"
   ]
  },
  {
   "cell_type": "code",
   "execution_count": 6,
   "id": "e8281320",
   "metadata": {},
   "outputs": [],
   "source": [
    "# # Apply the outlier detection\n",
    "# df_outliers = detect_outliers_modified_z(df_orig, value_col='rna_copies', window=5, threshold=3.5)\n",
    "\n",
    "# # Preview results\n",
    "# df_outliers[['time', 'rna_copies', 'median', 'mad', 'mod_z', 'outlier']].head(10)"
   ]
  },
  {
   "cell_type": "code",
   "execution_count": 11,
   "id": "5ce6cc83",
   "metadata": {},
   "outputs": [
    {
     "data": {
      "application/vnd.microsoft.datawrangler.viewer.v0+json": {
       "columns": [
        {
         "name": "index",
         "rawType": "int64",
         "type": "integer"
        },
        {
         "name": "time",
         "rawType": "object",
         "type": "string"
        },
        {
         "name": "rna_copies",
         "rawType": "float64",
         "type": "float"
        },
        {
         "name": "label",
         "rawType": "object",
         "type": "string"
        },
        {
         "name": "filename",
         "rawType": "object",
         "type": "string"
        },
        {
         "name": "outlier",
         "rawType": "bool",
         "type": "boolean"
        }
       ],
       "ref": "2b4e7429-c5b5-46eb-8055-166405f215f1",
       "rows": [
        [
         "0",
         "2021-10-04",
         "0.0",
         "FluA",
         "FluA-BEG.csv",
         "False"
        ],
        [
         "1",
         "2021-10-11",
         "0.0",
         "FluA",
         "FluA-BEG.csv",
         "False"
        ],
        [
         "2",
         "2021-10-18",
         "0.0",
         "FluA",
         "FluA-BEG.csv",
         "False"
        ],
        [
         "3",
         "2021-10-25",
         "0.0",
         "FluA",
         "FluA-BEG.csv",
         "False"
        ],
        [
         "4",
         "2021-11-01",
         "0.0",
         "FluA",
         "FluA-BEG.csv",
         "False"
        ]
       ],
       "shape": {
        "columns": 5,
        "rows": 5
       }
      },
      "text/html": [
       "<div>\n",
       "<style scoped>\n",
       "    .dataframe tbody tr th:only-of-type {\n",
       "        vertical-align: middle;\n",
       "    }\n",
       "\n",
       "    .dataframe tbody tr th {\n",
       "        vertical-align: top;\n",
       "    }\n",
       "\n",
       "    .dataframe thead th {\n",
       "        text-align: right;\n",
       "    }\n",
       "</style>\n",
       "<table border=\"1\" class=\"dataframe\">\n",
       "  <thead>\n",
       "    <tr style=\"text-align: right;\">\n",
       "      <th></th>\n",
       "      <th>time</th>\n",
       "      <th>rna_copies</th>\n",
       "      <th>label</th>\n",
       "      <th>filename</th>\n",
       "      <th>outlier</th>\n",
       "    </tr>\n",
       "  </thead>\n",
       "  <tbody>\n",
       "    <tr>\n",
       "      <th>0</th>\n",
       "      <td>2021-10-04</td>\n",
       "      <td>0.0</td>\n",
       "      <td>FluA</td>\n",
       "      <td>FluA-BEG.csv</td>\n",
       "      <td>False</td>\n",
       "    </tr>\n",
       "    <tr>\n",
       "      <th>1</th>\n",
       "      <td>2021-10-11</td>\n",
       "      <td>0.0</td>\n",
       "      <td>FluA</td>\n",
       "      <td>FluA-BEG.csv</td>\n",
       "      <td>False</td>\n",
       "    </tr>\n",
       "    <tr>\n",
       "      <th>2</th>\n",
       "      <td>2021-10-18</td>\n",
       "      <td>0.0</td>\n",
       "      <td>FluA</td>\n",
       "      <td>FluA-BEG.csv</td>\n",
       "      <td>False</td>\n",
       "    </tr>\n",
       "    <tr>\n",
       "      <th>3</th>\n",
       "      <td>2021-10-25</td>\n",
       "      <td>0.0</td>\n",
       "      <td>FluA</td>\n",
       "      <td>FluA-BEG.csv</td>\n",
       "      <td>False</td>\n",
       "    </tr>\n",
       "    <tr>\n",
       "      <th>4</th>\n",
       "      <td>2021-11-01</td>\n",
       "      <td>0.0</td>\n",
       "      <td>FluA</td>\n",
       "      <td>FluA-BEG.csv</td>\n",
       "      <td>False</td>\n",
       "    </tr>\n",
       "  </tbody>\n",
       "</table>\n",
       "</div>"
      ],
      "text/plain": [
       "         time  rna_copies label      filename  outlier\n",
       "0  2021-10-04         0.0  FluA  FluA-BEG.csv    False\n",
       "1  2021-10-11         0.0  FluA  FluA-BEG.csv    False\n",
       "2  2021-10-18         0.0  FluA  FluA-BEG.csv    False\n",
       "3  2021-10-25         0.0  FluA  FluA-BEG.csv    False\n",
       "4  2021-11-01         0.0  FluA  FluA-BEG.csv    False"
      ]
     },
     "execution_count": 11,
     "metadata": {},
     "output_type": "execute_result"
    }
   ],
   "source": [
    "df_outliers.head()"
   ]
  },
  {
   "cell_type": "markdown",
   "id": "7f08d8ed",
   "metadata": {},
   "source": [
    "## Plot"
   ]
  },
  {
   "cell_type": "code",
   "execution_count": 19,
   "id": "641a3bf0",
   "metadata": {},
   "outputs": [
    {
     "data": {
      "application/vnd.plotly.v1+json": {
       "config": {
        "plotlyServerURL": "https://plot.ly"
       },
       "data": [
        {
         "hoverinfo": "name+y",
         "line": {
          "color": "rgb(228,26,28)"
         },
         "mode": "lines",
         "name": "FluA-BEG.csv - RNA",
         "type": "scatter",
         "x": [
          "2021-10-04",
          "2021-10-11",
          "2021-10-18",
          "2021-10-25",
          "2021-11-01",
          "2021-11-08",
          "2021-11-15",
          "2021-11-22",
          "2021-11-29",
          "2021-12-06",
          "2021-12-13",
          "2021-12-20",
          "2022-01-10",
          "2022-01-17",
          "2022-01-24",
          "2022-01-31",
          "2022-02-07",
          "2022-02-14",
          "2022-02-21",
          "2022-02-28",
          "2022-03-07",
          "2022-03-14",
          "2022-03-21",
          "2022-03-28",
          "2022-04-04",
          "2022-04-11",
          "2022-04-18",
          "2022-04-25",
          "2022-05-02",
          "2022-05-09",
          "2022-05-16",
          "2022-05-23",
          "2022-05-30",
          "2022-06-06",
          "2022-06-13",
          "2022-06-20",
          "2022-06-27",
          "2022-07-04",
          "2022-07-11",
          "2022-07-18",
          "2022-07-25",
          "2022-08-01",
          "2022-08-08",
          "2022-08-15",
          "2022-08-22",
          "2022-08-29",
          "2022-09-05",
          "2022-09-12",
          "2022-09-19",
          "2022-09-26",
          "2022-10-03",
          "2022-10-10",
          "2022-10-17",
          "2022-10-24",
          "2022-10-31",
          "2022-11-07",
          "2022-11-14",
          "2022-11-21",
          "2022-11-28",
          "2022-12-05",
          "2022-12-12",
          "2022-12-19",
          "2023-01-02",
          "2023-01-09",
          "2023-01-16",
          "2023-01-23",
          "2023-01-30",
          "2023-02-06",
          "2023-02-13",
          "2023-02-20",
          "2023-02-27",
          "2023-03-06",
          "2023-03-13",
          "2023-03-20",
          "2023-03-27",
          "2023-04-03",
          "2023-04-10",
          "2023-04-17",
          "2023-04-24",
          "2023-05-01",
          "2023-05-08",
          "2023-05-15",
          "2023-05-22",
          "2023-05-29",
          "2023-06-05",
          "2023-06-12",
          "2023-06-19",
          "2023-06-26",
          "2023-07-03",
          "2023-07-10",
          "2023-07-17",
          "2023-07-24",
          "2023-07-31",
          "2023-08-07",
          "2023-08-14",
          "2023-08-21",
          "2023-09-04",
          "2023-09-11",
          "2023-09-18",
          "2023-09-25",
          "2023-10-02",
          "2023-10-09",
          "2023-10-16",
          "2023-10-23",
          "2023-10-30",
          "2023-11-06",
          "2023-11-13",
          "2023-11-20",
          "2023-11-27",
          "2023-12-04",
          "2023-12-11",
          "2023-12-18",
          "2024-01-01",
          "2024-01-08",
          "2024-01-15",
          "2024-01-22",
          "2024-01-29",
          "2024-02-05",
          "2024-02-12",
          "2024-02-19",
          "2024-02-26",
          "2024-03-04",
          "2024-03-11",
          "2024-03-18",
          "2024-03-25",
          "2024-04-08",
          "2024-04-15",
          "2024-04-22",
          "2024-04-29",
          "2024-05-06",
          "2024-05-13",
          "2024-05-20",
          "2024-05-27",
          "2024-06-03",
          "2024-06-10",
          "2024-06-17",
          "2024-06-24",
          "2024-07-01",
          "2024-07-08",
          "2024-07-15",
          "2024-07-22",
          "2024-07-29",
          "2024-08-05",
          "2024-08-12",
          "2024-08-19",
          "2024-08-26",
          "2024-09-02",
          "2024-09-09",
          "2024-09-16",
          "2024-09-23",
          "2024-09-30",
          "2024-10-07",
          "2024-10-14",
          "2024-10-21",
          "2024-10-28",
          "2024-11-04",
          "2024-11-11",
          "2024-11-18",
          "2024-11-25",
          "2024-12-02",
          "2024-12-09",
          "2024-12-16",
          "2025-01-13",
          "2025-01-20",
          "2025-01-27",
          "2025-02-03",
          "2025-02-10",
          "2025-02-17",
          "2025-02-24",
          "2025-03-03",
          "2025-03-10",
          "2025-03-17",
          "2025-03-24",
          "2025-03-31",
          "2025-04-07",
          "2025-04-14",
          "2025-04-21",
          "2025-04-28",
          "2025-05-05",
          "2025-05-12",
          "2025-05-19",
          "2025-05-26",
          "2025-06-02",
          "2025-06-09",
          "2025-06-16",
          "2025-06-23"
         ],
         "y": {
          "bdata": "AAAAAAAAAAAAAAAAAAAAAAAAAAAAAAAAAAAAAAAAAAAAAAAAAAAAAAAAAAAAAAAAAAAAAAAAAAAAAAAAAAAAAAAAAAAAAAAAAAAAAAAAAAAAAAAAAAAAAAAAAAAAAAAAAAAAAAAAAAAAAAAAAAAAAAAAAAAAAAAAAAAAAAAAAAAAAAAAAAAAAAAAAAAAAAAA9sisKCxyWUIAAAAAAAAAAAAAAAAAAAAAAAAAAAAAAAAAAAAAAAAAAAAAAAAAAAAAHbLy3qkFXELsMbPeiCxVQgAAAAAAAAAAAAAAAAAAAACHRkLy7ABKQuN1fPts0UJCAAAAAAAAAAAAAAAAAAAAAAAAAAAAAAAAAAAAAAAAAAAAAAAAAAAAAAAAAAAAAAAAAAAAAAAAAAAAAAAAAAAAAAAAAAAAAAAAAAAAAAAAAAAAAAAAAAAAAAAAAAAAAAAAAAAAAAAAAAAAAAAAAAAAAAAAAAAAAAAAAAAAAAAAAAAAAAAAAAAAAAAAAAAAAAAAAAAAAAAAAAAAAAAAAAAAAAAAAAAAAAAAMcjE9bClSEIAAAAAAAAAAAAAAAAAAAAAAAAAAAAAAAAAAAAAAAAAAAAAAAAAAAAAAAAAAAAAAABYOXYGd19GQtk+jDAU60dCAAAAAAAAAAAKp2z/zwKKQlTn3CKMwmdCAAAAAAAAAAAAAAAAAAAAAAAAAAAAAAAAAAAAAAAAAAAAAAAAAAAAAGIQEa6PvUtCAAAAAAAAAABGru4000FTQgAAAAAAAAAAAAAAAAAAAAAAAAAAAAAAAAAAAAAAAAAAAAAAAAAAAAAAAAAAAAAAAAAAAAAAAAAAAAAAAAAAAAAAAAAAAAAAAAAAAAAAAAAAAAAAAAAAAAAAAAAAAAAAAAAAAAAAAAAAAAAAAAAAAAAAAAAAAAAAAAAAAAAAAAAAAAAAAAAAAAAAAAAAAAAAAAAAAAAAAAAAAAAAAAAAAAAAAAAAAAAAAAAAAAAAAAAAAAAAAAAAAAAAAAAAAAAAAAAAAAAAAAAAAAAAAAAAAAAAAAAAAAAAAAAAAAAAAAAAAAAAAAAAAAAAAAAAAAAAAAAAAAAAAAAAAAAAAAAAAAAAAAAAAAAAAAAAAAAAAAAAAAAAAAAAAAAAAAAAAAAAAAAAAAAAAAAAAAAAAAAAAAAAAAAAAAAAAAAAAAAAAAAAAAAAAAAAAAAAAAAAAAAAAMPdxt5yYWFCbdcroCRQW0IAAAAAAAAAAM08DdfWNHVCAAAAAAAAAADyIl0NUl5lQgAAAAAAAAAAAAAAAAAAAAAAAAAAAAAAAAAAAAAAAAAAe7T+j+DUTEIAAAAAAAAAAAAAAAAAAAAAAAAAAAAAAADuXLiBmnYnQgAAAAAAAAAAAAAAAAAAAAAAAAAAAAAAALMbNYL0qSxCAAAAAAAAAAAAAAAAAAAAAAAAAAAAAAAAAAAAAAAAAAAAAAAAAAAAAAAAAAAAAAAAAAAAAAAAAAAAAAAAAAAAAAisr6DN0S5CAAAAAAAAAABgNmn4P/8jQgAAAAAAAAAAAAAAAAAAAAAAAAAAAAAAAAAAAAAAAAAAAAAAAAAAAAAAAAAAAAAAAAAAAAAAAAAAclncq4JUIkIAAAAAAAAAAAAAAAAAAAAAih+yvhfcLEIAAAAAAAAAACJd0DJ+mjRCip+gGepeGUI/BbKFhNFbQm/yULS1Q1pC6VaqS74fR0Kmlx5jCk1kQqR812+h7IJCPZj2SIVBiUIAggZZWP+AQnEtYdg9PohCPcb7EAhvdEKPAnOEFG5vQnuo+BvS0XpC1aBw6R4MZkIGkUlAGt5fQi8thIoXVkNCK78duO8FVEKoZsUwCLxRQrqqvOob0zZCgzAtuF00TUKUJ+LFAh8wQuzx5E9qpEFCAAAAAAAAAAAAAAAAAAAAAAAAAAAAAAAAAAAAAAAAAACvBdkX//ksQgAAAAAAAAAAAAAAAAAAAAAAAAAAAAAAAAAAAAAAAAAA",
          "dtype": "f8"
         }
        },
        {
         "hoverinfo": "name+y",
         "marker": {
          "color": "red",
          "size": 8,
          "symbol": "x"
         },
         "mode": "markers",
         "name": "FluA-BEG.csv - Outlier",
         "type": "scatter",
         "x": [
          "2022-12-19",
          "2024-12-16",
          "2025-01-13",
          "2025-01-20",
          "2025-01-27"
         ],
         "y": {
          "bdata": "Cqds/88CikKkfNdvoeyCQj2Y9kiFQYlCAIIGWVj/gEJxLWHYPT6IQg==",
          "dtype": "f8"
         }
        },
        {
         "hoverinfo": "name+y",
         "line": {
          "color": "rgb(55,126,184)"
         },
         "mode": "lines",
         "name": "FluA-BET.csv - RNA",
         "type": "scatter",
         "x": [
          "2021-10-04",
          "2021-10-11",
          "2021-10-18",
          "2021-10-25",
          "2021-11-01",
          "2021-11-08",
          "2021-11-15",
          "2021-11-22",
          "2021-11-29",
          "2021-12-06",
          "2021-12-13",
          "2021-12-20",
          "2022-01-10",
          "2022-01-17",
          "2022-01-24",
          "2022-01-31",
          "2022-02-07",
          "2022-02-14",
          "2022-02-21",
          "2022-02-28",
          "2022-03-07",
          "2022-03-14",
          "2022-03-21",
          "2022-03-28",
          "2022-04-04",
          "2022-04-11",
          "2022-04-18",
          "2022-04-25",
          "2022-05-02",
          "2022-05-09",
          "2022-05-16",
          "2022-05-23",
          "2022-05-30",
          "2022-06-06",
          "2022-06-13",
          "2022-06-27",
          "2022-07-04",
          "2022-07-11",
          "2022-07-18",
          "2022-07-25",
          "2022-08-01",
          "2022-08-08",
          "2022-08-15",
          "2022-08-22",
          "2022-08-29",
          "2022-09-05",
          "2022-09-12",
          "2022-09-19",
          "2022-09-26",
          "2022-10-03",
          "2022-10-10",
          "2022-10-17",
          "2022-10-24",
          "2022-10-31",
          "2022-11-07",
          "2022-11-14",
          "2022-11-21",
          "2022-11-28",
          "2022-12-05",
          "2022-12-12",
          "2022-12-19",
          "2023-01-02",
          "2023-01-09",
          "2023-01-16",
          "2023-01-23",
          "2023-01-30",
          "2023-02-06",
          "2023-02-13",
          "2023-02-20",
          "2023-02-27",
          "2023-03-06",
          "2023-03-13",
          "2023-03-20",
          "2023-03-27",
          "2023-04-03",
          "2023-04-10",
          "2023-04-17",
          "2023-04-24",
          "2023-05-01",
          "2023-05-08",
          "2023-05-15",
          "2023-05-22",
          "2023-05-29",
          "2023-06-05",
          "2023-06-12",
          "2023-06-26",
          "2023-07-03",
          "2023-07-10",
          "2023-07-17",
          "2023-07-24",
          "2023-07-31",
          "2023-08-07",
          "2023-08-14",
          "2023-08-21",
          "2023-08-28",
          "2023-09-04",
          "2023-09-11",
          "2023-09-18",
          "2023-09-25",
          "2023-10-02",
          "2023-10-09",
          "2023-10-16",
          "2023-10-23",
          "2023-10-30",
          "2023-11-06",
          "2023-11-13",
          "2023-11-20",
          "2023-11-27",
          "2023-12-04",
          "2023-12-11",
          "2023-12-18",
          "2024-01-01",
          "2024-01-08",
          "2024-01-15",
          "2024-01-22",
          "2024-01-29",
          "2024-02-05",
          "2024-02-12",
          "2024-02-19",
          "2024-02-26",
          "2024-03-04",
          "2024-03-11",
          "2024-03-18",
          "2024-03-25",
          "2024-04-01",
          "2024-04-08",
          "2024-04-15",
          "2024-04-22",
          "2024-04-29",
          "2024-05-06",
          "2024-05-13",
          "2024-05-20",
          "2024-05-27",
          "2024-06-03",
          "2024-06-10",
          "2024-06-24",
          "2024-07-01",
          "2024-07-08",
          "2024-07-15",
          "2024-07-22",
          "2024-07-29",
          "2024-08-12",
          "2024-08-19",
          "2024-08-26",
          "2024-09-02",
          "2024-09-16",
          "2024-09-23",
          "2024-09-30",
          "2024-10-07",
          "2024-10-14",
          "2024-10-21",
          "2024-10-28",
          "2024-11-04",
          "2024-11-11",
          "2024-11-18",
          "2024-11-25",
          "2024-12-02",
          "2024-12-09",
          "2024-12-16",
          "2025-01-13",
          "2025-01-20",
          "2025-01-27",
          "2025-02-03",
          "2025-02-10",
          "2025-02-17",
          "2025-02-24",
          "2025-03-03",
          "2025-03-10",
          "2025-03-17",
          "2025-03-24",
          "2025-03-31",
          "2025-04-07",
          "2025-04-14",
          "2025-04-21",
          "2025-04-28",
          "2025-05-05",
          "2025-05-12",
          "2025-05-19",
          "2025-05-26",
          "2025-06-02",
          "2025-06-09",
          "2025-06-16",
          "2025-06-23"
         ],
         "y": {
          "bdata": "AAAAAAAAAAAAAAAAAAAAAAAAAAAAAAAAAAAAAAAAAAAAAAAAAAAAAAAAAAAAAAAAAAAAAAAAAAAAAAAAAAAAAAAAAAAAAAAAAAAAAAAAAACc7NWVwfpSQgAAAAAAAAAAAAAAAAAAAAAAAAAAAAAAAAAAAAAAAAAAAAAAAAAAAAAAAAAAAAAAAAAAAAAAAAAAAAAAAAAAAAAAAAAAAAAAAC1yHH019VJCADD44jr6bkL0XZFx80VmQgAAAAAAAAAA/uxNnH+cXkIAAAAAAAAAAAAAAAAAAAAAAAAAAAAAAADDZURXwf1FQgAAAAAAAAAAAAAAAAAAAAAAAAAAAAAAAAAAAAAAAAAAAAAAAAAAAAAAAAAAAAAAAAAAAAAAAAAAAAAAAAAAAAAAAAAAAAAAAAAAAAAAAAAAAAAAAAAAAAAAAAAAAAAAAAAAAAAAAAAAAAAAAAAAAAAAAAAAAAAAAAAAAAAAAAAAAAAAAAAAAAAAAAAAAAAAAAAAAAAAAAAAAAAAAAAAAAAAAAAAAAAAAAAAAAAAAAAAAAAAAAAAAAAAAAAAAAAAAAAAAAAAAAAAAAAAAAAAAAAAAAAAAAAAAAAAAAAAAAAAAAAAAAAAAAAAAAAAAAAAAAAAAAAAAAAArufrGn1RgkIAAAAAAAAAAAAAAAAAAAAAAAAAAAAAAAAAAAAAAAAAAAAAAAAAAAAAAAAAAAAAAAAAAAAAAAAAAAAAAAAAAAAAAAAAAAAAAAAAAAAAAAAAAAAAAAAAAAAAAAAAAAAAAAAAAAAAAAAAAAAAAAAAAAAAAAAAAAAAAAAAAAAAAAAAAAAAAAAAAAAAAAAAAAAAAAAAAAAAAAAAAAAAAAAAAAAAAAAAAAAAAAAAAAAAAAAAAAAAAAAAAAAAAAAAAAAAAAAAAAAAAAAAAAAAAAAAAAAAAAAAAAAAAAAAAAAAAAAAAAAAAAAAAAAAAAAAAAAAAAAAAAAAAAAAAAAAAAAAAAAAAAAAAAAAAAAAAAAAAAAAAAAAAAAAAAAAAAAAAAAAAAAAAAAAAAAAAEzPNTnBlVRCAAAAAAAAAAAAAAAAAAAAAAAAAAAAAAAAAAAAAAAAAAAAAAAAAAAAAAAAAAAAAAAAAAAAAAAAAAAAAAAAAAAAAAAAAAAAAAAAAAAAAAAAAAAAAAAAAAAAAAAAAAAAAAAAAAAAAAAAAAAAAAAAAAAAALqhXXsNbV5C5Vgz9owyYEIz113rSn9xQlhhDgGNd2VCAAAAAAAAAAAAAAAAAAAAAAAAAAAAAAAAAAAAAAAAAAAAAAAAAAAAAAAAAAAAAAAAAAAAAAAAAAAAAAAAAAAAAAAAAAAAAAAAAAAAAAAAAAAAAAAAAAAAAAAAAAAAAAAAAAAAAAAAAAAAAAAAAAAAAAAAAAAAAAAAAAAAAAAAAAAAAAAAAAAAAAAAAAAAAAAAru/uCwVScUIAAAAAAAAAAAAAAAAAAAAAAAAAAAAAAAAAAAAAAAAAAAAAAAAAAAAAAAAAAAAAAAAAAAAAAAAAAAAAAAAAAAAASCFfYwEIQEJAZABVZzAhQgAAAAAAAAAAhvpJfLSeIUIAAAAAAAAAAAAAAAAAAAAAAAAAAAAAAAAAAAAAAAAAANMNYGASTD1CKsk++9YrIEIAAAAAAAAAAAAAAAAAAAAAYAUBpeaKQULnb6bUj6JsQilY9xWvvXRC7NXUb6Z1eEKa6R7E7+h7Qj3SK+Jfc4VC1/Pcu6addkJckynzHOd5QuEyHpokYW9CVGsmopM3ZUJ9XzN+WrlEQhJji+BZGVpCmO5STUc0TUL2SMZe7dQlQlwgFbHW1TNCpmqrOVH/JUJFh7CXJFIlQpGOeO2oeDVCAAAAAAAAAAAAAAAAAAAAAAAAAAAAAAAAAAAAAAAAAAAAAAAAAAAAAAAAAAAAAAAAAAAAAAAAAAAAAAAAAAAAAAAAAAAAAAAA",
          "dtype": "f8"
         }
        },
        {
         "hoverinfo": "name+y",
         "marker": {
          "color": "red",
          "size": 8,
          "symbol": "x"
         },
         "mode": "markers",
         "name": "FluA-BET.csv - Outlier",
         "type": "scatter",
         "x": [
          "2025-01-27"
         ],
         "y": {
          "bdata": "PdIr4l9zhUI=",
          "dtype": "f8"
         }
        },
        {
         "hoverinfo": "name+y",
         "line": {
          "color": "rgb(77,175,74)"
         },
         "mode": "lines",
         "name": "FluA-BLE.csv - RNA",
         "type": "scatter",
         "x": [
          "2024-09-30",
          "2024-10-07",
          "2024-10-14",
          "2024-10-21",
          "2024-10-28",
          "2024-11-04",
          "2024-11-11",
          "2024-11-18",
          "2024-11-25",
          "2024-12-02",
          "2024-12-09",
          "2024-12-16",
          "2025-01-13",
          "2025-01-20",
          "2025-01-27",
          "2025-02-03",
          "2025-02-10",
          "2025-02-17",
          "2025-02-24",
          "2025-03-03",
          "2025-03-10",
          "2025-03-17",
          "2025-03-24",
          "2025-03-31",
          "2025-04-07",
          "2025-04-14",
          "2025-04-21",
          "2025-04-28",
          "2025-05-05",
          "2025-05-12",
          "2025-05-19",
          "2025-05-26",
          "2025-06-02",
          "2025-06-09",
          "2025-06-16",
          "2025-06-23"
         ],
         "y": {
          "bdata": "AAAAAAAAAAAAAAAAAAAAAAAAAAAAAAAAAAAAAAAAAAAAAAAAAAAAAAAAAAAAAAAAAAAAAAAAAAAAAAAAAAAAAAAAAAAAAAAAUnj3RtHWOkKLDDCzhuM+QnsYL3aYgWhCLSrCIbnpXkLsubqyk8xiQvbFTpBclZVCYqRAJaeEYkIpDP6cWq9tQsPt6OrQpXxCrh8loKxwbUKaUZQXmnZUQj0qwsaLD0RCN4mri8YOTEKLTH6WVoRFQo03a3PWrT5CPpmtEvwVNEIAAAAAAAAAAD9Xi4CCoyxCAAAAAAAAAAAAAAAAAAAAAAAAAAAAAAAAAAAAAAAAAAAAAAAAAAAAAAAAAAAAAAAAAAAAAAAAAAAAAAAAAAAAAAAAAAAAAAAA",
          "dtype": "f8"
         }
        },
        {
         "hoverinfo": "name+y",
         "marker": {
          "color": "red",
          "size": 8,
          "symbol": "x"
         },
         "mode": "markers",
         "name": "FluA-BLE.csv - Outlier",
         "type": "scatter",
         "x": [
          "2025-01-27"
         ],
         "y": {
          "bdata": "9sVOkFyVlUI=",
          "dtype": "f8"
         }
        },
        {
         "hoverinfo": "name+y",
         "line": {
          "color": "rgb(152,78,163)"
         },
         "mode": "lines",
         "name": "FluA-BOE.csv - RNA",
         "type": "scatter",
         "x": [
          "2025-03-10"
         ],
         "y": {
          "bdata": "Lx4kQMphb0I=",
          "dtype": "f8"
         }
        },
        {
         "hoverinfo": "name+y",
         "line": {
          "color": "rgb(255,127,0)"
         },
         "mode": "lines",
         "name": "FluA-ECH.csv - RNA",
         "type": "scatter",
         "x": [
          "2024-09-30",
          "2024-10-07",
          "2024-10-14",
          "2024-10-21",
          "2024-10-28",
          "2024-11-04",
          "2024-11-11",
          "2024-11-18",
          "2024-11-25",
          "2024-12-02",
          "2024-12-09",
          "2024-12-16",
          "2025-01-13",
          "2025-01-20",
          "2025-01-27",
          "2025-02-03",
          "2025-02-10",
          "2025-02-17",
          "2025-02-24",
          "2025-03-03",
          "2025-03-10",
          "2025-03-17",
          "2025-03-24",
          "2025-03-31",
          "2025-04-07",
          "2025-04-14",
          "2025-04-21",
          "2025-04-28",
          "2025-05-05",
          "2025-05-12",
          "2025-05-19",
          "2025-05-26",
          "2025-06-02",
          "2025-06-09",
          "2025-06-16",
          "2025-06-23"
         ],
         "y": {
          "bdata": "AAAAAAAAAAAAAAAAAAAAAAAAAAAAAAAAAAAAAAAAAAAAAAAAAAAAAJKruoTdYjNCAAAAAAAAAAAAAAAAAAAAAI1X76OD/T5CAAAAAAAAAACYlrj0xj1VQkbiers/imJCbReqth78TEI9cj36VH9zQhQEmRMBQJFCOazr0xcMY0I9vkULtlZwQq47xRbNdXtCAFzPAPdBYkK4kuz/oalyQiOLCJsd/lRCCgeXIjCfTkI5hPc6PchCQgAAAAAAAAAAiSECLv6tN0IAAAAAAAAAADkUWs8QYTxCAAAAAAAAAAAAAAAAAAAAAAAAAAAAAAAAAAAAAAAAAAAAAAAAAAAAAAAAAAAAAAAAAAAAAAAAAAAAAAAAAAAAADZL8XB8aTZC",
          "dtype": "f8"
         }
        },
        {
         "hoverinfo": "name+y",
         "marker": {
          "color": "red",
          "size": 8,
          "symbol": "x"
         },
         "mode": "markers",
         "name": "FluA-ECH.csv - Outlier",
         "type": "scatter",
         "x": [
          "2025-01-27"
         ],
         "y": {
          "bdata": "FASZEwFAkUI=",
          "dtype": "f8"
         }
        },
        {
         "hoverinfo": "name+y",
         "line": {
          "color": "rgb(255,255,51)"
         },
         "mode": "lines",
         "name": "FluA-GRE.csv - RNA",
         "type": "scatter",
         "x": [
          "2025-03-10"
         ],
         "y": {
          "bdata": "Lx4kQMphb0I=",
          "dtype": "f8"
         }
        },
        {
         "hoverinfo": "name+y",
         "line": {
          "color": "rgb(166,86,40)"
         },
         "mode": "lines",
         "name": "FluA-HES.csv - RNA",
         "type": "scatter",
         "x": [
          "2025-03-10"
         ],
         "y": {
          "bdata": "Lx4kQMphb0I=",
          "dtype": "f8"
         }
        },
        {
         "hoverinfo": "name+y",
         "line": {
          "color": "rgb(247,129,191)"
         },
         "mode": "lines",
         "name": "FluA-MER.csv - RNA",
         "type": "scatter",
         "x": [
          "2024-09-30",
          "2024-10-07",
          "2024-10-14",
          "2024-10-21",
          "2024-10-28",
          "2024-11-04",
          "2024-11-11",
          "2024-11-18",
          "2024-11-25",
          "2024-12-02",
          "2024-12-09",
          "2024-12-16",
          "2025-01-13",
          "2025-01-20",
          "2025-01-27",
          "2025-02-03",
          "2025-02-10",
          "2025-02-17",
          "2025-02-24",
          "2025-03-03",
          "2025-03-10",
          "2025-03-17",
          "2025-03-24",
          "2025-04-07",
          "2025-04-14",
          "2025-04-21",
          "2025-04-28",
          "2025-05-05",
          "2025-05-12",
          "2025-05-19",
          "2025-05-26",
          "2025-06-02",
          "2025-06-09",
          "2025-06-16",
          "2025-06-23"
         ],
         "y": {
          "bdata": "AAAAAAAAAAAAAAAAAAAAAAAAAAAAAAAAAAAAAAAAAABmV0NQd4krQgAAAAAAAAAAAAAAAAAAAAAAAAAAAAAAAAAAAAAAAAAAbGnP7YTVJ0JvgqlFX29DQgrPBmAfrIFCBIJSv/BJY0KksIoQl0BuQqTQYVI9BXVCuI7dEY3kbkIK7+Zh2XF1Quw5wX7WDnBC4cpbYbAAckIAQMexrFpuQo+agmrBMlBCiVnK9kyzVkInyfh7aHJRQsWAUw3OmDpCXG+JDNMsPkIAAAAAAAAAAAAAAAAAAAAAAAAAAAAAAAAAAAAAAAAAAAAAAAAAAAAAAAAAAAAAAAAAAAAAAAAAAAAAAAAAAAAAAAAAAAAAAAAAAAAAAAAAAA==",
          "dtype": "f8"
         }
        },
        {
         "hoverinfo": "name+y",
         "line": {
          "color": "rgb(153,153,153)"
         },
         "mode": "lines",
         "name": "FluA-Nat.csv - RNA",
         "type": "scatter",
         "x": [
          "2021-10-04",
          "2021-10-11",
          "2021-10-18",
          "2021-10-25",
          "2021-11-01",
          "2021-11-08",
          "2021-11-15",
          "2021-11-22",
          "2021-11-29",
          "2021-12-06",
          "2021-12-13",
          "2021-12-20",
          "2022-01-03",
          "2022-01-10",
          "2022-01-17",
          "2022-01-24",
          "2022-01-31",
          "2022-02-07",
          "2022-02-14",
          "2022-02-21",
          "2022-02-28",
          "2022-03-07",
          "2022-03-14",
          "2022-03-21",
          "2022-03-28",
          "2022-04-04",
          "2022-04-11",
          "2022-04-18",
          "2022-04-25",
          "2022-05-02",
          "2022-05-09",
          "2022-05-16",
          "2022-05-23",
          "2022-05-30",
          "2022-06-06",
          "2022-06-13",
          "2022-06-20",
          "2022-06-27",
          "2022-07-04",
          "2022-07-11",
          "2022-07-18",
          "2022-07-25",
          "2022-08-01",
          "2022-08-08",
          "2022-08-15",
          "2022-08-22",
          "2022-08-29",
          "2022-09-05",
          "2022-09-12",
          "2022-09-19",
          "2022-09-26",
          "2022-10-03",
          "2022-10-10",
          "2022-10-17",
          "2022-10-24",
          "2022-10-31",
          "2022-11-07",
          "2022-11-14",
          "2022-11-21",
          "2022-11-28",
          "2022-12-05",
          "2022-12-12",
          "2022-12-19",
          "2023-01-02",
          "2023-01-09",
          "2023-01-16",
          "2023-01-23",
          "2023-01-30",
          "2023-02-06",
          "2023-02-13",
          "2023-02-20",
          "2023-02-27",
          "2023-03-06",
          "2023-03-13",
          "2023-03-20",
          "2023-03-27",
          "2023-04-03",
          "2023-04-10",
          "2023-04-17",
          "2023-04-24",
          "2023-05-01",
          "2023-05-08",
          "2023-05-15",
          "2023-05-22",
          "2023-05-29",
          "2023-06-05",
          "2023-06-12",
          "2023-06-19",
          "2023-06-26",
          "2023-07-03",
          "2023-07-10",
          "2023-07-17",
          "2023-07-24",
          "2023-07-31",
          "2023-08-07",
          "2023-08-14",
          "2023-08-21",
          "2023-08-28",
          "2023-09-04",
          "2023-09-11",
          "2023-09-18",
          "2023-09-25",
          "2023-10-02",
          "2023-10-09",
          "2023-10-16",
          "2023-10-23",
          "2023-10-30",
          "2023-11-06",
          "2023-11-13",
          "2023-11-20",
          "2023-11-27",
          "2023-12-04",
          "2023-12-11",
          "2023-12-18",
          "2024-01-01",
          "2024-01-08",
          "2024-01-15",
          "2024-01-22",
          "2024-01-29",
          "2024-02-05",
          "2024-02-12",
          "2024-02-19",
          "2024-02-26",
          "2024-03-04",
          "2024-03-11",
          "2024-03-18",
          "2024-03-25",
          "2024-04-01",
          "2024-04-08",
          "2024-04-15",
          "2024-04-22",
          "2024-04-29",
          "2024-05-06",
          "2024-05-13",
          "2024-05-20",
          "2024-05-27",
          "2024-06-03",
          "2024-06-10",
          "2024-06-17",
          "2024-06-24",
          "2024-07-01",
          "2024-07-08",
          "2024-07-15",
          "2024-07-22",
          "2024-07-29",
          "2024-08-05",
          "2024-08-12",
          "2024-08-19",
          "2024-08-26",
          "2024-09-02",
          "2024-09-09",
          "2024-09-16",
          "2024-09-23",
          "2024-09-30",
          "2024-10-07",
          "2024-10-14",
          "2024-10-21",
          "2024-10-28",
          "2024-11-04",
          "2024-11-11",
          "2024-11-18",
          "2024-11-25",
          "2024-12-02",
          "2024-12-09",
          "2024-12-16",
          "2025-01-13",
          "2025-01-20",
          "2025-01-27",
          "2025-02-03",
          "2025-02-10",
          "2025-02-17",
          "2025-02-24",
          "2025-03-03",
          "2025-03-10",
          "2025-03-17",
          "2025-03-24",
          "2025-03-31",
          "2025-04-07",
          "2025-04-14",
          "2025-04-21",
          "2025-04-28",
          "2025-05-05",
          "2025-05-12",
          "2025-05-19",
          "2025-05-26",
          "2025-06-02",
          "2025-06-09",
          "2025-06-16",
          "2025-06-23"
         ],
         "y": {
          "bdata": "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",
          "dtype": "f8"
         }
        },
        {
         "hoverinfo": "name+y",
         "marker": {
          "color": "red",
          "size": 8,
          "symbol": "x"
         },
         "mode": "markers",
         "name": "FluA-Nat.csv - Outlier",
         "type": "scatter",
         "x": [
          "2022-12-19",
          "2024-12-16",
          "2025-01-13",
          "2025-01-20",
          "2025-01-27",
          "2025-02-03",
          "2025-02-10",
          "2025-02-17"
         ],
         "y": {
          "bdata": "4eJh4pu8gEJIgfDyO7d2QgC0ztb7LHpChXdpbIuAfULsmYJSZM6GQtevmYrq/3BCj0bF5ynsdUIf3dPBXnl2Qg==",
          "dtype": "f8"
         }
        },
        {
         "hoverinfo": "name+y",
         "line": {
          "color": "rgb(228,26,28)"
         },
         "mode": "lines",
         "name": "FluA-PET.csv - RNA",
         "type": "scatter",
         "x": [
          "2021-10-04",
          "2021-10-11",
          "2021-10-18",
          "2021-10-25",
          "2021-11-01",
          "2021-11-08",
          "2021-11-15",
          "2021-11-22",
          "2021-11-29",
          "2021-12-06",
          "2021-12-13",
          "2022-01-10",
          "2022-01-17",
          "2022-01-24",
          "2022-01-31",
          "2022-02-07",
          "2022-02-14",
          "2022-02-21",
          "2022-02-28",
          "2022-03-07",
          "2022-03-14",
          "2022-03-21",
          "2022-03-28",
          "2022-04-04",
          "2022-04-11",
          "2022-04-18",
          "2022-04-25",
          "2022-05-02",
          "2022-05-09",
          "2022-05-16",
          "2022-05-23",
          "2022-05-30",
          "2022-06-06",
          "2022-06-13",
          "2022-06-20",
          "2022-06-27",
          "2022-07-04",
          "2022-07-11",
          "2022-07-18",
          "2022-07-25",
          "2022-08-01",
          "2022-08-08",
          "2022-08-15",
          "2022-08-22",
          "2022-08-29",
          "2022-09-05",
          "2022-09-12",
          "2022-09-19",
          "2022-09-26",
          "2022-10-03",
          "2022-10-10",
          "2022-10-17",
          "2022-10-24",
          "2022-10-31",
          "2022-11-07",
          "2022-11-14",
          "2022-11-21",
          "2022-11-28",
          "2022-12-05",
          "2022-12-12",
          "2022-12-19",
          "2023-01-02",
          "2023-01-09",
          "2023-01-16",
          "2023-01-23",
          "2023-01-30",
          "2023-02-06",
          "2023-02-13",
          "2023-02-20",
          "2023-02-27",
          "2023-03-06",
          "2023-03-13",
          "2023-03-20",
          "2023-03-27",
          "2023-04-03",
          "2023-04-10",
          "2023-04-17",
          "2023-04-24",
          "2023-05-01",
          "2023-05-08",
          "2023-05-15",
          "2023-05-22",
          "2023-05-29",
          "2023-06-05",
          "2023-06-12",
          "2023-06-19",
          "2023-06-26",
          "2023-07-03",
          "2023-07-10",
          "2023-07-17",
          "2023-07-24",
          "2023-07-31",
          "2023-08-07",
          "2023-08-14",
          "2023-08-21",
          "2023-08-28",
          "2023-09-04",
          "2023-09-11",
          "2023-09-18",
          "2023-09-25",
          "2023-10-02",
          "2023-10-09",
          "2023-10-16",
          "2023-10-23",
          "2023-10-30",
          "2023-11-06",
          "2023-11-13",
          "2023-11-20",
          "2023-11-27",
          "2023-12-04",
          "2023-12-11",
          "2023-12-18",
          "2024-01-01",
          "2024-01-08",
          "2024-01-15",
          "2024-01-22",
          "2024-01-29",
          "2024-02-05",
          "2024-02-12",
          "2024-02-19",
          "2024-02-26",
          "2024-03-04",
          "2024-03-11",
          "2024-03-18",
          "2024-03-25",
          "2024-04-01",
          "2024-04-08",
          "2024-04-15",
          "2024-04-29",
          "2024-05-06",
          "2024-05-13",
          "2024-05-20",
          "2024-05-27",
          "2024-06-03",
          "2024-06-10",
          "2024-06-17",
          "2024-06-24",
          "2024-07-01",
          "2024-07-08",
          "2024-07-15",
          "2024-07-22",
          "2024-07-29",
          "2024-08-05",
          "2024-08-12",
          "2024-08-19",
          "2024-08-26",
          "2024-09-02",
          "2024-09-09",
          "2024-09-16",
          "2024-09-23",
          "2024-09-30",
          "2024-10-07",
          "2024-10-14",
          "2024-10-21",
          "2024-10-28",
          "2024-11-04",
          "2024-11-11",
          "2024-11-18",
          "2024-11-25",
          "2024-12-02",
          "2024-12-09",
          "2024-12-16",
          "2025-01-13",
          "2025-01-20",
          "2025-01-27",
          "2025-02-03",
          "2025-02-10",
          "2025-02-17",
          "2025-02-24",
          "2025-03-03",
          "2025-03-10",
          "2025-03-17",
          "2025-03-24",
          "2025-03-31",
          "2025-04-07",
          "2025-04-14",
          "2025-04-21",
          "2025-04-28",
          "2025-05-05",
          "2025-05-12",
          "2025-05-19",
          "2025-05-26",
          "2025-06-02",
          "2025-06-09",
          "2025-06-16",
          "2025-06-23"
         ],
         "y": {
          "bdata": "AAAAAAAAAAAAAAAAAAAAAAAAAAAAAAAAAAAAAAAAAAAAAAAAAAAAAAAAAAAAAAAAAAAAAAAAAAAAAAAAAAAAAAAAAAAAAAAAAAAAAAAAAADd5FpimRhQQgAAAAAAAAAAAAAAAAAAAAAAAAAAAAAAAOVAp33szEtCAAAAAAAAAAAAAAAAAAAAAAAAAAAAAAAAAAAAAAAAAAAAAAAAAAAAAKA+Dck7U2JCuI6iSybiVEICy8QaBm1EQo9qIHFytHZCAAAAAAAAAAAAAAAAAAAAAAAAAAAAAAAAAAAAAAAAAAAAAAAAAAAAAAAAAAAAAAAAAAAAAAAAAAAAAAAAAAAAAAAAAAAAAAAAAAAAAAAAAAAAAAAAAAAAAAAAAAAAAAAAAAAAAAAAAAAAAAAAAAAAAAAAAAAAAAAAAAAAAAAAAAAAAAAAAAAAAAAAAAAAAAAAAAAAAAAAAAAAAAAAAAAAAAAAAAAAAAAAAAAAAAAAAAAAAAAAAAAAAAAAAAAAAAAAAAAAAAAAAAAAAAAAAAAAAAAAAAAAAAAAAAAAAAAAAAAAAAAAAAAAAAAAAAAAAAAAAAAAAAAAAAAAAAAAAAAAAAAAAAAAAAAAAAAAAAAAAAAAAAAAAAAAAPQZZvrMYWBCavTzVsRfWEIzw4oL70xaQgAAAAAAAAAAAAAAAAAAAAAAAAAAAAAAAAAAAAAAAAAAAAAAAAAAAAAAAAAAAAAAAAAAAAAAAAAAh8YgJhL5S0IAAAAAAAAAAAAAAAAAAAAAAAAAAAAAAAAAAAAAAAAAAAAAAAAAAAAAAAAAAAAAAAAAAAAAAAAAAAAAAAAAAAAAAAAAAAAAAAAAAAAAAAAAAAAAAAAAAAAAAAAAAAAAAAAAAAAAAAAAAAAAAAAAAAAAAAAAAAAAAAAAAAAAAAAAAAAAAAAAAAAAAAAAAAAAAAAAAAAAAAAAAAAAAAAAAAAAAAAAAAAAAAAAAAAAAAAAAAAAAAAAAAAAAAAAAAAAAAAAAAAAAAAAAAAAAAAAAAAAAAAAAAAAAAAAAAAAAAAAAAAAAAAAAAAAAAAAAAAAAAAAAAAAAAAAAAAAAAAAAAAAAAAAAAAAAAAAAAAAAAAAAAAAAAAAAAAAAAAAAAAAAAAAAAAAAAAAAAAAAAAAAAAAAAAAAAAAAAAAAAAAAAAAAAAAAAAAAAAAAAAAAAAAAAAAAAAAAAAAAIu0gd5YXWFCAAAAAAAAAACPhsK4RThwQgAAAAAAAAAAAAAAAAAAAAAAAAAAAAAAAAAAAAAAAAAAAAAAAAAAAAAAAAAAAAAAAAAAAAAAAAAAAAAAAAAAAAAAAAAAAAAAAAAAAAAAAAAAAAAAAAAAAAAAAAAAAAAAACO77xDQsjtCAAAAAAAAAAAAAAAAAAAAAAAAAAAAAAAAAAAAAAAAAAAAAAAAAAAAAAAAAAAAAAAAAAAAAAAAAAAAAAAAAAAAAAAAAAAAAAAAAAAAAAAAAAAAAAAAAAAAAAAAAAAAAAAAAAAAAAAAAAAAAAAAAAAAAAAAAAAAAAAAAAAAAAAAAAAAAAAAAAAAAAAAAAAAAAAAAAAAAAAAAAAAAAAAAAAAAAAAAAAAAAAAAAAAAAAAAAAAAAAAAAAAAAAAAAAAAAAAAAAAAAAAAAAAAAAAAAAAAAAAAAAAAAAAAAAAAAAAAAAAAAAAAAAAAAAAAAAAAAAAKZzl5ABYKUI/LaQI2cJXQsdLwS22xGdCpGhVBEwwbkJ7Luw4Iy2KQkhNtj5yQINCZpaDpfRRb0JmsvpPDBqDQs2kC5wa7X1CcUGe3e3DcEKHpiOpnYZQQvo+RWtk5kVCVt4mtm1IU0KsvA0MZ+RGQi0Tyst7TzVC8mFdfFPkMkJikBZOcL49QoVLCW/LslBCAAAAAAAAAAAAAAAAAAAAAAAAAAAAAAAAAAAAAAAAAAAAAAAAAAAAAHnY0hYFvSZCAAAAAAAAAAAAAAAAAAAAAAAAAAAAAAAA",
          "dtype": "f8"
         }
        },
        {
         "hoverinfo": "name+y",
         "marker": {
          "color": "red",
          "size": 8,
          "symbol": "x"
         },
         "mode": "markers",
         "name": "FluA-PET.csv - Outlier",
         "type": "scatter",
         "x": [
          "2025-01-20",
          "2025-01-27",
          "2025-02-10"
         ],
         "y": {
          "bdata": "ey7sOCMtikJITbY+ckCDQmay+k8MGoNC",
          "dtype": "f8"
         }
        },
        {
         "hoverinfo": "name+y",
         "line": {
          "color": "rgb(55,126,184)"
         },
         "mode": "lines",
         "name": "FluA-SCH.csv - RNA",
         "type": "scatter",
         "x": [
          "2021-10-04",
          "2021-10-11",
          "2021-10-18",
          "2021-10-25",
          "2021-11-01",
          "2021-11-08",
          "2021-11-15",
          "2021-11-22",
          "2021-11-29",
          "2021-12-06",
          "2021-12-13",
          "2021-12-20",
          "2022-01-03",
          "2022-01-10",
          "2022-01-17",
          "2022-01-24",
          "2022-01-31",
          "2022-02-07",
          "2022-02-14",
          "2022-02-21",
          "2022-02-28",
          "2022-03-07",
          "2022-03-14",
          "2022-03-21",
          "2022-03-28",
          "2022-04-04",
          "2022-04-11",
          "2022-04-18",
          "2022-04-25",
          "2022-05-02",
          "2022-05-09",
          "2022-05-16",
          "2022-05-23",
          "2022-05-30",
          "2022-06-06",
          "2022-06-13",
          "2022-06-20",
          "2022-06-27",
          "2022-07-04",
          "2022-07-11",
          "2022-07-18",
          "2022-07-25",
          "2022-08-01",
          "2022-08-08",
          "2022-08-15",
          "2022-08-22",
          "2022-08-29",
          "2022-09-05",
          "2022-09-12",
          "2022-09-19",
          "2022-09-26",
          "2022-10-03",
          "2022-10-10",
          "2022-10-17",
          "2022-10-24",
          "2022-10-31",
          "2022-11-07",
          "2022-11-14",
          "2022-11-21",
          "2022-11-28",
          "2022-12-05",
          "2022-12-12",
          "2022-12-19",
          "2023-01-02",
          "2023-01-09",
          "2023-01-16",
          "2023-01-23",
          "2023-01-30",
          "2023-02-06",
          "2023-02-13",
          "2023-02-20",
          "2023-02-27",
          "2023-03-06",
          "2023-03-13",
          "2023-03-20",
          "2023-03-27",
          "2023-04-03",
          "2023-04-10",
          "2023-04-17",
          "2023-04-24",
          "2023-05-01",
          "2023-05-08",
          "2023-05-15",
          "2023-05-22",
          "2023-05-29",
          "2023-06-05",
          "2023-06-12",
          "2023-06-19",
          "2023-06-26",
          "2023-07-03",
          "2023-07-10",
          "2023-07-17",
          "2023-07-24",
          "2023-07-31",
          "2023-08-07",
          "2023-08-14",
          "2023-08-21",
          "2023-08-28",
          "2023-09-04",
          "2023-09-11",
          "2023-09-18",
          "2023-09-25",
          "2023-10-02",
          "2023-10-09",
          "2023-10-16",
          "2023-10-23",
          "2023-10-30",
          "2023-11-06",
          "2023-11-13",
          "2023-11-20",
          "2023-11-27",
          "2023-12-04",
          "2023-12-11",
          "2023-12-18",
          "2024-01-01",
          "2024-01-08",
          "2024-01-15",
          "2024-01-22",
          "2024-01-29",
          "2024-02-05",
          "2024-02-12",
          "2024-02-19",
          "2024-02-26",
          "2024-03-04",
          "2024-03-11",
          "2024-03-18",
          "2024-03-25",
          "2024-04-01",
          "2024-04-08",
          "2024-04-15",
          "2024-04-22",
          "2024-04-29",
          "2024-05-06",
          "2024-05-13",
          "2024-05-20",
          "2024-05-27",
          "2024-06-03",
          "2024-06-10",
          "2024-06-17",
          "2024-06-24",
          "2024-07-01",
          "2024-07-08",
          "2024-07-15",
          "2024-07-22",
          "2024-07-29",
          "2024-08-05",
          "2024-08-12",
          "2024-08-19",
          "2024-08-26",
          "2024-09-02",
          "2024-09-09",
          "2024-09-16",
          "2024-09-23",
          "2024-09-30",
          "2024-10-07",
          "2024-10-14",
          "2024-10-21",
          "2024-10-28",
          "2024-11-04",
          "2024-11-11",
          "2024-11-18",
          "2024-11-25",
          "2024-12-02",
          "2024-12-09",
          "2024-12-16",
          "2025-01-13",
          "2025-01-20",
          "2025-01-27",
          "2025-02-03",
          "2025-02-10",
          "2025-02-17",
          "2025-02-24",
          "2025-03-03",
          "2025-03-10",
          "2025-03-17",
          "2025-03-24",
          "2025-03-31",
          "2025-04-07",
          "2025-04-14",
          "2025-04-21",
          "2025-04-28",
          "2025-05-05",
          "2025-05-12",
          "2025-05-19",
          "2025-05-26",
          "2025-06-02",
          "2025-06-09",
          "2025-06-16",
          "2025-06-23"
         ],
         "y": {
          "bdata": "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",
          "dtype": "f8"
         }
        },
        {
         "hoverinfo": "name+y",
         "marker": {
          "color": "red",
          "size": 8,
          "symbol": "x"
         },
         "mode": "markers",
         "name": "FluA-SCH.csv - Outlier",
         "type": "scatter",
         "x": [
          "2025-01-27"
         ],
         "y": {
          "bdata": "SLnDtuzPhUI=",
          "dtype": "f8"
         }
        },
        {
         "hoverinfo": "name+y",
         "line": {
          "color": "rgb(77,175,74)"
         },
         "mode": "lines",
         "name": "FluA-UEB.csv - RNA",
         "type": "scatter",
         "x": [
          "2024-09-23",
          "2024-09-30",
          "2024-10-07",
          "2024-10-14",
          "2024-10-21",
          "2024-10-28",
          "2024-11-04",
          "2024-11-11",
          "2024-11-18",
          "2024-11-25",
          "2024-12-02",
          "2024-12-09",
          "2024-12-16",
          "2025-01-13",
          "2025-01-20",
          "2025-01-27",
          "2025-02-03",
          "2025-02-10",
          "2025-02-17",
          "2025-02-24",
          "2025-03-03",
          "2025-03-10",
          "2025-03-17",
          "2025-03-24",
          "2025-03-31",
          "2025-04-07",
          "2025-04-14",
          "2025-04-21",
          "2025-04-28",
          "2025-05-05",
          "2025-05-12",
          "2025-05-19",
          "2025-05-26",
          "2025-06-02",
          "2025-06-09",
          "2025-06-16",
          "2025-06-23"
         ],
         "y": {
          "bdata": "AAAAAAAAAAAAAAAAAAAAAAAAAAAAAAAAAAAAAAAAAAAAAAAAAAAAAAAAAAAAAAAAJ9HAjeD+TEIAAAAAAAAAAAAAAAAAAAAAAAAAAAAAAAA1jrGUcIROQhK7LaP0B11Cw/nm/LjNdELD0XL9BI9xQnvYUNMuLXBCH12gV57/eELDQSVcR5BwQs0cqKCuPmpCKWQ+BKUud0K0KGAp82JbQu4kCkGA9lJC29m9/xwqTkIAAESaRpRLQgAAAAAAAAAAdl9euGedMELM3oARcsIyQgAAAAAAAAAA8EeZNVdgPUIAAAAAAAAAAAAAAAAAAAAAAAAAAAAAAAAAAAAAAAAAAAAAAAAAAAAAAAAAAAAAAAAAAAAAAAAAAAAAAAAAAAAABSXQNvRZLkI=",
          "dtype": "f8"
         }
        },
        {
         "hoverinfo": "name+y",
         "line": {
          "color": "rgb(152,78,163)"
         },
         "mode": "lines",
         "name": "FluA-VIE.csv - RNA",
         "type": "scatter",
         "x": [
          "2025-03-10"
         ],
         "y": {
          "bdata": "Lx4kQMphb0I=",
          "dtype": "f8"
         }
        },
        {
         "hoverinfo": "name+y",
         "line": {
          "color": "rgb(255,127,0)"
         },
         "mode": "lines",
         "name": "FluA-WIL.csv - RNA",
         "type": "scatter",
         "x": [
          "2025-03-10"
         ],
         "y": {
          "bdata": "Lx4kQMphb0I=",
          "dtype": "f8"
         }
        }
       ],
       "layout": {
        "height": 600,
        "legend": {
         "title": {
          "text": "Data Source"
         }
        },
        "template": {
         "data": {
          "bar": [
           {
            "error_x": {
             "color": "#2a3f5f"
            },
            "error_y": {
             "color": "#2a3f5f"
            },
            "marker": {
             "line": {
              "color": "white",
              "width": 0.5
             },
             "pattern": {
              "fillmode": "overlay",
              "size": 10,
              "solidity": 0.2
             }
            },
            "type": "bar"
           }
          ],
          "barpolar": [
           {
            "marker": {
             "line": {
              "color": "white",
              "width": 0.5
             },
             "pattern": {
              "fillmode": "overlay",
              "size": 10,
              "solidity": 0.2
             }
            },
            "type": "barpolar"
           }
          ],
          "carpet": [
           {
            "aaxis": {
             "endlinecolor": "#2a3f5f",
             "gridcolor": "#C8D4E3",
             "linecolor": "#C8D4E3",
             "minorgridcolor": "#C8D4E3",
             "startlinecolor": "#2a3f5f"
            },
            "baxis": {
             "endlinecolor": "#2a3f5f",
             "gridcolor": "#C8D4E3",
             "linecolor": "#C8D4E3",
             "minorgridcolor": "#C8D4E3",
             "startlinecolor": "#2a3f5f"
            },
            "type": "carpet"
           }
          ],
          "choropleth": [
           {
            "colorbar": {
             "outlinewidth": 0,
             "ticks": ""
            },
            "type": "choropleth"
           }
          ],
          "contour": [
           {
            "colorbar": {
             "outlinewidth": 0,
             "ticks": ""
            },
            "colorscale": [
             [
              0,
              "#0d0887"
             ],
             [
              0.1111111111111111,
              "#46039f"
             ],
             [
              0.2222222222222222,
              "#7201a8"
             ],
             [
              0.3333333333333333,
              "#9c179e"
             ],
             [
              0.4444444444444444,
              "#bd3786"
             ],
             [
              0.5555555555555556,
              "#d8576b"
             ],
             [
              0.6666666666666666,
              "#ed7953"
             ],
             [
              0.7777777777777778,
              "#fb9f3a"
             ],
             [
              0.8888888888888888,
              "#fdca26"
             ],
             [
              1,
              "#f0f921"
             ]
            ],
            "type": "contour"
           }
          ],
          "contourcarpet": [
           {
            "colorbar": {
             "outlinewidth": 0,
             "ticks": ""
            },
            "type": "contourcarpet"
           }
          ],
          "heatmap": [
           {
            "colorbar": {
             "outlinewidth": 0,
             "ticks": ""
            },
            "colorscale": [
             [
              0,
              "#0d0887"
             ],
             [
              0.1111111111111111,
              "#46039f"
             ],
             [
              0.2222222222222222,
              "#7201a8"
             ],
             [
              0.3333333333333333,
              "#9c179e"
             ],
             [
              0.4444444444444444,
              "#bd3786"
             ],
             [
              0.5555555555555556,
              "#d8576b"
             ],
             [
              0.6666666666666666,
              "#ed7953"
             ],
             [
              0.7777777777777778,
              "#fb9f3a"
             ],
             [
              0.8888888888888888,
              "#fdca26"
             ],
             [
              1,
              "#f0f921"
             ]
            ],
            "type": "heatmap"
           }
          ],
          "histogram": [
           {
            "marker": {
             "pattern": {
              "fillmode": "overlay",
              "size": 10,
              "solidity": 0.2
             }
            },
            "type": "histogram"
           }
          ],
          "histogram2d": [
           {
            "colorbar": {
             "outlinewidth": 0,
             "ticks": ""
            },
            "colorscale": [
             [
              0,
              "#0d0887"
             ],
             [
              0.1111111111111111,
              "#46039f"
             ],
             [
              0.2222222222222222,
              "#7201a8"
             ],
             [
              0.3333333333333333,
              "#9c179e"
             ],
             [
              0.4444444444444444,
              "#bd3786"
             ],
             [
              0.5555555555555556,
              "#d8576b"
             ],
             [
              0.6666666666666666,
              "#ed7953"
             ],
             [
              0.7777777777777778,
              "#fb9f3a"
             ],
             [
              0.8888888888888888,
              "#fdca26"
             ],
             [
              1,
              "#f0f921"
             ]
            ],
            "type": "histogram2d"
           }
          ],
          "histogram2dcontour": [
           {
            "colorbar": {
             "outlinewidth": 0,
             "ticks": ""
            },
            "colorscale": [
             [
              0,
              "#0d0887"
             ],
             [
              0.1111111111111111,
              "#46039f"
             ],
             [
              0.2222222222222222,
              "#7201a8"
             ],
             [
              0.3333333333333333,
              "#9c179e"
             ],
             [
              0.4444444444444444,
              "#bd3786"
             ],
             [
              0.5555555555555556,
              "#d8576b"
             ],
             [
              0.6666666666666666,
              "#ed7953"
             ],
             [
              0.7777777777777778,
              "#fb9f3a"
             ],
             [
              0.8888888888888888,
              "#fdca26"
             ],
             [
              1,
              "#f0f921"
             ]
            ],
            "type": "histogram2dcontour"
           }
          ],
          "mesh3d": [
           {
            "colorbar": {
             "outlinewidth": 0,
             "ticks": ""
            },
            "type": "mesh3d"
           }
          ],
          "parcoords": [
           {
            "line": {
             "colorbar": {
              "outlinewidth": 0,
              "ticks": ""
             }
            },
            "type": "parcoords"
           }
          ],
          "pie": [
           {
            "automargin": true,
            "type": "pie"
           }
          ],
          "scatter": [
           {
            "fillpattern": {
             "fillmode": "overlay",
             "size": 10,
             "solidity": 0.2
            },
            "type": "scatter"
           }
          ],
          "scatter3d": [
           {
            "line": {
             "colorbar": {
              "outlinewidth": 0,
              "ticks": ""
             }
            },
            "marker": {
             "colorbar": {
              "outlinewidth": 0,
              "ticks": ""
             }
            },
            "type": "scatter3d"
           }
          ],
          "scattercarpet": [
           {
            "marker": {
             "colorbar": {
              "outlinewidth": 0,
              "ticks": ""
             }
            },
            "type": "scattercarpet"
           }
          ],
          "scattergeo": [
           {
            "marker": {
             "colorbar": {
              "outlinewidth": 0,
              "ticks": ""
             }
            },
            "type": "scattergeo"
           }
          ],
          "scattergl": [
           {
            "marker": {
             "colorbar": {
              "outlinewidth": 0,
              "ticks": ""
             }
            },
            "type": "scattergl"
           }
          ],
          "scattermap": [
           {
            "marker": {
             "colorbar": {
              "outlinewidth": 0,
              "ticks": ""
             }
            },
            "type": "scattermap"
           }
          ],
          "scattermapbox": [
           {
            "marker": {
             "colorbar": {
              "outlinewidth": 0,
              "ticks": ""
             }
            },
            "type": "scattermapbox"
           }
          ],
          "scatterpolar": [
           {
            "marker": {
             "colorbar": {
              "outlinewidth": 0,
              "ticks": ""
             }
            },
            "type": "scatterpolar"
           }
          ],
          "scatterpolargl": [
           {
            "marker": {
             "colorbar": {
              "outlinewidth": 0,
              "ticks": ""
             }
            },
            "type": "scatterpolargl"
           }
          ],
          "scatterternary": [
           {
            "marker": {
             "colorbar": {
              "outlinewidth": 0,
              "ticks": ""
             }
            },
            "type": "scatterternary"
           }
          ],
          "surface": [
           {
            "colorbar": {
             "outlinewidth": 0,
             "ticks": ""
            },
            "colorscale": [
             [
              0,
              "#0d0887"
             ],
             [
              0.1111111111111111,
              "#46039f"
             ],
             [
              0.2222222222222222,
              "#7201a8"
             ],
             [
              0.3333333333333333,
              "#9c179e"
             ],
             [
              0.4444444444444444,
              "#bd3786"
             ],
             [
              0.5555555555555556,
              "#d8576b"
             ],
             [
              0.6666666666666666,
              "#ed7953"
             ],
             [
              0.7777777777777778,
              "#fb9f3a"
             ],
             [
              0.8888888888888888,
              "#fdca26"
             ],
             [
              1,
              "#f0f921"
             ]
            ],
            "type": "surface"
           }
          ],
          "table": [
           {
            "cells": {
             "fill": {
              "color": "#EBF0F8"
             },
             "line": {
              "color": "white"
             }
            },
            "header": {
             "fill": {
              "color": "#C8D4E3"
             },
             "line": {
              "color": "white"
             }
            },
            "type": "table"
           }
          ]
         },
         "layout": {
          "annotationdefaults": {
           "arrowcolor": "#2a3f5f",
           "arrowhead": 0,
           "arrowwidth": 1
          },
          "autotypenumbers": "strict",
          "coloraxis": {
           "colorbar": {
            "outlinewidth": 0,
            "ticks": ""
           }
          },
          "colorscale": {
           "diverging": [
            [
             0,
             "#8e0152"
            ],
            [
             0.1,
             "#c51b7d"
            ],
            [
             0.2,
             "#de77ae"
            ],
            [
             0.3,
             "#f1b6da"
            ],
            [
             0.4,
             "#fde0ef"
            ],
            [
             0.5,
             "#f7f7f7"
            ],
            [
             0.6,
             "#e6f5d0"
            ],
            [
             0.7,
             "#b8e186"
            ],
            [
             0.8,
             "#7fbc41"
            ],
            [
             0.9,
             "#4d9221"
            ],
            [
             1,
             "#276419"
            ]
           ],
           "sequential": [
            [
             0,
             "#0d0887"
            ],
            [
             0.1111111111111111,
             "#46039f"
            ],
            [
             0.2222222222222222,
             "#7201a8"
            ],
            [
             0.3333333333333333,
             "#9c179e"
            ],
            [
             0.4444444444444444,
             "#bd3786"
            ],
            [
             0.5555555555555556,
             "#d8576b"
            ],
            [
             0.6666666666666666,
             "#ed7953"
            ],
            [
             0.7777777777777778,
             "#fb9f3a"
            ],
            [
             0.8888888888888888,
             "#fdca26"
            ],
            [
             1,
             "#f0f921"
            ]
           ],
           "sequentialminus": [
            [
             0,
             "#0d0887"
            ],
            [
             0.1111111111111111,
             "#46039f"
            ],
            [
             0.2222222222222222,
             "#7201a8"
            ],
            [
             0.3333333333333333,
             "#9c179e"
            ],
            [
             0.4444444444444444,
             "#bd3786"
            ],
            [
             0.5555555555555556,
             "#d8576b"
            ],
            [
             0.6666666666666666,
             "#ed7953"
            ],
            [
             0.7777777777777778,
             "#fb9f3a"
            ],
            [
             0.8888888888888888,
             "#fdca26"
            ],
            [
             1,
             "#f0f921"
            ]
           ]
          },
          "colorway": [
           "#636efa",
           "#EF553B",
           "#00cc96",
           "#ab63fa",
           "#FFA15A",
           "#19d3f3",
           "#FF6692",
           "#B6E880",
           "#FF97FF",
           "#FECB52"
          ],
          "font": {
           "color": "#2a3f5f"
          },
          "geo": {
           "bgcolor": "white",
           "lakecolor": "white",
           "landcolor": "white",
           "showlakes": true,
           "showland": true,
           "subunitcolor": "#C8D4E3"
          },
          "hoverlabel": {
           "align": "left"
          },
          "hovermode": "closest",
          "mapbox": {
           "style": "light"
          },
          "paper_bgcolor": "white",
          "plot_bgcolor": "white",
          "polar": {
           "angularaxis": {
            "gridcolor": "#EBF0F8",
            "linecolor": "#EBF0F8",
            "ticks": ""
           },
           "bgcolor": "white",
           "radialaxis": {
            "gridcolor": "#EBF0F8",
            "linecolor": "#EBF0F8",
            "ticks": ""
           }
          },
          "scene": {
           "xaxis": {
            "backgroundcolor": "white",
            "gridcolor": "#DFE8F3",
            "gridwidth": 2,
            "linecolor": "#EBF0F8",
            "showbackground": true,
            "ticks": "",
            "zerolinecolor": "#EBF0F8"
           },
           "yaxis": {
            "backgroundcolor": "white",
            "gridcolor": "#DFE8F3",
            "gridwidth": 2,
            "linecolor": "#EBF0F8",
            "showbackground": true,
            "ticks": "",
            "zerolinecolor": "#EBF0F8"
           },
           "zaxis": {
            "backgroundcolor": "white",
            "gridcolor": "#DFE8F3",
            "gridwidth": 2,
            "linecolor": "#EBF0F8",
            "showbackground": true,
            "ticks": "",
            "zerolinecolor": "#EBF0F8"
           }
          },
          "shapedefaults": {
           "line": {
            "color": "#2a3f5f"
           }
          },
          "ternary": {
           "aaxis": {
            "gridcolor": "#DFE8F3",
            "linecolor": "#A2B1C6",
            "ticks": ""
           },
           "baxis": {
            "gridcolor": "#DFE8F3",
            "linecolor": "#A2B1C6",
            "ticks": ""
           },
           "bgcolor": "white",
           "caxis": {
            "gridcolor": "#DFE8F3",
            "linecolor": "#A2B1C6",
            "ticks": ""
           }
          },
          "title": {
           "x": 0.05
          },
          "xaxis": {
           "automargin": true,
           "gridcolor": "#EBF0F8",
           "linecolor": "#EBF0F8",
           "ticks": "",
           "title": {
            "standoff": 15
           },
           "zerolinecolor": "#EBF0F8",
           "zerolinewidth": 2
          },
          "yaxis": {
           "automargin": true,
           "gridcolor": "#EBF0F8",
           "linecolor": "#EBF0F8",
           "ticks": "",
           "title": {
            "standoff": 15
           },
           "zerolinecolor": "#EBF0F8",
           "zerolinewidth": 2
          }
         }
        },
        "title": {
         "text": "Outlier Detection"
        },
        "xaxis": {
         "title": {
          "text": "Time"
         }
        },
        "yaxis": {
         "title": {
          "text": "RNA copies / 100,000"
         }
        }
       }
      }
     },
     "metadata": {},
     "output_type": "display_data"
    }
   ],
   "source": [
    "fig = go.Figure()\n",
    "\n",
    "# Unique files\n",
    "files = df_outliers['filename'].unique()\n",
    "\n",
    "# Color palette\n",
    "colors = px.colors.qualitative.Set1\n",
    "\n",
    "df_outliers_nat = df_outliers.copy() \n",
    "# df_outliers_nat = df_outliers[df_outliers['filename'].str.contains('Nat')]\n",
    "\n",
    "# Plot each file separately\n",
    "for i, f in enumerate(files):\n",
    "    df_file = df_outliers_nat[df_outliers_nat['filename'] == f]\n",
    "\n",
    "    # Raw data line\n",
    "    fig.add_trace(go.Scatter(\n",
    "        x=df_file['time'], y=df_file['rna_copies'],\n",
    "        mode='lines',\n",
    "        name=f'{f} - RNA',\n",
    "        line=dict(color=colors[i % len(colors)]),\n",
    "        hoverinfo='name+y'\n",
    "    ))\n",
    "\n",
    "    # # Rolling median\n",
    "    # fig.add_trace(go.Scatter(\n",
    "    #     x=df_file['time'], y=df_file['median'],\n",
    "    #     mode='lines',\n",
    "    #     name=f'{f} - Median',\n",
    "    #     line=dict(color='gray', dash='dash'),\n",
    "    #     showlegend=False,\n",
    "    #     hoverinfo='name+y'\n",
    "    # ))\n",
    "\n",
    "    # # Outliers\n",
    "    # df_outliers_file = df_file[df_file['outlier']]\n",
    "    # fig.add_trace(go.Scatter(\n",
    "    #     x = df_outliers_file['time'], y = df_outliers_file['rna_copies'],\n",
    "    #     mode='markers',\n",
    "    #     name=f'{f} - Outlier',\n",
    "    #     marker=dict(color='red', size=8, symbol='x'),\n",
    "    #     hoverinfo='name+y'\n",
    "    # ))\n",
    "    df_outliers_file = df_file[df_file['outlier']]\n",
    "    if not df_outliers_file.empty:\n",
    "        fig.add_trace(go.Scatter(\n",
    "            x=df_outliers_file['time'],\n",
    "            y=df_outliers_file['rna_copies'],\n",
    "            mode='markers',\n",
    "            name=f'{f} - Outlier',\n",
    "            marker=dict(color='red', size=8, symbol='x'),\n",
    "            hoverinfo='name+y'\n",
    "        ))\n",
    "\n",
    "# Layout settings\n",
    "fig.update_layout(\n",
    "    title='Outlier Detection',\n",
    "    xaxis_title='Time',\n",
    "    yaxis_title='RNA copies / 100,000',\n",
    "    legend_title='Data Source',\n",
    "    height=600,\n",
    "    template='plotly_white'\n",
    ")\n",
    "\n",
    "fig.show()"
   ]
  }
 ],
 "metadata": {
  "kernelspec": {
   "display_name": "Python 3",
   "language": "python",
   "name": "python3"
  },
  "language_info": {
   "codemirror_mode": {
    "name": "ipython",
    "version": 3
   },
   "file_extension": ".py",
   "mimetype": "text/x-python",
   "name": "python",
   "nbconvert_exporter": "python",
   "pygments_lexer": "ipython3",
   "version": "3.13.2"
  }
 },
 "nbformat": 4,
 "nbformat_minor": 5
}
