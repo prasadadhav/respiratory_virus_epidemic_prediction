{
 "cells": [
  {
   "cell_type": "markdown",
   "id": "79b6843f",
   "metadata": {},
   "source": [
    "# Pre-processing Data"
   ]
  },
  {
   "cell_type": "markdown",
   "id": "1ff0e232",
   "metadata": {},
   "source": [
    "## Load Libs"
   ]
  },
  {
   "cell_type": "code",
   "execution_count": 1,
   "id": "f808a4c9",
   "metadata": {},
   "outputs": [],
   "source": [
    "import os\n",
    "\n",
    "# data\n",
    "import pandas as pd\n",
    "import numpy as np \n",
    "\n",
    "# plotting\n",
    "import matplotlib.pyplot as plt\n",
    "import matplotlib.cm as cm\n",
    "import matplotlib.colors as mcolors\n",
    "import seaborn as sns\n",
    "from plotly.subplots import make_subplots\n",
    "import plotly.graph_objs as go\n",
    "\n",
    "# stats\n",
    "import scipy.stats as stats\n",
    "from scipy.stats import expon, norm, kstest\n",
    "from scipy.stats import chisquare"
   ]
  },
  {
   "cell_type": "markdown",
   "id": "2f2922ee",
   "metadata": {},
   "source": [
    "## Load data"
   ]
  },
  {
   "cell_type": "code",
   "execution_count": 2,
   "id": "3e0291c8",
   "metadata": {},
   "outputs": [],
   "source": [
    "df_flu = pd.read_excel(\"./data/Data_Flu.xlsx\")\n",
    "df_rsv = pd.read_excel(\"./data/Data_RSV.xlsx\")\n",
    "df_sars = pd.read_excel(\"./data/Data_SARCoV.xlsx\")"
   ]
  },
  {
   "cell_type": "markdown",
   "id": "5cabbaa6",
   "metadata": {},
   "source": [
    "# Processing"
   ]
  },
  {
   "cell_type": "markdown",
   "id": "705d5e3e",
   "metadata": {},
   "source": [
    "## FluA"
   ]
  },
  {
   "cell_type": "markdown",
   "id": "4215d947",
   "metadata": {},
   "source": [
    "In the following sections we export the rna copies original data and the moving average data."
   ]
  },
  {
   "cell_type": "code",
   "execution_count": 3,
   "id": "016b6140",
   "metadata": {},
   "outputs": [],
   "source": [
    "df_flu['date'] = pd.to_datetime(df_flu['yyyy-w (Flu)'] + '-1', format='%Y_%W-%w')"
   ]
  },
  {
   "cell_type": "code",
   "execution_count": 4,
   "id": "1e20eeb5",
   "metadata": {},
   "outputs": [],
   "source": [
    "mov_fluA_cols = [col for col in df_flu.columns if col.startswith('Mov-FluA')]\n",
    "\n",
    "for col in mov_fluA_cols:\n",
    "    label = col.replace('Mov-', '')\n",
    "    local_df = pd.DataFrame({\n",
    "        'time': df_flu['date'],\n",
    "        'rna_copies': df_flu[col],\n",
    "        'label': \"FluA\"\n",
    "    })\n",
    "    local_df = local_df.dropna(subset=['rna_copies'])\n",
    "    local_df.to_csv(f'./data_preprocess/{col}.csv', index=False)"
   ]
  },
  {
   "cell_type": "code",
   "execution_count": 5,
   "id": "9bd9f1bc",
   "metadata": {},
   "outputs": [],
   "source": [
    "fluA_cols = [col for col in df_flu.columns if col.startswith('FluA')]\n",
    "\n",
    "for col in fluA_cols:\n",
    "    local_df = pd.DataFrame({\n",
    "        'time': df_flu['date'],\n",
    "        'rna_copies': df_flu[col],\n",
    "        'label': \"FluA\"\n",
    "    })\n",
    "    local_df = local_df.dropna(subset=['rna_copies'])\n",
    "    local_df.to_csv(f'./data_preprocess/{col}.csv', index=False)"
   ]
  },
  {
   "cell_type": "markdown",
   "id": "66b9fba8",
   "metadata": {},
   "source": [
    "## FluB"
   ]
  },
  {
   "cell_type": "code",
   "execution_count": 6,
   "id": "9d800e65",
   "metadata": {},
   "outputs": [],
   "source": [
    "mov_fluB_cols = [col for col in df_flu.columns if col.startswith('Mov-FluB')]\n",
    "\n",
    "for col in mov_fluB_cols:\n",
    "    label = col.replace('Mov-', '')\n",
    "    local_df = pd.DataFrame({\n",
    "        'time': df_flu['date'],\n",
    "        'rna_copies': df_flu[col],\n",
    "        'label': \"FluB\"\n",
    "    })\n",
    "    local_df = local_df.dropna(subset=['rna_copies'])\n",
    "    local_df.to_csv(f'./data_preprocess/{col}.csv', index=False)"
   ]
  },
  {
   "cell_type": "code",
   "execution_count": 7,
   "id": "cda73ce2",
   "metadata": {},
   "outputs": [],
   "source": [
    "fluB_cols = [col for col in df_flu.columns if col.startswith('FluB')]\n",
    "\n",
    "for col in fluB_cols:\n",
    "    local_df = pd.DataFrame({\n",
    "        'time': df_flu['date'],\n",
    "        'rna_copies': df_flu[col],\n",
    "        'label': \"FluB\"\n",
    "    })\n",
    "    local_df = local_df.dropna(subset=['rna_copies'])\n",
    "    local_df.to_csv(f'./data_preprocess/{col}.csv', index=False)"
   ]
  },
  {
   "cell_type": "markdown",
   "id": "0f2111a5",
   "metadata": {},
   "source": [
    "## RSV"
   ]
  },
  {
   "cell_type": "code",
   "execution_count": 8,
   "id": "95df03e1",
   "metadata": {},
   "outputs": [],
   "source": [
    "df_rsv['date'] = pd.to_datetime(df_rsv['yyyy-w (RSV)'] + '-1', format='%Y_%W-%w')"
   ]
  },
  {
   "cell_type": "code",
   "execution_count": 9,
   "id": "e6969046",
   "metadata": {},
   "outputs": [],
   "source": [
    "mov_rsv_cols = [col for col in df_rsv.columns if col.startswith('Mov-RSV')]\n",
    "\n",
    "for col in mov_rsv_cols:\n",
    "    label = col.replace('Mov-', '')\n",
    "    local_df = pd.DataFrame({\n",
    "        'time': df_rsv['date'],\n",
    "        'rna_copies': df_rsv[col],\n",
    "        'label': \"RSV\"\n",
    "    })\n",
    "    local_df = local_df.dropna(subset=['rna_copies'])\n",
    "    local_df.to_csv(f'./data_preprocess/{col}.csv', index=False)"
   ]
  },
  {
   "cell_type": "code",
   "execution_count": 10,
   "id": "c98bd1ee",
   "metadata": {},
   "outputs": [],
   "source": [
    "rsv_cols = [col for col in df_rsv.columns if col.startswith('RSV')]\n",
    "\n",
    "for col in rsv_cols:\n",
    "    local_df = pd.DataFrame({\n",
    "        'time': df_rsv['date'],\n",
    "        'rna_copies': df_rsv[col],\n",
    "        'label': \"RSV\"\n",
    "    })\n",
    "    local_df = local_df.dropna(subset=['rna_copies'])\n",
    "    local_df.to_csv(f'./data_preprocess/{col}.csv', index=False)"
   ]
  },
  {
   "cell_type": "markdown",
   "id": "079151a0",
   "metadata": {},
   "source": [
    "## SARS-CoV-2"
   ]
  },
  {
   "cell_type": "code",
   "execution_count": 11,
   "id": "b02f817f",
   "metadata": {},
   "outputs": [],
   "source": [
    "df_sars['date'] = pd.to_datetime(df_sars['yyyy-w (SARS-CoV)'] + '-1', format='%Y_%W-%w')"
   ]
  },
  {
   "cell_type": "code",
   "execution_count": null,
   "id": "ac746e27",
   "metadata": {},
   "outputs": [],
   "source": [
    "mov_sars_cols = [col for col in df_sars.columns if col.startswith('Mov-SARS-CoV')]\n",
    "\n",
    "for col in mov_sars_cols:\n",
    "    label = col.replace('Mov-', '')\n",
    "    local_df = pd.DataFrame({\n",
    "        'time': df_sars['date'],\n",
    "        'rna_copies': df_sars[col],\n",
    "        'label': \"SARS-CoV-2\"\n",
    "    })\n",
    "    local_df = local_df.dropna(subset=['rna_copies'])\n",
    "    local_df.to_csv(f'./data_preprocess/{col}.csv', index=False)"
   ]
  },
  {
   "cell_type": "code",
   "execution_count": 12,
   "id": "1456a1d4",
   "metadata": {},
   "outputs": [],
   "source": [
    "sars_cols = [col for col in df_sars.columns if col.startswith('SARS-CoV')]\n",
    "\n",
    "for col in sars_cols:\n",
    "    local_df = pd.DataFrame({\n",
    "        'time': df_sars['date'],\n",
    "        'rna_copies': df_sars[col],\n",
    "        'label': \"SARS-CoV-2\"\n",
    "    })\n",
    "    local_df = local_df.dropna(subset=['rna_copies'])\n",
    "    local_df.to_csv(f'./data_preprocess/{col}.csv', index=False)"
   ]
  }
 ],
 "metadata": {
  "kernelspec": {
   "display_name": "Python 3",
   "language": "python",
   "name": "python3"
  },
  "language_info": {
   "codemirror_mode": {
    "name": "ipython",
    "version": 3
   },
   "file_extension": ".py",
   "mimetype": "text/x-python",
   "name": "python",
   "nbconvert_exporter": "python",
   "pygments_lexer": "ipython3",
   "version": "3.13.2"
  }
 },
 "nbformat": 4,
 "nbformat_minor": 5
}
