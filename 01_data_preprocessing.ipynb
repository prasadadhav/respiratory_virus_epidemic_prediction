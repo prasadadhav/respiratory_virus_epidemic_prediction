{
 "cells": [
  {
   "cell_type": "markdown",
   "id": "79b6843f",
   "metadata": {},
   "source": [
    "# Pre-processing Data"
   ]
  },
  {
   "cell_type": "markdown",
   "id": "1ff0e232",
   "metadata": {},
   "source": [
    "## Load Libs"
   ]
  },
  {
   "cell_type": "code",
   "execution_count": 1,
   "id": "f808a4c9",
   "metadata": {},
   "outputs": [],
   "source": [
    "import os\n",
    "\n",
    "# data\n",
    "import pandas as pd\n",
    "from sklearn.linear_model import LinearRegression\n",
    "import numpy as np \n",
    "\n",
    "# plotting\n",
    "import matplotlib.pyplot as plt\n",
    "import matplotlib.cm as cm\n",
    "import matplotlib.colors as mcolors\n",
    "import seaborn as sns\n",
    "from plotly.subplots import make_subplots\n",
    "import plotly.graph_objs as go\n",
    "import plotly.express as px\n",
    "\n",
    "# stats\n",
    "import scipy.stats as stats\n",
    "from scipy.stats import expon, norm, kstest\n",
    "from scipy.stats import chisquare"
   ]
  },
  {
   "cell_type": "markdown",
   "id": "2f2922ee",
   "metadata": {},
   "source": [
    "## Load data"
   ]
  },
  {
   "cell_type": "code",
   "execution_count": 2,
   "id": "3e0291c8",
   "metadata": {},
   "outputs": [],
   "source": [
    "df_flu = pd.read_excel(\"./data/Data_Flu.xlsx\")\n",
    "df_rsv = pd.read_excel(\"./data/Data_RSV.xlsx\")\n",
    "df_sars = pd.read_excel(\"./data/Data_SARCoV.xlsx\")"
   ]
  },
  {
   "cell_type": "markdown",
   "id": "5cabbaa6",
   "metadata": {},
   "source": [
    "# Feature Processing"
   ]
  },
  {
   "cell_type": "markdown",
   "id": "705d5e3e",
   "metadata": {},
   "source": [
    "## FluA"
   ]
  },
  {
   "cell_type": "markdown",
   "id": "4215d947",
   "metadata": {},
   "source": [
    "In the following sections we export the rna copies original data and the moving average data."
   ]
  },
  {
   "cell_type": "code",
   "execution_count": 3,
   "id": "016b6140",
   "metadata": {},
   "outputs": [],
   "source": [
    "df_flu['date'] = pd.to_datetime(df_flu['yyyy-w (Flu)'] + '-1', format='%Y_%W-%w')"
   ]
  },
  {
   "cell_type": "code",
   "execution_count": 4,
   "id": "1e20eeb5",
   "metadata": {},
   "outputs": [],
   "source": [
    "mov_fluA_cols = [col for col in df_flu.columns if col.startswith('Mov-FluA')]\n",
    "\n",
    "for col in mov_fluA_cols:\n",
    "    label = col.replace('Mov-', '')\n",
    "    local_df = pd.DataFrame({\n",
    "        'time': df_flu['date'],\n",
    "        'rna_copies': df_flu[col],\n",
    "        'label': \"FluA\"\n",
    "    })\n",
    "    local_df = local_df.dropna(subset=['rna_copies'])\n",
    "    local_df.to_csv(f'./data_preprocess/{col}.csv', index=False)"
   ]
  },
  {
   "cell_type": "code",
   "execution_count": 5,
   "id": "9bd9f1bc",
   "metadata": {},
   "outputs": [],
   "source": [
    "fluA_cols = [col for col in df_flu.columns if col.startswith('FluA')]\n",
    "\n",
    "for col in fluA_cols:\n",
    "    local_df = pd.DataFrame({\n",
    "        'time': df_flu['date'],\n",
    "        'rna_copies': df_flu[col],\n",
    "        'label': \"FluA\"\n",
    "    })\n",
    "    local_df = local_df.dropna(subset=['rna_copies'])\n",
    "    local_df.to_csv(f'./data_preprocess/{col}.csv', index=False)"
   ]
  },
  {
   "cell_type": "markdown",
   "id": "66b9fba8",
   "metadata": {},
   "source": [
    "## FluB"
   ]
  },
  {
   "cell_type": "code",
   "execution_count": 6,
   "id": "9d800e65",
   "metadata": {},
   "outputs": [],
   "source": [
    "mov_fluB_cols = [col for col in df_flu.columns if col.startswith('Mov-FluB')]\n",
    "\n",
    "for col in mov_fluB_cols:\n",
    "    label = col.replace('Mov-', '')\n",
    "    local_df = pd.DataFrame({\n",
    "        'time': df_flu['date'],\n",
    "        'rna_copies': df_flu[col],\n",
    "        'label': \"FluB\"\n",
    "    })\n",
    "    local_df = local_df.dropna(subset=['rna_copies'])\n",
    "    local_df.to_csv(f'./data_preprocess/{col}.csv', index=False)"
   ]
  },
  {
   "cell_type": "code",
   "execution_count": 7,
   "id": "cda73ce2",
   "metadata": {},
   "outputs": [],
   "source": [
    "fluB_cols = [col for col in df_flu.columns if col.startswith('FluB')]\n",
    "\n",
    "for col in fluB_cols:\n",
    "    local_df = pd.DataFrame({\n",
    "        'time': df_flu['date'],\n",
    "        'rna_copies': df_flu[col],\n",
    "        'label': \"FluB\"\n",
    "    })\n",
    "    local_df = local_df.dropna(subset=['rna_copies'])\n",
    "    local_df.to_csv(f'./data_preprocess/{col}.csv', index=False)"
   ]
  },
  {
   "cell_type": "markdown",
   "id": "0f2111a5",
   "metadata": {},
   "source": [
    "## RSV"
   ]
  },
  {
   "cell_type": "code",
   "execution_count": 8,
   "id": "95df03e1",
   "metadata": {},
   "outputs": [],
   "source": [
    "df_rsv['date'] = pd.to_datetime(df_rsv['yyyy-w (RSV)'] + '-1', format='%Y_%W-%w')"
   ]
  },
  {
   "cell_type": "code",
   "execution_count": 9,
   "id": "e6969046",
   "metadata": {},
   "outputs": [],
   "source": [
    "mov_rsv_cols = [col for col in df_rsv.columns if col.startswith('Mov-RSV')]\n",
    "\n",
    "for col in mov_rsv_cols:\n",
    "    label = col.replace('Mov-', '')\n",
    "    local_df = pd.DataFrame({\n",
    "        'time': df_rsv['date'],\n",
    "        'rna_copies': df_rsv[col],\n",
    "        'label': \"RSV\"\n",
    "    })\n",
    "    local_df = local_df.dropna(subset=['rna_copies'])\n",
    "    local_df.to_csv(f'./data_preprocess/{col}.csv', index=False)"
   ]
  },
  {
   "cell_type": "code",
   "execution_count": 10,
   "id": "c98bd1ee",
   "metadata": {},
   "outputs": [],
   "source": [
    "rsv_cols = [col for col in df_rsv.columns if col.startswith('RSV')]\n",
    "\n",
    "for col in rsv_cols:\n",
    "    local_df = pd.DataFrame({\n",
    "        'time': df_rsv['date'],\n",
    "        'rna_copies': df_rsv[col],\n",
    "        'label': \"RSV\"\n",
    "    })\n",
    "    local_df = local_df.dropna(subset=['rna_copies'])\n",
    "    local_df.to_csv(f'./data_preprocess/{col}.csv', index=False)"
   ]
  },
  {
   "cell_type": "markdown",
   "id": "079151a0",
   "metadata": {},
   "source": [
    "## SARS-CoV-2"
   ]
  },
  {
   "cell_type": "code",
   "execution_count": 11,
   "id": "b02f817f",
   "metadata": {},
   "outputs": [],
   "source": [
    "df_sars['date'] = pd.to_datetime(df_sars['yyyy-w (SARS-CoV)'] + '-1', format='%Y_%W-%w')"
   ]
  },
  {
   "cell_type": "code",
   "execution_count": 12,
   "id": "ac746e27",
   "metadata": {},
   "outputs": [],
   "source": [
    "mov_sars_cols = [col for col in df_sars.columns if col.startswith('Mov-SARS-CoV')]\n",
    "\n",
    "for col in mov_sars_cols:\n",
    "    label = col.replace('Mov-', '')\n",
    "    local_df = pd.DataFrame({\n",
    "        'time': df_sars['date'],\n",
    "        'rna_copies': df_sars[col],\n",
    "        'label': \"SARS-CoV-2\"\n",
    "    })\n",
    "    local_df = local_df.dropna(subset=['rna_copies'])\n",
    "    local_df.to_csv(f'./data_preprocess/{col}.csv', index=False)"
   ]
  },
  {
   "cell_type": "code",
   "execution_count": 13,
   "id": "1456a1d4",
   "metadata": {},
   "outputs": [],
   "source": [
    "sars_cols = [col for col in df_sars.columns if col.startswith('SARS-CoV')]\n",
    "\n",
    "for col in sars_cols:\n",
    "    local_df = pd.DataFrame({\n",
    "        'time': df_sars['date'],\n",
    "        'rna_copies': df_sars[col],\n",
    "        'label': \"SARS-CoV-2\"\n",
    "    })\n",
    "    local_df = local_df.dropna(subset=['rna_copies'])\n",
    "    local_df.to_csv(f'./data_preprocess/{col}.csv', index=False)"
   ]
  },
  {
   "cell_type": "markdown",
   "id": "402b9183",
   "metadata": {},
   "source": [
    "## Slope or gradient feature construction"
   ]
  },
  {
   "cell_type": "markdown",
   "id": "123df8ef",
   "metadata": {},
   "source": [
    "In this section we take linear regression of n peevious data points and build a new feature that will give the slope of the points. We can take multiple time windows and build mutliple features like the features build for lag."
   ]
  },
  {
   "cell_type": "code",
   "execution_count": 14,
   "id": "d54c4226",
   "metadata": {},
   "outputs": [],
   "source": [
    "def compute_slope_feature(series: pd.Series, window: int = 3) -> pd.Series:\n",
    "    # Forward fill missing values before slope calculation\n",
    "    series_filled = series.ffill().bfill()  # fill forward, then backward for start NaNs\n",
    "    \n",
    "    slopes = [np.nan] * (window - 1)  # First (window-1) entries are NaN\n",
    "    \n",
    "    for i in range(window - 1, len(series_filled)):\n",
    "        window_values = series_filled.iloc[i - window + 1: i + 1]\n",
    "        y = window_values.values.reshape(-1, 1)\n",
    "        x = np.arange(window).reshape(-1, 1)\n",
    "        model = LinearRegression().fit(x, y)\n",
    "        slopes.append(model.coef_[0][0])  # raw slope\n",
    "        \n",
    "    slope_series = pd.Series(slopes, index=series.index)\n",
    "    \n",
    "    # Normalize slope_series between -1 and 1 using mean slope value\n",
    "    mean_slope = slope_series.mean(skipna=True)\n",
    "    \n",
    "    # Center around mean\n",
    "    centered = slope_series - mean_slope\n",
    "    \n",
    "    # Get max absolute deviation for scaling\n",
    "    max_dev = centered.abs().max()\n",
    "    \n",
    "    # Avoid division by zero if all values equal mean\n",
    "    if max_dev == 0 or np.isnan(max_dev):\n",
    "        normalized = centered * 0\n",
    "    else:\n",
    "        normalized = centered / max_dev\n",
    "    \n",
    "    return normalized\n"
   ]
  },
  {
   "cell_type": "code",
   "execution_count": 15,
   "id": "360db7bc",
   "metadata": {},
   "outputs": [],
   "source": [
    "# window_sizes = [2, 3, 4, 5, 7]\n",
    "window_sizes = [4, 5, 7]"
   ]
  },
  {
   "cell_type": "markdown",
   "id": "34fc7049",
   "metadata": {},
   "source": [
    "### flu A"
   ]
  },
  {
   "cell_type": "code",
   "execution_count": 16,
   "id": "fd2e7f01",
   "metadata": {},
   "outputs": [
    {
     "data": {
      "application/vnd.microsoft.datawrangler.viewer.v0+json": {
       "columns": [
        {
         "name": "index",
         "rawType": "int64",
         "type": "integer"
        },
        {
         "name": "yyyy-w (Flu)",
         "rawType": "object",
         "type": "string"
        },
        {
         "name": "FluA-Nat",
         "rawType": "float64",
         "type": "float"
        },
        {
         "name": "FluB-Nat",
         "rawType": "float64",
         "type": "float"
        },
        {
         "name": "Mov-FluA-Nat",
         "rawType": "float64",
         "type": "float"
        },
        {
         "name": "Mov-FluB-Nat",
         "rawType": "float64",
         "type": "float"
        },
        {
         "name": "FluA-BEG",
         "rawType": "float64",
         "type": "float"
        },
        {
         "name": "FluB-BEG",
         "rawType": "float64",
         "type": "float"
        },
        {
         "name": "Mov-FluA-BEG",
         "rawType": "float64",
         "type": "float"
        },
        {
         "name": "Mov-FluB-BEG",
         "rawType": "float64",
         "type": "float"
        },
        {
         "name": "FluA-BET",
         "rawType": "float64",
         "type": "float"
        },
        {
         "name": "FluB-BET",
         "rawType": "float64",
         "type": "float"
        },
        {
         "name": "Mov-FluA-BET",
         "rawType": "float64",
         "type": "float"
        },
        {
         "name": "Mov-FluB-BET",
         "rawType": "float64",
         "type": "float"
        },
        {
         "name": "FluA-PET",
         "rawType": "float64",
         "type": "float"
        },
        {
         "name": "FluB-PET",
         "rawType": "float64",
         "type": "float"
        },
        {
         "name": "Mov-FluA-PET",
         "rawType": "float64",
         "type": "float"
        },
        {
         "name": "Mov-FluB-PET",
         "rawType": "float64",
         "type": "float"
        },
        {
         "name": "FluA-SCH",
         "rawType": "float64",
         "type": "float"
        },
        {
         "name": "FluB-SCH",
         "rawType": "float64",
         "type": "float"
        },
        {
         "name": "Mov-FluA-SCH",
         "rawType": "float64",
         "type": "float"
        },
        {
         "name": "Mov-FluB-SCH",
         "rawType": "float64",
         "type": "float"
        },
        {
         "name": "FluA-BLE",
         "rawType": "float64",
         "type": "float"
        },
        {
         "name": "FluB-BLE",
         "rawType": "float64",
         "type": "float"
        },
        {
         "name": "Mov-FluA-BLE",
         "rawType": "float64",
         "type": "float"
        },
        {
         "name": "Mov-FluB-BLE",
         "rawType": "float64",
         "type": "float"
        },
        {
         "name": "FluA-MER",
         "rawType": "float64",
         "type": "float"
        },
        {
         "name": "FluB-MER",
         "rawType": "float64",
         "type": "float"
        },
        {
         "name": "Mov-FluA-MER",
         "rawType": "float64",
         "type": "float"
        },
        {
         "name": "Mov-FluB-MER",
         "rawType": "float64",
         "type": "float"
        },
        {
         "name": "FluA-UEB",
         "rawType": "float64",
         "type": "float"
        },
        {
         "name": "FluB-UEB",
         "rawType": "float64",
         "type": "float"
        },
        {
         "name": "Mov-FluA-UEB",
         "rawType": "float64",
         "type": "float"
        },
        {
         "name": "Mov-FluB-UEB",
         "rawType": "float64",
         "type": "float"
        },
        {
         "name": "FluA-ECH",
         "rawType": "float64",
         "type": "float"
        },
        {
         "name": "FluB-ECH",
         "rawType": "float64",
         "type": "float"
        },
        {
         "name": "Mov-FluA-ECH",
         "rawType": "float64",
         "type": "float"
        },
        {
         "name": "Mov-FluB-ECH",
         "rawType": "float64",
         "type": "float"
        },
        {
         "name": "FluA-BOE",
         "rawType": "float64",
         "type": "float"
        },
        {
         "name": "FluB-BOE",
         "rawType": "float64",
         "type": "float"
        },
        {
         "name": "Mov-FluA-BOE",
         "rawType": "float64",
         "type": "float"
        },
        {
         "name": "Mov-FluB-BOE",
         "rawType": "float64",
         "type": "float"
        },
        {
         "name": "FluA-GRE",
         "rawType": "float64",
         "type": "float"
        },
        {
         "name": "FluB-GRE",
         "rawType": "float64",
         "type": "float"
        },
        {
         "name": "Mov-FluA-GRE",
         "rawType": "float64",
         "type": "float"
        },
        {
         "name": "Mov-FluB-GRE",
         "rawType": "float64",
         "type": "float"
        },
        {
         "name": "FluA-HES",
         "rawType": "float64",
         "type": "float"
        },
        {
         "name": "FluB-HES",
         "rawType": "float64",
         "type": "float"
        },
        {
         "name": "Mov-FluA-HES",
         "rawType": "float64",
         "type": "float"
        },
        {
         "name": "Mov-FluB-HES",
         "rawType": "float64",
         "type": "float"
        },
        {
         "name": "FluA-VIE",
         "rawType": "float64",
         "type": "float"
        },
        {
         "name": "FluB-VIE",
         "rawType": "float64",
         "type": "float"
        },
        {
         "name": "Mov-FluA-VIE",
         "rawType": "float64",
         "type": "float"
        },
        {
         "name": "Mov-FluB-VIE",
         "rawType": "float64",
         "type": "float"
        },
        {
         "name": "FluA-WIL",
         "rawType": "float64",
         "type": "float"
        },
        {
         "name": "FluB-WIL",
         "rawType": "float64",
         "type": "float"
        },
        {
         "name": "Mov-FluA-WIL",
         "rawType": "float64",
         "type": "float"
        },
        {
         "name": "Mov-FluB-WIL",
         "rawType": "float64",
         "type": "float"
        },
        {
         "name": "SAMPLES-Nat",
         "rawType": "float64",
         "type": "float"
        },
        {
         "name": "SAMPLES-BEG",
         "rawType": "float64",
         "type": "float"
        },
        {
         "name": "SAMPLES-BET",
         "rawType": "float64",
         "type": "float"
        },
        {
         "name": "SAMPLES-PET",
         "rawType": "float64",
         "type": "float"
        },
        {
         "name": "SAMPLES-SCH",
         "rawType": "float64",
         "type": "float"
        },
        {
         "name": "SAMPLES-BLE",
         "rawType": "float64",
         "type": "float"
        },
        {
         "name": "SAMPLES-MER",
         "rawType": "float64",
         "type": "float"
        },
        {
         "name": "SAMPLES-UEB",
         "rawType": "float64",
         "type": "float"
        },
        {
         "name": "SAMPLES-ECH",
         "rawType": "float64",
         "type": "float"
        },
        {
         "name": "SAMPLES-BOE",
         "rawType": "float64",
         "type": "float"
        },
        {
         "name": "SAMPLES-GRE",
         "rawType": "float64",
         "type": "float"
        },
        {
         "name": "SAMPLES-HES",
         "rawType": "float64",
         "type": "float"
        },
        {
         "name": "SAMPLES-VIE",
         "rawType": "float64",
         "type": "float"
        },
        {
         "name": "SAMPLES-WIL",
         "rawType": "float64",
         "type": "float"
        },
        {
         "name": "SITUATION-Nat",
         "rawType": "object",
         "type": "unknown"
        },
        {
         "name": "date",
         "rawType": "datetime64[ns]",
         "type": "datetime"
        },
        {
         "name": "FluA-Nat_slope_4",
         "rawType": "float64",
         "type": "float"
        },
        {
         "name": "FluA-Nat_slope_5",
         "rawType": "float64",
         "type": "float"
        },
        {
         "name": "FluA-Nat_slope_7",
         "rawType": "float64",
         "type": "float"
        },
        {
         "name": "FluA-BEG_slope_4",
         "rawType": "float64",
         "type": "float"
        },
        {
         "name": "FluA-BEG_slope_5",
         "rawType": "float64",
         "type": "float"
        },
        {
         "name": "FluA-BEG_slope_7",
         "rawType": "float64",
         "type": "float"
        },
        {
         "name": "FluA-BET_slope_4",
         "rawType": "float64",
         "type": "float"
        },
        {
         "name": "FluA-BET_slope_5",
         "rawType": "float64",
         "type": "float"
        },
        {
         "name": "FluA-BET_slope_7",
         "rawType": "float64",
         "type": "float"
        },
        {
         "name": "FluA-PET_slope_4",
         "rawType": "float64",
         "type": "float"
        },
        {
         "name": "FluA-PET_slope_5",
         "rawType": "float64",
         "type": "float"
        },
        {
         "name": "FluA-PET_slope_7",
         "rawType": "float64",
         "type": "float"
        },
        {
         "name": "FluA-SCH_slope_4",
         "rawType": "float64",
         "type": "float"
        },
        {
         "name": "FluA-SCH_slope_5",
         "rawType": "float64",
         "type": "float"
        },
        {
         "name": "FluA-SCH_slope_7",
         "rawType": "float64",
         "type": "float"
        },
        {
         "name": "FluA-BLE_slope_4",
         "rawType": "float64",
         "type": "float"
        },
        {
         "name": "FluA-BLE_slope_5",
         "rawType": "float64",
         "type": "float"
        },
        {
         "name": "FluA-BLE_slope_7",
         "rawType": "float64",
         "type": "float"
        },
        {
         "name": "FluA-MER_slope_4",
         "rawType": "float64",
         "type": "float"
        },
        {
         "name": "FluA-MER_slope_5",
         "rawType": "float64",
         "type": "float"
        },
        {
         "name": "FluA-MER_slope_7",
         "rawType": "float64",
         "type": "float"
        },
        {
         "name": "FluA-UEB_slope_4",
         "rawType": "float64",
         "type": "float"
        },
        {
         "name": "FluA-UEB_slope_5",
         "rawType": "float64",
         "type": "float"
        },
        {
         "name": "FluA-UEB_slope_7",
         "rawType": "float64",
         "type": "float"
        },
        {
         "name": "FluA-ECH_slope_4",
         "rawType": "float64",
         "type": "float"
        },
        {
         "name": "FluA-ECH_slope_5",
         "rawType": "float64",
         "type": "float"
        },
        {
         "name": "FluA-ECH_slope_7",
         "rawType": "float64",
         "type": "float"
        },
        {
         "name": "FluA-BOE_slope_4",
         "rawType": "float64",
         "type": "float"
        },
        {
         "name": "FluA-BOE_slope_5",
         "rawType": "float64",
         "type": "float"
        },
        {
         "name": "FluA-BOE_slope_7",
         "rawType": "float64",
         "type": "float"
        },
        {
         "name": "FluA-GRE_slope_4",
         "rawType": "float64",
         "type": "float"
        },
        {
         "name": "FluA-GRE_slope_5",
         "rawType": "float64",
         "type": "float"
        },
        {
         "name": "FluA-GRE_slope_7",
         "rawType": "float64",
         "type": "float"
        },
        {
         "name": "FluA-HES_slope_4",
         "rawType": "float64",
         "type": "float"
        },
        {
         "name": "FluA-HES_slope_5",
         "rawType": "float64",
         "type": "float"
        },
        {
         "name": "FluA-HES_slope_7",
         "rawType": "float64",
         "type": "float"
        },
        {
         "name": "FluA-VIE_slope_4",
         "rawType": "float64",
         "type": "float"
        },
        {
         "name": "FluA-VIE_slope_5",
         "rawType": "float64",
         "type": "float"
        },
        {
         "name": "FluA-VIE_slope_7",
         "rawType": "float64",
         "type": "float"
        },
        {
         "name": "FluA-WIL_slope_4",
         "rawType": "float64",
         "type": "float"
        },
        {
         "name": "FluA-WIL_slope_5",
         "rawType": "float64",
         "type": "float"
        },
        {
         "name": "FluA-WIL_slope_7",
         "rawType": "float64",
         "type": "float"
        }
       ],
       "ref": "5cfb16ad-4aca-49d7-a6b0-dece81c28d61",
       "rows": [
        [
         "0",
         "2021_40",
         "0.0",
         "0.0",
         null,
         null,
         "0.0",
         "0.0",
         null,
         null,
         "0.0",
         "0.0",
         null,
         null,
         "0.0",
         "0.0",
         null,
         null,
         "0.0",
         "0.0",
         null,
         null,
         null,
         null,
         null,
         null,
         null,
         null,
         null,
         null,
         null,
         null,
         null,
         null,
         null,
         null,
         null,
         null,
         null,
         null,
         null,
         null,
         null,
         null,
         null,
         null,
         null,
         null,
         null,
         null,
         null,
         null,
         null,
         null,
         null,
         null,
         null,
         null,
         "918.0",
         "194.0",
         "191.0",
         "194.0",
         "196.0",
         "36.0",
         "35.0",
         "36.0",
         "36.0",
         null,
         null,
         null,
         null,
         null,
         "Low",
         "2021-10-04 00:00:00",
         null,
         null,
         null,
         null,
         null,
         null,
         null,
         null,
         null,
         null,
         null,
         null,
         null,
         null,
         null,
         null,
         null,
         null,
         null,
         null,
         null,
         null,
         null,
         null,
         null,
         null,
         null,
         null,
         null,
         null,
         null,
         null,
         null,
         null,
         null,
         null,
         null,
         null,
         null,
         null,
         null,
         null
        ],
        [
         "1",
         "2021_41",
         "0.0",
         "0.0",
         null,
         null,
         "0.0",
         "0.0",
         null,
         null,
         "0.0",
         "0.0",
         null,
         null,
         "0.0",
         "0.0",
         null,
         null,
         "0.0",
         "0.0",
         null,
         null,
         null,
         null,
         null,
         null,
         null,
         null,
         null,
         null,
         null,
         null,
         null,
         null,
         null,
         null,
         null,
         null,
         null,
         null,
         null,
         null,
         null,
         null,
         null,
         null,
         null,
         null,
         null,
         null,
         null,
         null,
         null,
         null,
         null,
         null,
         null,
         null,
         null,
         null,
         null,
         null,
         null,
         null,
         null,
         null,
         null,
         null,
         null,
         null,
         null,
         null,
         null,
         "2021-10-11 00:00:00",
         null,
         null,
         null,
         null,
         null,
         null,
         null,
         null,
         null,
         null,
         null,
         null,
         null,
         null,
         null,
         null,
         null,
         null,
         null,
         null,
         null,
         null,
         null,
         null,
         null,
         null,
         null,
         null,
         null,
         null,
         null,
         null,
         null,
         null,
         null,
         null,
         null,
         null,
         null,
         null,
         null,
         null
        ],
        [
         "2",
         "2021_42",
         "0.0",
         "0.0",
         "0.0",
         "0.0",
         "0.0",
         "0.0",
         "0.0",
         "0.0",
         "0.0",
         "0.0",
         "0.0",
         "0.0",
         "0.0",
         "0.0",
         "0.0",
         "0.0",
         "0.0",
         "0.0",
         "0.0",
         "0.0",
         null,
         null,
         null,
         null,
         null,
         null,
         null,
         null,
         null,
         null,
         null,
         null,
         null,
         null,
         null,
         null,
         null,
         null,
         null,
         null,
         null,
         null,
         null,
         null,
         null,
         null,
         null,
         null,
         null,
         null,
         null,
         null,
         null,
         null,
         null,
         null,
         null,
         null,
         null,
         null,
         null,
         null,
         null,
         null,
         null,
         null,
         null,
         null,
         null,
         null,
         null,
         "2021-10-18 00:00:00",
         null,
         null,
         null,
         null,
         null,
         null,
         null,
         null,
         null,
         null,
         null,
         null,
         null,
         null,
         null,
         null,
         null,
         null,
         null,
         null,
         null,
         null,
         null,
         null,
         null,
         null,
         null,
         null,
         null,
         null,
         null,
         null,
         null,
         null,
         null,
         null,
         null,
         null,
         null,
         null,
         null,
         null
        ],
        [
         "3",
         "2021_43",
         "0.0",
         "0.0",
         "0.0",
         "0.0",
         "0.0",
         "0.0",
         "0.0",
         "0.0",
         "0.0",
         "0.0",
         "0.0",
         "0.0",
         "0.0",
         "0.0",
         "0.0",
         "0.0",
         "0.0",
         "0.0",
         "0.0",
         "0.0",
         null,
         null,
         null,
         null,
         null,
         null,
         null,
         null,
         null,
         null,
         null,
         null,
         null,
         null,
         null,
         null,
         null,
         null,
         null,
         null,
         null,
         null,
         null,
         null,
         null,
         null,
         null,
         null,
         null,
         null,
         null,
         null,
         null,
         null,
         null,
         null,
         null,
         null,
         null,
         null,
         null,
         null,
         null,
         null,
         null,
         null,
         null,
         null,
         null,
         null,
         null,
         "2021-10-25 00:00:00",
         "-8.517904476176994e-06",
         null,
         null,
         "1.3282400386417175e-18",
         null,
         null,
         "-9.519466056181685e-19",
         null,
         null,
         "4.66449931249757e-19",
         null,
         null,
         "6.967718877636435e-19",
         null,
         null,
         "-1.6614105256149786e-18",
         null,
         null,
         "-1.0204034506757628e-18",
         null,
         null,
         "-0.00022627316991969798",
         null,
         null,
         "-0.00011280295862635971",
         null,
         null,
         "0.0",
         null,
         null,
         "0.0",
         null,
         null,
         "0.0",
         null,
         null,
         "0.0",
         null,
         null,
         "0.0",
         null,
         null
        ],
        [
         "4",
         "2021_44",
         "0.0",
         "0.0",
         "0.0",
         "0.0",
         "0.0",
         "0.0",
         "0.0",
         "0.0",
         "0.0",
         "0.0",
         "0.0",
         "0.0",
         "0.0",
         "0.0",
         "0.0",
         "0.0",
         "0.0",
         "0.0",
         "0.0",
         "0.0",
         null,
         null,
         null,
         null,
         null,
         null,
         null,
         null,
         null,
         null,
         null,
         null,
         null,
         null,
         null,
         null,
         null,
         null,
         null,
         null,
         null,
         null,
         null,
         null,
         null,
         null,
         null,
         null,
         null,
         null,
         null,
         null,
         null,
         null,
         null,
         null,
         null,
         null,
         null,
         null,
         null,
         null,
         null,
         null,
         null,
         null,
         null,
         null,
         null,
         null,
         null,
         "2021-11-01 00:00:00",
         "-8.517904476176994e-06",
         "-1.806915018702317e-05",
         null,
         "1.3282400386417175e-18",
         "-1.272997278745708e-18",
         null,
         "-9.519466056181685e-19",
         "-2.12657077980199e-18",
         null,
         "4.66449931249757e-19",
         "-7.732241694084975e-05",
         null,
         "6.967718877636435e-19",
         "0.0",
         null,
         "-1.6614105256149786e-18",
         "-1.2868199498639161e-18",
         null,
         "-1.0204034506757628e-18",
         "-3.5518313076915616e-18",
         null,
         "-0.00022627316991969798",
         "-0.0001704158023190733",
         null,
         "-0.00011280295862635971",
         "-0.00011370759056281328",
         null,
         "0.0",
         "0.0",
         null,
         "0.0",
         "0.0",
         null,
         "0.0",
         "0.0",
         null,
         "0.0",
         "0.0",
         null,
         "0.0",
         "0.0",
         null
        ]
       ],
       "shape": {
        "columns": 115,
        "rows": 5
       }
      },
      "text/html": [
       "<div>\n",
       "<style scoped>\n",
       "    .dataframe tbody tr th:only-of-type {\n",
       "        vertical-align: middle;\n",
       "    }\n",
       "\n",
       "    .dataframe tbody tr th {\n",
       "        vertical-align: top;\n",
       "    }\n",
       "\n",
       "    .dataframe thead th {\n",
       "        text-align: right;\n",
       "    }\n",
       "</style>\n",
       "<table border=\"1\" class=\"dataframe\">\n",
       "  <thead>\n",
       "    <tr style=\"text-align: right;\">\n",
       "      <th></th>\n",
       "      <th>yyyy-w (Flu)</th>\n",
       "      <th>FluA-Nat</th>\n",
       "      <th>FluB-Nat</th>\n",
       "      <th>Mov-FluA-Nat</th>\n",
       "      <th>Mov-FluB-Nat</th>\n",
       "      <th>FluA-BEG</th>\n",
       "      <th>FluB-BEG</th>\n",
       "      <th>Mov-FluA-BEG</th>\n",
       "      <th>Mov-FluB-BEG</th>\n",
       "      <th>FluA-BET</th>\n",
       "      <th>...</th>\n",
       "      <th>FluA-GRE_slope_7</th>\n",
       "      <th>FluA-HES_slope_4</th>\n",
       "      <th>FluA-HES_slope_5</th>\n",
       "      <th>FluA-HES_slope_7</th>\n",
       "      <th>FluA-VIE_slope_4</th>\n",
       "      <th>FluA-VIE_slope_5</th>\n",
       "      <th>FluA-VIE_slope_7</th>\n",
       "      <th>FluA-WIL_slope_4</th>\n",
       "      <th>FluA-WIL_slope_5</th>\n",
       "      <th>FluA-WIL_slope_7</th>\n",
       "    </tr>\n",
       "  </thead>\n",
       "  <tbody>\n",
       "    <tr>\n",
       "      <th>0</th>\n",
       "      <td>2021_40</td>\n",
       "      <td>0.0</td>\n",
       "      <td>0.0</td>\n",
       "      <td>NaN</td>\n",
       "      <td>NaN</td>\n",
       "      <td>0.0</td>\n",
       "      <td>0.0</td>\n",
       "      <td>NaN</td>\n",
       "      <td>NaN</td>\n",
       "      <td>0.0</td>\n",
       "      <td>...</td>\n",
       "      <td>NaN</td>\n",
       "      <td>NaN</td>\n",
       "      <td>NaN</td>\n",
       "      <td>NaN</td>\n",
       "      <td>NaN</td>\n",
       "      <td>NaN</td>\n",
       "      <td>NaN</td>\n",
       "      <td>NaN</td>\n",
       "      <td>NaN</td>\n",
       "      <td>NaN</td>\n",
       "    </tr>\n",
       "    <tr>\n",
       "      <th>1</th>\n",
       "      <td>2021_41</td>\n",
       "      <td>0.0</td>\n",
       "      <td>0.0</td>\n",
       "      <td>NaN</td>\n",
       "      <td>NaN</td>\n",
       "      <td>0.0</td>\n",
       "      <td>0.0</td>\n",
       "      <td>NaN</td>\n",
       "      <td>NaN</td>\n",
       "      <td>0.0</td>\n",
       "      <td>...</td>\n",
       "      <td>NaN</td>\n",
       "      <td>NaN</td>\n",
       "      <td>NaN</td>\n",
       "      <td>NaN</td>\n",
       "      <td>NaN</td>\n",
       "      <td>NaN</td>\n",
       "      <td>NaN</td>\n",
       "      <td>NaN</td>\n",
       "      <td>NaN</td>\n",
       "      <td>NaN</td>\n",
       "    </tr>\n",
       "    <tr>\n",
       "      <th>2</th>\n",
       "      <td>2021_42</td>\n",
       "      <td>0.0</td>\n",
       "      <td>0.0</td>\n",
       "      <td>0.0</td>\n",
       "      <td>0.0</td>\n",
       "      <td>0.0</td>\n",
       "      <td>0.0</td>\n",
       "      <td>0.0</td>\n",
       "      <td>0.0</td>\n",
       "      <td>0.0</td>\n",
       "      <td>...</td>\n",
       "      <td>NaN</td>\n",
       "      <td>NaN</td>\n",
       "      <td>NaN</td>\n",
       "      <td>NaN</td>\n",
       "      <td>NaN</td>\n",
       "      <td>NaN</td>\n",
       "      <td>NaN</td>\n",
       "      <td>NaN</td>\n",
       "      <td>NaN</td>\n",
       "      <td>NaN</td>\n",
       "    </tr>\n",
       "    <tr>\n",
       "      <th>3</th>\n",
       "      <td>2021_43</td>\n",
       "      <td>0.0</td>\n",
       "      <td>0.0</td>\n",
       "      <td>0.0</td>\n",
       "      <td>0.0</td>\n",
       "      <td>0.0</td>\n",
       "      <td>0.0</td>\n",
       "      <td>0.0</td>\n",
       "      <td>0.0</td>\n",
       "      <td>0.0</td>\n",
       "      <td>...</td>\n",
       "      <td>NaN</td>\n",
       "      <td>0.0</td>\n",
       "      <td>NaN</td>\n",
       "      <td>NaN</td>\n",
       "      <td>0.0</td>\n",
       "      <td>NaN</td>\n",
       "      <td>NaN</td>\n",
       "      <td>0.0</td>\n",
       "      <td>NaN</td>\n",
       "      <td>NaN</td>\n",
       "    </tr>\n",
       "    <tr>\n",
       "      <th>4</th>\n",
       "      <td>2021_44</td>\n",
       "      <td>0.0</td>\n",
       "      <td>0.0</td>\n",
       "      <td>0.0</td>\n",
       "      <td>0.0</td>\n",
       "      <td>0.0</td>\n",
       "      <td>0.0</td>\n",
       "      <td>0.0</td>\n",
       "      <td>0.0</td>\n",
       "      <td>0.0</td>\n",
       "      <td>...</td>\n",
       "      <td>NaN</td>\n",
       "      <td>0.0</td>\n",
       "      <td>0.0</td>\n",
       "      <td>NaN</td>\n",
       "      <td>0.0</td>\n",
       "      <td>0.0</td>\n",
       "      <td>NaN</td>\n",
       "      <td>0.0</td>\n",
       "      <td>0.0</td>\n",
       "      <td>NaN</td>\n",
       "    </tr>\n",
       "  </tbody>\n",
       "</table>\n",
       "<p>5 rows × 115 columns</p>\n",
       "</div>"
      ],
      "text/plain": [
       "  yyyy-w (Flu)  FluA-Nat  FluB-Nat  Mov-FluA-Nat  Mov-FluB-Nat  FluA-BEG  \\\n",
       "0      2021_40       0.0       0.0           NaN           NaN       0.0   \n",
       "1      2021_41       0.0       0.0           NaN           NaN       0.0   \n",
       "2      2021_42       0.0       0.0           0.0           0.0       0.0   \n",
       "3      2021_43       0.0       0.0           0.0           0.0       0.0   \n",
       "4      2021_44       0.0       0.0           0.0           0.0       0.0   \n",
       "\n",
       "   FluB-BEG  Mov-FluA-BEG  Mov-FluB-BEG  FluA-BET  ...  FluA-GRE_slope_7  \\\n",
       "0       0.0           NaN           NaN       0.0  ...               NaN   \n",
       "1       0.0           NaN           NaN       0.0  ...               NaN   \n",
       "2       0.0           0.0           0.0       0.0  ...               NaN   \n",
       "3       0.0           0.0           0.0       0.0  ...               NaN   \n",
       "4       0.0           0.0           0.0       0.0  ...               NaN   \n",
       "\n",
       "   FluA-HES_slope_4  FluA-HES_slope_5  FluA-HES_slope_7  FluA-VIE_slope_4  \\\n",
       "0               NaN               NaN               NaN               NaN   \n",
       "1               NaN               NaN               NaN               NaN   \n",
       "2               NaN               NaN               NaN               NaN   \n",
       "3               0.0               NaN               NaN               0.0   \n",
       "4               0.0               0.0               NaN               0.0   \n",
       "\n",
       "   FluA-VIE_slope_5  FluA-VIE_slope_7  FluA-WIL_slope_4  FluA-WIL_slope_5  \\\n",
       "0               NaN               NaN               NaN               NaN   \n",
       "1               NaN               NaN               NaN               NaN   \n",
       "2               NaN               NaN               NaN               NaN   \n",
       "3               NaN               NaN               0.0               NaN   \n",
       "4               0.0               NaN               0.0               0.0   \n",
       "\n",
       "   FluA-WIL_slope_7  \n",
       "0               NaN  \n",
       "1               NaN  \n",
       "2               NaN  \n",
       "3               NaN  \n",
       "4               NaN  \n",
       "\n",
       "[5 rows x 115 columns]"
      ]
     },
     "execution_count": 16,
     "metadata": {},
     "output_type": "execute_result"
    }
   ],
   "source": [
    "for col in fluA_cols:\n",
    "    for window in window_sizes:\n",
    "        slope_col = f\"{col}_slope_{window}\"\n",
    "        df_flu[slope_col] = compute_slope_feature(df_flu[col], window=window)\n",
    "\n",
    "df_flu.head()"
   ]
  },
  {
   "cell_type": "code",
   "execution_count": 17,
   "id": "80b37af0",
   "metadata": {},
   "outputs": [
    {
     "data": {
      "application/vnd.plotly.v1+json": {
       "config": {
        "plotlyServerURL": "https://plot.ly"
       },
       "data": [
        {
         "marker": {
          "color": "black",
          "size": 6,
          "symbol": "circle-open"
         },
         "mode": "lines+markers",
         "name": "FluA-Nat",
         "type": "scatter",
         "x": {
          "bdata": "AAABAAIAAwAEAAUABgAHAAgACQAKAAsADAANAA4ADwAQABEAEgATABQAFQAWABcAGAAZABoAGwAcAB0AHgAfACAAIQAiACMAJAAlACYAJwAoACkAKgArACwALQAuAC8AMAAxADIAMwA0ADUANgA3ADgAOQA6ADsAPAA9AD4APwBAAEEAQgBDAEQARQBGAEcASABJAEoASwBMAE0ATgBPAFAAUQBSAFMAVABVAFYAVwBYAFkAWgBbAFwAXQBeAF8AYABhAGIAYwBkAGUAZgBnAGgAaQBqAGsAbABtAG4AbwBwAHEAcgBzAHQAdQB2AHcAeAB5AHoAewB8AH0AfgB/AIAAgQCCAIMAhACFAIYAhwCIAIkAigCLAIwAjQCOAI8AkACRAJIAkwCUAJUAlgCXAJgAmQCaAJsAnACdAJ4AnwCgAKEAogCjAKQApQCmAKcAqACpAKoAqwCsAK0ArgCvALAAsQCyALMAtAC1ALYAtwC4ALkAugC7ALwAvQC+AL8AwADBAA==",
          "dtype": "i2"
         },
         "y": {
          "bdata": "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",
          "dtype": "f8"
         },
         "yaxis": "y"
        },
        {
         "mode": "lines",
         "name": "FluA-Nat_slope_4",
         "type": "scatter",
         "x": {
          "bdata": "AAABAAIAAwAEAAUABgAHAAgACQAKAAsADAANAA4ADwAQABEAEgATABQAFQAWABcAGAAZABoAGwAcAB0AHgAfACAAIQAiACMAJAAlACYAJwAoACkAKgArACwALQAuAC8AMAAxADIAMwA0ADUANgA3ADgAOQA6ADsAPAA9AD4APwBAAEEAQgBDAEQARQBGAEcASABJAEoASwBMAE0ATgBPAFAAUQBSAFMAVABVAFYAVwBYAFkAWgBbAFwAXQBeAF8AYABhAGIAYwBkAGUAZgBnAGgAaQBqAGsAbABtAG4AbwBwAHEAcgBzAHQAdQB2AHcAeAB5AHoAewB8AH0AfgB/AIAAgQCCAIMAhACFAIYAhwCIAIkAigCLAIwAjQCOAI8AkACRAJIAkwCUAJUAlgCXAJgAmQCaAJsAnACdAJ4AnwCgAKEAogCjAKQApQCmAKcAqACpAKoAqwCsAK0ArgCvALAAsQCyALMAtAC1ALYAtwC4ALkAugC7ALwAvQC+AL8AwADBAA==",
          "dtype": "i2"
         },
         "y": {
          "bdata": "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",
          "dtype": "f8"
         },
         "yaxis": "y2"
        },
        {
         "mode": "lines",
         "name": "FluA-Nat_slope_5",
         "type": "scatter",
         "x": {
          "bdata": "AAABAAIAAwAEAAUABgAHAAgACQAKAAsADAANAA4ADwAQABEAEgATABQAFQAWABcAGAAZABoAGwAcAB0AHgAfACAAIQAiACMAJAAlACYAJwAoACkAKgArACwALQAuAC8AMAAxADIAMwA0ADUANgA3ADgAOQA6ADsAPAA9AD4APwBAAEEAQgBDAEQARQBGAEcASABJAEoASwBMAE0ATgBPAFAAUQBSAFMAVABVAFYAVwBYAFkAWgBbAFwAXQBeAF8AYABhAGIAYwBkAGUAZgBnAGgAaQBqAGsAbABtAG4AbwBwAHEAcgBzAHQAdQB2AHcAeAB5AHoAewB8AH0AfgB/AIAAgQCCAIMAhACFAIYAhwCIAIkAigCLAIwAjQCOAI8AkACRAJIAkwCUAJUAlgCXAJgAmQCaAJsAnACdAJ4AnwCgAKEAogCjAKQApQCmAKcAqACpAKoAqwCsAK0ArgCvALAAsQCyALMAtAC1ALYAtwC4ALkAugC7ALwAvQC+AL8AwADBAA==",
          "dtype": "i2"
         },
         "y": {
          "bdata": "AAAAAAAA+H8AAAAAAAD4fwAAAAAAAPh/AAAAAAAA+H/YLcGLZvLyvtgtwYtm8vK+2C3Bi2by8r7YLcGLZvLyvrGsv5EExYw/Gsx5Xou7fD/3hr9PBVqfPwbQmdMJ7oA/321L+PbXjL/XV6gcO2iPv49nBYN+Y5+/2C3Bi2by8r7YLcGLZvLyvrI7R6aWP5g/Z0ukDNo6iD/VLMGLZvLyvt88Ou08sq4/dEfyYED5iD9ECoKU7B+QP6JoMHY+k7g/OJndQhrquD9aJ81leiu8P2qRq3sTCsg/puGsA+rCjr99OOiu+8u9vzDnskDxSsS/s0M77bWYyr8eLyHfoBV8v6n1TNPhD1K/FP0i2BIepb/YHhPBbleov6wh9b0u55S/2C3Bi2by8r7YLcGLZvLyvtgtwYtm8vK+2C3Bi2by8r7YLcGLZvLyvtgtwYtm8vK+2C3Bi2by8r7YLcGLZvLyvtgtwYtm8vK+2C3Bi2by8r7YLcGLZvLyvtgtwYtm8vK+2C3Bi2by8r7YLcGLZvLyvtgtwYtm8vK+2C3Bi2by8r7YLcGLZvLyvniIbZzYVZs/LpjKAhxRiz/TK8GLZvLyvllZVmkOZIu/Emmzz1Ffm7/YLcGLZvLyvicmKnVDko0/rtGeC08boD8PoN2+eXijP+AgrpZ3YLA/duxpwPRp5T/NvN/w4s7uP7YhxF915ds/+8HzGMcE1L8AAAAAAADwv5EC978A2+e/4zN0240txL/YLcGLZvLyvgEiaKisxJ4/uTHFDvC/jj+4ImF1XfirP9lCFA+VIok/mAKu2yXOnr8mi9VbeP+bvwMTBA8a/au/2C3Bi2by8r7YLcGLZvLyvtgtwYtm8vK+2C3Bi2by8r7YLcGLZvLyvtgtwYtm8vK+2C3Bi2by8r7YLcGLZvLyvtgtwYtm8vK+2C3Bi2by8r7YLcGLZvLyvtgtwYtm8vK+2C3Bi2by8r7YLcGLZvLyvtgtwYtm8vK+2C3Bi2by8r7YLcGLZvLyvtgtwYtm8vK+2C3Bi2by8r7YLcGLZvLyvtgtwYtm8vK+2C3Bi2by8r7YLcGLZvLyvtgtwYtm8vK+2C3Bi2by8r6i4qNHoIKRP1jyAK7jfYE/1SzBi2by8r6Es4wU1pCBvznD6XoZjJG/2C3Bi2by8r7YLcGLZvLyvtgtwYtm8vK+2C3Bi2by8r7YLcGLZvLyvtgtwYtm8vK+2C3Bi2by8r7YLcGLZvLyvtgtwYtm8vK+2C3Bi2by8r53MlFz+3y7P0pqoHK5j8k/+vylxCx0xD8eiscrv4zQP2fEAxlSLKA/XMHErk21rb/cwklS7mTGvzQKq26po9K/hnbfJSKcvb+SouzEOLi3v+tmxsn9jJc/2J2XBywMTL/TK8GLZvLyvlAZx8hvBJC/LKH1exECoL9HRIzUruN/PxREFyUVCoU/QcQWRucFaj/owxcEQw5wv4WVgv1rn2q/Y3D6RrmtZL9WLcGLZvLyvoshkXmo9W+/MslmM+S6db9VkntNiR+uP74wsOKtep0/DDNsWW2bVL+P2+7GDQegvxib2PdBO6m/KDek3igHcT/Gnla3dx52PycmKnNiUVi/79h1eJQjgb9O4vnqTldmvy0rktITJFQ/kSn7q3wnaz9HAKjOYPpcPwpt9Ku7IWS/yKUuZTr8Vb8hAAu+q9NcP7YJBgP0kV2/WYtvkadObD+LnMWISohQv/xTAuQcV5I/nmidkpGcgz/ATXvvec6lP9Acv++RP7A/ZMVVU9cJpj+c6QRNXPnAP+j3Nysw3Nw/IxxAFRWG4z9I9YAp1T/iPx9LB/EVTdg/YsW0oTW1xT/5EiVyEcHgP4kbwR2dZrQ/c+Lv3tLHyr8OP3tolg7Yv2v9RzBw++K/qk0x/gFY078CK/04xiLhvyBqfdgi592/lZuffYuizb/afR9tzYa7v8SCLNG6tau/AYIT8HmMsb/vqtDk8P+Tv+s/O+FLW5i/qbAoRDKtp788dmUSOwmiv8yyQr14kqG//vA9ZQoyeT+I6SficQB1P4mebisCllA/hjThmOFqab8hTdLqX/F3vw==",
          "dtype": "f8"
         },
         "yaxis": "y2"
        },
        {
         "mode": "lines",
         "name": "FluA-Nat_slope_7",
         "type": "scatter",
         "x": {
          "bdata": "AAABAAIAAwAEAAUABgAHAAgACQAKAAsADAANAA4ADwAQABEAEgATABQAFQAWABcAGAAZABoAGwAcAB0AHgAfACAAIQAiACMAJAAlACYAJwAoACkAKgArACwALQAuAC8AMAAxADIAMwA0ADUANgA3ADgAOQA6ADsAPAA9AD4APwBAAEEAQgBDAEQARQBGAEcASABJAEoASwBMAE0ATgBPAFAAUQBSAFMAVABVAFYAVwBYAFkAWgBbAFwAXQBeAF8AYABhAGIAYwBkAGUAZgBnAGgAaQBqAGsAbABtAG4AbwBwAHEAcgBzAHQAdQB2AHcAeAB5AHoAewB8AH0AfgB/AIAAgQCCAIMAhACFAIYAhwCIAIkAigCLAIwAjQCOAI8AkACRAJIAkwCUAJUAlgCXAJgAmQCaAJsAnACdAJ4AnwCgAKEAogCjAKQApQCmAKcAqACpAKoAqwCsAK0ArgCvALAAsQCyALMAtAC1ALYAtwC4ALkAugC7ALwAvQC+AL8AwADBAA==",
          "dtype": "i2"
         },
         "y": {
          "bdata": "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",
          "dtype": "f8"
         },
         "yaxis": "y2"
        }
       ],
       "layout": {
        "height": 500,
        "hovermode": "x unified",
        "legend": {
         "x": 0.01,
         "y": 0.99
        },
        "template": {
         "data": {
          "bar": [
           {
            "error_x": {
             "color": "#2a3f5f"
            },
            "error_y": {
             "color": "#2a3f5f"
            },
            "marker": {
             "line": {
              "color": "#E5ECF6",
              "width": 0.5
             },
             "pattern": {
              "fillmode": "overlay",
              "size": 10,
              "solidity": 0.2
             }
            },
            "type": "bar"
           }
          ],
          "barpolar": [
           {
            "marker": {
             "line": {
              "color": "#E5ECF6",
              "width": 0.5
             },
             "pattern": {
              "fillmode": "overlay",
              "size": 10,
              "solidity": 0.2
             }
            },
            "type": "barpolar"
           }
          ],
          "carpet": [
           {
            "aaxis": {
             "endlinecolor": "#2a3f5f",
             "gridcolor": "white",
             "linecolor": "white",
             "minorgridcolor": "white",
             "startlinecolor": "#2a3f5f"
            },
            "baxis": {
             "endlinecolor": "#2a3f5f",
             "gridcolor": "white",
             "linecolor": "white",
             "minorgridcolor": "white",
             "startlinecolor": "#2a3f5f"
            },
            "type": "carpet"
           }
          ],
          "choropleth": [
           {
            "colorbar": {
             "outlinewidth": 0,
             "ticks": ""
            },
            "type": "choropleth"
           }
          ],
          "contour": [
           {
            "colorbar": {
             "outlinewidth": 0,
             "ticks": ""
            },
            "colorscale": [
             [
              0,
              "#0d0887"
             ],
             [
              0.1111111111111111,
              "#46039f"
             ],
             [
              0.2222222222222222,
              "#7201a8"
             ],
             [
              0.3333333333333333,
              "#9c179e"
             ],
             [
              0.4444444444444444,
              "#bd3786"
             ],
             [
              0.5555555555555556,
              "#d8576b"
             ],
             [
              0.6666666666666666,
              "#ed7953"
             ],
             [
              0.7777777777777778,
              "#fb9f3a"
             ],
             [
              0.8888888888888888,
              "#fdca26"
             ],
             [
              1,
              "#f0f921"
             ]
            ],
            "type": "contour"
           }
          ],
          "contourcarpet": [
           {
            "colorbar": {
             "outlinewidth": 0,
             "ticks": ""
            },
            "type": "contourcarpet"
           }
          ],
          "heatmap": [
           {
            "colorbar": {
             "outlinewidth": 0,
             "ticks": ""
            },
            "colorscale": [
             [
              0,
              "#0d0887"
             ],
             [
              0.1111111111111111,
              "#46039f"
             ],
             [
              0.2222222222222222,
              "#7201a8"
             ],
             [
              0.3333333333333333,
              "#9c179e"
             ],
             [
              0.4444444444444444,
              "#bd3786"
             ],
             [
              0.5555555555555556,
              "#d8576b"
             ],
             [
              0.6666666666666666,
              "#ed7953"
             ],
             [
              0.7777777777777778,
              "#fb9f3a"
             ],
             [
              0.8888888888888888,
              "#fdca26"
             ],
             [
              1,
              "#f0f921"
             ]
            ],
            "type": "heatmap"
           }
          ],
          "histogram": [
           {
            "marker": {
             "pattern": {
              "fillmode": "overlay",
              "size": 10,
              "solidity": 0.2
             }
            },
            "type": "histogram"
           }
          ],
          "histogram2d": [
           {
            "colorbar": {
             "outlinewidth": 0,
             "ticks": ""
            },
            "colorscale": [
             [
              0,
              "#0d0887"
             ],
             [
              0.1111111111111111,
              "#46039f"
             ],
             [
              0.2222222222222222,
              "#7201a8"
             ],
             [
              0.3333333333333333,
              "#9c179e"
             ],
             [
              0.4444444444444444,
              "#bd3786"
             ],
             [
              0.5555555555555556,
              "#d8576b"
             ],
             [
              0.6666666666666666,
              "#ed7953"
             ],
             [
              0.7777777777777778,
              "#fb9f3a"
             ],
             [
              0.8888888888888888,
              "#fdca26"
             ],
             [
              1,
              "#f0f921"
             ]
            ],
            "type": "histogram2d"
           }
          ],
          "histogram2dcontour": [
           {
            "colorbar": {
             "outlinewidth": 0,
             "ticks": ""
            },
            "colorscale": [
             [
              0,
              "#0d0887"
             ],
             [
              0.1111111111111111,
              "#46039f"
             ],
             [
              0.2222222222222222,
              "#7201a8"
             ],
             [
              0.3333333333333333,
              "#9c179e"
             ],
             [
              0.4444444444444444,
              "#bd3786"
             ],
             [
              0.5555555555555556,
              "#d8576b"
             ],
             [
              0.6666666666666666,
              "#ed7953"
             ],
             [
              0.7777777777777778,
              "#fb9f3a"
             ],
             [
              0.8888888888888888,
              "#fdca26"
             ],
             [
              1,
              "#f0f921"
             ]
            ],
            "type": "histogram2dcontour"
           }
          ],
          "mesh3d": [
           {
            "colorbar": {
             "outlinewidth": 0,
             "ticks": ""
            },
            "type": "mesh3d"
           }
          ],
          "parcoords": [
           {
            "line": {
             "colorbar": {
              "outlinewidth": 0,
              "ticks": ""
             }
            },
            "type": "parcoords"
           }
          ],
          "pie": [
           {
            "automargin": true,
            "type": "pie"
           }
          ],
          "scatter": [
           {
            "fillpattern": {
             "fillmode": "overlay",
             "size": 10,
             "solidity": 0.2
            },
            "type": "scatter"
           }
          ],
          "scatter3d": [
           {
            "line": {
             "colorbar": {
              "outlinewidth": 0,
              "ticks": ""
             }
            },
            "marker": {
             "colorbar": {
              "outlinewidth": 0,
              "ticks": ""
             }
            },
            "type": "scatter3d"
           }
          ],
          "scattercarpet": [
           {
            "marker": {
             "colorbar": {
              "outlinewidth": 0,
              "ticks": ""
             }
            },
            "type": "scattercarpet"
           }
          ],
          "scattergeo": [
           {
            "marker": {
             "colorbar": {
              "outlinewidth": 0,
              "ticks": ""
             }
            },
            "type": "scattergeo"
           }
          ],
          "scattergl": [
           {
            "marker": {
             "colorbar": {
              "outlinewidth": 0,
              "ticks": ""
             }
            },
            "type": "scattergl"
           }
          ],
          "scattermap": [
           {
            "marker": {
             "colorbar": {
              "outlinewidth": 0,
              "ticks": ""
             }
            },
            "type": "scattermap"
           }
          ],
          "scattermapbox": [
           {
            "marker": {
             "colorbar": {
              "outlinewidth": 0,
              "ticks": ""
             }
            },
            "type": "scattermapbox"
           }
          ],
          "scatterpolar": [
           {
            "marker": {
             "colorbar": {
              "outlinewidth": 0,
              "ticks": ""
             }
            },
            "type": "scatterpolar"
           }
          ],
          "scatterpolargl": [
           {
            "marker": {
             "colorbar": {
              "outlinewidth": 0,
              "ticks": ""
             }
            },
            "type": "scatterpolargl"
           }
          ],
          "scatterternary": [
           {
            "marker": {
             "colorbar": {
              "outlinewidth": 0,
              "ticks": ""
             }
            },
            "type": "scatterternary"
           }
          ],
          "surface": [
           {
            "colorbar": {
             "outlinewidth": 0,
             "ticks": ""
            },
            "colorscale": [
             [
              0,
              "#0d0887"
             ],
             [
              0.1111111111111111,
              "#46039f"
             ],
             [
              0.2222222222222222,
              "#7201a8"
             ],
             [
              0.3333333333333333,
              "#9c179e"
             ],
             [
              0.4444444444444444,
              "#bd3786"
             ],
             [
              0.5555555555555556,
              "#d8576b"
             ],
             [
              0.6666666666666666,
              "#ed7953"
             ],
             [
              0.7777777777777778,
              "#fb9f3a"
             ],
             [
              0.8888888888888888,
              "#fdca26"
             ],
             [
              1,
              "#f0f921"
             ]
            ],
            "type": "surface"
           }
          ],
          "table": [
           {
            "cells": {
             "fill": {
              "color": "#EBF0F8"
             },
             "line": {
              "color": "white"
             }
            },
            "header": {
             "fill": {
              "color": "#C8D4E3"
             },
             "line": {
              "color": "white"
             }
            },
            "type": "table"
           }
          ]
         },
         "layout": {
          "annotationdefaults": {
           "arrowcolor": "#2a3f5f",
           "arrowhead": 0,
           "arrowwidth": 1
          },
          "autotypenumbers": "strict",
          "coloraxis": {
           "colorbar": {
            "outlinewidth": 0,
            "ticks": ""
           }
          },
          "colorscale": {
           "diverging": [
            [
             0,
             "#8e0152"
            ],
            [
             0.1,
             "#c51b7d"
            ],
            [
             0.2,
             "#de77ae"
            ],
            [
             0.3,
             "#f1b6da"
            ],
            [
             0.4,
             "#fde0ef"
            ],
            [
             0.5,
             "#f7f7f7"
            ],
            [
             0.6,
             "#e6f5d0"
            ],
            [
             0.7,
             "#b8e186"
            ],
            [
             0.8,
             "#7fbc41"
            ],
            [
             0.9,
             "#4d9221"
            ],
            [
             1,
             "#276419"
            ]
           ],
           "sequential": [
            [
             0,
             "#0d0887"
            ],
            [
             0.1111111111111111,
             "#46039f"
            ],
            [
             0.2222222222222222,
             "#7201a8"
            ],
            [
             0.3333333333333333,
             "#9c179e"
            ],
            [
             0.4444444444444444,
             "#bd3786"
            ],
            [
             0.5555555555555556,
             "#d8576b"
            ],
            [
             0.6666666666666666,
             "#ed7953"
            ],
            [
             0.7777777777777778,
             "#fb9f3a"
            ],
            [
             0.8888888888888888,
             "#fdca26"
            ],
            [
             1,
             "#f0f921"
            ]
           ],
           "sequentialminus": [
            [
             0,
             "#0d0887"
            ],
            [
             0.1111111111111111,
             "#46039f"
            ],
            [
             0.2222222222222222,
             "#7201a8"
            ],
            [
             0.3333333333333333,
             "#9c179e"
            ],
            [
             0.4444444444444444,
             "#bd3786"
            ],
            [
             0.5555555555555556,
             "#d8576b"
            ],
            [
             0.6666666666666666,
             "#ed7953"
            ],
            [
             0.7777777777777778,
             "#fb9f3a"
            ],
            [
             0.8888888888888888,
             "#fdca26"
            ],
            [
             1,
             "#f0f921"
            ]
           ]
          },
          "colorway": [
           "#636efa",
           "#EF553B",
           "#00cc96",
           "#ab63fa",
           "#FFA15A",
           "#19d3f3",
           "#FF6692",
           "#B6E880",
           "#FF97FF",
           "#FECB52"
          ],
          "font": {
           "color": "#2a3f5f"
          },
          "geo": {
           "bgcolor": "white",
           "lakecolor": "white",
           "landcolor": "#E5ECF6",
           "showlakes": true,
           "showland": true,
           "subunitcolor": "white"
          },
          "hoverlabel": {
           "align": "left"
          },
          "hovermode": "closest",
          "mapbox": {
           "style": "light"
          },
          "paper_bgcolor": "white",
          "plot_bgcolor": "#E5ECF6",
          "polar": {
           "angularaxis": {
            "gridcolor": "white",
            "linecolor": "white",
            "ticks": ""
           },
           "bgcolor": "#E5ECF6",
           "radialaxis": {
            "gridcolor": "white",
            "linecolor": "white",
            "ticks": ""
           }
          },
          "scene": {
           "xaxis": {
            "backgroundcolor": "#E5ECF6",
            "gridcolor": "white",
            "gridwidth": 2,
            "linecolor": "white",
            "showbackground": true,
            "ticks": "",
            "zerolinecolor": "white"
           },
           "yaxis": {
            "backgroundcolor": "#E5ECF6",
            "gridcolor": "white",
            "gridwidth": 2,
            "linecolor": "white",
            "showbackground": true,
            "ticks": "",
            "zerolinecolor": "white"
           },
           "zaxis": {
            "backgroundcolor": "#E5ECF6",
            "gridcolor": "white",
            "gridwidth": 2,
            "linecolor": "white",
            "showbackground": true,
            "ticks": "",
            "zerolinecolor": "white"
           }
          },
          "shapedefaults": {
           "line": {
            "color": "#2a3f5f"
           }
          },
          "ternary": {
           "aaxis": {
            "gridcolor": "white",
            "linecolor": "white",
            "ticks": ""
           },
           "baxis": {
            "gridcolor": "white",
            "linecolor": "white",
            "ticks": ""
           },
           "bgcolor": "#E5ECF6",
           "caxis": {
            "gridcolor": "white",
            "linecolor": "white",
            "ticks": ""
           }
          },
          "title": {
           "x": 0.05
          },
          "xaxis": {
           "automargin": true,
           "gridcolor": "white",
           "linecolor": "white",
           "ticks": "",
           "title": {
            "standoff": 15
           },
           "zerolinecolor": "white",
           "zerolinewidth": 2
          },
          "yaxis": {
           "automargin": true,
           "gridcolor": "white",
           "linecolor": "white",
           "ticks": "",
           "title": {
            "standoff": 15
           },
           "zerolinecolor": "white",
           "zerolinewidth": 2
          }
         }
        },
        "title": {
         "text": "FluA-Nat and Slope Features (Window 2,3,4,5,7)"
        },
        "width": 900,
        "xaxis": {
         "title": {
          "text": "Time Index"
         }
        },
        "yaxis": {
         "showgrid": true,
         "side": "left",
         "title": {
          "text": "RNA Copies"
         }
        },
        "yaxis2": {
         "overlaying": "y",
         "range": [
          -1,
          1
         ],
         "showgrid": false,
         "side": "right",
         "title": {
          "text": "Normalized Slope"
         },
         "zeroline": true
        }
       }
      }
     },
     "metadata": {},
     "output_type": "display_data"
    }
   ],
   "source": [
    "plot_df = df_flu[['FluA-Nat', \n",
    "                #   'FluA-Nat_slope_2', \n",
    "                #   'FluA-Nat_slope_3', \n",
    "                  'FluA-Nat_slope_4', \n",
    "                  'FluA-Nat_slope_5', \n",
    "                  'FluA-Nat_slope_7']].copy()\n",
    "plot_df['index'] = plot_df.index  # Needed for x-axis\n",
    "\n",
    "# Separate the slope columns and the original value column\n",
    "slope_cols = [\n",
    "    # 'FluA-Nat_slope_2', \n",
    "    # 'FluA-Nat_slope_3', \n",
    "    'FluA-Nat_slope_4', \n",
    "    'FluA-Nat_slope_5', \n",
    "    'FluA-Nat_slope_7']\n",
    "\n",
    "fig = go.Figure()\n",
    "\n",
    "# Add FluA-Nat line on primary y-axis\n",
    "fig.add_trace(go.Scatter(\n",
    "    x=plot_df['index'],\n",
    "    y=plot_df['FluA-Nat'],\n",
    "    mode='lines+markers',\n",
    "    name='FluA-Nat',\n",
    "    marker=dict(size=6, color='black', symbol='circle-open'),\n",
    "    yaxis='y1'\n",
    "))\n",
    "\n",
    "# Add slope lines on secondary y-axis\n",
    "for col in slope_cols:\n",
    "    fig.add_trace(go.Scatter(\n",
    "        x=plot_df['index'],\n",
    "        y=plot_df[col],\n",
    "        mode='lines',\n",
    "        name=col,\n",
    "        yaxis='y2'\n",
    "    ))\n",
    "\n",
    "fig.update_layout(\n",
    "    title='FluA-Nat and Slope Features (Window 2,3,4,5,7)',\n",
    "    xaxis=dict(title='Time Index'),\n",
    "    yaxis=dict(\n",
    "        title='RNA Copies',\n",
    "        side='left',\n",
    "        showgrid=True\n",
    "    ),\n",
    "    yaxis2=dict(\n",
    "        title='Normalized Slope',\n",
    "        overlaying='y',\n",
    "        side='right',\n",
    "        range=[-1, 1],\n",
    "        showgrid=False,\n",
    "        zeroline=True\n",
    "    ),\n",
    "    legend=dict(x=0.01, y=0.99),\n",
    "    hovermode='x unified',\n",
    "    width=900,\n",
    "    height=500\n",
    ")\n",
    "\n",
    "fig.show()"
   ]
  },
  {
   "cell_type": "markdown",
   "id": "dfe3ac93",
   "metadata": {},
   "source": [
    "#### save the flu data"
   ]
  },
  {
   "cell_type": "code",
   "execution_count": 19,
   "id": "3fc3d2d1",
   "metadata": {},
   "outputs": [],
   "source": [
    "fluA_slope_cols = [col for col in df_flu.columns if col.__contains__('slope')]\n",
    "\n",
    "for col in fluA_slope_cols:\n",
    "    # print(col)\n",
    "    local_df = pd.DataFrame({\n",
    "        'time': df_flu['date'],\n",
    "        'rna_copies': df_flu[col],\n",
    "        'label': \"FluA\"\n",
    "    })\n",
    "    local_df = local_df.dropna(subset=['rna_copies'])\n",
    "    local_df.to_csv(f'./data_preprocess/{col}.csv', index=False)"
   ]
  },
  {
   "cell_type": "markdown",
   "id": "431fc520",
   "metadata": {},
   "source": [
    "### flu B"
   ]
  },
  {
   "cell_type": "code",
   "execution_count": 20,
   "id": "6ea2ec2f",
   "metadata": {},
   "outputs": [
    {
     "data": {
      "application/vnd.microsoft.datawrangler.viewer.v0+json": {
       "columns": [
        {
         "name": "index",
         "rawType": "int64",
         "type": "integer"
        },
        {
         "name": "yyyy-w (Flu)",
         "rawType": "object",
         "type": "string"
        },
        {
         "name": "FluA-Nat",
         "rawType": "float64",
         "type": "float"
        },
        {
         "name": "FluB-Nat",
         "rawType": "float64",
         "type": "float"
        },
        {
         "name": "Mov-FluA-Nat",
         "rawType": "float64",
         "type": "float"
        },
        {
         "name": "Mov-FluB-Nat",
         "rawType": "float64",
         "type": "float"
        },
        {
         "name": "FluA-BEG",
         "rawType": "float64",
         "type": "float"
        },
        {
         "name": "FluB-BEG",
         "rawType": "float64",
         "type": "float"
        },
        {
         "name": "Mov-FluA-BEG",
         "rawType": "float64",
         "type": "float"
        },
        {
         "name": "Mov-FluB-BEG",
         "rawType": "float64",
         "type": "float"
        },
        {
         "name": "FluA-BET",
         "rawType": "float64",
         "type": "float"
        },
        {
         "name": "FluB-BET",
         "rawType": "float64",
         "type": "float"
        },
        {
         "name": "Mov-FluA-BET",
         "rawType": "float64",
         "type": "float"
        },
        {
         "name": "Mov-FluB-BET",
         "rawType": "float64",
         "type": "float"
        },
        {
         "name": "FluA-PET",
         "rawType": "float64",
         "type": "float"
        },
        {
         "name": "FluB-PET",
         "rawType": "float64",
         "type": "float"
        },
        {
         "name": "Mov-FluA-PET",
         "rawType": "float64",
         "type": "float"
        },
        {
         "name": "Mov-FluB-PET",
         "rawType": "float64",
         "type": "float"
        },
        {
         "name": "FluA-SCH",
         "rawType": "float64",
         "type": "float"
        },
        {
         "name": "FluB-SCH",
         "rawType": "float64",
         "type": "float"
        },
        {
         "name": "Mov-FluA-SCH",
         "rawType": "float64",
         "type": "float"
        },
        {
         "name": "Mov-FluB-SCH",
         "rawType": "float64",
         "type": "float"
        },
        {
         "name": "FluA-BLE",
         "rawType": "float64",
         "type": "float"
        },
        {
         "name": "FluB-BLE",
         "rawType": "float64",
         "type": "float"
        },
        {
         "name": "Mov-FluA-BLE",
         "rawType": "float64",
         "type": "float"
        },
        {
         "name": "Mov-FluB-BLE",
         "rawType": "float64",
         "type": "float"
        },
        {
         "name": "FluA-MER",
         "rawType": "float64",
         "type": "float"
        },
        {
         "name": "FluB-MER",
         "rawType": "float64",
         "type": "float"
        },
        {
         "name": "Mov-FluA-MER",
         "rawType": "float64",
         "type": "float"
        },
        {
         "name": "Mov-FluB-MER",
         "rawType": "float64",
         "type": "float"
        },
        {
         "name": "FluA-UEB",
         "rawType": "float64",
         "type": "float"
        },
        {
         "name": "FluB-UEB",
         "rawType": "float64",
         "type": "float"
        },
        {
         "name": "Mov-FluA-UEB",
         "rawType": "float64",
         "type": "float"
        },
        {
         "name": "Mov-FluB-UEB",
         "rawType": "float64",
         "type": "float"
        },
        {
         "name": "FluA-ECH",
         "rawType": "float64",
         "type": "float"
        },
        {
         "name": "FluB-ECH",
         "rawType": "float64",
         "type": "float"
        },
        {
         "name": "Mov-FluA-ECH",
         "rawType": "float64",
         "type": "float"
        },
        {
         "name": "Mov-FluB-ECH",
         "rawType": "float64",
         "type": "float"
        },
        {
         "name": "FluA-BOE",
         "rawType": "float64",
         "type": "float"
        },
        {
         "name": "FluB-BOE",
         "rawType": "float64",
         "type": "float"
        },
        {
         "name": "Mov-FluA-BOE",
         "rawType": "float64",
         "type": "float"
        },
        {
         "name": "Mov-FluB-BOE",
         "rawType": "float64",
         "type": "float"
        },
        {
         "name": "FluA-GRE",
         "rawType": "float64",
         "type": "float"
        },
        {
         "name": "FluB-GRE",
         "rawType": "float64",
         "type": "float"
        },
        {
         "name": "Mov-FluA-GRE",
         "rawType": "float64",
         "type": "float"
        },
        {
         "name": "Mov-FluB-GRE",
         "rawType": "float64",
         "type": "float"
        },
        {
         "name": "FluA-HES",
         "rawType": "float64",
         "type": "float"
        },
        {
         "name": "FluB-HES",
         "rawType": "float64",
         "type": "float"
        },
        {
         "name": "Mov-FluA-HES",
         "rawType": "float64",
         "type": "float"
        },
        {
         "name": "Mov-FluB-HES",
         "rawType": "float64",
         "type": "float"
        },
        {
         "name": "FluA-VIE",
         "rawType": "float64",
         "type": "float"
        },
        {
         "name": "FluB-VIE",
         "rawType": "float64",
         "type": "float"
        },
        {
         "name": "Mov-FluA-VIE",
         "rawType": "float64",
         "type": "float"
        },
        {
         "name": "Mov-FluB-VIE",
         "rawType": "float64",
         "type": "float"
        },
        {
         "name": "FluA-WIL",
         "rawType": "float64",
         "type": "float"
        },
        {
         "name": "FluB-WIL",
         "rawType": "float64",
         "type": "float"
        },
        {
         "name": "Mov-FluA-WIL",
         "rawType": "float64",
         "type": "float"
        },
        {
         "name": "Mov-FluB-WIL",
         "rawType": "float64",
         "type": "float"
        },
        {
         "name": "SAMPLES-Nat",
         "rawType": "float64",
         "type": "float"
        },
        {
         "name": "SAMPLES-BEG",
         "rawType": "float64",
         "type": "float"
        },
        {
         "name": "SAMPLES-BET",
         "rawType": "float64",
         "type": "float"
        },
        {
         "name": "SAMPLES-PET",
         "rawType": "float64",
         "type": "float"
        },
        {
         "name": "SAMPLES-SCH",
         "rawType": "float64",
         "type": "float"
        },
        {
         "name": "SAMPLES-BLE",
         "rawType": "float64",
         "type": "float"
        },
        {
         "name": "SAMPLES-MER",
         "rawType": "float64",
         "type": "float"
        },
        {
         "name": "SAMPLES-UEB",
         "rawType": "float64",
         "type": "float"
        },
        {
         "name": "SAMPLES-ECH",
         "rawType": "float64",
         "type": "float"
        },
        {
         "name": "SAMPLES-BOE",
         "rawType": "float64",
         "type": "float"
        },
        {
         "name": "SAMPLES-GRE",
         "rawType": "float64",
         "type": "float"
        },
        {
         "name": "SAMPLES-HES",
         "rawType": "float64",
         "type": "float"
        },
        {
         "name": "SAMPLES-VIE",
         "rawType": "float64",
         "type": "float"
        },
        {
         "name": "SAMPLES-WIL",
         "rawType": "float64",
         "type": "float"
        },
        {
         "name": "SITUATION-Nat",
         "rawType": "object",
         "type": "unknown"
        },
        {
         "name": "date",
         "rawType": "datetime64[ns]",
         "type": "datetime"
        },
        {
         "name": "FluA-Nat_slope_4",
         "rawType": "float64",
         "type": "float"
        },
        {
         "name": "FluA-Nat_slope_5",
         "rawType": "float64",
         "type": "float"
        },
        {
         "name": "FluA-Nat_slope_7",
         "rawType": "float64",
         "type": "float"
        },
        {
         "name": "FluA-BEG_slope_4",
         "rawType": "float64",
         "type": "float"
        },
        {
         "name": "FluA-BEG_slope_5",
         "rawType": "float64",
         "type": "float"
        },
        {
         "name": "FluA-BEG_slope_7",
         "rawType": "float64",
         "type": "float"
        },
        {
         "name": "FluA-BET_slope_4",
         "rawType": "float64",
         "type": "float"
        },
        {
         "name": "FluA-BET_slope_5",
         "rawType": "float64",
         "type": "float"
        },
        {
         "name": "FluA-BET_slope_7",
         "rawType": "float64",
         "type": "float"
        },
        {
         "name": "FluA-PET_slope_4",
         "rawType": "float64",
         "type": "float"
        },
        {
         "name": "FluA-PET_slope_5",
         "rawType": "float64",
         "type": "float"
        },
        {
         "name": "FluA-PET_slope_7",
         "rawType": "float64",
         "type": "float"
        },
        {
         "name": "FluA-SCH_slope_4",
         "rawType": "float64",
         "type": "float"
        },
        {
         "name": "FluA-SCH_slope_5",
         "rawType": "float64",
         "type": "float"
        },
        {
         "name": "FluA-SCH_slope_7",
         "rawType": "float64",
         "type": "float"
        },
        {
         "name": "FluA-BLE_slope_4",
         "rawType": "float64",
         "type": "float"
        },
        {
         "name": "FluA-BLE_slope_5",
         "rawType": "float64",
         "type": "float"
        },
        {
         "name": "FluA-BLE_slope_7",
         "rawType": "float64",
         "type": "float"
        },
        {
         "name": "FluA-MER_slope_4",
         "rawType": "float64",
         "type": "float"
        },
        {
         "name": "FluA-MER_slope_5",
         "rawType": "float64",
         "type": "float"
        },
        {
         "name": "FluA-MER_slope_7",
         "rawType": "float64",
         "type": "float"
        },
        {
         "name": "FluA-UEB_slope_4",
         "rawType": "float64",
         "type": "float"
        },
        {
         "name": "FluA-UEB_slope_5",
         "rawType": "float64",
         "type": "float"
        },
        {
         "name": "FluA-UEB_slope_7",
         "rawType": "float64",
         "type": "float"
        },
        {
         "name": "FluA-ECH_slope_4",
         "rawType": "float64",
         "type": "float"
        },
        {
         "name": "FluA-ECH_slope_5",
         "rawType": "float64",
         "type": "float"
        },
        {
         "name": "FluA-ECH_slope_7",
         "rawType": "float64",
         "type": "float"
        },
        {
         "name": "FluA-BOE_slope_4",
         "rawType": "float64",
         "type": "float"
        },
        {
         "name": "FluA-BOE_slope_5",
         "rawType": "float64",
         "type": "float"
        },
        {
         "name": "FluA-BOE_slope_7",
         "rawType": "float64",
         "type": "float"
        },
        {
         "name": "FluA-GRE_slope_4",
         "rawType": "float64",
         "type": "float"
        },
        {
         "name": "FluA-GRE_slope_5",
         "rawType": "float64",
         "type": "float"
        },
        {
         "name": "FluA-GRE_slope_7",
         "rawType": "float64",
         "type": "float"
        },
        {
         "name": "FluA-HES_slope_4",
         "rawType": "float64",
         "type": "float"
        },
        {
         "name": "FluA-HES_slope_5",
         "rawType": "float64",
         "type": "float"
        },
        {
         "name": "FluA-HES_slope_7",
         "rawType": "float64",
         "type": "float"
        },
        {
         "name": "FluA-VIE_slope_4",
         "rawType": "float64",
         "type": "float"
        },
        {
         "name": "FluA-VIE_slope_5",
         "rawType": "float64",
         "type": "float"
        },
        {
         "name": "FluA-VIE_slope_7",
         "rawType": "float64",
         "type": "float"
        },
        {
         "name": "FluA-WIL_slope_4",
         "rawType": "float64",
         "type": "float"
        },
        {
         "name": "FluA-WIL_slope_5",
         "rawType": "float64",
         "type": "float"
        },
        {
         "name": "FluA-WIL_slope_7",
         "rawType": "float64",
         "type": "float"
        },
        {
         "name": "FluB-Nat_slope_4",
         "rawType": "float64",
         "type": "float"
        },
        {
         "name": "FluB-Nat_slope_5",
         "rawType": "float64",
         "type": "float"
        },
        {
         "name": "FluB-Nat_slope_7",
         "rawType": "float64",
         "type": "float"
        },
        {
         "name": "FluB-BEG_slope_4",
         "rawType": "float64",
         "type": "float"
        },
        {
         "name": "FluB-BEG_slope_5",
         "rawType": "float64",
         "type": "float"
        },
        {
         "name": "FluB-BEG_slope_7",
         "rawType": "float64",
         "type": "float"
        },
        {
         "name": "FluB-BET_slope_4",
         "rawType": "float64",
         "type": "float"
        },
        {
         "name": "FluB-BET_slope_5",
         "rawType": "float64",
         "type": "float"
        },
        {
         "name": "FluB-BET_slope_7",
         "rawType": "float64",
         "type": "float"
        },
        {
         "name": "FluB-PET_slope_4",
         "rawType": "float64",
         "type": "float"
        },
        {
         "name": "FluB-PET_slope_5",
         "rawType": "float64",
         "type": "float"
        },
        {
         "name": "FluB-PET_slope_7",
         "rawType": "float64",
         "type": "float"
        },
        {
         "name": "FluB-SCH_slope_4",
         "rawType": "float64",
         "type": "float"
        },
        {
         "name": "FluB-SCH_slope_5",
         "rawType": "float64",
         "type": "float"
        },
        {
         "name": "FluB-SCH_slope_7",
         "rawType": "float64",
         "type": "float"
        },
        {
         "name": "FluB-BLE_slope_4",
         "rawType": "float64",
         "type": "float"
        },
        {
         "name": "FluB-BLE_slope_5",
         "rawType": "float64",
         "type": "float"
        },
        {
         "name": "FluB-BLE_slope_7",
         "rawType": "float64",
         "type": "float"
        },
        {
         "name": "FluB-MER_slope_4",
         "rawType": "float64",
         "type": "float"
        },
        {
         "name": "FluB-MER_slope_5",
         "rawType": "float64",
         "type": "float"
        },
        {
         "name": "FluB-MER_slope_7",
         "rawType": "float64",
         "type": "float"
        },
        {
         "name": "FluB-UEB_slope_4",
         "rawType": "float64",
         "type": "float"
        },
        {
         "name": "FluB-UEB_slope_5",
         "rawType": "float64",
         "type": "float"
        },
        {
         "name": "FluB-UEB_slope_7",
         "rawType": "float64",
         "type": "float"
        },
        {
         "name": "FluB-ECH_slope_4",
         "rawType": "float64",
         "type": "float"
        },
        {
         "name": "FluB-ECH_slope_5",
         "rawType": "float64",
         "type": "float"
        },
        {
         "name": "FluB-ECH_slope_7",
         "rawType": "float64",
         "type": "float"
        },
        {
         "name": "FluB-BOE_slope_4",
         "rawType": "float64",
         "type": "float"
        },
        {
         "name": "FluB-BOE_slope_5",
         "rawType": "float64",
         "type": "float"
        },
        {
         "name": "FluB-BOE_slope_7",
         "rawType": "float64",
         "type": "float"
        },
        {
         "name": "FluB-GRE_slope_4",
         "rawType": "float64",
         "type": "float"
        },
        {
         "name": "FluB-GRE_slope_5",
         "rawType": "float64",
         "type": "float"
        },
        {
         "name": "FluB-GRE_slope_7",
         "rawType": "float64",
         "type": "float"
        },
        {
         "name": "FluB-HES_slope_4",
         "rawType": "float64",
         "type": "float"
        },
        {
         "name": "FluB-HES_slope_5",
         "rawType": "float64",
         "type": "float"
        },
        {
         "name": "FluB-HES_slope_7",
         "rawType": "float64",
         "type": "float"
        },
        {
         "name": "FluB-VIE_slope_4",
         "rawType": "float64",
         "type": "float"
        },
        {
         "name": "FluB-VIE_slope_5",
         "rawType": "float64",
         "type": "float"
        },
        {
         "name": "FluB-VIE_slope_7",
         "rawType": "float64",
         "type": "float"
        },
        {
         "name": "FluB-WIL_slope_4",
         "rawType": "float64",
         "type": "float"
        },
        {
         "name": "FluB-WIL_slope_5",
         "rawType": "float64",
         "type": "float"
        },
        {
         "name": "FluB-WIL_slope_7",
         "rawType": "float64",
         "type": "float"
        }
       ],
       "ref": "9e8b0dd6-5c91-4680-b06e-4c1569c6fbcd",
       "rows": [
        [
         "0",
         "2021_40",
         "0.0",
         "0.0",
         null,
         null,
         "0.0",
         "0.0",
         null,
         null,
         "0.0",
         "0.0",
         null,
         null,
         "0.0",
         "0.0",
         null,
         null,
         "0.0",
         "0.0",
         null,
         null,
         null,
         null,
         null,
         null,
         null,
         null,
         null,
         null,
         null,
         null,
         null,
         null,
         null,
         null,
         null,
         null,
         null,
         null,
         null,
         null,
         null,
         null,
         null,
         null,
         null,
         null,
         null,
         null,
         null,
         null,
         null,
         null,
         null,
         null,
         null,
         null,
         "918.0",
         "194.0",
         "191.0",
         "194.0",
         "196.0",
         "36.0",
         "35.0",
         "36.0",
         "36.0",
         null,
         null,
         null,
         null,
         null,
         "Low",
         "2021-10-04 00:00:00",
         null,
         null,
         null,
         null,
         null,
         null,
         null,
         null,
         null,
         null,
         null,
         null,
         null,
         null,
         null,
         null,
         null,
         null,
         null,
         null,
         null,
         null,
         null,
         null,
         null,
         null,
         null,
         null,
         null,
         null,
         null,
         null,
         null,
         null,
         null,
         null,
         null,
         null,
         null,
         null,
         null,
         null,
         null,
         null,
         null,
         null,
         null,
         null,
         null,
         null,
         null,
         null,
         null,
         null,
         null,
         null,
         null,
         null,
         null,
         null,
         null,
         null,
         null,
         null,
         null,
         null,
         null,
         null,
         null,
         null,
         null,
         null,
         null,
         null,
         null,
         null,
         null,
         null,
         null,
         null,
         null,
         null,
         null,
         null
        ],
        [
         "1",
         "2021_41",
         "0.0",
         "0.0",
         null,
         null,
         "0.0",
         "0.0",
         null,
         null,
         "0.0",
         "0.0",
         null,
         null,
         "0.0",
         "0.0",
         null,
         null,
         "0.0",
         "0.0",
         null,
         null,
         null,
         null,
         null,
         null,
         null,
         null,
         null,
         null,
         null,
         null,
         null,
         null,
         null,
         null,
         null,
         null,
         null,
         null,
         null,
         null,
         null,
         null,
         null,
         null,
         null,
         null,
         null,
         null,
         null,
         null,
         null,
         null,
         null,
         null,
         null,
         null,
         null,
         null,
         null,
         null,
         null,
         null,
         null,
         null,
         null,
         null,
         null,
         null,
         null,
         null,
         null,
         "2021-10-11 00:00:00",
         null,
         null,
         null,
         null,
         null,
         null,
         null,
         null,
         null,
         null,
         null,
         null,
         null,
         null,
         null,
         null,
         null,
         null,
         null,
         null,
         null,
         null,
         null,
         null,
         null,
         null,
         null,
         null,
         null,
         null,
         null,
         null,
         null,
         null,
         null,
         null,
         null,
         null,
         null,
         null,
         null,
         null,
         null,
         null,
         null,
         null,
         null,
         null,
         null,
         null,
         null,
         null,
         null,
         null,
         null,
         null,
         null,
         null,
         null,
         null,
         null,
         null,
         null,
         null,
         null,
         null,
         null,
         null,
         null,
         null,
         null,
         null,
         null,
         null,
         null,
         null,
         null,
         null,
         null,
         null,
         null,
         null,
         null,
         null
        ],
        [
         "2",
         "2021_42",
         "0.0",
         "0.0",
         "0.0",
         "0.0",
         "0.0",
         "0.0",
         "0.0",
         "0.0",
         "0.0",
         "0.0",
         "0.0",
         "0.0",
         "0.0",
         "0.0",
         "0.0",
         "0.0",
         "0.0",
         "0.0",
         "0.0",
         "0.0",
         null,
         null,
         null,
         null,
         null,
         null,
         null,
         null,
         null,
         null,
         null,
         null,
         null,
         null,
         null,
         null,
         null,
         null,
         null,
         null,
         null,
         null,
         null,
         null,
         null,
         null,
         null,
         null,
         null,
         null,
         null,
         null,
         null,
         null,
         null,
         null,
         null,
         null,
         null,
         null,
         null,
         null,
         null,
         null,
         null,
         null,
         null,
         null,
         null,
         null,
         null,
         "2021-10-18 00:00:00",
         null,
         null,
         null,
         null,
         null,
         null,
         null,
         null,
         null,
         null,
         null,
         null,
         null,
         null,
         null,
         null,
         null,
         null,
         null,
         null,
         null,
         null,
         null,
         null,
         null,
         null,
         null,
         null,
         null,
         null,
         null,
         null,
         null,
         null,
         null,
         null,
         null,
         null,
         null,
         null,
         null,
         null,
         null,
         null,
         null,
         null,
         null,
         null,
         null,
         null,
         null,
         null,
         null,
         null,
         null,
         null,
         null,
         null,
         null,
         null,
         null,
         null,
         null,
         null,
         null,
         null,
         null,
         null,
         null,
         null,
         null,
         null,
         null,
         null,
         null,
         null,
         null,
         null,
         null,
         null,
         null,
         null,
         null,
         null
        ],
        [
         "3",
         "2021_43",
         "0.0",
         "0.0",
         "0.0",
         "0.0",
         "0.0",
         "0.0",
         "0.0",
         "0.0",
         "0.0",
         "0.0",
         "0.0",
         "0.0",
         "0.0",
         "0.0",
         "0.0",
         "0.0",
         "0.0",
         "0.0",
         "0.0",
         "0.0",
         null,
         null,
         null,
         null,
         null,
         null,
         null,
         null,
         null,
         null,
         null,
         null,
         null,
         null,
         null,
         null,
         null,
         null,
         null,
         null,
         null,
         null,
         null,
         null,
         null,
         null,
         null,
         null,
         null,
         null,
         null,
         null,
         null,
         null,
         null,
         null,
         null,
         null,
         null,
         null,
         null,
         null,
         null,
         null,
         null,
         null,
         null,
         null,
         null,
         null,
         null,
         "2021-10-25 00:00:00",
         "-8.517904476176994e-06",
         null,
         null,
         "1.3282400386417175e-18",
         null,
         null,
         "-9.519466056181685e-19",
         null,
         null,
         "4.66449931249757e-19",
         null,
         null,
         "6.967718877636435e-19",
         null,
         null,
         "-1.6614105256149786e-18",
         null,
         null,
         "-1.0204034506757628e-18",
         null,
         null,
         "-0.00022627316991969798",
         null,
         null,
         "-0.00011280295862635971",
         null,
         null,
         "0.0",
         null,
         null,
         "0.0",
         null,
         null,
         "0.0",
         null,
         null,
         "0.0",
         null,
         null,
         "0.0",
         null,
         null,
         "-2.7184629191170345e-05",
         null,
         null,
         "-0.00018665526776932874",
         null,
         null,
         "-6.232026756140153e-05",
         null,
         null,
         "-3.4282684160870082e-18",
         null,
         null,
         "2.13721652637136e-18",
         null,
         null,
         "2.568279175250405e-18",
         null,
         null,
         "1.6659114251084555e-18",
         null,
         null,
         "-7.55318344545276e-19",
         null,
         null,
         "0.0",
         null,
         null,
         "0.0",
         null,
         null,
         "0.0",
         null,
         null,
         "0.0",
         null,
         null,
         "0.0",
         null,
         null,
         "0.0",
         null,
         null
        ],
        [
         "4",
         "2021_44",
         "0.0",
         "0.0",
         "0.0",
         "0.0",
         "0.0",
         "0.0",
         "0.0",
         "0.0",
         "0.0",
         "0.0",
         "0.0",
         "0.0",
         "0.0",
         "0.0",
         "0.0",
         "0.0",
         "0.0",
         "0.0",
         "0.0",
         "0.0",
         null,
         null,
         null,
         null,
         null,
         null,
         null,
         null,
         null,
         null,
         null,
         null,
         null,
         null,
         null,
         null,
         null,
         null,
         null,
         null,
         null,
         null,
         null,
         null,
         null,
         null,
         null,
         null,
         null,
         null,
         null,
         null,
         null,
         null,
         null,
         null,
         null,
         null,
         null,
         null,
         null,
         null,
         null,
         null,
         null,
         null,
         null,
         null,
         null,
         null,
         null,
         "2021-11-01 00:00:00",
         "-8.517904476176994e-06",
         "-1.806915018702317e-05",
         null,
         "1.3282400386417175e-18",
         "-1.272997278745708e-18",
         null,
         "-9.519466056181685e-19",
         "-2.12657077980199e-18",
         null,
         "4.66449931249757e-19",
         "-7.732241694084975e-05",
         null,
         "6.967718877636435e-19",
         "0.0",
         null,
         "-1.6614105256149786e-18",
         "-1.2868199498639161e-18",
         null,
         "-1.0204034506757628e-18",
         "-3.5518313076915616e-18",
         null,
         "-0.00022627316991969798",
         "-0.0001704158023190733",
         null,
         "-0.00011280295862635971",
         "-0.00011370759056281328",
         null,
         "0.0",
         "0.0",
         null,
         "0.0",
         "0.0",
         null,
         "0.0",
         "0.0",
         null,
         "0.0",
         "0.0",
         null,
         "0.0",
         "0.0",
         null,
         "-2.7184629191170345e-05",
         "-4.073804772659597e-05",
         null,
         "-0.00018665526776932874",
         "-0.00020515673122750082",
         null,
         "-6.232026756140153e-05",
         "-4.9629329754962325e-05",
         null,
         "-3.4282684160870082e-18",
         "-2.415404398158402e-18",
         null,
         "2.13721652637136e-18",
         "-2.378770018228764e-18",
         null,
         "2.568279175250405e-18",
         "-6.725187656350235e-05",
         null,
         "1.6659114251084555e-18",
         "-2.4408082562005738e-18",
         null,
         "-7.55318344545276e-19",
         "5.693179977141136e-19",
         null,
         "0.0",
         "1.1277721018373914e-18",
         null,
         "0.0",
         "0.0",
         null,
         "0.0",
         "0.0",
         null,
         "0.0",
         "0.0",
         null,
         "0.0",
         "0.0",
         null,
         "0.0",
         "0.0",
         null
        ]
       ],
       "shape": {
        "columns": 157,
        "rows": 5
       }
      },
      "text/html": [
       "<div>\n",
       "<style scoped>\n",
       "    .dataframe tbody tr th:only-of-type {\n",
       "        vertical-align: middle;\n",
       "    }\n",
       "\n",
       "    .dataframe tbody tr th {\n",
       "        vertical-align: top;\n",
       "    }\n",
       "\n",
       "    .dataframe thead th {\n",
       "        text-align: right;\n",
       "    }\n",
       "</style>\n",
       "<table border=\"1\" class=\"dataframe\">\n",
       "  <thead>\n",
       "    <tr style=\"text-align: right;\">\n",
       "      <th></th>\n",
       "      <th>yyyy-w (Flu)</th>\n",
       "      <th>FluA-Nat</th>\n",
       "      <th>FluB-Nat</th>\n",
       "      <th>Mov-FluA-Nat</th>\n",
       "      <th>Mov-FluB-Nat</th>\n",
       "      <th>FluA-BEG</th>\n",
       "      <th>FluB-BEG</th>\n",
       "      <th>Mov-FluA-BEG</th>\n",
       "      <th>Mov-FluB-BEG</th>\n",
       "      <th>FluA-BET</th>\n",
       "      <th>...</th>\n",
       "      <th>FluB-GRE_slope_7</th>\n",
       "      <th>FluB-HES_slope_4</th>\n",
       "      <th>FluB-HES_slope_5</th>\n",
       "      <th>FluB-HES_slope_7</th>\n",
       "      <th>FluB-VIE_slope_4</th>\n",
       "      <th>FluB-VIE_slope_5</th>\n",
       "      <th>FluB-VIE_slope_7</th>\n",
       "      <th>FluB-WIL_slope_4</th>\n",
       "      <th>FluB-WIL_slope_5</th>\n",
       "      <th>FluB-WIL_slope_7</th>\n",
       "    </tr>\n",
       "  </thead>\n",
       "  <tbody>\n",
       "    <tr>\n",
       "      <th>0</th>\n",
       "      <td>2021_40</td>\n",
       "      <td>0.0</td>\n",
       "      <td>0.0</td>\n",
       "      <td>NaN</td>\n",
       "      <td>NaN</td>\n",
       "      <td>0.0</td>\n",
       "      <td>0.0</td>\n",
       "      <td>NaN</td>\n",
       "      <td>NaN</td>\n",
       "      <td>0.0</td>\n",
       "      <td>...</td>\n",
       "      <td>NaN</td>\n",
       "      <td>NaN</td>\n",
       "      <td>NaN</td>\n",
       "      <td>NaN</td>\n",
       "      <td>NaN</td>\n",
       "      <td>NaN</td>\n",
       "      <td>NaN</td>\n",
       "      <td>NaN</td>\n",
       "      <td>NaN</td>\n",
       "      <td>NaN</td>\n",
       "    </tr>\n",
       "    <tr>\n",
       "      <th>1</th>\n",
       "      <td>2021_41</td>\n",
       "      <td>0.0</td>\n",
       "      <td>0.0</td>\n",
       "      <td>NaN</td>\n",
       "      <td>NaN</td>\n",
       "      <td>0.0</td>\n",
       "      <td>0.0</td>\n",
       "      <td>NaN</td>\n",
       "      <td>NaN</td>\n",
       "      <td>0.0</td>\n",
       "      <td>...</td>\n",
       "      <td>NaN</td>\n",
       "      <td>NaN</td>\n",
       "      <td>NaN</td>\n",
       "      <td>NaN</td>\n",
       "      <td>NaN</td>\n",
       "      <td>NaN</td>\n",
       "      <td>NaN</td>\n",
       "      <td>NaN</td>\n",
       "      <td>NaN</td>\n",
       "      <td>NaN</td>\n",
       "    </tr>\n",
       "    <tr>\n",
       "      <th>2</th>\n",
       "      <td>2021_42</td>\n",
       "      <td>0.0</td>\n",
       "      <td>0.0</td>\n",
       "      <td>0.0</td>\n",
       "      <td>0.0</td>\n",
       "      <td>0.0</td>\n",
       "      <td>0.0</td>\n",
       "      <td>0.0</td>\n",
       "      <td>0.0</td>\n",
       "      <td>0.0</td>\n",
       "      <td>...</td>\n",
       "      <td>NaN</td>\n",
       "      <td>NaN</td>\n",
       "      <td>NaN</td>\n",
       "      <td>NaN</td>\n",
       "      <td>NaN</td>\n",
       "      <td>NaN</td>\n",
       "      <td>NaN</td>\n",
       "      <td>NaN</td>\n",
       "      <td>NaN</td>\n",
       "      <td>NaN</td>\n",
       "    </tr>\n",
       "    <tr>\n",
       "      <th>3</th>\n",
       "      <td>2021_43</td>\n",
       "      <td>0.0</td>\n",
       "      <td>0.0</td>\n",
       "      <td>0.0</td>\n",
       "      <td>0.0</td>\n",
       "      <td>0.0</td>\n",
       "      <td>0.0</td>\n",
       "      <td>0.0</td>\n",
       "      <td>0.0</td>\n",
       "      <td>0.0</td>\n",
       "      <td>...</td>\n",
       "      <td>NaN</td>\n",
       "      <td>0.0</td>\n",
       "      <td>NaN</td>\n",
       "      <td>NaN</td>\n",
       "      <td>0.0</td>\n",
       "      <td>NaN</td>\n",
       "      <td>NaN</td>\n",
       "      <td>0.0</td>\n",
       "      <td>NaN</td>\n",
       "      <td>NaN</td>\n",
       "    </tr>\n",
       "    <tr>\n",
       "      <th>4</th>\n",
       "      <td>2021_44</td>\n",
       "      <td>0.0</td>\n",
       "      <td>0.0</td>\n",
       "      <td>0.0</td>\n",
       "      <td>0.0</td>\n",
       "      <td>0.0</td>\n",
       "      <td>0.0</td>\n",
       "      <td>0.0</td>\n",
       "      <td>0.0</td>\n",
       "      <td>0.0</td>\n",
       "      <td>...</td>\n",
       "      <td>NaN</td>\n",
       "      <td>0.0</td>\n",
       "      <td>0.0</td>\n",
       "      <td>NaN</td>\n",
       "      <td>0.0</td>\n",
       "      <td>0.0</td>\n",
       "      <td>NaN</td>\n",
       "      <td>0.0</td>\n",
       "      <td>0.0</td>\n",
       "      <td>NaN</td>\n",
       "    </tr>\n",
       "  </tbody>\n",
       "</table>\n",
       "<p>5 rows × 157 columns</p>\n",
       "</div>"
      ],
      "text/plain": [
       "  yyyy-w (Flu)  FluA-Nat  FluB-Nat  Mov-FluA-Nat  Mov-FluB-Nat  FluA-BEG  \\\n",
       "0      2021_40       0.0       0.0           NaN           NaN       0.0   \n",
       "1      2021_41       0.0       0.0           NaN           NaN       0.0   \n",
       "2      2021_42       0.0       0.0           0.0           0.0       0.0   \n",
       "3      2021_43       0.0       0.0           0.0           0.0       0.0   \n",
       "4      2021_44       0.0       0.0           0.0           0.0       0.0   \n",
       "\n",
       "   FluB-BEG  Mov-FluA-BEG  Mov-FluB-BEG  FluA-BET  ...  FluB-GRE_slope_7  \\\n",
       "0       0.0           NaN           NaN       0.0  ...               NaN   \n",
       "1       0.0           NaN           NaN       0.0  ...               NaN   \n",
       "2       0.0           0.0           0.0       0.0  ...               NaN   \n",
       "3       0.0           0.0           0.0       0.0  ...               NaN   \n",
       "4       0.0           0.0           0.0       0.0  ...               NaN   \n",
       "\n",
       "   FluB-HES_slope_4  FluB-HES_slope_5  FluB-HES_slope_7  FluB-VIE_slope_4  \\\n",
       "0               NaN               NaN               NaN               NaN   \n",
       "1               NaN               NaN               NaN               NaN   \n",
       "2               NaN               NaN               NaN               NaN   \n",
       "3               0.0               NaN               NaN               0.0   \n",
       "4               0.0               0.0               NaN               0.0   \n",
       "\n",
       "   FluB-VIE_slope_5  FluB-VIE_slope_7  FluB-WIL_slope_4  FluB-WIL_slope_5  \\\n",
       "0               NaN               NaN               NaN               NaN   \n",
       "1               NaN               NaN               NaN               NaN   \n",
       "2               NaN               NaN               NaN               NaN   \n",
       "3               NaN               NaN               0.0               NaN   \n",
       "4               0.0               NaN               0.0               0.0   \n",
       "\n",
       "   FluB-WIL_slope_7  \n",
       "0               NaN  \n",
       "1               NaN  \n",
       "2               NaN  \n",
       "3               NaN  \n",
       "4               NaN  \n",
       "\n",
       "[5 rows x 157 columns]"
      ]
     },
     "execution_count": 20,
     "metadata": {},
     "output_type": "execute_result"
    }
   ],
   "source": [
    "for col in fluB_cols:\n",
    "    for window in window_sizes:\n",
    "        slope_col = f\"{col}_slope_{window}\"\n",
    "        df_flu[slope_col] = compute_slope_feature(df_flu[col], window=window)\n",
    "\n",
    "df_flu.head()"
   ]
  },
  {
   "cell_type": "code",
   "execution_count": 21,
   "id": "836612d3",
   "metadata": {},
   "outputs": [
    {
     "data": {
      "application/vnd.plotly.v1+json": {
       "config": {
        "plotlyServerURL": "https://plot.ly"
       },
       "data": [
        {
         "marker": {
          "color": "black",
          "size": 6,
          "symbol": "circle-open"
         },
         "mode": "lines+markers",
         "name": "FluB-Nat",
         "type": "scatter",
         "x": {
          "bdata": "AAABAAIAAwAEAAUABgAHAAgACQAKAAsADAANAA4ADwAQABEAEgATABQAFQAWABcAGAAZABoAGwAcAB0AHgAfACAAIQAiACMAJAAlACYAJwAoACkAKgArACwALQAuAC8AMAAxADIAMwA0ADUANgA3ADgAOQA6ADsAPAA9AD4APwBAAEEAQgBDAEQARQBGAEcASABJAEoASwBMAE0ATgBPAFAAUQBSAFMAVABVAFYAVwBYAFkAWgBbAFwAXQBeAF8AYABhAGIAYwBkAGUAZgBnAGgAaQBqAGsAbABtAG4AbwBwAHEAcgBzAHQAdQB2AHcAeAB5AHoAewB8AH0AfgB/AIAAgQCCAIMAhACFAIYAhwCIAIkAigCLAIwAjQCOAI8AkACRAJIAkwCUAJUAlgCXAJgAmQCaAJsAnACdAJ4AnwCgAKEAogCjAKQApQCmAKcAqACpAKoAqwCsAK0ArgCvALAAsQCyALMAtAC1ALYAtwC4ALkAugC7ALwAvQC+AL8AwADBAA==",
          "dtype": "i2"
         },
         "y": {
          "bdata": "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",
          "dtype": "f8"
         },
         "yaxis": "y"
        },
        {
         "mode": "lines",
         "name": "FluB-Nat_slope_4",
         "type": "scatter",
         "x": {
          "bdata": "AAABAAIAAwAEAAUABgAHAAgACQAKAAsADAANAA4ADwAQABEAEgATABQAFQAWABcAGAAZABoAGwAcAB0AHgAfACAAIQAiACMAJAAlACYAJwAoACkAKgArACwALQAuAC8AMAAxADIAMwA0ADUANgA3ADgAOQA6ADsAPAA9AD4APwBAAEEAQgBDAEQARQBGAEcASABJAEoASwBMAE0ATgBPAFAAUQBSAFMAVABVAFYAVwBYAFkAWgBbAFwAXQBeAF8AYABhAGIAYwBkAGUAZgBnAGgAaQBqAGsAbABtAG4AbwBwAHEAcgBzAHQAdQB2AHcAeAB5AHoAewB8AH0AfgB/AIAAgQCCAIMAhACFAIYAhwCIAIkAigCLAIwAjQCOAI8AkACRAJIAkwCUAJUAlgCXAJgAmQCaAJsAnACdAJ4AnwCgAKEAogCjAKQApQCmAKcAqACpAKoAqwCsAK0ArgCvALAAsQCyALMAtAC1ALYAtwC4ALkAugC7ALwAvQC+AL8AwADBAA==",
          "dtype": "i2"
         },
         "y": {
          "bdata": "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",
          "dtype": "f8"
         },
         "yaxis": "y2"
        },
        {
         "mode": "lines",
         "name": "FluB-Nat_slope_5",
         "type": "scatter",
         "x": {
          "bdata": "AAABAAIAAwAEAAUABgAHAAgACQAKAAsADAANAA4ADwAQABEAEgATABQAFQAWABcAGAAZABoAGwAcAB0AHgAfACAAIQAiACMAJAAlACYAJwAoACkAKgArACwALQAuAC8AMAAxADIAMwA0ADUANgA3ADgAOQA6ADsAPAA9AD4APwBAAEEAQgBDAEQARQBGAEcASABJAEoASwBMAE0ATgBPAFAAUQBSAFMAVABVAFYAVwBYAFkAWgBbAFwAXQBeAF8AYABhAGIAYwBkAGUAZgBnAGgAaQBqAGsAbABtAG4AbwBwAHEAcgBzAHQAdQB2AHcAeAB5AHoAewB8AH0AfgB/AIAAgQCCAIMAhACFAIYAhwCIAIkAigCLAIwAjQCOAI8AkACRAJIAkwCUAJUAlgCXAJgAmQCaAJsAnACdAJ4AnwCgAKEAogCjAKQApQCmAKcAqACpAKoAqwCsAK0ArgCvALAAsQCyALMAtAC1ALYAtwC4ALkAugC7ALwAvQC+AL8AwADBAA==",
          "dtype": "i2"
         },
         "y": {
          "bdata": "AAAAAAAA+H8AAAAAAAD4fwAAAAAAAPh/AAAAAAAA+H9JplipxFsFv0mmWKnEWwW/SaZYqcRbBb9JplipxFsFv0mmWKnEWwW/VqQ+L+yDkD8D+OlMPnmAP8ilWKnEWwW/T6k81vWjgL/9/OfzR5mQv0mmWKnEWwW/SaZYqcRbBb9JplipxFsFv5vJLSCkK4o/9XCEW0gWej/IpVipxFsFv+H5NzxT7Kg/ve15qjgdjj9FpFipxFsFv6XgUQx4RJy/f4onGyE/rL9JplipxFsFv0mmWKnEWwW/SaZYqcRbBb9JplipxFsFv0mmWKnEWwW/wWVuSx7XlD9oWkrC5IuXPxdKKJKhIHo/uWps8if3hL8/ffZWUH+bvwtUJOC0YIq/SaZYqcRbBb9JplipxFsFv0mmWKnEWwW/SaZYqcRbBb9JplipxFsFv0mmWKnEWwW/SaZYqcRbBb9JplipxFsFv0mmWKnEWwW/SaZYqcRbBb9JplipxFsFv0mmWKnEWwW/SaZYqcRbBb9JplipxFsFv0mmWKnEWwW/SaZYqcRbBb9JplipxFsFv0mmWKnEWwW/SaZYqcRbBb9JplipxFsFv0mmWKnEWwW/SaZYqcRbBb9JplipxFsFv0mmWKnEWwW/SaZYqcRbBb9JplipxFsFv0mmWKnEWwW/SaZYqcRbBb9JplipxFsFv0mmWKnEWwW/SaZYqcRbBb9JplipxFsFv0mmWKnEWwW/C4ifFH4DoT+Mlx/HCXqyPxR9Q0rVl60/xCUwr2oNW78WpysgRl6rP9ERid6oX8k/x9T3nma/vj+OzDOwYTXAP52xHa9O8oW/W/SPlAbVsr8zZibf686zvwLNZLLY88y/LhHknpOiwb8r+h2yfUGov1hL9Zkhpo0/qt/WUbsDlL+CMlS4Q22rv1FQ80Arxp2/SaZYqcRbBb9JplipxFsFv0mmWKnEWwW/1fGflexyej+IQE0MNUhqPwimWKnEWwW/uwWYMRPzar9uVEWoW8h6v0mmWKnEWwW/SaZYqcRbBb9JplipxFsFv0mmWKnEWwW/SaZYqcRbBb9JplipxFsFv0mmWKnEWwW/SaZYqcRbBb9JplipxFsFv0mmWKnEWwW/SaZYqcRbBb9JplipxFsFv0mmWKnEWwW/SaZYqcRbBb9JplipxFsFv0mmWKnEWwW/SaZYqcRbBb9ycbN+7V6gP0kbiY2WWZA/R6VYqcRbBb/vczJS8m6Qv8UdCGGbaaC/SaZYqcRbBb9JplipxFsFv0mmWKnEWwW/SaZYqcRbBb9JplipxFsFv0mmWKnEWwW/SaZYqcRbBb9JplipxFsFv0mmWKnEWwW/tzv2VNikmz9jj6FyKpqLP0elWKnEWwW/rkD0++HEi79dlJ8ZNLqbv08CxZH86pA/TPmffALdoD/3J2uhAW2sPzYrsJ6wcKc/WarflfKukz90aTMdr9eTv3Kos4fgpau/ny1EkgbVqL+jYEBMv4Wgv9J73ZIGTIG/CKZYqcRbBb876jNYFOd3P1vP2c1blWU/dIEL77EaXT8XR1CotYVxv0e3MeYLKYW/PKn7Jv8abr9JplipxFsFv76zu0Z1yXo/cgJpvb2eaj/iJeLTf1xoP8gG4N5I4V2/Su8mpUBKYD/EaC40dZeAP/porh4VGjm/xXXSIWvNYb+slTUIF1SBv7aXxc7Me3g/d5sG3gQNgz+MYPoduh+EPx+QK8+/6Jg/vFvEh7QsZj9Rn92RroSCv7mT/rJxYHq/tnhqcInEcr89xJ1iXtuwP2WCyVn2zME/A/AKPDFXwz/lJP/Nu6rAPxHymWF86c8/+avwlUNm0D8AAAAAAADwPyRlBgB7DuQ/bM9/3kS43D+OBI6KvxPSPzis9wfvkbq/k7e3W03jwT+ATw58aaHiv9zgHk/IFuq/NurtB9v46b8WSAx2mWvev3GdqjXbqs2/oNZ5eirTxL9JIG5whu64v5+K2Qh88rO/JX73UOs8sL8CeKUI6jqnv9YI9ji886G/VBYGsH5Jhb8KS5g3I2F0vyLn0lX5y3u/7Ugps73MYL+pVUs3wrQ5Pw==",
          "dtype": "f8"
         },
         "yaxis": "y2"
        },
        {
         "mode": "lines",
         "name": "FluB-Nat_slope_7",
         "type": "scatter",
         "x": {
          "bdata": "AAABAAIAAwAEAAUABgAHAAgACQAKAAsADAANAA4ADwAQABEAEgATABQAFQAWABcAGAAZABoAGwAcAB0AHgAfACAAIQAiACMAJAAlACYAJwAoACkAKgArACwALQAuAC8AMAAxADIAMwA0ADUANgA3ADgAOQA6ADsAPAA9AD4APwBAAEEAQgBDAEQARQBGAEcASABJAEoASwBMAE0ATgBPAFAAUQBSAFMAVABVAFYAVwBYAFkAWgBbAFwAXQBeAF8AYABhAGIAYwBkAGUAZgBnAGgAaQBqAGsAbABtAG4AbwBwAHEAcgBzAHQAdQB2AHcAeAB5AHoAewB8AH0AfgB/AIAAgQCCAIMAhACFAIYAhwCIAIkAigCLAIwAjQCOAI8AkACRAJIAkwCUAJUAlgCXAJgAmQCaAJsAnACdAJ4AnwCgAKEAogCjAKQApQCmAKcAqACpAKoAqwCsAK0ArgCvALAAsQCyALMAtAC1ALYAtwC4ALkAugC7ALwAvQC+AL8AwADBAA==",
          "dtype": "i2"
         },
         "y": {
          "bdata": "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",
          "dtype": "f8"
         },
         "yaxis": "y2"
        }
       ],
       "layout": {
        "height": 500,
        "hovermode": "x unified",
        "legend": {
         "x": 0.01,
         "y": 0.99
        },
        "template": {
         "data": {
          "bar": [
           {
            "error_x": {
             "color": "#2a3f5f"
            },
            "error_y": {
             "color": "#2a3f5f"
            },
            "marker": {
             "line": {
              "color": "#E5ECF6",
              "width": 0.5
             },
             "pattern": {
              "fillmode": "overlay",
              "size": 10,
              "solidity": 0.2
             }
            },
            "type": "bar"
           }
          ],
          "barpolar": [
           {
            "marker": {
             "line": {
              "color": "#E5ECF6",
              "width": 0.5
             },
             "pattern": {
              "fillmode": "overlay",
              "size": 10,
              "solidity": 0.2
             }
            },
            "type": "barpolar"
           }
          ],
          "carpet": [
           {
            "aaxis": {
             "endlinecolor": "#2a3f5f",
             "gridcolor": "white",
             "linecolor": "white",
             "minorgridcolor": "white",
             "startlinecolor": "#2a3f5f"
            },
            "baxis": {
             "endlinecolor": "#2a3f5f",
             "gridcolor": "white",
             "linecolor": "white",
             "minorgridcolor": "white",
             "startlinecolor": "#2a3f5f"
            },
            "type": "carpet"
           }
          ],
          "choropleth": [
           {
            "colorbar": {
             "outlinewidth": 0,
             "ticks": ""
            },
            "type": "choropleth"
           }
          ],
          "contour": [
           {
            "colorbar": {
             "outlinewidth": 0,
             "ticks": ""
            },
            "colorscale": [
             [
              0,
              "#0d0887"
             ],
             [
              0.1111111111111111,
              "#46039f"
             ],
             [
              0.2222222222222222,
              "#7201a8"
             ],
             [
              0.3333333333333333,
              "#9c179e"
             ],
             [
              0.4444444444444444,
              "#bd3786"
             ],
             [
              0.5555555555555556,
              "#d8576b"
             ],
             [
              0.6666666666666666,
              "#ed7953"
             ],
             [
              0.7777777777777778,
              "#fb9f3a"
             ],
             [
              0.8888888888888888,
              "#fdca26"
             ],
             [
              1,
              "#f0f921"
             ]
            ],
            "type": "contour"
           }
          ],
          "contourcarpet": [
           {
            "colorbar": {
             "outlinewidth": 0,
             "ticks": ""
            },
            "type": "contourcarpet"
           }
          ],
          "heatmap": [
           {
            "colorbar": {
             "outlinewidth": 0,
             "ticks": ""
            },
            "colorscale": [
             [
              0,
              "#0d0887"
             ],
             [
              0.1111111111111111,
              "#46039f"
             ],
             [
              0.2222222222222222,
              "#7201a8"
             ],
             [
              0.3333333333333333,
              "#9c179e"
             ],
             [
              0.4444444444444444,
              "#bd3786"
             ],
             [
              0.5555555555555556,
              "#d8576b"
             ],
             [
              0.6666666666666666,
              "#ed7953"
             ],
             [
              0.7777777777777778,
              "#fb9f3a"
             ],
             [
              0.8888888888888888,
              "#fdca26"
             ],
             [
              1,
              "#f0f921"
             ]
            ],
            "type": "heatmap"
           }
          ],
          "histogram": [
           {
            "marker": {
             "pattern": {
              "fillmode": "overlay",
              "size": 10,
              "solidity": 0.2
             }
            },
            "type": "histogram"
           }
          ],
          "histogram2d": [
           {
            "colorbar": {
             "outlinewidth": 0,
             "ticks": ""
            },
            "colorscale": [
             [
              0,
              "#0d0887"
             ],
             [
              0.1111111111111111,
              "#46039f"
             ],
             [
              0.2222222222222222,
              "#7201a8"
             ],
             [
              0.3333333333333333,
              "#9c179e"
             ],
             [
              0.4444444444444444,
              "#bd3786"
             ],
             [
              0.5555555555555556,
              "#d8576b"
             ],
             [
              0.6666666666666666,
              "#ed7953"
             ],
             [
              0.7777777777777778,
              "#fb9f3a"
             ],
             [
              0.8888888888888888,
              "#fdca26"
             ],
             [
              1,
              "#f0f921"
             ]
            ],
            "type": "histogram2d"
           }
          ],
          "histogram2dcontour": [
           {
            "colorbar": {
             "outlinewidth": 0,
             "ticks": ""
            },
            "colorscale": [
             [
              0,
              "#0d0887"
             ],
             [
              0.1111111111111111,
              "#46039f"
             ],
             [
              0.2222222222222222,
              "#7201a8"
             ],
             [
              0.3333333333333333,
              "#9c179e"
             ],
             [
              0.4444444444444444,
              "#bd3786"
             ],
             [
              0.5555555555555556,
              "#d8576b"
             ],
             [
              0.6666666666666666,
              "#ed7953"
             ],
             [
              0.7777777777777778,
              "#fb9f3a"
             ],
             [
              0.8888888888888888,
              "#fdca26"
             ],
             [
              1,
              "#f0f921"
             ]
            ],
            "type": "histogram2dcontour"
           }
          ],
          "mesh3d": [
           {
            "colorbar": {
             "outlinewidth": 0,
             "ticks": ""
            },
            "type": "mesh3d"
           }
          ],
          "parcoords": [
           {
            "line": {
             "colorbar": {
              "outlinewidth": 0,
              "ticks": ""
             }
            },
            "type": "parcoords"
           }
          ],
          "pie": [
           {
            "automargin": true,
            "type": "pie"
           }
          ],
          "scatter": [
           {
            "fillpattern": {
             "fillmode": "overlay",
             "size": 10,
             "solidity": 0.2
            },
            "type": "scatter"
           }
          ],
          "scatter3d": [
           {
            "line": {
             "colorbar": {
              "outlinewidth": 0,
              "ticks": ""
             }
            },
            "marker": {
             "colorbar": {
              "outlinewidth": 0,
              "ticks": ""
             }
            },
            "type": "scatter3d"
           }
          ],
          "scattercarpet": [
           {
            "marker": {
             "colorbar": {
              "outlinewidth": 0,
              "ticks": ""
             }
            },
            "type": "scattercarpet"
           }
          ],
          "scattergeo": [
           {
            "marker": {
             "colorbar": {
              "outlinewidth": 0,
              "ticks": ""
             }
            },
            "type": "scattergeo"
           }
          ],
          "scattergl": [
           {
            "marker": {
             "colorbar": {
              "outlinewidth": 0,
              "ticks": ""
             }
            },
            "type": "scattergl"
           }
          ],
          "scattermap": [
           {
            "marker": {
             "colorbar": {
              "outlinewidth": 0,
              "ticks": ""
             }
            },
            "type": "scattermap"
           }
          ],
          "scattermapbox": [
           {
            "marker": {
             "colorbar": {
              "outlinewidth": 0,
              "ticks": ""
             }
            },
            "type": "scattermapbox"
           }
          ],
          "scatterpolar": [
           {
            "marker": {
             "colorbar": {
              "outlinewidth": 0,
              "ticks": ""
             }
            },
            "type": "scatterpolar"
           }
          ],
          "scatterpolargl": [
           {
            "marker": {
             "colorbar": {
              "outlinewidth": 0,
              "ticks": ""
             }
            },
            "type": "scatterpolargl"
           }
          ],
          "scatterternary": [
           {
            "marker": {
             "colorbar": {
              "outlinewidth": 0,
              "ticks": ""
             }
            },
            "type": "scatterternary"
           }
          ],
          "surface": [
           {
            "colorbar": {
             "outlinewidth": 0,
             "ticks": ""
            },
            "colorscale": [
             [
              0,
              "#0d0887"
             ],
             [
              0.1111111111111111,
              "#46039f"
             ],
             [
              0.2222222222222222,
              "#7201a8"
             ],
             [
              0.3333333333333333,
              "#9c179e"
             ],
             [
              0.4444444444444444,
              "#bd3786"
             ],
             [
              0.5555555555555556,
              "#d8576b"
             ],
             [
              0.6666666666666666,
              "#ed7953"
             ],
             [
              0.7777777777777778,
              "#fb9f3a"
             ],
             [
              0.8888888888888888,
              "#fdca26"
             ],
             [
              1,
              "#f0f921"
             ]
            ],
            "type": "surface"
           }
          ],
          "table": [
           {
            "cells": {
             "fill": {
              "color": "#EBF0F8"
             },
             "line": {
              "color": "white"
             }
            },
            "header": {
             "fill": {
              "color": "#C8D4E3"
             },
             "line": {
              "color": "white"
             }
            },
            "type": "table"
           }
          ]
         },
         "layout": {
          "annotationdefaults": {
           "arrowcolor": "#2a3f5f",
           "arrowhead": 0,
           "arrowwidth": 1
          },
          "autotypenumbers": "strict",
          "coloraxis": {
           "colorbar": {
            "outlinewidth": 0,
            "ticks": ""
           }
          },
          "colorscale": {
           "diverging": [
            [
             0,
             "#8e0152"
            ],
            [
             0.1,
             "#c51b7d"
            ],
            [
             0.2,
             "#de77ae"
            ],
            [
             0.3,
             "#f1b6da"
            ],
            [
             0.4,
             "#fde0ef"
            ],
            [
             0.5,
             "#f7f7f7"
            ],
            [
             0.6,
             "#e6f5d0"
            ],
            [
             0.7,
             "#b8e186"
            ],
            [
             0.8,
             "#7fbc41"
            ],
            [
             0.9,
             "#4d9221"
            ],
            [
             1,
             "#276419"
            ]
           ],
           "sequential": [
            [
             0,
             "#0d0887"
            ],
            [
             0.1111111111111111,
             "#46039f"
            ],
            [
             0.2222222222222222,
             "#7201a8"
            ],
            [
             0.3333333333333333,
             "#9c179e"
            ],
            [
             0.4444444444444444,
             "#bd3786"
            ],
            [
             0.5555555555555556,
             "#d8576b"
            ],
            [
             0.6666666666666666,
             "#ed7953"
            ],
            [
             0.7777777777777778,
             "#fb9f3a"
            ],
            [
             0.8888888888888888,
             "#fdca26"
            ],
            [
             1,
             "#f0f921"
            ]
           ],
           "sequentialminus": [
            [
             0,
             "#0d0887"
            ],
            [
             0.1111111111111111,
             "#46039f"
            ],
            [
             0.2222222222222222,
             "#7201a8"
            ],
            [
             0.3333333333333333,
             "#9c179e"
            ],
            [
             0.4444444444444444,
             "#bd3786"
            ],
            [
             0.5555555555555556,
             "#d8576b"
            ],
            [
             0.6666666666666666,
             "#ed7953"
            ],
            [
             0.7777777777777778,
             "#fb9f3a"
            ],
            [
             0.8888888888888888,
             "#fdca26"
            ],
            [
             1,
             "#f0f921"
            ]
           ]
          },
          "colorway": [
           "#636efa",
           "#EF553B",
           "#00cc96",
           "#ab63fa",
           "#FFA15A",
           "#19d3f3",
           "#FF6692",
           "#B6E880",
           "#FF97FF",
           "#FECB52"
          ],
          "font": {
           "color": "#2a3f5f"
          },
          "geo": {
           "bgcolor": "white",
           "lakecolor": "white",
           "landcolor": "#E5ECF6",
           "showlakes": true,
           "showland": true,
           "subunitcolor": "white"
          },
          "hoverlabel": {
           "align": "left"
          },
          "hovermode": "closest",
          "mapbox": {
           "style": "light"
          },
          "paper_bgcolor": "white",
          "plot_bgcolor": "#E5ECF6",
          "polar": {
           "angularaxis": {
            "gridcolor": "white",
            "linecolor": "white",
            "ticks": ""
           },
           "bgcolor": "#E5ECF6",
           "radialaxis": {
            "gridcolor": "white",
            "linecolor": "white",
            "ticks": ""
           }
          },
          "scene": {
           "xaxis": {
            "backgroundcolor": "#E5ECF6",
            "gridcolor": "white",
            "gridwidth": 2,
            "linecolor": "white",
            "showbackground": true,
            "ticks": "",
            "zerolinecolor": "white"
           },
           "yaxis": {
            "backgroundcolor": "#E5ECF6",
            "gridcolor": "white",
            "gridwidth": 2,
            "linecolor": "white",
            "showbackground": true,
            "ticks": "",
            "zerolinecolor": "white"
           },
           "zaxis": {
            "backgroundcolor": "#E5ECF6",
            "gridcolor": "white",
            "gridwidth": 2,
            "linecolor": "white",
            "showbackground": true,
            "ticks": "",
            "zerolinecolor": "white"
           }
          },
          "shapedefaults": {
           "line": {
            "color": "#2a3f5f"
           }
          },
          "ternary": {
           "aaxis": {
            "gridcolor": "white",
            "linecolor": "white",
            "ticks": ""
           },
           "baxis": {
            "gridcolor": "white",
            "linecolor": "white",
            "ticks": ""
           },
           "bgcolor": "#E5ECF6",
           "caxis": {
            "gridcolor": "white",
            "linecolor": "white",
            "ticks": ""
           }
          },
          "title": {
           "x": 0.05
          },
          "xaxis": {
           "automargin": true,
           "gridcolor": "white",
           "linecolor": "white",
           "ticks": "",
           "title": {
            "standoff": 15
           },
           "zerolinecolor": "white",
           "zerolinewidth": 2
          },
          "yaxis": {
           "automargin": true,
           "gridcolor": "white",
           "linecolor": "white",
           "ticks": "",
           "title": {
            "standoff": 15
           },
           "zerolinecolor": "white",
           "zerolinewidth": 2
          }
         }
        },
        "title": {
         "text": "FluB-Nat and Slope Features (Window 2,3,4,5,7)"
        },
        "width": 900,
        "xaxis": {
         "title": {
          "text": "Time Index"
         }
        },
        "yaxis": {
         "showgrid": true,
         "side": "left",
         "title": {
          "text": "RNA Copies"
         }
        },
        "yaxis2": {
         "overlaying": "y",
         "range": [
          -1,
          1
         ],
         "showgrid": false,
         "side": "right",
         "title": {
          "text": "Normalized Slope"
         },
         "zeroline": true
        }
       }
      }
     },
     "metadata": {},
     "output_type": "display_data"
    }
   ],
   "source": [
    "plot_df = df_flu[['FluB-Nat', \n",
    "                #   'FluB-Nat_slope_2', \n",
    "                #   'FluB-Nat_slope_3', \n",
    "                  'FluB-Nat_slope_4', \n",
    "                  'FluB-Nat_slope_5', \n",
    "                  'FluB-Nat_slope_7']].copy()\n",
    "plot_df['index'] = plot_df.index  # Needed for x-axis\n",
    "\n",
    "# Separate the slope columns and the original value column\n",
    "slope_cols = [\n",
    "    # 'FluB-Nat_slope_2', \n",
    "    # 'FluB-Nat_slope_3', \n",
    "    'FluB-Nat_slope_4', \n",
    "    'FluB-Nat_slope_5', \n",
    "    'FluB-Nat_slope_7']\n",
    "\n",
    "fig = go.Figure()\n",
    "\n",
    "# Add FluB-Nat line on primary y-axis\n",
    "fig.add_trace(go.Scatter(\n",
    "    x=plot_df['index'],\n",
    "    y=plot_df['FluB-Nat'],\n",
    "    mode='lines+markers',\n",
    "    name='FluB-Nat',\n",
    "    marker=dict(size=6, color='black', symbol='circle-open'),\n",
    "    yaxis='y1'\n",
    "))\n",
    "\n",
    "# Add slope lines on secondary y-axis\n",
    "for col in slope_cols:\n",
    "    fig.add_trace(go.Scatter(\n",
    "        x=plot_df['index'],\n",
    "        y=plot_df[col],\n",
    "        mode='lines',\n",
    "        name=col,\n",
    "        yaxis='y2'\n",
    "    ))\n",
    "\n",
    "fig.update_layout(\n",
    "    title='FluB-Nat and Slope Features (Window 2,3,4,5,7)',\n",
    "    xaxis=dict(title='Time Index'),\n",
    "    yaxis=dict(\n",
    "        title='RNA Copies',\n",
    "        side='left',\n",
    "        showgrid=True\n",
    "    ),\n",
    "    yaxis2=dict(\n",
    "        title='Normalized Slope',\n",
    "        overlaying='y',\n",
    "        side='right',\n",
    "        range=[-1, 1],\n",
    "        showgrid=False,\n",
    "        zeroline=True\n",
    "    ),\n",
    "    legend=dict(x=0.01, y=0.99),\n",
    "    hovermode='x unified',\n",
    "    width=900,\n",
    "    height=500\n",
    ")\n",
    "\n",
    "fig.show()"
   ]
  },
  {
   "cell_type": "markdown",
   "id": "b10e580e",
   "metadata": {},
   "source": [
    "#### Save the fluB slope features"
   ]
  },
  {
   "cell_type": "code",
   "execution_count": 22,
   "id": "74436522",
   "metadata": {},
   "outputs": [],
   "source": [
    "fluB_slope_cols = [col for col in df_flu.columns if col.__contains__('slope')]\n",
    "\n",
    "for col in fluB_slope_cols:\n",
    "    # print(col)\n",
    "    local_df = pd.DataFrame({\n",
    "        'time': df_flu['date'],\n",
    "        'rna_copies': df_flu[col],\n",
    "        'label': \"FluA\"\n",
    "    })\n",
    "    local_df = local_df.dropna(subset=['rna_copies'])\n",
    "    local_df.to_csv(f'./data_preprocess/{col}.csv', index=False)"
   ]
  },
  {
   "cell_type": "markdown",
   "id": "15de8ff2",
   "metadata": {},
   "source": [
    "### RSV"
   ]
  },
  {
   "cell_type": "code",
   "execution_count": 23,
   "id": "5ef1cac0",
   "metadata": {},
   "outputs": [
    {
     "data": {
      "application/vnd.microsoft.datawrangler.viewer.v0+json": {
       "columns": [
        {
         "name": "index",
         "rawType": "int64",
         "type": "integer"
        },
        {
         "name": "yyyy-w (RSV)",
         "rawType": "object",
         "type": "string"
        },
        {
         "name": "RSV-Nat",
         "rawType": "float64",
         "type": "float"
        },
        {
         "name": "Mov-RSV-Nat",
         "rawType": "float64",
         "type": "float"
        },
        {
         "name": "RSV-BEG",
         "rawType": "float64",
         "type": "float"
        },
        {
         "name": "Mov-RSV-BEG",
         "rawType": "float64",
         "type": "float"
        },
        {
         "name": "RSV-BET",
         "rawType": "float64",
         "type": "float"
        },
        {
         "name": "Mov-RSV-BET",
         "rawType": "float64",
         "type": "float"
        },
        {
         "name": "RSV-PET",
         "rawType": "float64",
         "type": "float"
        },
        {
         "name": "Mov-RSV-PET",
         "rawType": "float64",
         "type": "float"
        },
        {
         "name": "RSV-SCH",
         "rawType": "float64",
         "type": "float"
        },
        {
         "name": "Mov-RSV-SCH",
         "rawType": "float64",
         "type": "float"
        },
        {
         "name": "RSV-BLE",
         "rawType": "float64",
         "type": "float"
        },
        {
         "name": "Mov-RSV-BLE",
         "rawType": "float64",
         "type": "float"
        },
        {
         "name": "RSV-MER",
         "rawType": "float64",
         "type": "float"
        },
        {
         "name": "Mov-RSV-MER",
         "rawType": "float64",
         "type": "float"
        },
        {
         "name": "RSV-UEB",
         "rawType": "float64",
         "type": "float"
        },
        {
         "name": "Mov-RSV-UEB",
         "rawType": "float64",
         "type": "float"
        },
        {
         "name": "RSV-ECH",
         "rawType": "float64",
         "type": "float"
        },
        {
         "name": "Mov-RSV-ECH",
         "rawType": "float64",
         "type": "float"
        },
        {
         "name": "RSV-BOE",
         "rawType": "float64",
         "type": "float"
        },
        {
         "name": "Mov-RSV-BOE",
         "rawType": "float64",
         "type": "float"
        },
        {
         "name": "RSV-GRE",
         "rawType": "float64",
         "type": "float"
        },
        {
         "name": "Mov-RSV-GRE",
         "rawType": "float64",
         "type": "float"
        },
        {
         "name": "RSV-HES",
         "rawType": "float64",
         "type": "float"
        },
        {
         "name": "Mov-RSV-HES",
         "rawType": "float64",
         "type": "float"
        },
        {
         "name": "RSV-VIE",
         "rawType": "float64",
         "type": "float"
        },
        {
         "name": "Mov-RSV-VIE",
         "rawType": "float64",
         "type": "float"
        },
        {
         "name": "RSV-WIL",
         "rawType": "float64",
         "type": "float"
        },
        {
         "name": "Mov-RSV-WIL",
         "rawType": "float64",
         "type": "float"
        },
        {
         "name": "SAMPLES-Nat",
         "rawType": "float64",
         "type": "float"
        },
        {
         "name": "SAMPLES-BEG",
         "rawType": "float64",
         "type": "float"
        },
        {
         "name": "SAMPLES-BET",
         "rawType": "float64",
         "type": "float"
        },
        {
         "name": "SAMPLES-PET",
         "rawType": "float64",
         "type": "float"
        },
        {
         "name": "SAMPLES-SCH",
         "rawType": "float64",
         "type": "float"
        },
        {
         "name": "SAMPLES-BLE",
         "rawType": "float64",
         "type": "float"
        },
        {
         "name": "SAMPLES-MER",
         "rawType": "float64",
         "type": "float"
        },
        {
         "name": "SAMPLES-UEB",
         "rawType": "float64",
         "type": "float"
        },
        {
         "name": "SAMPLES-ECH",
         "rawType": "float64",
         "type": "float"
        },
        {
         "name": "SAMPLES-BOE",
         "rawType": "float64",
         "type": "float"
        },
        {
         "name": "SAMPLES-GRE",
         "rawType": "float64",
         "type": "float"
        },
        {
         "name": "SAMPLES-HES",
         "rawType": "float64",
         "type": "float"
        },
        {
         "name": "SAMPLES-VIE",
         "rawType": "float64",
         "type": "float"
        },
        {
         "name": "SAMPLES-WIL",
         "rawType": "float64",
         "type": "float"
        },
        {
         "name": "SITUATION-Nat",
         "rawType": "object",
         "type": "unknown"
        },
        {
         "name": "date",
         "rawType": "datetime64[ns]",
         "type": "datetime"
        },
        {
         "name": "RSV-Nat_slope_4",
         "rawType": "float64",
         "type": "float"
        },
        {
         "name": "RSV-Nat_slope_5",
         "rawType": "float64",
         "type": "float"
        },
        {
         "name": "RSV-Nat_slope_7",
         "rawType": "float64",
         "type": "float"
        },
        {
         "name": "RSV-BEG_slope_4",
         "rawType": "float64",
         "type": "float"
        },
        {
         "name": "RSV-BEG_slope_5",
         "rawType": "float64",
         "type": "float"
        },
        {
         "name": "RSV-BEG_slope_7",
         "rawType": "float64",
         "type": "float"
        },
        {
         "name": "RSV-BET_slope_4",
         "rawType": "float64",
         "type": "float"
        },
        {
         "name": "RSV-BET_slope_5",
         "rawType": "float64",
         "type": "float"
        },
        {
         "name": "RSV-BET_slope_7",
         "rawType": "float64",
         "type": "float"
        },
        {
         "name": "RSV-PET_slope_4",
         "rawType": "float64",
         "type": "float"
        },
        {
         "name": "RSV-PET_slope_5",
         "rawType": "float64",
         "type": "float"
        },
        {
         "name": "RSV-PET_slope_7",
         "rawType": "float64",
         "type": "float"
        },
        {
         "name": "RSV-SCH_slope_4",
         "rawType": "float64",
         "type": "float"
        },
        {
         "name": "RSV-SCH_slope_5",
         "rawType": "float64",
         "type": "float"
        },
        {
         "name": "RSV-SCH_slope_7",
         "rawType": "float64",
         "type": "float"
        },
        {
         "name": "RSV-BLE_slope_4",
         "rawType": "float64",
         "type": "float"
        },
        {
         "name": "RSV-BLE_slope_5",
         "rawType": "float64",
         "type": "float"
        },
        {
         "name": "RSV-BLE_slope_7",
         "rawType": "float64",
         "type": "float"
        },
        {
         "name": "RSV-MER_slope_4",
         "rawType": "float64",
         "type": "float"
        },
        {
         "name": "RSV-MER_slope_5",
         "rawType": "float64",
         "type": "float"
        },
        {
         "name": "RSV-MER_slope_7",
         "rawType": "float64",
         "type": "float"
        },
        {
         "name": "RSV-UEB_slope_4",
         "rawType": "float64",
         "type": "float"
        },
        {
         "name": "RSV-UEB_slope_5",
         "rawType": "float64",
         "type": "float"
        },
        {
         "name": "RSV-UEB_slope_7",
         "rawType": "float64",
         "type": "float"
        },
        {
         "name": "RSV-ECH_slope_4",
         "rawType": "float64",
         "type": "float"
        },
        {
         "name": "RSV-ECH_slope_5",
         "rawType": "float64",
         "type": "float"
        },
        {
         "name": "RSV-ECH_slope_7",
         "rawType": "float64",
         "type": "float"
        },
        {
         "name": "RSV-BOE_slope_4",
         "rawType": "float64",
         "type": "float"
        },
        {
         "name": "RSV-BOE_slope_5",
         "rawType": "float64",
         "type": "float"
        },
        {
         "name": "RSV-BOE_slope_7",
         "rawType": "float64",
         "type": "float"
        },
        {
         "name": "RSV-GRE_slope_4",
         "rawType": "float64",
         "type": "float"
        },
        {
         "name": "RSV-GRE_slope_5",
         "rawType": "float64",
         "type": "float"
        },
        {
         "name": "RSV-GRE_slope_7",
         "rawType": "float64",
         "type": "float"
        },
        {
         "name": "RSV-HES_slope_4",
         "rawType": "float64",
         "type": "float"
        },
        {
         "name": "RSV-HES_slope_5",
         "rawType": "float64",
         "type": "float"
        },
        {
         "name": "RSV-HES_slope_7",
         "rawType": "float64",
         "type": "float"
        },
        {
         "name": "RSV-VIE_slope_4",
         "rawType": "float64",
         "type": "float"
        },
        {
         "name": "RSV-VIE_slope_5",
         "rawType": "float64",
         "type": "float"
        },
        {
         "name": "RSV-VIE_slope_7",
         "rawType": "float64",
         "type": "float"
        },
        {
         "name": "RSV-WIL_slope_4",
         "rawType": "float64",
         "type": "float"
        },
        {
         "name": "RSV-WIL_slope_5",
         "rawType": "float64",
         "type": "float"
        },
        {
         "name": "RSV-WIL_slope_7",
         "rawType": "float64",
         "type": "float"
        }
       ],
       "ref": "6fa85785-f69f-456a-b226-f0b6b83dc6cb",
       "rows": [
        [
         "0",
         "2023_23",
         "19302487379.922173",
         null,
         "0.0",
         null,
         "37851617748.2521",
         null,
         "70043742219.1019",
         null,
         "0.0",
         null,
         null,
         null,
         null,
         null,
         null,
         null,
         null,
         null,
         null,
         null,
         null,
         null,
         null,
         null,
         null,
         null,
         null,
         null,
         "548.0",
         "101.0",
         "101.0",
         "103.0",
         "103.0",
         "35.0",
         "35.0",
         "35.0",
         "35.0",
         "0.0",
         "0.0",
         "0.0",
         "0.0",
         "0.0",
         "Moderate",
         "2023-06-05 00:00:00",
         null,
         null,
         null,
         null,
         null,
         null,
         null,
         null,
         null,
         null,
         null,
         null,
         null,
         null,
         null,
         null,
         null,
         null,
         null,
         null,
         null,
         null,
         null,
         null,
         null,
         null,
         null,
         null,
         null,
         null,
         null,
         null,
         null,
         null,
         null,
         null,
         null,
         null,
         null,
         null,
         null,
         null
        ],
        [
         "1",
         "2023_24",
         "0.0",
         null,
         "0.0",
         null,
         "0.0",
         null,
         "0.0",
         null,
         "0.0",
         null,
         null,
         null,
         null,
         null,
         null,
         null,
         null,
         null,
         null,
         null,
         null,
         null,
         null,
         null,
         null,
         null,
         null,
         null,
         null,
         null,
         null,
         null,
         null,
         null,
         null,
         null,
         null,
         null,
         null,
         null,
         null,
         null,
         null,
         "2023-06-12 00:00:00",
         null,
         null,
         null,
         null,
         null,
         null,
         null,
         null,
         null,
         null,
         null,
         null,
         null,
         null,
         null,
         null,
         null,
         null,
         null,
         null,
         null,
         null,
         null,
         null,
         null,
         null,
         null,
         null,
         null,
         null,
         null,
         null,
         null,
         null,
         null,
         null,
         null,
         null,
         null,
         null,
         null,
         null
        ],
        [
         "2",
         "2023_25",
         "17910463933.871902",
         "12404317104.598024",
         "0.0",
         "0.0",
         null,
         "18925808874.12605",
         "69446340989.5597",
         "46496694402.8872",
         "70270635419.83351",
         "23423545139.944504",
         null,
         null,
         null,
         null,
         null,
         null,
         null,
         null,
         null,
         null,
         null,
         null,
         null,
         null,
         null,
         null,
         null,
         null,
         null,
         null,
         null,
         null,
         null,
         null,
         null,
         null,
         null,
         null,
         null,
         null,
         null,
         null,
         null,
         "2023-06-19 00:00:00",
         null,
         null,
         null,
         null,
         null,
         null,
         null,
         null,
         null,
         null,
         null,
         null,
         null,
         null,
         null,
         null,
         null,
         null,
         null,
         null,
         null,
         null,
         null,
         null,
         null,
         null,
         null,
         null,
         null,
         null,
         null,
         null,
         null,
         null,
         null,
         null,
         null,
         null,
         null,
         null,
         null,
         null
        ],
        [
         "3",
         "2023_26",
         "10731606433.61264",
         "9547356789.161514",
         "0.0",
         "0.0",
         "0.0",
         "0.0",
         "0.0",
         "23148780329.85323",
         "50547042726.894135",
         "40272559382.242546",
         null,
         null,
         null,
         null,
         null,
         null,
         null,
         null,
         null,
         null,
         null,
         null,
         null,
         null,
         null,
         null,
         null,
         null,
         null,
         null,
         null,
         null,
         null,
         null,
         null,
         null,
         null,
         null,
         null,
         null,
         null,
         null,
         null,
         "2023-06-26 00:00:00",
         "-0.001280216055212116",
         null,
         null,
         "6.719716333279082e-18",
         null,
         null,
         "-0.026936084746761423",
         null,
         null,
         "-0.011981533637852287",
         null,
         null,
         "0.08097833456864721",
         null,
         null,
         "-6.223338325960391e-19",
         null,
         null,
         "4.714710216440757e-18",
         null,
         null,
         "-8.007354264729313e-19",
         null,
         null,
         "-4.5413586223453004e-18",
         null,
         null,
         "0.0",
         null,
         null,
         "0.0",
         null,
         null,
         "0.0",
         null,
         null,
         "0.0",
         null,
         null,
         "0.0",
         null,
         null
        ],
        [
         "4",
         "2023_27",
         "9305754254.238499",
         "12649274873.907679",
         "0.0",
         "0.0",
         "55717348639.97767",
         "27858674319.988834",
         "0.0",
         "23148780329.85323",
         "0.0",
         "40272559382.242546",
         null,
         null,
         null,
         null,
         null,
         null,
         null,
         null,
         null,
         null,
         null,
         null,
         null,
         null,
         null,
         null,
         null,
         null,
         null,
         null,
         null,
         null,
         null,
         null,
         null,
         null,
         null,
         null,
         null,
         null,
         null,
         null,
         null,
         "2023-07-03 00:00:00",
         "0.003882261321073559",
         "-0.0021652983976649756",
         null,
         "6.719716333279082e-18",
         "-0.00047931817280607046",
         null,
         "0.03874359274212427",
         "0.009574674217195857",
         null,
         "-0.005735814763981787",
         "-0.017418752565039695",
         null,
         "-0.0063992374471278455",
         "0.025377559381618325",
         null,
         "-6.223338325960391e-19",
         "-6.9062643078235684e-18",
         null,
         "4.714710216440757e-18",
         "4.39867090983178e-18",
         null,
         "-8.007354264729313e-19",
         "-9.320814017119568e-19",
         null,
         "-4.5413586223453004e-18",
         "4.248933403076451e-18",
         null,
         "0.0",
         "0.0",
         null,
         "0.0",
         "0.0",
         null,
         "0.0",
         "0.0",
         null,
         "0.0",
         "0.0",
         null,
         "0.0",
         "0.0",
         null
        ]
       ],
       "shape": {
        "columns": 87,
        "rows": 5
       }
      },
      "text/html": [
       "<div>\n",
       "<style scoped>\n",
       "    .dataframe tbody tr th:only-of-type {\n",
       "        vertical-align: middle;\n",
       "    }\n",
       "\n",
       "    .dataframe tbody tr th {\n",
       "        vertical-align: top;\n",
       "    }\n",
       "\n",
       "    .dataframe thead th {\n",
       "        text-align: right;\n",
       "    }\n",
       "</style>\n",
       "<table border=\"1\" class=\"dataframe\">\n",
       "  <thead>\n",
       "    <tr style=\"text-align: right;\">\n",
       "      <th></th>\n",
       "      <th>yyyy-w (RSV)</th>\n",
       "      <th>RSV-Nat</th>\n",
       "      <th>Mov-RSV-Nat</th>\n",
       "      <th>RSV-BEG</th>\n",
       "      <th>Mov-RSV-BEG</th>\n",
       "      <th>RSV-BET</th>\n",
       "      <th>Mov-RSV-BET</th>\n",
       "      <th>RSV-PET</th>\n",
       "      <th>Mov-RSV-PET</th>\n",
       "      <th>RSV-SCH</th>\n",
       "      <th>...</th>\n",
       "      <th>RSV-GRE_slope_7</th>\n",
       "      <th>RSV-HES_slope_4</th>\n",
       "      <th>RSV-HES_slope_5</th>\n",
       "      <th>RSV-HES_slope_7</th>\n",
       "      <th>RSV-VIE_slope_4</th>\n",
       "      <th>RSV-VIE_slope_5</th>\n",
       "      <th>RSV-VIE_slope_7</th>\n",
       "      <th>RSV-WIL_slope_4</th>\n",
       "      <th>RSV-WIL_slope_5</th>\n",
       "      <th>RSV-WIL_slope_7</th>\n",
       "    </tr>\n",
       "  </thead>\n",
       "  <tbody>\n",
       "    <tr>\n",
       "      <th>0</th>\n",
       "      <td>2023_23</td>\n",
       "      <td>1.930249e+10</td>\n",
       "      <td>NaN</td>\n",
       "      <td>0.0</td>\n",
       "      <td>NaN</td>\n",
       "      <td>3.785162e+10</td>\n",
       "      <td>NaN</td>\n",
       "      <td>7.004374e+10</td>\n",
       "      <td>NaN</td>\n",
       "      <td>0.000000e+00</td>\n",
       "      <td>...</td>\n",
       "      <td>NaN</td>\n",
       "      <td>NaN</td>\n",
       "      <td>NaN</td>\n",
       "      <td>NaN</td>\n",
       "      <td>NaN</td>\n",
       "      <td>NaN</td>\n",
       "      <td>NaN</td>\n",
       "      <td>NaN</td>\n",
       "      <td>NaN</td>\n",
       "      <td>NaN</td>\n",
       "    </tr>\n",
       "    <tr>\n",
       "      <th>1</th>\n",
       "      <td>2023_24</td>\n",
       "      <td>0.000000e+00</td>\n",
       "      <td>NaN</td>\n",
       "      <td>0.0</td>\n",
       "      <td>NaN</td>\n",
       "      <td>0.000000e+00</td>\n",
       "      <td>NaN</td>\n",
       "      <td>0.000000e+00</td>\n",
       "      <td>NaN</td>\n",
       "      <td>0.000000e+00</td>\n",
       "      <td>...</td>\n",
       "      <td>NaN</td>\n",
       "      <td>NaN</td>\n",
       "      <td>NaN</td>\n",
       "      <td>NaN</td>\n",
       "      <td>NaN</td>\n",
       "      <td>NaN</td>\n",
       "      <td>NaN</td>\n",
       "      <td>NaN</td>\n",
       "      <td>NaN</td>\n",
       "      <td>NaN</td>\n",
       "    </tr>\n",
       "    <tr>\n",
       "      <th>2</th>\n",
       "      <td>2023_25</td>\n",
       "      <td>1.791046e+10</td>\n",
       "      <td>1.240432e+10</td>\n",
       "      <td>0.0</td>\n",
       "      <td>0.0</td>\n",
       "      <td>NaN</td>\n",
       "      <td>1.892581e+10</td>\n",
       "      <td>6.944634e+10</td>\n",
       "      <td>4.649669e+10</td>\n",
       "      <td>7.027064e+10</td>\n",
       "      <td>...</td>\n",
       "      <td>NaN</td>\n",
       "      <td>NaN</td>\n",
       "      <td>NaN</td>\n",
       "      <td>NaN</td>\n",
       "      <td>NaN</td>\n",
       "      <td>NaN</td>\n",
       "      <td>NaN</td>\n",
       "      <td>NaN</td>\n",
       "      <td>NaN</td>\n",
       "      <td>NaN</td>\n",
       "    </tr>\n",
       "    <tr>\n",
       "      <th>3</th>\n",
       "      <td>2023_26</td>\n",
       "      <td>1.073161e+10</td>\n",
       "      <td>9.547357e+09</td>\n",
       "      <td>0.0</td>\n",
       "      <td>0.0</td>\n",
       "      <td>0.000000e+00</td>\n",
       "      <td>0.000000e+00</td>\n",
       "      <td>0.000000e+00</td>\n",
       "      <td>2.314878e+10</td>\n",
       "      <td>5.054704e+10</td>\n",
       "      <td>...</td>\n",
       "      <td>NaN</td>\n",
       "      <td>0.0</td>\n",
       "      <td>NaN</td>\n",
       "      <td>NaN</td>\n",
       "      <td>0.0</td>\n",
       "      <td>NaN</td>\n",
       "      <td>NaN</td>\n",
       "      <td>0.0</td>\n",
       "      <td>NaN</td>\n",
       "      <td>NaN</td>\n",
       "    </tr>\n",
       "    <tr>\n",
       "      <th>4</th>\n",
       "      <td>2023_27</td>\n",
       "      <td>9.305754e+09</td>\n",
       "      <td>1.264927e+10</td>\n",
       "      <td>0.0</td>\n",
       "      <td>0.0</td>\n",
       "      <td>5.571735e+10</td>\n",
       "      <td>2.785867e+10</td>\n",
       "      <td>0.000000e+00</td>\n",
       "      <td>2.314878e+10</td>\n",
       "      <td>0.000000e+00</td>\n",
       "      <td>...</td>\n",
       "      <td>NaN</td>\n",
       "      <td>0.0</td>\n",
       "      <td>0.0</td>\n",
       "      <td>NaN</td>\n",
       "      <td>0.0</td>\n",
       "      <td>0.0</td>\n",
       "      <td>NaN</td>\n",
       "      <td>0.0</td>\n",
       "      <td>0.0</td>\n",
       "      <td>NaN</td>\n",
       "    </tr>\n",
       "  </tbody>\n",
       "</table>\n",
       "<p>5 rows × 87 columns</p>\n",
       "</div>"
      ],
      "text/plain": [
       "  yyyy-w (RSV)       RSV-Nat   Mov-RSV-Nat  RSV-BEG  Mov-RSV-BEG  \\\n",
       "0      2023_23  1.930249e+10           NaN      0.0          NaN   \n",
       "1      2023_24  0.000000e+00           NaN      0.0          NaN   \n",
       "2      2023_25  1.791046e+10  1.240432e+10      0.0          0.0   \n",
       "3      2023_26  1.073161e+10  9.547357e+09      0.0          0.0   \n",
       "4      2023_27  9.305754e+09  1.264927e+10      0.0          0.0   \n",
       "\n",
       "        RSV-BET   Mov-RSV-BET       RSV-PET   Mov-RSV-PET       RSV-SCH  ...  \\\n",
       "0  3.785162e+10           NaN  7.004374e+10           NaN  0.000000e+00  ...   \n",
       "1  0.000000e+00           NaN  0.000000e+00           NaN  0.000000e+00  ...   \n",
       "2           NaN  1.892581e+10  6.944634e+10  4.649669e+10  7.027064e+10  ...   \n",
       "3  0.000000e+00  0.000000e+00  0.000000e+00  2.314878e+10  5.054704e+10  ...   \n",
       "4  5.571735e+10  2.785867e+10  0.000000e+00  2.314878e+10  0.000000e+00  ...   \n",
       "\n",
       "   RSV-GRE_slope_7  RSV-HES_slope_4  RSV-HES_slope_5  RSV-HES_slope_7  \\\n",
       "0              NaN              NaN              NaN              NaN   \n",
       "1              NaN              NaN              NaN              NaN   \n",
       "2              NaN              NaN              NaN              NaN   \n",
       "3              NaN              0.0              NaN              NaN   \n",
       "4              NaN              0.0              0.0              NaN   \n",
       "\n",
       "   RSV-VIE_slope_4  RSV-VIE_slope_5  RSV-VIE_slope_7  RSV-WIL_slope_4  \\\n",
       "0              NaN              NaN              NaN              NaN   \n",
       "1              NaN              NaN              NaN              NaN   \n",
       "2              NaN              NaN              NaN              NaN   \n",
       "3              0.0              NaN              NaN              0.0   \n",
       "4              0.0              0.0              NaN              0.0   \n",
       "\n",
       "   RSV-WIL_slope_5  RSV-WIL_slope_7  \n",
       "0              NaN              NaN  \n",
       "1              NaN              NaN  \n",
       "2              NaN              NaN  \n",
       "3              NaN              NaN  \n",
       "4              0.0              NaN  \n",
       "\n",
       "[5 rows x 87 columns]"
      ]
     },
     "execution_count": 23,
     "metadata": {},
     "output_type": "execute_result"
    }
   ],
   "source": [
    "for col in rsv_cols:\n",
    "    for window in window_sizes:\n",
    "        slope_col = f\"{col}_slope_{window}\"\n",
    "        df_rsv[slope_col] = compute_slope_feature(df_rsv[col], window=window)\n",
    "\n",
    "df_rsv.head()"
   ]
  },
  {
   "cell_type": "code",
   "execution_count": 24,
   "id": "515e889d",
   "metadata": {},
   "outputs": [],
   "source": [
    "rsv_slope_cols = [col for col in df_rsv.columns if col.__contains__('slope')]\n",
    "\n",
    "for col in rsv_slope_cols:\n",
    "    # print(col)\n",
    "    local_df = pd.DataFrame({\n",
    "        'time': df_rsv['date'],\n",
    "        'rna_copies': df_rsv[col],\n",
    "        'label': \"FluA\"\n",
    "    })\n",
    "    local_df = local_df.dropna(subset=['rna_copies'])\n",
    "    local_df.to_csv(f'./data_preprocess/{col}.csv', index=False)"
   ]
  },
  {
   "cell_type": "markdown",
   "id": "a4511071",
   "metadata": {},
   "source": [
    "### SARS"
   ]
  },
  {
   "cell_type": "code",
   "execution_count": null,
   "id": "7dda8860",
   "metadata": {},
   "outputs": [],
   "source": [
    "for col in sars_cols:\n",
    "    for window in window_sizes:\n",
    "        slope_col = f\"{col}_slope_{window}\"\n",
    "        df_sars[slope_col] = compute_slope_feature(df_sars[col], window=window)\n",
    "\n",
    "df_sars.head()"
   ]
  },
  {
   "cell_type": "code",
   "execution_count": null,
   "id": "b078fe82",
   "metadata": {},
   "outputs": [],
   "source": [
    "sars_slope_cols = [col for col in df_sars.columns if col.__contains__('slope')]\n",
    "\n",
    "for col in sars_slope_cols:\n",
    "    # print(col)\n",
    "    local_df = pd.DataFrame({\n",
    "        'time': df_sars['date'],\n",
    "        'rna_copies': df_sars[col],\n",
    "        'label': \"FluA\"\n",
    "    })\n",
    "    local_df = local_df.dropna(subset=['rna_copies'])\n",
    "    local_df.to_csv(f'./data_preprocess/{col}.csv', index=False)"
   ]
  }
 ],
 "metadata": {
  "kernelspec": {
   "display_name": "Python 3",
   "language": "python",
   "name": "python3"
  },
  "language_info": {
   "codemirror_mode": {
    "name": "ipython",
    "version": 3
   },
   "file_extension": ".py",
   "mimetype": "text/x-python",
   "name": "python",
   "nbconvert_exporter": "python",
   "pygments_lexer": "ipython3",
   "version": "3.13.2"
  }
 },
 "nbformat": 4,
 "nbformat_minor": 5
}
