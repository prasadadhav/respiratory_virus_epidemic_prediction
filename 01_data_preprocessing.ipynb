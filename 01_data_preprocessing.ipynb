{
 "cells": [
  {
   "cell_type": "markdown",
   "id": "79b6843f",
   "metadata": {},
   "source": [
    "# Pre-processing Data"
   ]
  },
  {
   "cell_type": "markdown",
   "id": "1ff0e232",
   "metadata": {},
   "source": [
    "## Load Libs"
   ]
  },
  {
   "cell_type": "code",
   "execution_count": 1,
   "id": "f808a4c9",
   "metadata": {},
   "outputs": [],
   "source": [
    "import os\n",
    "\n",
    "# data\n",
    "import pandas as pd\n",
    "import numpy as np \n",
    "\n",
    "# plotting\n",
    "import matplotlib.pyplot as plt\n",
    "import matplotlib.cm as cm\n",
    "import matplotlib.colors as mcolors\n",
    "import seaborn as sns\n",
    "from plotly.subplots import make_subplots\n",
    "import plotly.graph_objs as go\n",
    "\n",
    "# stats\n",
    "import scipy.stats as stats\n",
    "from scipy.stats import expon, norm, kstest\n",
    "from scipy.stats import chisquare"
   ]
  },
  {
   "cell_type": "markdown",
   "id": "2f2922ee",
   "metadata": {},
   "source": [
    "## Load data"
   ]
  },
  {
   "cell_type": "code",
   "execution_count": 2,
   "id": "3e0291c8",
   "metadata": {},
   "outputs": [],
   "source": [
    "df_flu = pd.read_excel(\"./data/Data_Flu.xlsx\")\n",
    "df_rsv = pd.read_excel(\"./data/Data_RSV.xlsx\")\n",
    "df_sars = pd.read_excel(\"./data/Data_SARCoV.xlsx\")"
   ]
  },
  {
   "cell_type": "markdown",
   "id": "5cabbaa6",
   "metadata": {},
   "source": [
    "# Processing"
   ]
  },
  {
   "cell_type": "markdown",
   "id": "705d5e3e",
   "metadata": {},
   "source": [
    "## FluA"
   ]
  },
  {
   "cell_type": "code",
   "execution_count": 26,
   "id": "016b6140",
   "metadata": {},
   "outputs": [],
   "source": [
    "df_flu['date'] = pd.to_datetime(df_flu['yyyy-w (Flu)'] + '-1', format='%Y_%W-%w')"
   ]
  },
  {
   "cell_type": "code",
   "execution_count": 27,
   "id": "1e20eeb5",
   "metadata": {},
   "outputs": [],
   "source": [
    "mov_fluA_cols = [col for col in df_flu.columns if col.startswith('Mov-FluA')]\n",
    "\n",
    "for col in mov_fluA_cols:\n",
    "    label = col.replace('Mov-', '')\n",
    "    local_df = pd.DataFrame({\n",
    "        'time': df_flu['date'],\n",
    "        'rna_copies': df_flu[col],\n",
    "        'label': \"FluA\"\n",
    "    })\n",
    "    local_df = local_df.dropna(subset=['rna_copies'])\n",
    "    local_df.to_csv(f'./data_preprocess/{col}.csv', index=False)"
   ]
  },
  {
   "cell_type": "markdown",
   "id": "66b9fba8",
   "metadata": {},
   "source": [
    "## FluB"
   ]
  },
  {
   "cell_type": "code",
   "execution_count": 28,
   "id": "9d800e65",
   "metadata": {},
   "outputs": [],
   "source": [
    "mov_fluB_cols = [col for col in df_flu.columns if col.startswith('Mov-FluB')]\n",
    "\n",
    "for col in mov_fluB_cols:\n",
    "    label = col.replace('Mov-', '')\n",
    "    local_df = pd.DataFrame({\n",
    "        'time': df_flu['date'],\n",
    "        'rna_copies': df_flu[col],\n",
    "        'label': \"FluB\"\n",
    "    })\n",
    "    local_df = local_df.dropna(subset=['rna_copies'])\n",
    "    local_df.to_csv(f'./data_preprocess/{col}.csv', index=False)"
   ]
  },
  {
   "cell_type": "markdown",
   "id": "0f2111a5",
   "metadata": {},
   "source": [
    "## RSV"
   ]
  },
  {
   "cell_type": "code",
   "execution_count": 29,
   "id": "95df03e1",
   "metadata": {},
   "outputs": [],
   "source": [
    "df_rsv['date'] = pd.to_datetime(df_rsv['yyyy-w (RSV)'] + '-1', format='%Y_%W-%w')"
   ]
  },
  {
   "cell_type": "code",
   "execution_count": 30,
   "id": "e6969046",
   "metadata": {},
   "outputs": [],
   "source": [
    "mov_rsv_cols = [col for col in df_rsv.columns if col.startswith('Mov-RSV')]\n",
    "\n",
    "for col in mov_rsv_cols:\n",
    "    label = col.replace('Mov-', '')\n",
    "    local_df = pd.DataFrame({\n",
    "        'time': df_rsv['date'],\n",
    "        'rna_copies': df_rsv[col],\n",
    "        'label': \"RSV\"\n",
    "    })\n",
    "    local_df = local_df.dropna(subset=['rna_copies'])\n",
    "    local_df.to_csv(f'./data_preprocess/{col}.csv', index=False)"
   ]
  },
  {
   "cell_type": "markdown",
   "id": "079151a0",
   "metadata": {},
   "source": [
    "## SARS-CoV-2"
   ]
  },
  {
   "cell_type": "code",
   "execution_count": null,
   "id": "b0482971",
   "metadata": {},
   "outputs": [],
   "source": [
    "# mov_sars_cols = [col for col in df_sars.columns if col.startswith('Mov-SARS-CoV')]\n",
    "\n",
    "# for col in mov_sars_cols:\n",
    "#     label = col.replace('Mov-', '')\n",
    "#     local_df = pd.DataFrame({\n",
    "#         'time': df_sars['yyyy-w (SARS-CoV)'],\n",
    "#         'rna_copies': df_sars[col],\n",
    "#         'label': \"SARS-CoV-2\"\n",
    "#     })\n",
    "#     local_df = local_df.dropna(subset=['rna_copies'])\n",
    "#     local_df.to_csv(f'./data_preprocess/{col}.csv', index=False)"
   ]
  },
  {
   "cell_type": "code",
   "execution_count": 22,
   "id": "ac746e27",
   "metadata": {},
   "outputs": [],
   "source": [
    "df_sars['date'] = pd.to_datetime(df_sars['yyyy-w (SARS-CoV)'] + '-1', format='%Y_%W-%w')\n",
    "\n",
    "mov_sars_cols = [col for col in df_sars.columns if col.startswith('Mov-SARS-CoV')]\n",
    "\n",
    "for col in mov_sars_cols:\n",
    "    label = col.replace('Mov-', '')\n",
    "    local_df = pd.DataFrame({\n",
    "        'time': df_sars['date'],\n",
    "        'rna_copies': df_sars[col],\n",
    "        'label': \"SARS-CoV-2\"\n",
    "    })\n",
    "    local_df = local_df.dropna(subset=['rna_copies'])\n",
    "    local_df.to_csv(f'./data_preprocess/{col}.csv', index=False)"
   ]
  },
  {
   "cell_type": "code",
   "execution_count": 25,
   "id": "4021b7b1",
   "metadata": {},
   "outputs": [
    {
     "data": {
      "application/vnd.microsoft.datawrangler.viewer.v0+json": {
       "columns": [
        {
         "name": "index",
         "rawType": "int64",
         "type": "integer"
        },
        {
         "name": "date",
         "rawType": "datetime64[ns]",
         "type": "datetime"
        }
       ],
       "ref": "2a7a97d8-8f9f-4459-9620-a2b5de29d7b2",
       "rows": [
        [
         "0",
         "2020-04-06 00:00:00"
        ],
        [
         "1",
         "2020-04-13 00:00:00"
        ],
        [
         "2",
         "2020-04-20 00:00:00"
        ],
        [
         "3",
         "2020-04-27 00:00:00"
        ],
        [
         "4",
         "2020-05-04 00:00:00"
        ],
        [
         "5",
         "2020-05-11 00:00:00"
        ],
        [
         "6",
         "2020-05-18 00:00:00"
        ],
        [
         "7",
         "2020-05-25 00:00:00"
        ],
        [
         "8",
         "2020-06-01 00:00:00"
        ],
        [
         "9",
         "2020-06-08 00:00:00"
        ],
        [
         "10",
         "2020-06-15 00:00:00"
        ],
        [
         "11",
         "2020-06-22 00:00:00"
        ],
        [
         "12",
         "2020-06-29 00:00:00"
        ],
        [
         "13",
         "2020-07-06 00:00:00"
        ],
        [
         "14",
         "2020-07-13 00:00:00"
        ],
        [
         "15",
         "2020-07-20 00:00:00"
        ],
        [
         "16",
         "2020-07-27 00:00:00"
        ],
        [
         "17",
         "2020-08-03 00:00:00"
        ],
        [
         "18",
         "2020-08-10 00:00:00"
        ],
        [
         "19",
         "2020-08-17 00:00:00"
        ],
        [
         "20",
         "2020-08-24 00:00:00"
        ],
        [
         "21",
         "2020-08-31 00:00:00"
        ],
        [
         "22",
         "2020-09-07 00:00:00"
        ],
        [
         "23",
         "2020-09-14 00:00:00"
        ],
        [
         "24",
         "2020-09-21 00:00:00"
        ],
        [
         "25",
         "2020-09-28 00:00:00"
        ],
        [
         "26",
         "2020-10-05 00:00:00"
        ],
        [
         "27",
         "2020-10-12 00:00:00"
        ],
        [
         "28",
         "2020-10-19 00:00:00"
        ],
        [
         "29",
         "2020-10-26 00:00:00"
        ],
        [
         "30",
         "2020-11-02 00:00:00"
        ],
        [
         "31",
         "2020-11-09 00:00:00"
        ],
        [
         "32",
         "2020-11-16 00:00:00"
        ],
        [
         "33",
         "2020-11-23 00:00:00"
        ],
        [
         "34",
         "2020-11-30 00:00:00"
        ],
        [
         "35",
         "2020-12-07 00:00:00"
        ],
        [
         "36",
         "2020-12-14 00:00:00"
        ],
        [
         "37",
         "2020-12-21 00:00:00"
        ],
        [
         "38",
         "2020-12-28 00:00:00"
        ],
        [
         "39",
         "2021-01-04 00:00:00"
        ],
        [
         "40",
         "2021-01-04 00:00:00"
        ],
        [
         "41",
         "2021-01-11 00:00:00"
        ],
        [
         "42",
         "2021-01-18 00:00:00"
        ],
        [
         "43",
         "2021-01-25 00:00:00"
        ],
        [
         "44",
         "2021-02-01 00:00:00"
        ],
        [
         "45",
         "2021-02-08 00:00:00"
        ],
        [
         "46",
         "2021-02-15 00:00:00"
        ],
        [
         "47",
         "2021-02-22 00:00:00"
        ],
        [
         "48",
         "2021-03-01 00:00:00"
        ],
        [
         "49",
         "2021-03-08 00:00:00"
        ]
       ],
       "shape": {
        "columns": 1,
        "rows": 273
       }
      },
      "text/plain": [
       "0     2020-04-06\n",
       "1     2020-04-13\n",
       "2     2020-04-20\n",
       "3     2020-04-27\n",
       "4     2020-05-04\n",
       "         ...    \n",
       "268   2025-05-26\n",
       "269   2025-06-02\n",
       "270   2025-06-09\n",
       "271   2025-06-16\n",
       "272   2025-06-23\n",
       "Name: date, Length: 273, dtype: datetime64[ns]"
      ]
     },
     "execution_count": 25,
     "metadata": {},
     "output_type": "execute_result"
    }
   ],
   "source": [
    "df_sars['date']"
   ]
  }
 ],
 "metadata": {
  "kernelspec": {
   "display_name": "Python 3",
   "language": "python",
   "name": "python3"
  },
  "language_info": {
   "codemirror_mode": {
    "name": "ipython",
    "version": 3
   },
   "file_extension": ".py",
   "mimetype": "text/x-python",
   "name": "python",
   "nbconvert_exporter": "python",
   "pygments_lexer": "ipython3",
   "version": "3.13.2"
  }
 },
 "nbformat": 4,
 "nbformat_minor": 5
}
