{
 "cells": [
  {
   "cell_type": "markdown",
   "id": "abb17cdb",
   "metadata": {},
   "source": [
    "# Exploratory Data Analysis"
   ]
  },
  {
   "cell_type": "markdown",
   "id": "82655a18",
   "metadata": {},
   "source": [
    "## Load Libs"
   ]
  },
  {
   "cell_type": "code",
   "execution_count": 2,
   "id": "17022c04",
   "metadata": {},
   "outputs": [],
   "source": [
    "import os\n",
    "\n",
    "# data\n",
    "import pandas as pd\n",
    "import numpy as np \n",
    "\n",
    "# plotting\n",
    "import matplotlib.pyplot as plt\n",
    "import seaborn as sns\n",
    "\n",
    "# stats\n",
    "import scipy.stats as stats\n",
    "from scipy.stats import expon, norm, kstest\n",
    "from scipy.stats import chisquare"
   ]
  },
  {
   "cell_type": "markdown",
   "id": "a34db454",
   "metadata": {},
   "source": [
    "## Load data"
   ]
  },
  {
   "cell_type": "code",
   "execution_count": 3,
   "id": "c6e62d07",
   "metadata": {},
   "outputs": [],
   "source": [
    "df_flu = pd.read_excel(\"./data/Data_Flu.xlsx\")\n",
    "df_rsv = pd.read_excel(\"./data/Data_RSV.xlsx\")\n",
    "df_sars = pd.read_excel(\"./data/Data_SARCoV.xlsx\")"
   ]
  },
  {
   "cell_type": "code",
   "execution_count": 4,
   "id": "125a4655",
   "metadata": {},
   "outputs": [
    {
     "data": {
      "application/vnd.microsoft.datawrangler.viewer.v0+json": {
       "columns": [
        {
         "name": "index",
         "rawType": "int64",
         "type": "integer"
        },
        {
         "name": "yyyy-w (Flu)",
         "rawType": "object",
         "type": "string"
        },
        {
         "name": "FluA-Nat",
         "rawType": "float64",
         "type": "float"
        },
        {
         "name": "FluB-Nat",
         "rawType": "float64",
         "type": "float"
        },
        {
         "name": "Mov-FluA-Nat",
         "rawType": "float64",
         "type": "float"
        },
        {
         "name": "Mov-FluB-Nat",
         "rawType": "float64",
         "type": "float"
        },
        {
         "name": "FluA-BEG",
         "rawType": "float64",
         "type": "float"
        },
        {
         "name": "FluB-BEG",
         "rawType": "float64",
         "type": "float"
        },
        {
         "name": "Mov-FluA-BEG",
         "rawType": "float64",
         "type": "float"
        },
        {
         "name": "Mov-FluB-BEG",
         "rawType": "float64",
         "type": "float"
        },
        {
         "name": "FluA-BET",
         "rawType": "float64",
         "type": "float"
        },
        {
         "name": "FluB-BET",
         "rawType": "float64",
         "type": "float"
        },
        {
         "name": "Mov-FluA-BET",
         "rawType": "float64",
         "type": "float"
        },
        {
         "name": "Mov-FluB-BET",
         "rawType": "float64",
         "type": "float"
        },
        {
         "name": "FluA-PET",
         "rawType": "float64",
         "type": "float"
        },
        {
         "name": "FluB-PET",
         "rawType": "float64",
         "type": "float"
        },
        {
         "name": "Mov-FluA-PET",
         "rawType": "float64",
         "type": "float"
        },
        {
         "name": "Mov-FluB-PET",
         "rawType": "float64",
         "type": "float"
        },
        {
         "name": "FluA-SCH",
         "rawType": "float64",
         "type": "float"
        },
        {
         "name": "FluB-SCH",
         "rawType": "float64",
         "type": "float"
        },
        {
         "name": "Mov-FluA-SCH",
         "rawType": "float64",
         "type": "float"
        },
        {
         "name": "Mov-FluB-SCH",
         "rawType": "float64",
         "type": "float"
        },
        {
         "name": "FluA-BLE",
         "rawType": "float64",
         "type": "float"
        },
        {
         "name": "FluB-BLE",
         "rawType": "float64",
         "type": "float"
        },
        {
         "name": "Mov-FluA-BLE",
         "rawType": "float64",
         "type": "float"
        },
        {
         "name": "Mov-FluB-BLE",
         "rawType": "float64",
         "type": "float"
        },
        {
         "name": "FluA-MER",
         "rawType": "float64",
         "type": "float"
        },
        {
         "name": "FluB-MER",
         "rawType": "float64",
         "type": "float"
        },
        {
         "name": "Mov-FluA-MER",
         "rawType": "float64",
         "type": "float"
        },
        {
         "name": "Mov-FluB-MER",
         "rawType": "float64",
         "type": "float"
        },
        {
         "name": "FluA-UEB",
         "rawType": "float64",
         "type": "float"
        },
        {
         "name": "FluB-UEB",
         "rawType": "float64",
         "type": "float"
        },
        {
         "name": "Mov-FluA-UEB",
         "rawType": "float64",
         "type": "float"
        },
        {
         "name": "Mov-FluB-UEB",
         "rawType": "float64",
         "type": "float"
        },
        {
         "name": "FluA-ECH",
         "rawType": "float64",
         "type": "float"
        },
        {
         "name": "FluB-ECH",
         "rawType": "float64",
         "type": "float"
        },
        {
         "name": "Mov-FluA-ECH",
         "rawType": "float64",
         "type": "float"
        },
        {
         "name": "Mov-FluB-ECH",
         "rawType": "float64",
         "type": "float"
        },
        {
         "name": "FluA-BOE",
         "rawType": "float64",
         "type": "float"
        },
        {
         "name": "FluB-BOE",
         "rawType": "float64",
         "type": "float"
        },
        {
         "name": "Mov-FluA-BOE",
         "rawType": "float64",
         "type": "float"
        },
        {
         "name": "Mov-FluB-BOE",
         "rawType": "float64",
         "type": "float"
        },
        {
         "name": "FluA-GRE",
         "rawType": "float64",
         "type": "float"
        },
        {
         "name": "FluB-GRE",
         "rawType": "float64",
         "type": "float"
        },
        {
         "name": "Mov-FluA-GRE",
         "rawType": "float64",
         "type": "float"
        },
        {
         "name": "Mov-FluB-GRE",
         "rawType": "float64",
         "type": "float"
        },
        {
         "name": "FluA-HES",
         "rawType": "float64",
         "type": "float"
        },
        {
         "name": "FluB-HES",
         "rawType": "float64",
         "type": "float"
        },
        {
         "name": "Mov-FluA-HES",
         "rawType": "float64",
         "type": "float"
        },
        {
         "name": "Mov-FluB-HES",
         "rawType": "float64",
         "type": "float"
        },
        {
         "name": "FluA-VIE",
         "rawType": "float64",
         "type": "float"
        },
        {
         "name": "FluB-VIE",
         "rawType": "float64",
         "type": "float"
        },
        {
         "name": "Mov-FluA-VIE",
         "rawType": "float64",
         "type": "float"
        },
        {
         "name": "Mov-FluB-VIE",
         "rawType": "float64",
         "type": "float"
        },
        {
         "name": "FluA-WIL",
         "rawType": "float64",
         "type": "float"
        },
        {
         "name": "FluB-WIL",
         "rawType": "float64",
         "type": "float"
        },
        {
         "name": "Mov-FluA-WIL",
         "rawType": "float64",
         "type": "float"
        },
        {
         "name": "Mov-FluB-WIL",
         "rawType": "float64",
         "type": "float"
        },
        {
         "name": "SAMPLES-Nat",
         "rawType": "float64",
         "type": "float"
        },
        {
         "name": "SAMPLES-BEG",
         "rawType": "float64",
         "type": "float"
        },
        {
         "name": "SAMPLES-BET",
         "rawType": "float64",
         "type": "float"
        },
        {
         "name": "SAMPLES-PET",
         "rawType": "float64",
         "type": "float"
        },
        {
         "name": "SAMPLES-SCH",
         "rawType": "float64",
         "type": "float"
        },
        {
         "name": "SAMPLES-BLE",
         "rawType": "float64",
         "type": "float"
        },
        {
         "name": "SAMPLES-MER",
         "rawType": "float64",
         "type": "float"
        },
        {
         "name": "SAMPLES-UEB",
         "rawType": "float64",
         "type": "float"
        },
        {
         "name": "SAMPLES-ECH",
         "rawType": "float64",
         "type": "float"
        },
        {
         "name": "SAMPLES-BOE",
         "rawType": "float64",
         "type": "float"
        },
        {
         "name": "SAMPLES-GRE",
         "rawType": "float64",
         "type": "float"
        },
        {
         "name": "SAMPLES-HES",
         "rawType": "float64",
         "type": "float"
        },
        {
         "name": "SAMPLES-VIE",
         "rawType": "float64",
         "type": "float"
        },
        {
         "name": "SAMPLES-WIL",
         "rawType": "float64",
         "type": "float"
        },
        {
         "name": "SITUATION-Nat",
         "rawType": "object",
         "type": "unknown"
        }
       ],
       "ref": "7340d5f7-3f65-4af3-a9ce-6a2fd712cad0",
       "rows": [
        [
         "0",
         "2021_40",
         "0.0",
         "0.0",
         null,
         null,
         "0.0",
         "0.0",
         null,
         null,
         "0.0",
         "0.0",
         null,
         null,
         "0.0",
         "0.0",
         null,
         null,
         "0.0",
         "0.0",
         null,
         null,
         null,
         null,
         null,
         null,
         null,
         null,
         null,
         null,
         null,
         null,
         null,
         null,
         null,
         null,
         null,
         null,
         null,
         null,
         null,
         null,
         null,
         null,
         null,
         null,
         null,
         null,
         null,
         null,
         null,
         null,
         null,
         null,
         null,
         null,
         null,
         null,
         "918.0",
         "194.0",
         "191.0",
         "194.0",
         "196.0",
         "36.0",
         "35.0",
         "36.0",
         "36.0",
         null,
         null,
         null,
         null,
         null,
         "Low"
        ],
        [
         "1",
         "2021_41",
         "0.0",
         "0.0",
         null,
         null,
         "0.0",
         "0.0",
         null,
         null,
         "0.0",
         "0.0",
         null,
         null,
         "0.0",
         "0.0",
         null,
         null,
         "0.0",
         "0.0",
         null,
         null,
         null,
         null,
         null,
         null,
         null,
         null,
         null,
         null,
         null,
         null,
         null,
         null,
         null,
         null,
         null,
         null,
         null,
         null,
         null,
         null,
         null,
         null,
         null,
         null,
         null,
         null,
         null,
         null,
         null,
         null,
         null,
         null,
         null,
         null,
         null,
         null,
         null,
         null,
         null,
         null,
         null,
         null,
         null,
         null,
         null,
         null,
         null,
         null,
         null,
         null,
         null
        ],
        [
         "2",
         "2021_42",
         "0.0",
         "0.0",
         "0.0",
         "0.0",
         "0.0",
         "0.0",
         "0.0",
         "0.0",
         "0.0",
         "0.0",
         "0.0",
         "0.0",
         "0.0",
         "0.0",
         "0.0",
         "0.0",
         "0.0",
         "0.0",
         "0.0",
         "0.0",
         null,
         null,
         null,
         null,
         null,
         null,
         null,
         null,
         null,
         null,
         null,
         null,
         null,
         null,
         null,
         null,
         null,
         null,
         null,
         null,
         null,
         null,
         null,
         null,
         null,
         null,
         null,
         null,
         null,
         null,
         null,
         null,
         null,
         null,
         null,
         null,
         null,
         null,
         null,
         null,
         null,
         null,
         null,
         null,
         null,
         null,
         null,
         null,
         null,
         null,
         null
        ],
        [
         "3",
         "2021_43",
         "0.0",
         "0.0",
         "0.0",
         "0.0",
         "0.0",
         "0.0",
         "0.0",
         "0.0",
         "0.0",
         "0.0",
         "0.0",
         "0.0",
         "0.0",
         "0.0",
         "0.0",
         "0.0",
         "0.0",
         "0.0",
         "0.0",
         "0.0",
         null,
         null,
         null,
         null,
         null,
         null,
         null,
         null,
         null,
         null,
         null,
         null,
         null,
         null,
         null,
         null,
         null,
         null,
         null,
         null,
         null,
         null,
         null,
         null,
         null,
         null,
         null,
         null,
         null,
         null,
         null,
         null,
         null,
         null,
         null,
         null,
         null,
         null,
         null,
         null,
         null,
         null,
         null,
         null,
         null,
         null,
         null,
         null,
         null,
         null,
         null
        ],
        [
         "4",
         "2021_44",
         "0.0",
         "0.0",
         "0.0",
         "0.0",
         "0.0",
         "0.0",
         "0.0",
         "0.0",
         "0.0",
         "0.0",
         "0.0",
         "0.0",
         "0.0",
         "0.0",
         "0.0",
         "0.0",
         "0.0",
         "0.0",
         "0.0",
         "0.0",
         null,
         null,
         null,
         null,
         null,
         null,
         null,
         null,
         null,
         null,
         null,
         null,
         null,
         null,
         null,
         null,
         null,
         null,
         null,
         null,
         null,
         null,
         null,
         null,
         null,
         null,
         null,
         null,
         null,
         null,
         null,
         null,
         null,
         null,
         null,
         null,
         null,
         null,
         null,
         null,
         null,
         null,
         null,
         null,
         null,
         null,
         null,
         null,
         null,
         null,
         null
        ]
       ],
       "shape": {
        "columns": 72,
        "rows": 5
       }
      },
      "text/html": [
       "<div>\n",
       "<style scoped>\n",
       "    .dataframe tbody tr th:only-of-type {\n",
       "        vertical-align: middle;\n",
       "    }\n",
       "\n",
       "    .dataframe tbody tr th {\n",
       "        vertical-align: top;\n",
       "    }\n",
       "\n",
       "    .dataframe thead th {\n",
       "        text-align: right;\n",
       "    }\n",
       "</style>\n",
       "<table border=\"1\" class=\"dataframe\">\n",
       "  <thead>\n",
       "    <tr style=\"text-align: right;\">\n",
       "      <th></th>\n",
       "      <th>yyyy-w (Flu)</th>\n",
       "      <th>FluA-Nat</th>\n",
       "      <th>FluB-Nat</th>\n",
       "      <th>Mov-FluA-Nat</th>\n",
       "      <th>Mov-FluB-Nat</th>\n",
       "      <th>FluA-BEG</th>\n",
       "      <th>FluB-BEG</th>\n",
       "      <th>Mov-FluA-BEG</th>\n",
       "      <th>Mov-FluB-BEG</th>\n",
       "      <th>FluA-BET</th>\n",
       "      <th>...</th>\n",
       "      <th>SAMPLES-BLE</th>\n",
       "      <th>SAMPLES-MER</th>\n",
       "      <th>SAMPLES-UEB</th>\n",
       "      <th>SAMPLES-ECH</th>\n",
       "      <th>SAMPLES-BOE</th>\n",
       "      <th>SAMPLES-GRE</th>\n",
       "      <th>SAMPLES-HES</th>\n",
       "      <th>SAMPLES-VIE</th>\n",
       "      <th>SAMPLES-WIL</th>\n",
       "      <th>SITUATION-Nat</th>\n",
       "    </tr>\n",
       "  </thead>\n",
       "  <tbody>\n",
       "    <tr>\n",
       "      <th>0</th>\n",
       "      <td>2021_40</td>\n",
       "      <td>0.0</td>\n",
       "      <td>0.0</td>\n",
       "      <td>NaN</td>\n",
       "      <td>NaN</td>\n",
       "      <td>0.0</td>\n",
       "      <td>0.0</td>\n",
       "      <td>NaN</td>\n",
       "      <td>NaN</td>\n",
       "      <td>0.0</td>\n",
       "      <td>...</td>\n",
       "      <td>36.0</td>\n",
       "      <td>35.0</td>\n",
       "      <td>36.0</td>\n",
       "      <td>36.0</td>\n",
       "      <td>NaN</td>\n",
       "      <td>NaN</td>\n",
       "      <td>NaN</td>\n",
       "      <td>NaN</td>\n",
       "      <td>NaN</td>\n",
       "      <td>Low</td>\n",
       "    </tr>\n",
       "    <tr>\n",
       "      <th>1</th>\n",
       "      <td>2021_41</td>\n",
       "      <td>0.0</td>\n",
       "      <td>0.0</td>\n",
       "      <td>NaN</td>\n",
       "      <td>NaN</td>\n",
       "      <td>0.0</td>\n",
       "      <td>0.0</td>\n",
       "      <td>NaN</td>\n",
       "      <td>NaN</td>\n",
       "      <td>0.0</td>\n",
       "      <td>...</td>\n",
       "      <td>NaN</td>\n",
       "      <td>NaN</td>\n",
       "      <td>NaN</td>\n",
       "      <td>NaN</td>\n",
       "      <td>NaN</td>\n",
       "      <td>NaN</td>\n",
       "      <td>NaN</td>\n",
       "      <td>NaN</td>\n",
       "      <td>NaN</td>\n",
       "      <td>NaN</td>\n",
       "    </tr>\n",
       "    <tr>\n",
       "      <th>2</th>\n",
       "      <td>2021_42</td>\n",
       "      <td>0.0</td>\n",
       "      <td>0.0</td>\n",
       "      <td>0.0</td>\n",
       "      <td>0.0</td>\n",
       "      <td>0.0</td>\n",
       "      <td>0.0</td>\n",
       "      <td>0.0</td>\n",
       "      <td>0.0</td>\n",
       "      <td>0.0</td>\n",
       "      <td>...</td>\n",
       "      <td>NaN</td>\n",
       "      <td>NaN</td>\n",
       "      <td>NaN</td>\n",
       "      <td>NaN</td>\n",
       "      <td>NaN</td>\n",
       "      <td>NaN</td>\n",
       "      <td>NaN</td>\n",
       "      <td>NaN</td>\n",
       "      <td>NaN</td>\n",
       "      <td>NaN</td>\n",
       "    </tr>\n",
       "    <tr>\n",
       "      <th>3</th>\n",
       "      <td>2021_43</td>\n",
       "      <td>0.0</td>\n",
       "      <td>0.0</td>\n",
       "      <td>0.0</td>\n",
       "      <td>0.0</td>\n",
       "      <td>0.0</td>\n",
       "      <td>0.0</td>\n",
       "      <td>0.0</td>\n",
       "      <td>0.0</td>\n",
       "      <td>0.0</td>\n",
       "      <td>...</td>\n",
       "      <td>NaN</td>\n",
       "      <td>NaN</td>\n",
       "      <td>NaN</td>\n",
       "      <td>NaN</td>\n",
       "      <td>NaN</td>\n",
       "      <td>NaN</td>\n",
       "      <td>NaN</td>\n",
       "      <td>NaN</td>\n",
       "      <td>NaN</td>\n",
       "      <td>NaN</td>\n",
       "    </tr>\n",
       "    <tr>\n",
       "      <th>4</th>\n",
       "      <td>2021_44</td>\n",
       "      <td>0.0</td>\n",
       "      <td>0.0</td>\n",
       "      <td>0.0</td>\n",
       "      <td>0.0</td>\n",
       "      <td>0.0</td>\n",
       "      <td>0.0</td>\n",
       "      <td>0.0</td>\n",
       "      <td>0.0</td>\n",
       "      <td>0.0</td>\n",
       "      <td>...</td>\n",
       "      <td>NaN</td>\n",
       "      <td>NaN</td>\n",
       "      <td>NaN</td>\n",
       "      <td>NaN</td>\n",
       "      <td>NaN</td>\n",
       "      <td>NaN</td>\n",
       "      <td>NaN</td>\n",
       "      <td>NaN</td>\n",
       "      <td>NaN</td>\n",
       "      <td>NaN</td>\n",
       "    </tr>\n",
       "  </tbody>\n",
       "</table>\n",
       "<p>5 rows × 72 columns</p>\n",
       "</div>"
      ],
      "text/plain": [
       "  yyyy-w (Flu)  FluA-Nat  FluB-Nat  Mov-FluA-Nat  Mov-FluB-Nat  FluA-BEG  \\\n",
       "0      2021_40       0.0       0.0           NaN           NaN       0.0   \n",
       "1      2021_41       0.0       0.0           NaN           NaN       0.0   \n",
       "2      2021_42       0.0       0.0           0.0           0.0       0.0   \n",
       "3      2021_43       0.0       0.0           0.0           0.0       0.0   \n",
       "4      2021_44       0.0       0.0           0.0           0.0       0.0   \n",
       "\n",
       "   FluB-BEG  Mov-FluA-BEG  Mov-FluB-BEG  FluA-BET  ...  SAMPLES-BLE  \\\n",
       "0       0.0           NaN           NaN       0.0  ...         36.0   \n",
       "1       0.0           NaN           NaN       0.0  ...          NaN   \n",
       "2       0.0           0.0           0.0       0.0  ...          NaN   \n",
       "3       0.0           0.0           0.0       0.0  ...          NaN   \n",
       "4       0.0           0.0           0.0       0.0  ...          NaN   \n",
       "\n",
       "   SAMPLES-MER  SAMPLES-UEB  SAMPLES-ECH  SAMPLES-BOE  SAMPLES-GRE  \\\n",
       "0         35.0         36.0         36.0          NaN          NaN   \n",
       "1          NaN          NaN          NaN          NaN          NaN   \n",
       "2          NaN          NaN          NaN          NaN          NaN   \n",
       "3          NaN          NaN          NaN          NaN          NaN   \n",
       "4          NaN          NaN          NaN          NaN          NaN   \n",
       "\n",
       "   SAMPLES-HES  SAMPLES-VIE  SAMPLES-WIL  SITUATION-Nat  \n",
       "0          NaN          NaN          NaN            Low  \n",
       "1          NaN          NaN          NaN            NaN  \n",
       "2          NaN          NaN          NaN            NaN  \n",
       "3          NaN          NaN          NaN            NaN  \n",
       "4          NaN          NaN          NaN            NaN  \n",
       "\n",
       "[5 rows x 72 columns]"
      ]
     },
     "execution_count": 4,
     "metadata": {},
     "output_type": "execute_result"
    }
   ],
   "source": [
    "df_flu.head()"
   ]
  },
  {
   "cell_type": "code",
   "execution_count": 5,
   "id": "e916025a",
   "metadata": {},
   "outputs": [
    {
     "data": {
      "text/plain": [
       "Index(['yyyy-w (Flu)', 'FluA-Nat', 'FluB-Nat', 'Mov-FluA-Nat', 'Mov-FluB-Nat',\n",
       "       'FluA-BEG', 'FluB-BEG', 'Mov-FluA-BEG', 'Mov-FluB-BEG', 'FluA-BET',\n",
       "       'FluB-BET', 'Mov-FluA-BET', 'Mov-FluB-BET', 'FluA-PET', 'FluB-PET',\n",
       "       'Mov-FluA-PET', 'Mov-FluB-PET', 'FluA-SCH', 'FluB-SCH', 'Mov-FluA-SCH',\n",
       "       'Mov-FluB-SCH', 'FluA-BLE', 'FluB-BLE', 'Mov-FluA-BLE', 'Mov-FluB-BLE',\n",
       "       'FluA-MER', 'FluB-MER', 'Mov-FluA-MER', 'Mov-FluB-MER', 'FluA-UEB',\n",
       "       'FluB-UEB', 'Mov-FluA-UEB', 'Mov-FluB-UEB', 'FluA-ECH', 'FluB-ECH',\n",
       "       'Mov-FluA-ECH', 'Mov-FluB-ECH', 'FluA-BOE', 'FluB-BOE', 'Mov-FluA-BOE',\n",
       "       'Mov-FluB-BOE', 'FluA-GRE', 'FluB-GRE', 'Mov-FluA-GRE', 'Mov-FluB-GRE',\n",
       "       'FluA-HES', 'FluB-HES', 'Mov-FluA-HES', 'Mov-FluB-HES', 'FluA-VIE',\n",
       "       'FluB-VIE', 'Mov-FluA-VIE', 'Mov-FluB-VIE', 'FluA-WIL', 'FluB-WIL',\n",
       "       'Mov-FluA-WIL', 'Mov-FluB-WIL', 'SAMPLES-Nat', 'SAMPLES-BEG',\n",
       "       'SAMPLES-BET', 'SAMPLES-PET', 'SAMPLES-SCH', 'SAMPLES-BLE',\n",
       "       'SAMPLES-MER', 'SAMPLES-UEB', 'SAMPLES-ECH', 'SAMPLES-BOE',\n",
       "       'SAMPLES-GRE', 'SAMPLES-HES', 'SAMPLES-VIE', 'SAMPLES-WIL',\n",
       "       'SITUATION-Nat'],\n",
       "      dtype='object')"
      ]
     },
     "execution_count": 5,
     "metadata": {},
     "output_type": "execute_result"
    }
   ],
   "source": [
    "df_flu.columns"
   ]
  },
  {
   "cell_type": "markdown",
   "id": "f8ec58a4",
   "metadata": {},
   "source": [
    "## Plot Data"
   ]
  },
  {
   "cell_type": "code",
   "execution_count": 6,
   "id": "b1d52881",
   "metadata": {},
   "outputs": [
    {
     "name": "stderr",
     "output_type": "stream",
     "text": [
      "C:\\Users\\adhav\\AppData\\Local\\Temp\\ipykernel_16340\\3667450956.py:15: UserWarning:\n",
      "\n",
      "Legend does not support handles for str instances.\n",
      "A proxy artist may be used instead.\n",
      "See: https://matplotlib.org/stable/users/explain/axes/legend_guide.html#controlling-the-legend-entries\n",
      "\n"
     ]
    },
    {
     "data": {
      "image/png": "[encoded data removed]",
      "text/plain": [
       "<Figure size 1000x600 with 1 Axes>"
      ]
     },
     "metadata": {},
     "output_type": "display_data"
    }
   ],
   "source": [
    "f, ax = plt.subplots(figsize=(10, 6))\n",
    "\n",
    "sns.lineplot(data = df_flu, x = 'yyyy-w (Flu)', y = 'Mov-FluA-Nat')\n",
    "sns.scatterplot(data = df_flu, x = 'yyyy-w (Flu)', y = 'FluA-Nat', alpha = 0.3, sizes = 0.1)\n",
    "\n",
    "sns.lineplot(data = df_flu, x = 'yyyy-w (Flu)', y = 'Mov-FluB-Nat')\n",
    "sns.scatterplot(data = df_flu, x = 'yyyy-w (Flu)', y = 'FluB-Nat', alpha = 0.3, sizes = 0.1)\n",
    "\n",
    "sns.lineplot(data = df_rsv, x = 'yyyy-w (RSV)', y = 'Mov-RSV-Nat')\n",
    "sns.scatterplot(data = df_rsv, x = 'yyyy-w (RSV)', y = 'RSV-Nat', alpha = 0.3, sizes = 0.1)\n",
    "\n",
    "sns.lineplot(data = df_sars, x = 'yyyy-w (SARS-CoV)', y = 'Mov-SARS-CoV-Nat')\n",
    "sns.scatterplot(data = df_sars, x = 'yyyy-w (SARS-CoV)', y = 'SARS-CoV-Nat', alpha = 0.3, sizes = 0.1)\n",
    "\n",
    "f.legend(\"A\", \"B\")\n",
    "ax.tick_params(axis = 'x', rotation = 90)"
   ]
  },
  {
   "cell_type": "code",
   "execution_count": null,
   "id": "233c8039",
   "metadata": {},
   "outputs": [
    {
     "data": {
      "application/vnd.plotly.v1+json": {
       "config": {
        "plotlyServerURL": "https://plot.ly"
       },
       "data": [
        {
         "mode": "lines",
         "name": "Mov-FluA-Nat",
         "type": "scatter",
         "x": [
          "2021_40",
          "2021_41",
          "2021_42",
          "2021_43",
          "2021_44",
          "2021_45",
          "2021_46",
          "2021_47",
          "2021_48",
          "2021_49",
          "2021_50",
          "2021_51",
          "2021_52",
          "2022_01",
          "2022_02",
          "2022_03",
          "2022_04",
          "2022_05",
          "2022_06",
          "2022_07",
          "2022_08",
          "2022_09",
          "2022_10",
          "2022_11",
          "2022_12",
          "2022_13",
          "2022_14",
          "2022_15",
          "2022_16",
          "2022_17",
          "2022_18",
          "2022_19",
          "2022_20",
          "2022_21",
          "2022_22",
          "2022_23",
          "2022_24",
          "2022_25",
          "2022_26",
          "2022_27",
          "2022_28",
          "2022_29",
          "2022_30",
          "2022_31",
          "2022_32",
          "2022_33",
          "2022_34",
          "2022_35",
          "2022_36",
          "2022_37",
          "2022_38",
          "2022_39",
          "2022_40",
          "2022_41",
          "2022_42",
          "2022_43",
          "2022_44",
          "2022_45",
          "2022_46",
          "2022_47",
          "2022_48",
          "2022_49",
          "2022_50",
          "2022_51",
          "2022_52",
          "2023_01",
          "2023_02",
          "2023_03",
          "2023_04",
          "2023_05",
          "2023_06",
          "2023_07",
          "2023_08",
          "2023_09",
          "2023_10",
          "2023_11",
          "2023_12",
          "2023_13",
          "2023_14",
          "2023_15",
          "2023_16",
          "2023_17",
          "2023_18",
          "2023_19",
          "2023_20",
          "2023_21",
          "2023_22",
          "2023_23",
          "2023_24",
          "2023_25",
          "2023_26",
          "2023_27",
          "2023_28",
          "2023_29",
          "2023_30",
          "2023_31",
          "2023_32",
          "2023_33",
          "2023_34",
          "2023_35",
          "2023_36",
          "2023_37",
          "2023_38",
          "2023_39",
          "2023_40",
          "2023_41",
          "2023_42",
          "2023_43",
          "2023_44",
          "2023_45",
          "2023_46",
          "2023_47",
          "2023_48",
          "2023_49",
          "2023_50",
          "2023_51",
          "2023_52",
          "2024_01",
          "2024_02",
          "2024_03",
          "2024_04",
          "2024_05",
          "2024_06",
          "2024_07",
          "2024_08",
          "2024_09",
          "2024_10",
          "2024_11",
          "2024_12",
          "2024_13",
          "2024_14",
          "2024_15",
          "2024_16",
          "2024_17",
          "2024_18",
          "2024_19",
          "2024_20",
          "2024_21",
          "2024_22",
          "2024_23",
          "2024_24",
          "2024_25",
          "2024_26",
          "2024_27",
          "2024_28",
          "2024_29",
          "2024_30",
          "2024_31",
          "2024_32",
          "2024_33",
          "2024_34",
          "2024_35",
          "2024_36",
          "2024_37",
          "2024_38",
          "2024_39",
          "2024_40",
          "2024_41",
          "2024_42",
          "2024_43",
          "2024_44",
          "2024_45",
          "2024_46",
          "2024_47",
          "2024_48",
          "2024_49",
          "2024_50",
          "2024_51",
          "2024_52",
          "2025_01",
          "2025_02",
          "2025_03",
          "2025_04",
          "2025_05",
          "2025_06",
          "2025_07",
          "2025_08",
          "2025_09",
          "2025_10",
          "2025_11",
          "2025_12",
          "2025_13",
          "2025_14",
          "2025_15",
          "2025_16",
          "2025_17",
          "2025_18",
          "2025_19",
          "2025_20",
          "2025_21",
          "2025_22",
          "2025_23",
          "2025_24",
          "2025_25"
         ],
         "y": {
          "bdata": "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",
          "dtype": "f8"
         }
        },
        {
         "marker": {
          "size": 4
         },
         "mode": "markers",
         "name": "FluA-Nat",
         "opacity": 0.3,
         "type": "scatter",
         "x": [
          "2021_40",
          "2021_41",
          "2021_42",
          "2021_43",
          "2021_44",
          "2021_45",
          "2021_46",
          "2021_47",
          "2021_48",
          "2021_49",
          "2021_50",
          "2021_51",
          "2021_52",
          "2022_01",
          "2022_02",
          "2022_03",
          "2022_04",
          "2022_05",
          "2022_06",
          "2022_07",
          "2022_08",
          "2022_09",
          "2022_10",
          "2022_11",
          "2022_12",
          "2022_13",
          "2022_14",
          "2022_15",
          "2022_16",
          "2022_17",
          "2022_18",
          "2022_19",
          "2022_20",
          "2022_21",
          "2022_22",
          "2022_23",
          "2022_24",
          "2022_25",
          "2022_26",
          "2022_27",
          "2022_28",
          "2022_29",
          "2022_30",
          "2022_31",
          "2022_32",
          "2022_33",
          "2022_34",
          "2022_35",
          "2022_36",
          "2022_37",
          "2022_38",
          "2022_39",
          "2022_40",
          "2022_41",
          "2022_42",
          "2022_43",
          "2022_44",
          "2022_45",
          "2022_46",
          "2022_47",
          "2022_48",
          "2022_49",
          "2022_50",
          "2022_51",
          "2022_52",
          "2023_01",
          "2023_02",
          "2023_03",
          "2023_04",
          "2023_05",
          "2023_06",
          "2023_07",
          "2023_08",
          "2023_09",
          "2023_10",
          "2023_11",
          "2023_12",
          "2023_13",
          "2023_14",
          "2023_15",
          "2023_16",
          "2023_17",
          "2023_18",
          "2023_19",
          "2023_20",
          "2023_21",
          "2023_22",
          "2023_23",
          "2023_24",
          "2023_25",
          "2023_26",
          "2023_27",
          "2023_28",
          "2023_29",
          "2023_30",
          "2023_31",
          "2023_32",
          "2023_33",
          "2023_34",
          "2023_35",
          "2023_36",
          "2023_37",
          "2023_38",
          "2023_39",
          "2023_40",
          "2023_41",
          "2023_42",
          "2023_43",
          "2023_44",
          "2023_45",
          "2023_46",
          "2023_47",
          "2023_48",
          "2023_49",
          "2023_50",
          "2023_51",
          "2023_52",
          "2024_01",
          "2024_02",
          "2024_03",
          "2024_04",
          "2024_05",
          "2024_06",
          "2024_07",
          "2024_08",
          "2024_09",
          "2024_10",
          "2024_11",
          "2024_12",
          "2024_13",
          "2024_14",
          "2024_15",
          "2024_16",
          "2024_17",
          "2024_18",
          "2024_19",
          "2024_20",
          "2024_21",
          "2024_22",
          "2024_23",
          "2024_24",
          "2024_25",
          "2024_26",
          "2024_27",
          "2024_28",
          "2024_29",
          "2024_30",
          "2024_31",
          "2024_32",
          "2024_33",
          "2024_34",
          "2024_35",
          "2024_36",
          "2024_37",
          "2024_38",
          "2024_39",
          "2024_40",
          "2024_41",
          "2024_42",
          "2024_43",
          "2024_44",
          "2024_45",
          "2024_46",
          "2024_47",
          "2024_48",
          "2024_49",
          "2024_50",
          "2024_51",
          "2024_52",
          "2025_01",
          "2025_02",
          "2025_03",
          "2025_04",
          "2025_05",
          "2025_06",
          "2025_07",
          "2025_08",
          "2025_09",
          "2025_10",
          "2025_11",
          "2025_12",
          "2025_13",
          "2025_14",
          "2025_15",
          "2025_16",
          "2025_17",
          "2025_18",
          "2025_19",
          "2025_20",
          "2025_21",
          "2025_22",
          "2025_23",
          "2025_24",
          "2025_25"
         ],
         "y": {
          "bdata": "AAAAAAAAAAAAAAAAAAAAAAAAAAAAAAAAAAAAAAAAAAAAAAAAAAAAAAAAAAAAAAAAAAAAAAAAAAAAAAAAAAAAAKj1VkmnmSZCAAAAAAAAAACJITTahpw4QgAAAAAAAAAAAAAAAAAA+H8AAAAAAAAAAAAAAAAAAAAAAAAAAAAAAAAAAAAAAAAAALXHDmvgCTNCAAAAAAAAAAAAAAAAAAAAADnUKgOB2UxCAAAAAAAAAADI2DzVjVQpQlSjFhDQ6VhCXD8IPLaEVUKYfvwVPdtJQgAQ0o/5cGdC8gLDRa5vQkIAAAAAAAAAAAl6e72TIDJCNymIKb78PUI7MRwrjWIwQgAAAAAAAAAAAAAAAAAAAAAAAAAAAAAAAAAAAAAAAAAAAAAAAAAAAAAAAAAAAAAAAAAAAAAAAAAAAAAAAAAAAAAAAAAAAAAAAAAAAAAAAAAAAAAAAAAAAAAAAAAAAAAAAAAAAAAAAAAAAAAAAAAAAAAAAAAAAAAAAAAAAAAAAAAAAAAAAAAAAAAAAAAAAAAAAAAAAAAAAAAAAAAAAAAAAAAAAAAAAAAAAA/LnXXfdTVCAAAAAAAAAAAAAAAAAAAAAAAAAAAAAAAAAAAAAAAAAAAAAAAAAAAAAL6wiMitOidC4mnrGO16M0Lv6GeFY9M0Qqab/OS9ZkdC4eJh4pu8gEIAAAAAAAD4fym0ozdWqF9CAAAAAAAAAAAAAAAAAAAAAAAAAAAAAAAAAAAAAAAAAAAAAAAAAAAAAPT9ZnFbJzhCAAAAAAAAAADjdW/ZhPNFQgAAAAAAAAAAAAAAAAAAAAAAAAAAAAAAAAAAAAAAAAAAAAAAAAAAAAAAAAAAAAAAAAAAAAAAAAAAAAAAAAAAAAAAAAAAAAAAAAAAAAAAAAAAAAAAAAAAAAAAAAAAAAAAAAAAAAAAAAAAAAAAAAAAAAAAAAAAAAAAAAAAAAAAAAAAAAAAAAAAAAAAAAAAAAAAAAAAAAAAAAAAAAAAAAAAAAAAAAAAAAAAAAAAAAAAAAAAAAAAAAAAAAAAAAAAAAAAAAAAAAAAAAAAAAAAAAAAAAAAAAAAAAAAAAAAAAAAAAAAAAAAAAAAAADH+uHTHYErQgAAAAAAAAAAAAAAAAAAAAAAAAAAAAAAAAAAAAAAAAAAAAAAAAAAAAAAAAAAAAAAAAAAAAAAAAAAAAAAAAAAAAAAAAAAAAAAAAAAAAAAAAAAAAAAAAAAAAAAAAAAAAAAAAAAAAAAAPh/AAAAAAAAAABYOe05ypFVQqDaaxfJU11C/nTy8RxvUUIAANZEAgFrQtWYLwh+J09CiSl6jQebUkIAAAAAAAAAAOpEUoozcypCAAAAAAAAAAAAAAAAAAAAALzUOAaPGjlCAAAAAAAAAAAAAAAAAAAAAAAAAAAAAAAAAAAAAAAAAABZRlOarRMZQgvkKJFSiBRCAAAAAAAAAAAAAAAAAAAAACPbya4v9RhCAAAAAAAAAAAAAAAAAAAAAAAAAAAAAAAA4Lmo1r/e/0FU8wyqdSRHQgAAAAAAAAAAAAAAAAAAAAAAAAAAAAAAAEg/rr2u1RpCAAAAAAAAAACYjGfWWWkRQgAAAAAAAAAAAAAAAAAAAAAAAAAAAAAAAN4CMuODaxVCAAAAAAAAAADx4z4/i/f2QQAAAAAAAAAAqvH8W3kqEUIAAAAAAAAAAAAAAAAAAAAAG94qCsi+E0J1PPu+WW/wQWZ35uKRxytC6ab94ejYCUIhQHhtZQhDQsXA9fjc+ENCVu7RVM0gPkKi5RbWAXBcQkiB8PI7t3ZCAAAAAAAA+H8AAAAAAAD4fwC0ztb7LHpChXdpbIuAfULsmYJSZM6GQtevmYrq/3BCj0bF5ynsdUIf3dPBXnl2Qmo0mt6yLmpChWMra9f1WEJCcOCMijhJQlhpu8BH309CyxGFNMbCRELsUUxzlu4xQgT2BFEF4j1CcG6tUYUDLULXg5bH1I47QgAAAAAAAAAAAAAAAAAAAAAAAAAAAAAAAAAAAAAAAAAATx7+qz3TE0KunpplU336QQAAAAAAAAAAAAAAAAAAAAByM4Ho5KPxQQ==",
          "dtype": "f8"
         }
        },
        {
         "mode": "lines",
         "name": "Mov-FluB-Nat",
         "type": "scatter",
         "x": [
          "2021_40",
          "2021_41",
          "2021_42",
          "2021_43",
          "2021_44",
          "2021_45",
          "2021_46",
          "2021_47",
          "2021_48",
          "2021_49",
          "2021_50",
          "2021_51",
          "2021_52",
          "2022_01",
          "2022_02",
          "2022_03",
          "2022_04",
          "2022_05",
          "2022_06",
          "2022_07",
          "2022_08",
          "2022_09",
          "2022_10",
          "2022_11",
          "2022_12",
          "2022_13",
          "2022_14",
          "2022_15",
          "2022_16",
          "2022_17",
          "2022_18",
          "2022_19",
          "2022_20",
          "2022_21",
          "2022_22",
          "2022_23",
          "2022_24",
          "2022_25",
          "2022_26",
          "2022_27",
          "2022_28",
          "2022_29",
          "2022_30",
          "2022_31",
          "2022_32",
          "2022_33",
          "2022_34",
          "2022_35",
          "2022_36",
          "2022_37",
          "2022_38",
          "2022_39",
          "2022_40",
          "2022_41",
          "2022_42",
          "2022_43",
          "2022_44",
          "2022_45",
          "2022_46",
          "2022_47",
          "2022_48",
          "2022_49",
          "2022_50",
          "2022_51",
          "2022_52",
          "2023_01",
          "2023_02",
          "2023_03",
          "2023_04",
          "2023_05",
          "2023_06",
          "2023_07",
          "2023_08",
          "2023_09",
          "2023_10",
          "2023_11",
          "2023_12",
          "2023_13",
          "2023_14",
          "2023_15",
          "2023_16",
          "2023_17",
          "2023_18",
          "2023_19",
          "2023_20",
          "2023_21",
          "2023_22",
          "2023_23",
          "2023_24",
          "2023_25",
          "2023_26",
          "2023_27",
          "2023_28",
          "2023_29",
          "2023_30",
          "2023_31",
          "2023_32",
          "2023_33",
          "2023_34",
          "2023_35",
          "2023_36",
          "2023_37",
          "2023_38",
          "2023_39",
          "2023_40",
          "2023_41",
          "2023_42",
          "2023_43",
          "2023_44",
          "2023_45",
          "2023_46",
          "2023_47",
          "2023_48",
          "2023_49",
          "2023_50",
          "2023_51",
          "2023_52",
          "2024_01",
          "2024_02",
          "2024_03",
          "2024_04",
          "2024_05",
          "2024_06",
          "2024_07",
          "2024_08",
          "2024_09",
          "2024_10",
          "2024_11",
          "2024_12",
          "2024_13",
          "2024_14",
          "2024_15",
          "2024_16",
          "2024_17",
          "2024_18",
          "2024_19",
          "2024_20",
          "2024_21",
          "2024_22",
          "2024_23",
          "2024_24",
          "2024_25",
          "2024_26",
          "2024_27",
          "2024_28",
          "2024_29",
          "2024_30",
          "2024_31",
          "2024_32",
          "2024_33",
          "2024_34",
          "2024_35",
          "2024_36",
          "2024_37",
          "2024_38",
          "2024_39",
          "2024_40",
          "2024_41",
          "2024_42",
          "2024_43",
          "2024_44",
          "2024_45",
          "2024_46",
          "2024_47",
          "2024_48",
          "2024_49",
          "2024_50",
          "2024_51",
          "2024_52",
          "2025_01",
          "2025_02",
          "2025_03",
          "2025_04",
          "2025_05",
          "2025_06",
          "2025_07",
          "2025_08",
          "2025_09",
          "2025_10",
          "2025_11",
          "2025_12",
          "2025_13",
          "2025_14",
          "2025_15",
          "2025_16",
          "2025_17",
          "2025_18",
          "2025_19",
          "2025_20",
          "2025_21",
          "2025_22",
          "2025_23",
          "2025_24",
          "2025_25"
         ],
         "y": {
          "bdata": "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",
          "dtype": "f8"
         }
        },
        {
         "marker": {
          "size": 4
         },
         "mode": "markers",
         "name": "FluB-Nat",
         "opacity": 0.3,
         "type": "scatter",
         "x": [
          "2021_40",
          "2021_41",
          "2021_42",
          "2021_43",
          "2021_44",
          "2021_45",
          "2021_46",
          "2021_47",
          "2021_48",
          "2021_49",
          "2021_50",
          "2021_51",
          "2021_52",
          "2022_01",
          "2022_02",
          "2022_03",
          "2022_04",
          "2022_05",
          "2022_06",
          "2022_07",
          "2022_08",
          "2022_09",
          "2022_10",
          "2022_11",
          "2022_12",
          "2022_13",
          "2022_14",
          "2022_15",
          "2022_16",
          "2022_17",
          "2022_18",
          "2022_19",
          "2022_20",
          "2022_21",
          "2022_22",
          "2022_23",
          "2022_24",
          "2022_25",
          "2022_26",
          "2022_27",
          "2022_28",
          "2022_29",
          "2022_30",
          "2022_31",
          "2022_32",
          "2022_33",
          "2022_34",
          "2022_35",
          "2022_36",
          "2022_37",
          "2022_38",
          "2022_39",
          "2022_40",
          "2022_41",
          "2022_42",
          "2022_43",
          "2022_44",
          "2022_45",
          "2022_46",
          "2022_47",
          "2022_48",
          "2022_49",
          "2022_50",
          "2022_51",
          "2022_52",
          "2023_01",
          "2023_02",
          "2023_03",
          "2023_04",
          "2023_05",
          "2023_06",
          "2023_07",
          "2023_08",
          "2023_09",
          "2023_10",
          "2023_11",
          "2023_12",
          "2023_13",
          "2023_14",
          "2023_15",
          "2023_16",
          "2023_17",
          "2023_18",
          "2023_19",
          "2023_20",
          "2023_21",
          "2023_22",
          "2023_23",
          "2023_24",
          "2023_25",
          "2023_26",
          "2023_27",
          "2023_28",
          "2023_29",
          "2023_30",
          "2023_31",
          "2023_32",
          "2023_33",
          "2023_34",
          "2023_35",
          "2023_36",
          "2023_37",
          "2023_38",
          "2023_39",
          "2023_40",
          "2023_41",
          "2023_42",
          "2023_43",
          "2023_44",
          "2023_45",
          "2023_46",
          "2023_47",
          "2023_48",
          "2023_49",
          "2023_50",
          "2023_51",
          "2023_52",
          "2024_01",
          "2024_02",
          "2024_03",
          "2024_04",
          "2024_05",
          "2024_06",
          "2024_07",
          "2024_08",
          "2024_09",
          "2024_10",
          "2024_11",
          "2024_12",
          "2024_13",
          "2024_14",
          "2024_15",
          "2024_16",
          "2024_17",
          "2024_18",
          "2024_19",
          "2024_20",
          "2024_21",
          "2024_22",
          "2024_23",
          "2024_24",
          "2024_25",
          "2024_26",
          "2024_27",
          "2024_28",
          "2024_29",
          "2024_30",
          "2024_31",
          "2024_32",
          "2024_33",
          "2024_34",
          "2024_35",
          "2024_36",
          "2024_37",
          "2024_38",
          "2024_39",
          "2024_40",
          "2024_41",
          "2024_42",
          "2024_43",
          "2024_44",
          "2024_45",
          "2024_46",
          "2024_47",
          "2024_48",
          "2024_49",
          "2024_50",
          "2024_51",
          "2024_52",
          "2025_01",
          "2025_02",
          "2025_03",
          "2025_04",
          "2025_05",
          "2025_06",
          "2025_07",
          "2025_08",
          "2025_09",
          "2025_10",
          "2025_11",
          "2025_12",
          "2025_13",
          "2025_14",
          "2025_15",
          "2025_16",
          "2025_17",
          "2025_18",
          "2025_19",
          "2025_20",
          "2025_21",
          "2025_22",
          "2025_23",
          "2025_24",
          "2025_25"
         ],
         "y": {
          "bdata": "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",
          "dtype": "f8"
         }
        },
        {
         "mode": "lines",
         "name": "Mov-RSV-Nat",
         "type": "scatter",
         "x": [
          "2023_23",
          "2023_24",
          "2023_25",
          "2023_26",
          "2023_27",
          "2023_28",
          "2023_29",
          "2023_30",
          "2023_31",
          "2023_32",
          "2023_33",
          "2023_34",
          "2023_35",
          "2023_36",
          "2023_37",
          "2023_38",
          "2023_39",
          "2023_40",
          "2023_41",
          "2023_42",
          "2023_43",
          "2023_44",
          "2023_45",
          "2023_46",
          "2023_47",
          "2023_48",
          "2023_49",
          "2023_50",
          "2023_51",
          "2023_52",
          "2024_01",
          "2024_02",
          "2024_03",
          "2024_04",
          "2024_05",
          "2024_06",
          "2024_07",
          "2024_08",
          "2024_09",
          "2024_10",
          "2024_11",
          "2024_12",
          "2024_13",
          "2024_14",
          "2024_15",
          "2024_16",
          "2024_17",
          "2024_18",
          "2024_19",
          "2024_20",
          "2024_21",
          "2024_22",
          "2024_23",
          "2024_24",
          "2024_25",
          "2024_26",
          "2024_27",
          "2024_28",
          "2024_29",
          "2024_30",
          "2024_31",
          "2024_32",
          "2024_33",
          "2024_34",
          "2024_35",
          "2024_36",
          "2024_37",
          "2024_38",
          "2024_39",
          "2024_40",
          "2024_41",
          "2024_42",
          "2024_43",
          "2024_44",
          "2024_45",
          "2024_46",
          "2024_47",
          "2024_48",
          "2024_49",
          "2024_50",
          "2024_51",
          "2024_52",
          "2025_01",
          "2025_02",
          "2025_03",
          "2025_04",
          "2025_05",
          "2025_06",
          "2025_07",
          "2025_08",
          "2025_09",
          "2025_10",
          "2025_11",
          "2025_12",
          "2025_13",
          "2025_14",
          "2025_15",
          "2025_16",
          "2025_17",
          "2025_18",
          "2025_19",
          "2025_20",
          "2025_21",
          "2025_22",
          "2025_23",
          "2025_24",
          "2025_25"
         ],
         "y": {
          "bdata": "AAAAAAAA+H8AAAAAAAD4f8HIhN3WGgdCyEqp04jIAULtQs/vpI8HQheKVJa04fhBmOCXcHAc50EAAAAAAAAAALvb02DR/RxCBZNqozfOLEIFk2qjN84sQv0TqI4YmCRCV7udbiYjCUJXu51uJiMJQlPQGz1ezQpC6xS475tIIkL3ZkX33IEjQhtZ/E1GnypC3G13SaIaK0LVRhBPaP8zQrZPTI5j4DBCBxw3jaibNEI8eQo/MYhCQr/xDhPbOVBCoQtVnyZJVULvh0mhZBhiQvfBsjNZ42xCszs3YBdOckJbmxhOptx2QvbRTIO4O3dCGCdkRllLcULOOLoMGX1fQsWK/hPIR19C+da/BEd9YUIzA53hBsZcQuyjl9IlOlZCi2LSDsMoSUJH1pgggGdAQjGwgaZaa0BC9fDayMTjQUJVtLGjS0dAQuWvkoCrCTVCiFR0OR5IM0K4qkeFJZciQvS5ZdnARRdC+VIiD/bcBEIMYXWfyhwdQgxhdZ/KHB1CkDfkl0+uEkIAAAAAAAAAAAAAAAAAAAAAAAAAAAAAAABF8B4kX/7zQUXwHiRf/vNBRfAeJF/+80EAAAAAAAAAAAAAAAAAAAAATP/x06yp50FM//HTrKnnQUz/8dOsqedBAAAAAAAAAABpK6EFuYvoQWkroQW5i+hBaSuhBbmL6EFwaNw4u/b2QXBo3Di79vZBcGjcOLv29kEAAAAAAAAAAEnsfib1pQ5CpzwE6kHiGUKnPATqQeIZQilsMQOioS5Cs6SpxI48MEK7ulCoXmI5QvvdXCbgNztCb6xNIBpfQUIgMrdFSzJDQuwqxEgwz0tC+P87eJtuW0KbPQzkoWpiQlCbzv0kUmpCoNY4IZujbkI0ekQH9rpwQgydmmiFImlCRXSVxuLgaUIksG//DhlpQkzgjY+rP2RCh7XjxdUbYUJYgWxmOblfQpQ0pda/oWNC3+KWbkJNX0JY7a+KqwFdQrlgTtGaF1VCwKAE9qANWEKTPx0YFL9TQpf++UA501JCiGi9KZ/kT0LtSuqM1I9NQrzbS9cqFUZCv/ldQN6iQkKUxkqvFB03QqSL5eAjdDJCNMDgXpBRKUKVQNx0FIsgQuWyIgsYWxNCAWiLBj8BD0JhMqBQf4fmQQ==",
          "dtype": "f8"
         }
        },
        {
         "marker": {
          "size": 4
         },
         "mode": "markers",
         "name": "RSV-Nat",
         "opacity": 0.3,
         "type": "scatter",
         "x": [
          "2023_23",
          "2023_24",
          "2023_25",
          "2023_26",
          "2023_27",
          "2023_28",
          "2023_29",
          "2023_30",
          "2023_31",
          "2023_32",
          "2023_33",
          "2023_34",
          "2023_35",
          "2023_36",
          "2023_37",
          "2023_38",
          "2023_39",
          "2023_40",
          "2023_41",
          "2023_42",
          "2023_43",
          "2023_44",
          "2023_45",
          "2023_46",
          "2023_47",
          "2023_48",
          "2023_49",
          "2023_50",
          "2023_51",
          "2023_52",
          "2024_01",
          "2024_02",
          "2024_03",
          "2024_04",
          "2024_05",
          "2024_06",
          "2024_07",
          "2024_08",
          "2024_09",
          "2024_10",
          "2024_11",
          "2024_12",
          "2024_13",
          "2024_14",
          "2024_15",
          "2024_16",
          "2024_17",
          "2024_18",
          "2024_19",
          "2024_20",
          "2024_21",
          "2024_22",
          "2024_23",
          "2024_24",
          "2024_25",
          "2024_26",
          "2024_27",
          "2024_28",
          "2024_29",
          "2024_30",
          "2024_31",
          "2024_32",
          "2024_33",
          "2024_34",
          "2024_35",
          "2024_36",
          "2024_37",
          "2024_38",
          "2024_39",
          "2024_40",
          "2024_41",
          "2024_42",
          "2024_43",
          "2024_44",
          "2024_45",
          "2024_46",
          "2024_47",
          "2024_48",
          "2024_49",
          "2024_50",
          "2024_51",
          "2024_52",
          "2025_01",
          "2025_02",
          "2025_03",
          "2025_04",
          "2025_05",
          "2025_06",
          "2025_07",
          "2025_08",
          "2025_09",
          "2025_10",
          "2025_11",
          "2025_12",
          "2025_13",
          "2025_14",
          "2025_15",
          "2025_16",
          "2025_17",
          "2025_18",
          "2025_19",
          "2025_20",
          "2025_21",
          "2025_22",
          "2025_23",
          "2025_24",
          "2025_25"
         ],
         "y": {
          "bdata": "TrBPVRL6EUIAAAAAAAAAANR89/YvrhBCsOYMjTr9A0Jy6HFUVFUBQgAAAAAAAAAAAAAAAAAAAAAAAAAAAAAAAMzknghdvjVCvPeAbPZ2NUIAAAAAAAAAAIFM9tJc2iJCAAAAAAAAAAAAAAAAAAAAAD7c1K0GGiRCQrGpkOZfMUIbsT+1GF79QVTZ/FghuTRCZFDiifAYMkLGqlEKJyw1QvHnYS0muCZCV7Wihr9KPUKGyzo3laJRQmFcSSBMuFdC+vp6hpKAVkIdbHqQvixvQiUusOOBHnZC5k649GQ1cUIFVeERDEJ9QgAAAAAAAPh/q+Sb65lSVUJ5RuwWzNNkQrIuhyIm3V5CGacP5nU1YEK1jDC2AgpXQrgh7uoFc0ZC+LGfVPfMK0KgdLShPNBDQnavqHyVfkZCkF1nePi4NkKCfXFkovU9QjppvknP3CRCd0sMo1B0MUIAAAAAAAAAAAAAAAAAAAAAdXyzFnFLH0JYU9ZjdwUsQgAAAAAAAAAAAAAAAAAAAAAAAAAAAAAAAAAAAAAAAAAAAAAAAAAAAABnaC62jv0NQgAAAAAAAAAAAAAAAAAAAAAAAAAAAAAAAAAAAAAAAAAAeX/1nkG/AUIAAAAAAAAAAAAAAAAAAAAAAAAAAAAAAACP4DjEymgCQgAAAAAAAAAAAAAAAAAAAABUTqVqDDkRQgAAAAAAAAAAAAAAAAAAAAAAAAAAAAAAADcx39x3/CZCh1NOBNatH0IAAAAAAAAAAK5G28F+A0NCecGMlF1dJUIZQvWqb3E7Qo577f7Aw0VCseiAjNWgQEIAAAAAAAD4f5O2g4LFflNCryT6tjivYULYuOgzStFrQjR6RAf2unBCAAAAAAAA+H8AAAAAAAD4fwydmmiFImlCfkuQJECfakLiJyRxZ4lnQghb6jG2LFVCLsuRx74zYUJRyRs5vMtjQjwJQoPE5WVCCgcSposJRUIGWUHjWVpgQpxsX9pWDVRClsMrQdhmU0KHjswsDclTQqqp9VTGSVFCN8mzeTaIRUId4o9B3UlQQoULIBIfRzhCgUbUaaFiNkK3AeyRfa02Qme14E2ZmCRCkQ/TVTkCFEKPhMplhwcjQgAAAAAAAAAAySV4fJ/lAEIAAAAAAAAAAA==",
          "dtype": "f8"
         }
        },
        {
         "mode": "lines",
         "name": "Mov-SARS-CoV-Nat",
         "type": "scatter",
         "x": [
          "2020_14",
          "2020_15",
          "2020_16",
          "2020_17",
          "2020_18",
          "2020_19",
          "2020_20",
          "2020_21",
          "2020_22",
          "2020_23",
          "2020_24",
          "2020_25",
          "2020_26",
          "2020_27",
          "2020_28",
          "2020_29",
          "2020_30",
          "2020_31",
          "2020_32",
          "2020_33",
          "2020_34",
          "2020_35",
          "2020_36",
          "2020_37",
          "2020_38",
          "2020_39",
          "2020_40",
          "2020_41",
          "2020_42",
          "2020_43",
          "2020_44",
          "2020_45",
          "2020_46",
          "2020_47",
          "2020_48",
          "2020_49",
          "2020_50",
          "2020_51",
          "2020_52",
          "2020_53",
          "2021_01",
          "2021_02",
          "2021_03",
          "2021_04",
          "2021_05",
          "2021_06",
          "2021_07",
          "2021_08",
          "2021_09",
          "2021_10",
          "2021_11",
          "2021_12",
          "2021_13",
          "2021_14",
          "2021_15",
          "2021_16",
          "2021_17",
          "2021_18",
          "2021_19",
          "2021_20",
          "2021_21",
          "2021_22",
          "2021_23",
          "2021_24",
          "2021_25",
          "2021_26",
          "2021_27",
          "2021_28",
          "2021_29",
          "2021_30",
          "2021_31",
          "2021_32",
          "2021_33",
          "2021_34",
          "2021_35",
          "2021_36",
          "2021_37",
          "2021_38",
          "2021_39",
          "2021_40",
          "2021_41",
          "2021_42",
          "2021_43",
          "2021_44",
          "2021_45",
          "2021_46",
          "2021_47",
          "2021_48",
          "2021_49",
          "2021_50",
          "2021_51",
          "2021_52",
          "2022_01",
          "2022_02",
          "2022_03",
          "2022_04",
          "2022_05",
          "2022_06",
          "2022_07",
          "2022_08",
          "2022_09",
          "2022_10",
          "2022_11",
          "2022_12",
          "2022_13",
          "2022_14",
          "2022_15",
          "2022_16",
          "2022_17",
          "2022_18",
          "2022_19",
          "2022_20",
          "2022_21",
          "2022_22",
          "2022_23",
          "2022_24",
          "2022_25",
          "2022_26",
          "2022_27",
          "2022_28",
          "2022_29",
          "2022_30",
          "2022_31",
          "2022_32",
          "2022_33",
          "2022_34",
          "2022_35",
          "2022_36",
          "2022_37",
          "2022_38",
          "2022_39",
          "2022_40",
          "2022_41",
          "2022_42",
          "2022_43",
          "2022_44",
          "2022_45",
          "2022_46",
          "2022_47",
          "2022_48",
          "2022_49",
          "2022_50",
          "2022_51",
          "2022_52",
          "2023_01",
          "2023_02",
          "2023_03",
          "2023_04",
          "2023_05",
          "2023_06",
          "2023_07",
          "2023_08",
          "2023_09",
          "2023_10",
          "2023_11",
          "2023_12",
          "2023_13",
          "2023_14",
          "2023_15",
          "2023_16",
          "2023_17",
          "2023_18",
          "2023_19",
          "2023_20",
          "2023_21",
          "2023_22",
          "2023_23",
          "2023_24",
          "2023_25",
          "2023_26",
          "2023_27",
          "2023_28",
          "2023_29",
          "2023_30",
          "2023_31",
          "2023_32",
          "2023_33",
          "2023_34",
          "2023_35",
          "2023_36",
          "2023_37",
          "2023_38",
          "2023_39",
          "2023_40",
          "2023_41",
          "2023_42",
          "2023_43",
          "2023_44",
          "2023_45",
          "2023_46",
          "2023_47",
          "2023_48",
          "2023_49",
          "2023_50",
          "2023_51",
          "2023_52",
          "2024_01",
          "2024_02",
          "2024_03",
          "2024_04",
          "2024_05",
          "2024_06",
          "2024_07",
          "2024_08",
          "2024_09",
          "2024_10",
          "2024_11",
          "2024_12",
          "2024_13",
          "2024_14",
          "2024_15",
          "2024_16",
          "2024_17",
          "2024_18",
          "2024_19",
          "2024_20",
          "2024_21",
          "2024_22",
          "2024_23",
          "2024_24",
          "2024_25",
          "2024_26",
          "2024_27",
          "2024_28",
          "2024_29",
          "2024_30",
          "2024_31",
          "2024_32",
          "2024_33",
          "2024_34",
          "2024_35",
          "2024_36",
          "2024_37",
          "2024_38",
          "2024_39",
          "2024_40",
          "2024_41",
          "2024_42",
          "2024_43",
          "2024_44",
          "2024_45",
          "2024_46",
          "2024_47",
          "2024_48",
          "2024_49",
          "2024_50",
          "2024_51",
          "2024_52",
          "2025_01",
          "2025_02",
          "2025_03",
          "2025_04",
          "2025_05",
          "2025_06",
          "2025_07",
          "2025_08",
          "2025_09",
          "2025_10",
          "2025_11",
          "2025_12",
          "2025_13",
          "2025_14",
          "2025_15",
          "2025_16",
          "2025_17",
          "2025_18",
          "2025_19",
          "2025_20",
          "2025_21",
          "2025_22",
          "2025_23",
          "2025_24",
          "2025_25"
         ],
         "y": {
          "bdata": "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",
          "dtype": "f8"
         }
        },
        {
         "marker": {
          "size": 4
         },
         "mode": "markers",
         "name": "SARS-CoV-Nat",
         "opacity": 0.3,
         "type": "scatter",
         "x": [
          "2020_14",
          "2020_15",
          "2020_16",
          "2020_17",
          "2020_18",
          "2020_19",
          "2020_20",
          "2020_21",
          "2020_22",
          "2020_23",
          "2020_24",
          "2020_25",
          "2020_26",
          "2020_27",
          "2020_28",
          "2020_29",
          "2020_30",
          "2020_31",
          "2020_32",
          "2020_33",
          "2020_34",
          "2020_35",
          "2020_36",
          "2020_37",
          "2020_38",
          "2020_39",
          "2020_40",
          "2020_41",
          "2020_42",
          "2020_43",
          "2020_44",
          "2020_45",
          "2020_46",
          "2020_47",
          "2020_48",
          "2020_49",
          "2020_50",
          "2020_51",
          "2020_52",
          "2020_53",
          "2021_01",
          "2021_02",
          "2021_03",
          "2021_04",
          "2021_05",
          "2021_06",
          "2021_07",
          "2021_08",
          "2021_09",
          "2021_10",
          "2021_11",
          "2021_12",
          "2021_13",
          "2021_14",
          "2021_15",
          "2021_16",
          "2021_17",
          "2021_18",
          "2021_19",
          "2021_20",
          "2021_21",
          "2021_22",
          "2021_23",
          "2021_24",
          "2021_25",
          "2021_26",
          "2021_27",
          "2021_28",
          "2021_29",
          "2021_30",
          "2021_31",
          "2021_32",
          "2021_33",
          "2021_34",
          "2021_35",
          "2021_36",
          "2021_37",
          "2021_38",
          "2021_39",
          "2021_40",
          "2021_41",
          "2021_42",
          "2021_43",
          "2021_44",
          "2021_45",
          "2021_46",
          "2021_47",
          "2021_48",
          "2021_49",
          "2021_50",
          "2021_51",
          "2021_52",
          "2022_01",
          "2022_02",
          "2022_03",
          "2022_04",
          "2022_05",
          "2022_06",
          "2022_07",
          "2022_08",
          "2022_09",
          "2022_10",
          "2022_11",
          "2022_12",
          "2022_13",
          "2022_14",
          "2022_15",
          "2022_16",
          "2022_17",
          "2022_18",
          "2022_19",
          "2022_20",
          "2022_21",
          "2022_22",
          "2022_23",
          "2022_24",
          "2022_25",
          "2022_26",
          "2022_27",
          "2022_28",
          "2022_29",
          "2022_30",
          "2022_31",
          "2022_32",
          "2022_33",
          "2022_34",
          "2022_35",
          "2022_36",
          "2022_37",
          "2022_38",
          "2022_39",
          "2022_40",
          "2022_41",
          "2022_42",
          "2022_43",
          "2022_44",
          "2022_45",
          "2022_46",
          "2022_47",
          "2022_48",
          "2022_49",
          "2022_50",
          "2022_51",
          "2022_52",
          "2023_01",
          "2023_02",
          "2023_03",
          "2023_04",
          "2023_05",
          "2023_06",
          "2023_07",
          "2023_08",
          "2023_09",
          "2023_10",
          "2023_11",
          "2023_12",
          "2023_13",
          "2023_14",
          "2023_15",
          "2023_16",
          "2023_17",
          "2023_18",
          "2023_19",
          "2023_20",
          "2023_21",
          "2023_22",
          "2023_23",
          "2023_24",
          "2023_25",
          "2023_26",
          "2023_27",
          "2023_28",
          "2023_29",
          "2023_30",
          "2023_31",
          "2023_32",
          "2023_33",
          "2023_34",
          "2023_35",
          "2023_36",
          "2023_37",
          "2023_38",
          "2023_39",
          "2023_40",
          "2023_41",
          "2023_42",
          "2023_43",
          "2023_44",
          "2023_45",
          "2023_46",
          "2023_47",
          "2023_48",
          "2023_49",
          "2023_50",
          "2023_51",
          "2023_52",
          "2024_01",
          "2024_02",
          "2024_03",
          "2024_04",
          "2024_05",
          "2024_06",
          "2024_07",
          "2024_08",
          "2024_09",
          "2024_10",
          "2024_11",
          "2024_12",
          "2024_13",
          "2024_14",
          "2024_15",
          "2024_16",
          "2024_17",
          "2024_18",
          "2024_19",
          "2024_20",
          "2024_21",
          "2024_22",
          "2024_23",
          "2024_24",
          "2024_25",
          "2024_26",
          "2024_27",
          "2024_28",
          "2024_29",
          "2024_30",
          "2024_31",
          "2024_32",
          "2024_33",
          "2024_34",
          "2024_35",
          "2024_36",
          "2024_37",
          "2024_38",
          "2024_39",
          "2024_40",
          "2024_41",
          "2024_42",
          "2024_43",
          "2024_44",
          "2024_45",
          "2024_46",
          "2024_47",
          "2024_48",
          "2024_49",
          "2024_50",
          "2024_51",
          "2024_52",
          "2025_01",
          "2025_02",
          "2025_03",
          "2025_04",
          "2025_05",
          "2025_06",
          "2025_07",
          "2025_08",
          "2025_09",
          "2025_10",
          "2025_11",
          "2025_12",
          "2025_13",
          "2025_14",
          "2025_15",
          "2025_16",
          "2025_17",
          "2025_18",
          "2025_19",
          "2025_20",
          "2025_21",
          "2025_22",
          "2025_23",
          "2025_24",
          "2025_25"
         ],
         "y": {
          "bdata": "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",
          "dtype": "f8"
         }
        }
       ],
       "layout": {
        "height": 600,
        "legend": {
         "title": {
          "text": "Legend"
         }
        },
        "template": {
         "data": {
          "bar": [
           {
            "error_x": {
             "color": "#2a3f5f"
            },
            "error_y": {
             "color": "#2a3f5f"
            },
            "marker": {
             "line": {
              "color": "#E5ECF6",
              "width": 0.5
             },
             "pattern": {
              "fillmode": "overlay",
              "size": 10,
              "solidity": 0.2
             }
            },
            "type": "bar"
           }
          ],
          "barpolar": [
           {
            "marker": {
             "line": {
              "color": "#E5ECF6",
              "width": 0.5
             },
             "pattern": {
              "fillmode": "overlay",
              "size": 10,
              "solidity": 0.2
             }
            },
            "type": "barpolar"
           }
          ],
          "carpet": [
           {
            "aaxis": {
             "endlinecolor": "#2a3f5f",
             "gridcolor": "white",
             "linecolor": "white",
             "minorgridcolor": "white",
             "startlinecolor": "#2a3f5f"
            },
            "baxis": {
             "endlinecolor": "#2a3f5f",
             "gridcolor": "white",
             "linecolor": "white",
             "minorgridcolor": "white",
             "startlinecolor": "#2a3f5f"
            },
            "type": "carpet"
           }
          ],
          "choropleth": [
           {
            "colorbar": {
             "outlinewidth": 0,
             "ticks": ""
            },
            "type": "choropleth"
           }
          ],
          "contour": [
           {
            "colorbar": {
             "outlinewidth": 0,
             "ticks": ""
            },
            "colorscale": [
             [
              0,
              "#0d0887"
             ],
             [
              0.1111111111111111,
              "#46039f"
             ],
             [
              0.2222222222222222,
              "#7201a8"
             ],
             [
              0.3333333333333333,
              "#9c179e"
             ],
             [
              0.4444444444444444,
              "#bd3786"
             ],
             [
              0.5555555555555556,
              "#d8576b"
             ],
             [
              0.6666666666666666,
              "#ed7953"
             ],
             [
              0.7777777777777778,
              "#fb9f3a"
             ],
             [
              0.8888888888888888,
              "#fdca26"
             ],
             [
              1,
              "#f0f921"
             ]
            ],
            "type": "contour"
           }
          ],
          "contourcarpet": [
           {
            "colorbar": {
             "outlinewidth": 0,
             "ticks": ""
            },
            "type": "contourcarpet"
           }
          ],
          "heatmap": [
           {
            "colorbar": {
             "outlinewidth": 0,
             "ticks": ""
            },
            "colorscale": [
             [
              0,
              "#0d0887"
             ],
             [
              0.1111111111111111,
              "#46039f"
             ],
             [
              0.2222222222222222,
              "#7201a8"
             ],
             [
              0.3333333333333333,
              "#9c179e"
             ],
             [
              0.4444444444444444,
              "#bd3786"
             ],
             [
              0.5555555555555556,
              "#d8576b"
             ],
             [
              0.6666666666666666,
              "#ed7953"
             ],
             [
              0.7777777777777778,
              "#fb9f3a"
             ],
             [
              0.8888888888888888,
              "#fdca26"
             ],
             [
              1,
              "#f0f921"
             ]
            ],
            "type": "heatmap"
           }
          ],
          "histogram": [
           {
            "marker": {
             "pattern": {
              "fillmode": "overlay",
              "size": 10,
              "solidity": 0.2
             }
            },
            "type": "histogram"
           }
          ],
          "histogram2d": [
           {
            "colorbar": {
             "outlinewidth": 0,
             "ticks": ""
            },
            "colorscale": [
             [
              0,
              "#0d0887"
             ],
             [
              0.1111111111111111,
              "#46039f"
             ],
             [
              0.2222222222222222,
              "#7201a8"
             ],
             [
              0.3333333333333333,
              "#9c179e"
             ],
             [
              0.4444444444444444,
              "#bd3786"
             ],
             [
              0.5555555555555556,
              "#d8576b"
             ],
             [
              0.6666666666666666,
              "#ed7953"
             ],
             [
              0.7777777777777778,
              "#fb9f3a"
             ],
             [
              0.8888888888888888,
              "#fdca26"
             ],
             [
              1,
              "#f0f921"
             ]
            ],
            "type": "histogram2d"
           }
          ],
          "histogram2dcontour": [
           {
            "colorbar": {
             "outlinewidth": 0,
             "ticks": ""
            },
            "colorscale": [
             [
              0,
              "#0d0887"
             ],
             [
              0.1111111111111111,
              "#46039f"
             ],
             [
              0.2222222222222222,
              "#7201a8"
             ],
             [
              0.3333333333333333,
              "#9c179e"
             ],
             [
              0.4444444444444444,
              "#bd3786"
             ],
             [
              0.5555555555555556,
              "#d8576b"
             ],
             [
              0.6666666666666666,
              "#ed7953"
             ],
             [
              0.7777777777777778,
              "#fb9f3a"
             ],
             [
              0.8888888888888888,
              "#fdca26"
             ],
             [
              1,
              "#f0f921"
             ]
            ],
            "type": "histogram2dcontour"
           }
          ],
          "mesh3d": [
           {
            "colorbar": {
             "outlinewidth": 0,
             "ticks": ""
            },
            "type": "mesh3d"
           }
          ],
          "parcoords": [
           {
            "line": {
             "colorbar": {
              "outlinewidth": 0,
              "ticks": ""
             }
            },
            "type": "parcoords"
           }
          ],
          "pie": [
           {
            "automargin": true,
            "type": "pie"
           }
          ],
          "scatter": [
           {
            "fillpattern": {
             "fillmode": "overlay",
             "size": 10,
             "solidity": 0.2
            },
            "type": "scatter"
           }
          ],
          "scatter3d": [
           {
            "line": {
             "colorbar": {
              "outlinewidth": 0,
              "ticks": ""
             }
            },
            "marker": {
             "colorbar": {
              "outlinewidth": 0,
              "ticks": ""
             }
            },
            "type": "scatter3d"
           }
          ],
          "scattercarpet": [
           {
            "marker": {
             "colorbar": {
              "outlinewidth": 0,
              "ticks": ""
             }
            },
            "type": "scattercarpet"
           }
          ],
          "scattergeo": [
           {
            "marker": {
             "colorbar": {
              "outlinewidth": 0,
              "ticks": ""
             }
            },
            "type": "scattergeo"
           }
          ],
          "scattergl": [
           {
            "marker": {
             "colorbar": {
              "outlinewidth": 0,
              "ticks": ""
             }
            },
            "type": "scattergl"
           }
          ],
          "scattermap": [
           {
            "marker": {
             "colorbar": {
              "outlinewidth": 0,
              "ticks": ""
             }
            },
            "type": "scattermap"
           }
          ],
          "scattermapbox": [
           {
            "marker": {
             "colorbar": {
              "outlinewidth": 0,
              "ticks": ""
             }
            },
            "type": "scattermapbox"
           }
          ],
          "scatterpolar": [
           {
            "marker": {
             "colorbar": {
              "outlinewidth": 0,
              "ticks": ""
             }
            },
            "type": "scatterpolar"
           }
          ],
          "scatterpolargl": [
           {
            "marker": {
             "colorbar": {
              "outlinewidth": 0,
              "ticks": ""
             }
            },
            "type": "scatterpolargl"
           }
          ],
          "scatterternary": [
           {
            "marker": {
             "colorbar": {
              "outlinewidth": 0,
              "ticks": ""
             }
            },
            "type": "scatterternary"
           }
          ],
          "surface": [
           {
            "colorbar": {
             "outlinewidth": 0,
             "ticks": ""
            },
            "colorscale": [
             [
              0,
              "#0d0887"
             ],
             [
              0.1111111111111111,
              "#46039f"
             ],
             [
              0.2222222222222222,
              "#7201a8"
             ],
             [
              0.3333333333333333,
              "#9c179e"
             ],
             [
              0.4444444444444444,
              "#bd3786"
             ],
             [
              0.5555555555555556,
              "#d8576b"
             ],
             [
              0.6666666666666666,
              "#ed7953"
             ],
             [
              0.7777777777777778,
              "#fb9f3a"
             ],
             [
              0.8888888888888888,
              "#fdca26"
             ],
             [
              1,
              "#f0f921"
             ]
            ],
            "type": "surface"
           }
          ],
          "table": [
           {
            "cells": {
             "fill": {
              "color": "#EBF0F8"
             },
             "line": {
              "color": "white"
             }
            },
            "header": {
             "fill": {
              "color": "#C8D4E3"
             },
             "line": {
              "color": "white"
             }
            },
            "type": "table"
           }
          ]
         },
         "layout": {
          "annotationdefaults": {
           "arrowcolor": "#2a3f5f",
           "arrowhead": 0,
           "arrowwidth": 1
          },
          "autotypenumbers": "strict",
          "coloraxis": {
           "colorbar": {
            "outlinewidth": 0,
            "ticks": ""
           }
          },
          "colorscale": {
           "diverging": [
            [
             0,
             "#8e0152"
            ],
            [
             0.1,
             "#c51b7d"
            ],
            [
             0.2,
             "#de77ae"
            ],
            [
             0.3,
             "#f1b6da"
            ],
            [
             0.4,
             "#fde0ef"
            ],
            [
             0.5,
             "#f7f7f7"
            ],
            [
             0.6,
             "#e6f5d0"
            ],
            [
             0.7,
             "#b8e186"
            ],
            [
             0.8,
             "#7fbc41"
            ],
            [
             0.9,
             "#4d9221"
            ],
            [
             1,
             "#276419"
            ]
           ],
           "sequential": [
            [
             0,
             "#0d0887"
            ],
            [
             0.1111111111111111,
             "#46039f"
            ],
            [
             0.2222222222222222,
             "#7201a8"
            ],
            [
             0.3333333333333333,
             "#9c179e"
            ],
            [
             0.4444444444444444,
             "#bd3786"
            ],
            [
             0.5555555555555556,
             "#d8576b"
            ],
            [
             0.6666666666666666,
             "#ed7953"
            ],
            [
             0.7777777777777778,
             "#fb9f3a"
            ],
            [
             0.8888888888888888,
             "#fdca26"
            ],
            [
             1,
             "#f0f921"
            ]
           ],
           "sequentialminus": [
            [
             0,
             "#0d0887"
            ],
            [
             0.1111111111111111,
             "#46039f"
            ],
            [
             0.2222222222222222,
             "#7201a8"
            ],
            [
             0.3333333333333333,
             "#9c179e"
            ],
            [
             0.4444444444444444,
             "#bd3786"
            ],
            [
             0.5555555555555556,
             "#d8576b"
            ],
            [
             0.6666666666666666,
             "#ed7953"
            ],
            [
             0.7777777777777778,
             "#fb9f3a"
            ],
            [
             0.8888888888888888,
             "#fdca26"
            ],
            [
             1,
             "#f0f921"
            ]
           ]
          },
          "colorway": [
           "#636efa",
           "#EF553B",
           "#00cc96",
           "#ab63fa",
           "#FFA15A",
           "#19d3f3",
           "#FF6692",
           "#B6E880",
           "#FF97FF",
           "#FECB52"
          ],
          "font": {
           "color": "#2a3f5f"
          },
          "geo": {
           "bgcolor": "white",
           "lakecolor": "white",
           "landcolor": "#E5ECF6",
           "showlakes": true,
           "showland": true,
           "subunitcolor": "white"
          },
          "hoverlabel": {
           "align": "left"
          },
          "hovermode": "closest",
          "mapbox": {
           "style": "light"
          },
          "paper_bgcolor": "white",
          "plot_bgcolor": "#E5ECF6",
          "polar": {
           "angularaxis": {
            "gridcolor": "white",
            "linecolor": "white",
            "ticks": ""
           },
           "bgcolor": "#E5ECF6",
           "radialaxis": {
            "gridcolor": "white",
            "linecolor": "white",
            "ticks": ""
           }
          },
          "scene": {
           "xaxis": {
            "backgroundcolor": "#E5ECF6",
            "gridcolor": "white",
            "gridwidth": 2,
            "linecolor": "white",
            "showbackground": true,
            "ticks": "",
            "zerolinecolor": "white"
           },
           "yaxis": {
            "backgroundcolor": "#E5ECF6",
            "gridcolor": "white",
            "gridwidth": 2,
            "linecolor": "white",
            "showbackground": true,
            "ticks": "",
            "zerolinecolor": "white"
           },
           "zaxis": {
            "backgroundcolor": "#E5ECF6",
            "gridcolor": "white",
            "gridwidth": 2,
            "linecolor": "white",
            "showbackground": true,
            "ticks": "",
            "zerolinecolor": "white"
           }
          },
          "shapedefaults": {
           "line": {
            "color": "#2a3f5f"
           }
          },
          "ternary": {
           "aaxis": {
            "gridcolor": "white",
            "linecolor": "white",
            "ticks": ""
           },
           "baxis": {
            "gridcolor": "white",
            "linecolor": "white",
            "ticks": ""
           },
           "bgcolor": "#E5ECF6",
           "caxis": {
            "gridcolor": "white",
            "linecolor": "white",
            "ticks": ""
           }
          },
          "title": {
           "x": 0.05
          },
          "xaxis": {
           "automargin": true,
           "gridcolor": "white",
           "linecolor": "white",
           "ticks": "",
           "title": {
            "standoff": 15
           },
           "zerolinecolor": "white",
           "zerolinewidth": 2
          },
          "yaxis": {
           "automargin": true,
           "gridcolor": "white",
           "linecolor": "white",
           "ticks": "",
           "title": {
            "standoff": 15
           },
           "zerolinecolor": "white",
           "zerolinewidth": 2
          }
         }
        },
        "width": 1000,
        "xaxis": {
         "anchor": "y",
         "domain": [
          0,
          1
         ],
         "tickangle": 90,
         "title": {
          "text": "Week"
         }
        },
        "yaxis": {
         "anchor": "x",
         "domain": [
          0,
          1
         ],
         "title": {
          "text": "Cases"
         }
        }
       }
      }
     },
     "metadata": {},
     "output_type": "display_data"
    }
   ],
   "source": [
    "from plotly.subplots import make_subplots\n",
    "\n",
    "import plotly.graph_objs as go\n",
    "\n",
    "fig = make_subplots()\n",
    "\n",
    "# FluA\n",
    "fig.add_trace(go.Scatter(\n",
    "    x=df_flu['yyyy-w (Flu)'], y=df_flu['Mov-FluA-Nat'],\n",
    "    mode='lines', name='Mov-FluA-Nat'\n",
    "))\n",
    "fig.add_trace(go.Scatter(\n",
    "    x=df_flu['yyyy-w (Flu)'], y=df_flu['FluA-Nat'],\n",
    "    mode='markers', name='FluA-Nat', opacity=0.3, marker=dict(size=4)\n",
    "))\n",
    "\n",
    "# FluB\n",
    "fig.add_trace(go.Scatter(\n",
    "    x=df_flu['yyyy-w (Flu)'], y=df_flu['Mov-FluB-Nat'],\n",
    "    mode='lines', name='Mov-FluB-Nat'\n",
    "))\n",
    "fig.add_trace(go.Scatter(\n",
    "    x=df_flu['yyyy-w (Flu)'], y=df_flu['FluB-Nat'],\n",
    "    mode='markers', name='FluB-Nat', opacity=0.3, marker=dict(size=4)\n",
    "))\n",
    "\n",
    "# RSV\n",
    "fig.add_trace(go.Scatter(\n",
    "    x=df_rsv['yyyy-w (RSV)'], y=df_rsv['Mov-RSV-Nat'],\n",
    "    mode='lines', name='Mov-RSV-Nat'\n",
    "))\n",
    "fig.add_trace(go.Scatter(\n",
    "    x=df_rsv['yyyy-w (RSV)'], y=df_rsv['RSV-Nat'],\n",
    "    mode='markers', name='RSV-Nat', opacity=0.3, marker=dict(size=4)\n",
    "))\n",
    "\n",
    "# SARS-CoV\n",
    "fig.add_trace(go.Scatter(\n",
    "    x=df_sars['yyyy-w (SARS-CoV)'], y=df_sars['Mov-SARS-CoV-Nat'],\n",
    "    mode='lines', name='Mov-SARS-CoV-Nat'\n",
    "))\n",
    "fig.add_trace(go.Scatter(\n",
    "    x=df_sars['yyyy-w (SARS-CoV)'], y=df_sars['SARS-CoV-Nat'],\n",
    "    mode='markers', name='SARS-CoV-Nat', opacity=0.3, marker=dict(size=4)\n",
    "))\n",
    "\n",
    "fig.update_layout(\n",
    "    width=1000, height=600,\n",
    "    xaxis_title='Week',\n",
    "    yaxis_title='RNA Copies',\n",
    "    legend_title='Legend'\n",
    ")\n",
    "fig.update_xaxes(tickangle=90)\n",
    "fig.show()"
   ]
  }
 ],
 "metadata": {
  "kernelspec": {
   "display_name": "Python 3",
   "language": "python",
   "name": "python3"
  },
  "language_info": {
   "codemirror_mode": {
    "name": "ipython",
    "version": 3
   },
   "file_extension": ".py",
   "mimetype": "text/x-python",
   "name": "python",
   "nbconvert_exporter": "python",
   "pygments_lexer": "ipython3",
   "version": "3.13.2"
  }
 },
 "nbformat": 4,
 "nbformat_minor": 5
}
