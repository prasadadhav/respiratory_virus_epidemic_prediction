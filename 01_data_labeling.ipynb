{
 "cells": [
  {
   "cell_type": "markdown",
   "id": "3b094c02",
   "metadata": {},
   "source": [
    "# Data Labeling"
   ]
  },
  {
   "cell_type": "markdown",
   "id": "917993d7",
   "metadata": {},
   "source": [
    "## Load libs"
   ]
  },
  {
   "cell_type": "code",
   "execution_count": 1,
   "id": "4b4a60f8",
   "metadata": {},
   "outputs": [],
   "source": [
    "import os\n",
    "import json\n",
    "import glob\n",
    "import pandas as pd\n",
    "import numpy as np\n",
    "from datetime import datetime\n",
    "\n",
    "import matplotlib.pyplot as plt\n",
    "import seaborn as sns"
   ]
  },
  {
   "cell_type": "markdown",
   "id": "3182d361",
   "metadata": {},
   "source": [
    "## Load data and labels"
   ]
  },
  {
   "cell_type": "code",
   "execution_count": 2,
   "id": "6a1a7c83",
   "metadata": {},
   "outputs": [],
   "source": [
    "# Paths\n",
    "json_path = './data_labelled/project-3-at-2025-06-30-17-49-c0b2a0a1.json'      # exported JSON from Label Studio\n",
    "csv_folder = './data_preprocess'                # Folder with original CSVs\n",
    "\n",
    "# Load label JSON\n",
    "with open(json_path, 'r') as f:\n",
    "    label_data = json.load(f)\n",
    "\n",
    "def extract_filename(task):\n",
    "    \"\"\"Extracts clean filename from a Label Studio task entry\"\"\"\n",
    "    full_filename = os.path.basename(task['csv'])  # e.g. \"454c4a18-Mov-FluA-BEG.csv\"\n",
    "    mov_idx = full_filename.find('Mov-')\n",
    "    if mov_idx >= 0:\n",
    "        return full_filename[mov_idx:]  # e.g. \"Mov-FluA-BEG.csv\"\n",
    "    return full_filename\n",
    "\n",
    "def filter_tasks_by_virus(tasks, virus_keyword):\n",
    "    filtered = []\n",
    "    for task in tasks:\n",
    "        filename = extract_filename(task).lower()\n",
    "        if virus_keyword.lower() in filename:\n",
    "            filtered.append(task)\n",
    "    return filtered\n",
    "\n",
    "def assign_labels_to_df(df, labels):\n",
    "    \"\"\"Assign label intervals to time-series DataFrame\"\"\"\n",
    "    df['label'] = None\n",
    "    df['time'] = pd.to_datetime(df['time'])\n",
    "\n",
    "    for lab in labels:\n",
    "        start = pd.to_datetime(lab['start'])\n",
    "        end = pd.to_datetime(lab['end'])\n",
    "        label_name = lab['timeserieslabels'][0]\n",
    "        mask = (df['time'] >= start) & (df['time'] < end)\n",
    "        df.loc[mask, 'label'] = label_name\n",
    "\n",
    "    return df\n",
    "\n",
    "def find_related_files(task_filename, virus_keyword):\n",
    "    \"\"\"\n",
    "    Given a Label Studio task filename like 'Mov-FluA-BEG.csv',\n",
    "    return all related files: 'Mov-FluA*.csv', 'FluA*.csv', 'FluA-*_slope*.csv'\n",
    "    \"\"\"\n",
    "    base_pattern = virus_keyword + '*' + '.csv'\n",
    "    slope_pattern = virus_keyword + '-*_slope*.csv'\n",
    "    mov_pattern = 'Mov-' + virus_keyword + '*.csv'\n",
    "\n",
    "    patterns = [base_pattern, slope_pattern, mov_pattern]\n",
    "    related_files = set()\n",
    "\n",
    "    for pattern in patterns:\n",
    "        matching = glob.glob(os.path.join(csv_folder, pattern))\n",
    "        related_files.update(matching)\n",
    "\n",
    "    return list(related_files)\n"
   ]
  },
  {
   "cell_type": "markdown",
   "id": "3c9afaa8",
   "metadata": {},
   "source": [
    "# For Different virus and respective features"
   ]
  },
  {
   "cell_type": "markdown",
   "id": "0623c404",
   "metadata": {},
   "source": [
    "## FluA"
   ]
  },
  {
   "cell_type": "code",
   "execution_count": 3,
   "id": "27deaf01",
   "metadata": {},
   "outputs": [],
   "source": [
    "virus_name = \"FluA\"  \n",
    "tasks = filter_tasks_by_virus(label_data, virus_name)\n",
    "\n",
    "dfs = []\n",
    "\n",
    "for task in tasks:\n",
    "    labels = task.get('label', [])\n",
    "    task_filename = extract_filename(task)  # e.g. Mov-FluA-BEG.csv\n",
    "    related_files = find_related_files(task_filename, virus_name)\n",
    "\n",
    "    for file_path in related_files:\n",
    "        df = pd.read_csv(file_path)\n",
    "        df['filename'] = os.path.basename(file_path)\n",
    "        df['virus'] = virus_name.upper()\n",
    "        df = assign_labels_to_df(df, labels)\n",
    "        dfs.append(df)\n",
    "\n",
    "# Combine all processed data\n",
    "all_data_fluA = pd.concat(dfs, ignore_index=True)\n",
    "all_data_fluA['label'] = all_data_fluA['label'].fillna('none')\n"
   ]
  },
  {
   "cell_type": "code",
   "execution_count": 4,
   "id": "6076067e",
   "metadata": {},
   "outputs": [
    {
     "name": "stdout",
     "output_type": "stream",
     "text": [
      "Saved FluA-BET_slope_5.csv with 1710 rows\n",
      "Saved FluA-BEG_slope_7.csv with 1692 rows\n",
      "Saved FluA-GRE_slope_5.csv with 1710 rows\n",
      "Saved FluA-BEG_slope_5.csv with 1710 rows\n",
      "Saved Mov-FluA-BOE.csv with 9 rows\n",
      "Saved Mov-FluA-BET.csv with 1728 rows\n",
      "Saved FluA-HES_slope_7.csv with 1692 rows\n",
      "Saved FluA-PET_slope_4.csv with 1719 rows\n",
      "Saved FluA-BLE_slope_7.csv with 1692 rows\n",
      "Saved FluA-PET_slope_7.csv with 1692 rows\n",
      "Saved FluA-BET_slope_7.csv with 1692 rows\n",
      "Saved FluA-SCH_slope_7.csv with 1692 rows\n",
      "Saved FluA-HES_slope_4.csv with 1719 rows\n",
      "Saved FluA-SCH_slope_4.csv with 1719 rows\n",
      "Saved FluA-MER.csv with 315 rows\n",
      "Saved Mov-FluA-Nat.csv with 1728 rows\n",
      "Saved FluA-ECH_slope_7.csv with 1692 rows\n",
      "Saved FluA-PET.csv with 1674 rows\n",
      "Saved FluA-GRE_slope_7.csv with 1692 rows\n",
      "Saved FluA-WIL.csv with 9 rows\n",
      "Saved Mov-FluA-MER.csv with 324 rows\n",
      "Saved Mov-FluA-BEG.csv with 1728 rows\n",
      "Saved FluA-BOE_slope_7.csv with 1692 rows\n",
      "Saved FluA-HES_slope_5.csv with 1710 rows\n",
      "Saved FluA-UEB_slope_5.csv with 1710 rows\n",
      "Saved FluA-VIE_slope_7.csv with 1692 rows\n",
      "Saved Mov-FluA-VIE.csv with 9 rows\n",
      "Saved FluA-BEG_slope_4.csv with 1719 rows\n",
      "Saved FluA-Nat_slope_5.csv with 1710 rows\n",
      "Saved FluA-GRE.csv with 9 rows\n",
      "Saved Mov-FluA-PET.csv with 1719 rows\n",
      "Saved FluA-SCH_slope_5.csv with 1710 rows\n",
      "Saved Mov-FluA-SCH.csv with 1728 rows\n",
      "Saved FluA-VIE.csv with 9 rows\n",
      "Saved FluA-PET_slope_5.csv with 1710 rows\n",
      "Saved FluA-BOE_slope_4.csv with 1719 rows\n",
      "Saved FluA-BEG.csv with 1674 rows\n",
      "Saved FluA-Nat_slope_4.csv with 1719 rows\n",
      "Saved FluA-SCH.csv with 1701 rows\n",
      "Saved FluA-WIL_slope_7.csv with 1692 rows\n",
      "Saved Mov-FluA-GRE.csv with 9 rows\n",
      "Saved FluA-UEB_slope_7.csv with 1692 rows\n",
      "Saved FluA-UEB.csv with 333 rows\n",
      "Saved FluA-BLE.csv with 324 rows\n",
      "Saved FluA-BET.csv with 1647 rows\n",
      "Saved FluA-MER_slope_7.csv with 1692 rows\n",
      "Saved FluA-WIL_slope_4.csv with 1719 rows\n",
      "Saved FluA-BLE_slope_5.csv with 1710 rows\n",
      "Saved FluA-MER_slope_5.csv with 1710 rows\n",
      "Saved FluA-GRE_slope_4.csv with 1719 rows\n",
      "Saved FluA-Nat.csv with 1701 rows\n",
      "Saved FluA-VIE_slope_4.csv with 1719 rows\n",
      "Saved Mov-FluA-UEB.csv with 333 rows\n",
      "Saved FluA-ECH.csv with 324 rows\n",
      "Saved FluA-BLE_slope_4.csv with 1719 rows\n",
      "Saved Mov-FluA-BLE.csv with 324 rows\n",
      "Saved FluA-BOE.csv with 9 rows\n",
      "Saved FluA-Nat_slope_7.csv with 1692 rows\n",
      "Saved FluA-BET_slope_4.csv with 1719 rows\n",
      "Saved FluA-VIE_slope_5.csv with 1710 rows\n",
      "Saved FluA-ECH_slope_5.csv with 1710 rows\n",
      "Saved FluA-HES.csv with 9 rows\n",
      "Saved FluA-MER_slope_4.csv with 1719 rows\n",
      "Saved Mov-FluA-ECH.csv with 324 rows\n",
      "Saved Mov-FluA-HES.csv with 9 rows\n",
      "Saved FluA-WIL_slope_5.csv with 1710 rows\n",
      "Saved FluA-UEB_slope_4.csv with 1719 rows\n",
      "Saved FluA-BOE_slope_5.csv with 1710 rows\n",
      "Saved Mov-FluA-WIL.csv with 9 rows\n",
      "Saved FluA-ECH_slope_4.csv with 1719 rows\n"
     ]
    }
   ],
   "source": [
    "for filename in all_data_fluA['filename'].unique():\n",
    "    df_local = all_data_fluA[all_data_fluA['filename'] == filename]\n",
    "    df_local.to_csv(f'./feature_store/{filename}', index=False)\n",
    "    print(f'Saved {filename} with {len(df_local)} rows')\n"
   ]
  },
  {
   "cell_type": "markdown",
   "id": "700f49b8",
   "metadata": {},
   "source": [
    "clean"
   ]
  },
  {
   "cell_type": "code",
   "execution_count": null,
   "id": "78bda691",
   "metadata": {},
   "outputs": [],
   "source": [
    "del df_local\n",
    "del virus_name"
   ]
  },
  {
   "cell_type": "markdown",
   "id": "d65fc075",
   "metadata": {},
   "source": [
    "## FluB"
   ]
  },
  {
   "cell_type": "code",
   "execution_count": null,
   "id": "a96acf19",
   "metadata": {},
   "outputs": [],
   "source": [
    "virus_name = \"FluB\"  \n",
    "tasks = filter_tasks_by_virus(label_data, virus_name)\n",
    "\n",
    "dfs = []\n",
    "\n",
    "for task in tasks:\n",
    "    labels = task.get('label', [])\n",
    "    task_filename = extract_filename(task)  # e.g. Mov-FluB-BEG.csv\n",
    "    related_files = find_related_files(task_filename, virus_name)\n",
    "\n",
    "    for file_path in related_files:\n",
    "        df = pd.read_csv(file_path)\n",
    "        df['filename'] = os.path.basename(file_path)\n",
    "        df['virus'] = virus_name.upper()\n",
    "        df = assign_labels_to_df(df, labels)\n",
    "        dfs.append(df)\n",
    "\n",
    "# Combine all processed data\n",
    "all_data_fluB = pd.concat(dfs, ignore_index=True)\n",
    "all_data_fluB['label'] = all_data_fluB['label'].fillna('none')\n"
   ]
  },
  {
   "cell_type": "code",
   "execution_count": null,
   "id": "a5331ce6",
   "metadata": {},
   "outputs": [],
   "source": [
    "for filename in all_data_fluB['filename'].unique():\n",
    "    df_local = all_data_fluB[all_data_fluB['filename'] == filename]\n",
    "    df_local.to_csv(f'./feature_store/{filename}', index=False)\n",
    "    print(f'Saved {filename} with {len(df_local)} rows')\n"
   ]
  },
  {
   "cell_type": "markdown",
   "id": "05bc1057",
   "metadata": {},
   "source": [
    "## RSV"
   ]
  },
  {
   "cell_type": "code",
   "execution_count": null,
   "id": "9c57346f",
   "metadata": {},
   "outputs": [],
   "source": [
    "virus_name = \"RSV\"  \n",
    "tasks = filter_tasks_by_virus(label_data, virus_name)\n",
    "\n",
    "dfs = []\n",
    "\n",
    "for task in tasks:\n",
    "    labels = task.get('label', [])\n",
    "    task_filename = extract_filename(task)  # e.g. Mov-FluB-BEG.csv\n",
    "    related_files = find_related_files(task_filename, virus_name)\n",
    "\n",
    "    for file_path in related_files:\n",
    "        df = pd.read_csv(file_path)\n",
    "        df['filename'] = os.path.basename(file_path)\n",
    "        df['virus'] = virus_name.upper()\n",
    "        df = assign_labels_to_df(df, labels)\n",
    "        dfs.append(df)\n",
    "\n",
    "# Combine all processed data\n",
    "all_data_rsv = pd.concat(dfs, ignore_index=True)\n",
    "all_data_rsv['label'] = all_data_rsv['label'].fillna('none')\n"
   ]
  },
  {
   "cell_type": "code",
   "execution_count": null,
   "id": "4b388fc1",
   "metadata": {},
   "outputs": [],
   "source": [
    "for filename in all_data_rsv['filename'].unique():\n",
    "    df_local = all_data_rsv[all_data_rsv['filename'] == filename]\n",
    "    df_local.to_csv(f'./feature_store/{filename}', index=False)\n",
    "    print(f'Saved {filename} with {len(df_local)} rows')"
   ]
  },
  {
   "cell_type": "markdown",
   "id": "fb11506b",
   "metadata": {},
   "source": [
    "## SARS-CoV-2"
   ]
  },
  {
   "cell_type": "code",
   "execution_count": null,
   "id": "bd9738bc",
   "metadata": {},
   "outputs": [],
   "source": [
    "virus_name = \"SARS\"  \n",
    "tasks = filter_tasks_by_virus(label_data, virus_name)\n",
    "\n",
    "dfs = []\n",
    "\n",
    "for task in tasks:\n",
    "    labels = task.get('label', [])\n",
    "    task_filename = extract_filename(task)  # e.g. Mov-SARS-BEG.csv\n",
    "    related_files = find_related_files(task_filename, virus_name)\n",
    "\n",
    "    for file_path in related_files:\n",
    "        df = pd.read_csv(file_path)\n",
    "        df['filename'] = os.path.basename(file_path)\n",
    "        df['virus'] = virus_name.upper()\n",
    "        df = assign_labels_to_df(df, labels)\n",
    "        dfs.append(df)\n",
    "\n",
    "# Combine all processed data\n",
    "all_data_sars = pd.concat(dfs, ignore_index=True)\n",
    "all_data_sars['label'] = all_data_sars['label'].fillna('none')\n"
   ]
  },
  {
   "cell_type": "code",
   "execution_count": null,
   "id": "73b9eb9e",
   "metadata": {},
   "outputs": [],
   "source": [
    "for filename in all_data_sars['filename'].unique():\n",
    "    df_local = all_data_sars[all_data_sars['filename'] == filename]\n",
    "    df_local.to_csv(f'./feature_store/{filename}', index=False)\n",
    "    print(f'Saved {filename} with {len(df_local)} rows')"
   ]
  }
 ],
 "metadata": {
  "kernelspec": {
   "display_name": "Python 3",
   "language": "python",
   "name": "python3"
  },
  "language_info": {
   "codemirror_mode": {
    "name": "ipython",
    "version": 3
   },
   "file_extension": ".py",
   "mimetype": "text/x-python",
   "name": "python",
   "nbconvert_exporter": "python",
   "pygments_lexer": "ipython3",
   "version": "3.13.2"
  }
 },
 "nbformat": 4,
 "nbformat_minor": 5
}
